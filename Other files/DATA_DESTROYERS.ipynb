{
 "cells": [
  {
   "cell_type": "markdown",
   "metadata": {
    "colab_type": "text",
    "id": "view-in-github"
   },
   "source": [
    "<a href=\"https://colab.research.google.com/github/YuvBindal/NUS-SDS-Datathon-Champion/blob/main/DATA_DESTROYERS.ipynb\" target=\"_parent\"><img src=\"https://colab.research.google.com/assets/colab-badge.svg\" alt=\"Open In Colab\"/></a>"
   ]
  },
  {
   "cell_type": "markdown",
   "metadata": {
    "id": "1tdrrXl4o33Y"
   },
   "source": [
    "##### The cell below is for you to keep track of the libraries used and install those libraries quickly\n",
    "##### Ensure that the proper library names are used and the syntax of `%pip install PACKAGE_NAME` is followed"
   ]
  },
  {
   "cell_type": "code",
   "execution_count": 1,
   "metadata": {
    "colab": {
     "base_uri": "https://localhost:8080/"
    },
    "id": "c9c-a3tqo33d",
    "outputId": "9396b3ac-dc12-474a-f6ea-e9842474b65c"
   },
   "outputs": [
    {
     "name": "stdout",
     "output_type": "stream",
     "text": [
      "Requirement already satisfied: pandas in c:\\users\\aksha\\anaconda3\\lib\\site-packages (2.0.3)\n",
      "Requirement already satisfied: python-dateutil>=2.8.2 in c:\\users\\aksha\\anaconda3\\lib\\site-packages (from pandas) (2.8.2)\n",
      "Requirement already satisfied: pytz>=2020.1 in c:\\users\\aksha\\anaconda3\\lib\\site-packages (from pandas) (2023.3.post1)\n",
      "Requirement already satisfied: tzdata>=2022.1 in c:\\users\\aksha\\anaconda3\\lib\\site-packages (from pandas) (2023.3)\n",
      "Requirement already satisfied: numpy>=1.21.0 in c:\\users\\aksha\\anaconda3\\lib\\site-packages (from pandas) (1.24.3)\n",
      "Requirement already satisfied: six>=1.5 in c:\\users\\aksha\\anaconda3\\lib\\site-packages (from python-dateutil>=2.8.2->pandas) (1.16.0)\n",
      "Requirement already satisfied: matplotlib in c:\\users\\aksha\\anaconda3\\lib\\site-packages (3.7.2)\n",
      "Requirement already satisfied: contourpy>=1.0.1 in c:\\users\\aksha\\anaconda3\\lib\\site-packages (from matplotlib) (1.0.5)\n",
      "Requirement already satisfied: cycler>=0.10 in c:\\users\\aksha\\anaconda3\\lib\\site-packages (from matplotlib) (0.11.0)\n",
      "Requirement already satisfied: fonttools>=4.22.0 in c:\\users\\aksha\\anaconda3\\lib\\site-packages (from matplotlib) (4.25.0)\n",
      "Requirement already satisfied: kiwisolver>=1.0.1 in c:\\users\\aksha\\anaconda3\\lib\\site-packages (from matplotlib) (1.4.4)\n",
      "Requirement already satisfied: numpy>=1.20 in c:\\users\\aksha\\anaconda3\\lib\\site-packages (from matplotlib) (1.24.3)\n",
      "Requirement already satisfied: packaging>=20.0 in c:\\users\\aksha\\anaconda3\\lib\\site-packages (from matplotlib) (23.1)\n",
      "Requirement already satisfied: pillow>=6.2.0 in c:\\users\\aksha\\anaconda3\\lib\\site-packages (from matplotlib) (9.4.0)\n",
      "Requirement already satisfied: pyparsing<3.1,>=2.3.1 in c:\\users\\aksha\\anaconda3\\lib\\site-packages (from matplotlib) (3.0.9)\n",
      "Requirement already satisfied: python-dateutil>=2.7 in c:\\users\\aksha\\anaconda3\\lib\\site-packages (from matplotlib) (2.8.2)\n",
      "Requirement already satisfied: six>=1.5 in c:\\users\\aksha\\anaconda3\\lib\\site-packages (from python-dateutil>=2.7->matplotlib) (1.16.0)\n",
      "Requirement already satisfied: numpy in c:\\users\\aksha\\anaconda3\\lib\\site-packages (1.24.3)\n",
      "Requirement already satisfied: google in c:\\users\\aksha\\anaconda3\\lib\\site-packages (3.0.0)\n",
      "Requirement already satisfied: beautifulsoup4 in c:\\users\\aksha\\anaconda3\\lib\\site-packages (from google) (4.12.2)\n",
      "Requirement already satisfied: soupsieve>1.2 in c:\\users\\aksha\\anaconda3\\lib\\site-packages (from beautifulsoup4->google) (2.4)\n"
     ]
    }
   ],
   "source": [
    "!pip3 install pandas\n",
    "!pip3 install matplotlib\n",
    "!pip3 install numpy\n",
    "!pip3 install google\n",
    "# add commented pip installation lines for packages used as shown above for ease of testing\n",
    "# the line should be of the format %pip install PACKAGE_NAME"
   ]
  },
  {
   "cell_type": "markdown",
   "metadata": {
    "id": "W1rfGRp4o33f"
   },
   "source": [
    "## **DO NOT CHANGE** the filepath variable\n",
    "##### Instead, create a folder named 'data' in your current working directory and\n",
    "##### have the .parquet file inside that. A relative path *must* be used when loading data into pandas"
   ]
  },
  {
   "cell_type": "markdown",
   "metadata": {
    "id": "W5t6VZcsyH0t"
   },
   "source": [
    "# Data Cleaning"
   ]
  },
  {
   "cell_type": "code",
   "execution_count": 2,
   "metadata": {
    "colab": {
     "base_uri": "https://localhost:8080/"
    },
    "id": "bDUHfoadpsCH",
    "outputId": "87b04e4c-fb31-409c-cd2c-c168a64ed721"
   },
   "outputs": [],
   "source": [
    "#from google.colab import drive\n",
    "#drive.mount('/content/drive')"
   ]
  },
  {
   "cell_type": "code",
   "execution_count": 3,
   "metadata": {
    "colab": {
     "base_uri": "https://localhost:8080/",
     "height": 690
    },
    "id": "hcy-tcNEp_6w",
    "outputId": "3668258c-308a-4e88-8002-c897d12e8eac"
   },
   "outputs": [
    {
     "data": {
      "text/html": [
       "<div>\n",
       "<style scoped>\n",
       "    .dataframe tbody tr th:only-of-type {\n",
       "        vertical-align: middle;\n",
       "    }\n",
       "\n",
       "    .dataframe tbody tr th {\n",
       "        vertical-align: top;\n",
       "    }\n",
       "\n",
       "    .dataframe thead th {\n",
       "        text-align: right;\n",
       "    }\n",
       "</style>\n",
       "<table border=\"1\" class=\"dataframe\">\n",
       "  <thead>\n",
       "    <tr style=\"text-align: right;\">\n",
       "      <th></th>\n",
       "      <th>LATITUDE</th>\n",
       "      <th>LONGITUDE</th>\n",
       "      <th>AccountID</th>\n",
       "      <th>Company</th>\n",
       "      <th>SIC Code</th>\n",
       "      <th>Industry</th>\n",
       "      <th>8-Digit SIC Code</th>\n",
       "      <th>8-Digit SIC Description</th>\n",
       "      <th>Year Found</th>\n",
       "      <th>Entity Type</th>\n",
       "      <th>...</th>\n",
       "      <th>Employees (Global Ultimate Total)</th>\n",
       "      <th>Sales (Domestic Ultimate Total USD)</th>\n",
       "      <th>Sales (Global Ultimate Total USD)</th>\n",
       "      <th>Import/Export Status</th>\n",
       "      <th>Fiscal Year End</th>\n",
       "      <th>Global Ultimate Company</th>\n",
       "      <th>Global Ultimate Country</th>\n",
       "      <th>Domestic Ultimate Company</th>\n",
       "      <th>Is Domestic Ultimate</th>\n",
       "      <th>Is Global Ultimate</th>\n",
       "    </tr>\n",
       "  </thead>\n",
       "  <tbody>\n",
       "    <tr>\n",
       "      <th>0</th>\n",
       "      <td>1.285495</td>\n",
       "      <td>103.843852</td>\n",
       "      <td>LAKB2BID4559214</td>\n",
       "      <td>FRANK CONSULTING SERVICES PRIVATE LIMITED</td>\n",
       "      <td>7361.0</td>\n",
       "      <td>Employment Agencies</td>\n",
       "      <td>73610000.0</td>\n",
       "      <td>Employment agencies</td>\n",
       "      <td>2020.0</td>\n",
       "      <td>Subsidiary</td>\n",
       "      <td>...</td>\n",
       "      <td>NaN</td>\n",
       "      <td>2.209224e+06</td>\n",
       "      <td>4.637871e+06</td>\n",
       "      <td>NaN</td>\n",
       "      <td>NaN</td>\n",
       "      <td>FINDERS HOLDCO LIMITED</td>\n",
       "      <td>United Kingdom</td>\n",
       "      <td>FRANK RECRUITMENT GROUP PRIVATE LTD.</td>\n",
       "      <td>0.0</td>\n",
       "      <td>0.0</td>\n",
       "    </tr>\n",
       "    <tr>\n",
       "      <th>1</th>\n",
       "      <td>1.291294</td>\n",
       "      <td>103.827476</td>\n",
       "      <td>LAKB2BID7610849</td>\n",
       "      <td>NEW DESERT ORCHID SHIPPING PTE. LTD.</td>\n",
       "      <td>4449.0</td>\n",
       "      <td>Water Transportation of Freight, Not Elsewhere...</td>\n",
       "      <td>44490000.0</td>\n",
       "      <td>Water transportation of freight</td>\n",
       "      <td>2015.0</td>\n",
       "      <td>Subsidiary</td>\n",
       "      <td>...</td>\n",
       "      <td>100.0</td>\n",
       "      <td>7.093536e+09</td>\n",
       "      <td>7.093536e+09</td>\n",
       "      <td>NaN</td>\n",
       "      <td>NaN</td>\n",
       "      <td>PETREDEC PTE. LIMITED</td>\n",
       "      <td>Singapore</td>\n",
       "      <td>NaN</td>\n",
       "      <td>0.0</td>\n",
       "      <td>0.0</td>\n",
       "    </tr>\n",
       "    <tr>\n",
       "      <th>2</th>\n",
       "      <td>1.300144</td>\n",
       "      <td>103.857517</td>\n",
       "      <td>LAKB2BID5461679</td>\n",
       "      <td>2MBAO BIOCELLBANK PTE. LTD.</td>\n",
       "      <td>6719.0</td>\n",
       "      <td>Offices of Holding Companies, Not Elsewhere Cl...</td>\n",
       "      <td>67190000.0</td>\n",
       "      <td>Holding companies, nec</td>\n",
       "      <td>1993.0</td>\n",
       "      <td>Subsidiary</td>\n",
       "      <td>...</td>\n",
       "      <td>4.0</td>\n",
       "      <td>1.026308e+06</td>\n",
       "      <td>1.026308e+06</td>\n",
       "      <td>NaN</td>\n",
       "      <td>NaN</td>\n",
       "      <td>MADISON LIGHTERS AND WATCHES CO LTD</td>\n",
       "      <td>Hong Kong SAR</td>\n",
       "      <td>2MBAO BIOCELLBANK PTE. LTD.</td>\n",
       "      <td>1.0</td>\n",
       "      <td>0.0</td>\n",
       "    </tr>\n",
       "    <tr>\n",
       "      <th>3</th>\n",
       "      <td>1.300785</td>\n",
       "      <td>103.791263</td>\n",
       "      <td>LAKB2BID5088529</td>\n",
       "      <td>NEWBLOOM PTE. LTD.</td>\n",
       "      <td>6719.0</td>\n",
       "      <td>Offices of Holding Companies, Not Elsewhere Cl...</td>\n",
       "      <td>67190000.0</td>\n",
       "      <td>Holding companies, nec</td>\n",
       "      <td>2006.0</td>\n",
       "      <td>Subsidiary</td>\n",
       "      <td>...</td>\n",
       "      <td>100.0</td>\n",
       "      <td>7.339898e+10</td>\n",
       "      <td>7.339898e+10</td>\n",
       "      <td>NaN</td>\n",
       "      <td>NaN</td>\n",
       "      <td>WILMAR INTERNATIONAL LIMITED</td>\n",
       "      <td>Singapore</td>\n",
       "      <td>WILMAR INTERNATIONAL LIMITED</td>\n",
       "      <td>0.0</td>\n",
       "      <td>0.0</td>\n",
       "    </tr>\n",
       "    <tr>\n",
       "      <th>4</th>\n",
       "      <td>1.298759</td>\n",
       "      <td>103.859430</td>\n",
       "      <td>LAKB2BID1268831</td>\n",
       "      <td>ASIA GREEN CAPITAL PTE. LTD.</td>\n",
       "      <td>6719.0</td>\n",
       "      <td>Offices of Holding Companies, Not Elsewhere Cl...</td>\n",
       "      <td>67190000.0</td>\n",
       "      <td>Holding companies, nec</td>\n",
       "      <td>2006.0</td>\n",
       "      <td>Parent</td>\n",
       "      <td>...</td>\n",
       "      <td>4.0</td>\n",
       "      <td>4.322130e+05</td>\n",
       "      <td>4.322130e+05</td>\n",
       "      <td>Exports</td>\n",
       "      <td>NaN</td>\n",
       "      <td>ASIA GREEN CAPITAL PTE. LTD.</td>\n",
       "      <td>Singapore</td>\n",
       "      <td>ASIA GREEN CAPITAL PTE. LTD.</td>\n",
       "      <td>1.0</td>\n",
       "      <td>1.0</td>\n",
       "    </tr>\n",
       "  </tbody>\n",
       "</table>\n",
       "<p>5 rows × 28 columns</p>\n",
       "</div>"
      ],
      "text/plain": [
       "   LATITUDE   LONGITUDE        AccountID  \\\n",
       "0  1.285495  103.843852  LAKB2BID4559214   \n",
       "1  1.291294  103.827476  LAKB2BID7610849   \n",
       "2  1.300144  103.857517  LAKB2BID5461679   \n",
       "3  1.300785  103.791263  LAKB2BID5088529   \n",
       "4  1.298759  103.859430  LAKB2BID1268831   \n",
       "\n",
       "                                     Company  SIC Code  \\\n",
       "0  FRANK CONSULTING SERVICES PRIVATE LIMITED    7361.0   \n",
       "1       NEW DESERT ORCHID SHIPPING PTE. LTD.    4449.0   \n",
       "2                2MBAO BIOCELLBANK PTE. LTD.    6719.0   \n",
       "3                         NEWBLOOM PTE. LTD.    6719.0   \n",
       "4               ASIA GREEN CAPITAL PTE. LTD.    6719.0   \n",
       "\n",
       "                                            Industry  8-Digit SIC Code  \\\n",
       "0                                Employment Agencies        73610000.0   \n",
       "1  Water Transportation of Freight, Not Elsewhere...        44490000.0   \n",
       "2  Offices of Holding Companies, Not Elsewhere Cl...        67190000.0   \n",
       "3  Offices of Holding Companies, Not Elsewhere Cl...        67190000.0   \n",
       "4  Offices of Holding Companies, Not Elsewhere Cl...        67190000.0   \n",
       "\n",
       "           8-Digit SIC Description  Year Found Entity Type  ...  \\\n",
       "0              Employment agencies      2020.0  Subsidiary  ...   \n",
       "1  Water transportation of freight      2015.0  Subsidiary  ...   \n",
       "2           Holding companies, nec      1993.0  Subsidiary  ...   \n",
       "3           Holding companies, nec      2006.0  Subsidiary  ...   \n",
       "4           Holding companies, nec      2006.0      Parent  ...   \n",
       "\n",
       "  Employees (Global Ultimate Total) Sales (Domestic Ultimate Total USD)  \\\n",
       "0                               NaN                        2.209224e+06   \n",
       "1                             100.0                        7.093536e+09   \n",
       "2                               4.0                        1.026308e+06   \n",
       "3                             100.0                        7.339898e+10   \n",
       "4                               4.0                        4.322130e+05   \n",
       "\n",
       "  Sales (Global Ultimate Total USD) Import/Export Status  Fiscal Year End  \\\n",
       "0                      4.637871e+06                  NaN              NaN   \n",
       "1                      7.093536e+09                  NaN              NaN   \n",
       "2                      1.026308e+06                  NaN              NaN   \n",
       "3                      7.339898e+10                  NaN              NaN   \n",
       "4                      4.322130e+05              Exports              NaN   \n",
       "\n",
       "               Global Ultimate Company  Global Ultimate Country  \\\n",
       "0               FINDERS HOLDCO LIMITED           United Kingdom   \n",
       "1                PETREDEC PTE. LIMITED                Singapore   \n",
       "2  MADISON LIGHTERS AND WATCHES CO LTD            Hong Kong SAR   \n",
       "3         WILMAR INTERNATIONAL LIMITED                Singapore   \n",
       "4         ASIA GREEN CAPITAL PTE. LTD.                Singapore   \n",
       "\n",
       "              Domestic Ultimate Company  Is Domestic Ultimate  \\\n",
       "0  FRANK RECRUITMENT GROUP PRIVATE LTD.                   0.0   \n",
       "1                                   NaN                   0.0   \n",
       "2           2MBAO BIOCELLBANK PTE. LTD.                   1.0   \n",
       "3          WILMAR INTERNATIONAL LIMITED                   0.0   \n",
       "4          ASIA GREEN CAPITAL PTE. LTD.                   1.0   \n",
       "\n",
       "   Is Global Ultimate  \n",
       "0                 0.0  \n",
       "1                 0.0  \n",
       "2                 0.0  \n",
       "3                 0.0  \n",
       "4                 1.0  \n",
       "\n",
       "[5 rows x 28 columns]"
      ]
     },
     "execution_count": 3,
     "metadata": {},
     "output_type": "execute_result"
    }
   ],
   "source": [
    "import pandas as pd\n",
    "#file_path = '/content/drive/My Drive/catA_train.csv'\n",
    "#dataset = pd.read_csv(file_path)\n",
    "dataset = pd.read_csv('catA_train.csv') #Akshat's dataset\n",
    "dataset.head()\n"
   ]
  },
  {
   "cell_type": "code",
   "execution_count": 4,
   "metadata": {
    "colab": {
     "base_uri": "https://localhost:8080/"
    },
    "id": "xQVC1a34qpCP",
    "outputId": "ce6f5bd3-5c70-4fa4-d851-a45cc9b4b47f"
   },
   "outputs": [
    {
     "data": {
      "text/plain": [
       "(29182, 28)"
      ]
     },
     "execution_count": 4,
     "metadata": {},
     "output_type": "execute_result"
    }
   ],
   "source": [
    "dataset.shape"
   ]
  },
  {
   "cell_type": "code",
   "execution_count": 5,
   "metadata": {
    "colab": {
     "base_uri": "https://localhost:8080/"
    },
    "id": "hDtLIoZoyVi3",
    "outputId": "128bbd60-e68a-4862-9bd6-8979bc1b3d99"
   },
   "outputs": [
    {
     "name": "stdout",
     "output_type": "stream",
     "text": [
      "<class 'pandas.core.frame.DataFrame'>\n",
      "RangeIndex: 29182 entries, 0 to 29181\n",
      "Data columns (total 28 columns):\n",
      " #   Column                               Non-Null Count  Dtype  \n",
      "---  ------                               --------------  -----  \n",
      " 0   LATITUDE                             29062 non-null  float64\n",
      " 1   LONGITUDE                            29062 non-null  float64\n",
      " 2   AccountID                            29182 non-null  object \n",
      " 3   Company                              29182 non-null  object \n",
      " 4   SIC Code                             29182 non-null  float64\n",
      " 5   Industry                             29182 non-null  object \n",
      " 6   8-Digit SIC Code                     29182 non-null  float64\n",
      " 7   8-Digit SIC Description              29182 non-null  object \n",
      " 8   Year Found                           28748 non-null  float64\n",
      " 9   Entity Type                          29182 non-null  object \n",
      " 10  Parent Company                       28668 non-null  object \n",
      " 11  Parent Country                       28662 non-null  object \n",
      " 12  Ownership Type                       29182 non-null  object \n",
      " 13  Company Description                  29182 non-null  object \n",
      " 14  Square Footage                       0 non-null      float64\n",
      " 15  Company Status (Active/Inactive)     29182 non-null  object \n",
      " 16  Employees (Single Site)              16779 non-null  float64\n",
      " 17  Employees (Domestic Ultimate Total)  29103 non-null  float64\n",
      " 18  Employees (Global Ultimate Total)    26408 non-null  float64\n",
      " 19  Sales (Domestic Ultimate Total USD)  29182 non-null  float64\n",
      " 20  Sales (Global Ultimate Total USD)    29182 non-null  float64\n",
      " 21  Import/Export Status                 6613 non-null   object \n",
      " 22  Fiscal Year End                      6737 non-null   object \n",
      " 23  Global Ultimate Company              28668 non-null  object \n",
      " 24  Global Ultimate Country              28659 non-null  object \n",
      " 25  Domestic Ultimate Company            28147 non-null  object \n",
      " 26  Is Domestic Ultimate                 29182 non-null  float64\n",
      " 27  Is Global Ultimate                   29182 non-null  float64\n",
      "dtypes: float64(13), object(15)\n",
      "memory usage: 6.2+ MB\n"
     ]
    }
   ],
   "source": [
    "dataset.info()\n"
   ]
  },
  {
   "cell_type": "code",
   "execution_count": 6,
   "metadata": {
    "colab": {
     "base_uri": "https://localhost:8080/"
    },
    "id": "yqve-inbyqW5",
    "outputId": "ae282163-cc91-48f6-c554-916cb9e5783c"
   },
   "outputs": [
    {
     "data": {
      "text/plain": [
       "LATITUDE                                 120\n",
       "LONGITUDE                                120\n",
       "AccountID                                  0\n",
       "Company                                    0\n",
       "SIC Code                                   0\n",
       "Industry                                   0\n",
       "8-Digit SIC Code                           0\n",
       "8-Digit SIC Description                    0\n",
       "Year Found                               434\n",
       "Entity Type                                0\n",
       "Parent Company                           514\n",
       "Parent Country                           520\n",
       "Ownership Type                             0\n",
       "Company Description                        0\n",
       "Square Footage                         29182\n",
       "Company Status (Active/Inactive)           0\n",
       "Employees (Single Site)                12403\n",
       "Employees (Domestic Ultimate Total)       79\n",
       "Employees (Global Ultimate Total)       2774\n",
       "Sales (Domestic Ultimate Total USD)        0\n",
       "Sales (Global Ultimate Total USD)          0\n",
       "Import/Export Status                   22569\n",
       "Fiscal Year End                        22445\n",
       "Global Ultimate Company                  514\n",
       "Global Ultimate Country                  523\n",
       "Domestic Ultimate Company               1035\n",
       "Is Domestic Ultimate                       0\n",
       "Is Global Ultimate                         0\n",
       "dtype: int64"
      ]
     },
     "execution_count": 6,
     "metadata": {},
     "output_type": "execute_result"
    }
   ],
   "source": [
    "dataset.isna().sum()\n"
   ]
  },
  {
   "cell_type": "code",
   "execution_count": 7,
   "metadata": {
    "id": "Z995rRVfyuEt"
   },
   "outputs": [],
   "source": [
    "dataset = dataset.drop('Square Footage', axis = 1)"
   ]
  },
  {
   "cell_type": "code",
   "execution_count": 8,
   "metadata": {
    "id": "1me2EEGPy5RU"
   },
   "outputs": [],
   "source": [
    "dataset = dataset.dropna(subset = ['LATITUDE', 'LONGITUDE', 'Employees (Domestic Ultimate Total)'])"
   ]
  },
  {
   "cell_type": "code",
   "execution_count": 9,
   "metadata": {
    "colab": {
     "base_uri": "https://localhost:8080/"
    },
    "id": "3RPvLfMHy_yR",
    "outputId": "13c06eb4-65f8-4130-c43f-e6f288d17370"
   },
   "outputs": [
    {
     "data": {
      "text/plain": [
       "12038"
      ]
     },
     "execution_count": 9,
     "metadata": {},
     "output_type": "execute_result"
    }
   ],
   "source": [
    "(dataset['Employees (Single Site)'] > dataset['Employees (Domestic Ultimate Total)']).sum() + (dataset['Employees (Single Site)'] > dataset['Employees (Global Ultimate Total)']).sum()\n"
   ]
  },
  {
   "cell_type": "code",
   "execution_count": 10,
   "metadata": {
    "id": "h-roLydUzFac"
   },
   "outputs": [],
   "source": [
    "dataset['Employees (Global)'] = dataset[['Employees (Single Site)','Employees (Domestic Ultimate Total)','Employees (Global Ultimate Total)']].max(axis = 1)\n"
   ]
  },
  {
   "cell_type": "code",
   "execution_count": 11,
   "metadata": {
    "id": "S5xaK24qzI-E"
   },
   "outputs": [],
   "source": [
    "dataset.drop(columns = ['Employees (Single Site)','Employees (Domestic Ultimate Total)','Employees (Global Ultimate Total)', 'Fiscal Year End'], inplace = True)"
   ]
  },
  {
   "cell_type": "code",
   "execution_count": 12,
   "metadata": {
    "id": "oEMqX7qEzezu"
   },
   "outputs": [],
   "source": [
    "dataset['Import/Export Status'].fillna('N/A', inplace = True)"
   ]
  },
  {
   "cell_type": "code",
   "execution_count": 13,
   "metadata": {
    "id": "vQsf6jJTzl5D"
   },
   "outputs": [],
   "source": [
    "dataset = dataset[dataset['Company Status (Active/Inactive)'] == 'Active']\n"
   ]
  },
  {
   "cell_type": "code",
   "execution_count": 14,
   "metadata": {
    "colab": {
     "base_uri": "https://localhost:8080/",
     "height": 690
    },
    "id": "SGql3qSFzstP",
    "outputId": "0bbfc62d-c2eb-4bbe-a511-2cc0412b935f"
   },
   "outputs": [
    {
     "data": {
      "text/html": [
       "<div>\n",
       "<style scoped>\n",
       "    .dataframe tbody tr th:only-of-type {\n",
       "        vertical-align: middle;\n",
       "    }\n",
       "\n",
       "    .dataframe tbody tr th {\n",
       "        vertical-align: top;\n",
       "    }\n",
       "\n",
       "    .dataframe thead th {\n",
       "        text-align: right;\n",
       "    }\n",
       "</style>\n",
       "<table border=\"1\" class=\"dataframe\">\n",
       "  <thead>\n",
       "    <tr style=\"text-align: right;\">\n",
       "      <th></th>\n",
       "      <th>LATITUDE</th>\n",
       "      <th>LONGITUDE</th>\n",
       "      <th>AccountID</th>\n",
       "      <th>Company</th>\n",
       "      <th>SIC Code</th>\n",
       "      <th>Industry</th>\n",
       "      <th>8-Digit SIC Code</th>\n",
       "      <th>8-Digit SIC Description</th>\n",
       "      <th>Year Found</th>\n",
       "      <th>Entity Type</th>\n",
       "      <th>...</th>\n",
       "      <th>Company Status (Active/Inactive)</th>\n",
       "      <th>Sales (Domestic Ultimate Total USD)</th>\n",
       "      <th>Sales (Global Ultimate Total USD)</th>\n",
       "      <th>Import/Export Status</th>\n",
       "      <th>Global Ultimate Company</th>\n",
       "      <th>Global Ultimate Country</th>\n",
       "      <th>Domestic Ultimate Company</th>\n",
       "      <th>Is Domestic Ultimate</th>\n",
       "      <th>Is Global Ultimate</th>\n",
       "      <th>Employees (Global)</th>\n",
       "    </tr>\n",
       "  </thead>\n",
       "  <tbody>\n",
       "    <tr>\n",
       "      <th>0</th>\n",
       "      <td>1.285495</td>\n",
       "      <td>103.843852</td>\n",
       "      <td>LAKB2BID4559214</td>\n",
       "      <td>FRANK CONSULTING SERVICES PRIVATE LIMITED</td>\n",
       "      <td>7361.0</td>\n",
       "      <td>Employment Agencies</td>\n",
       "      <td>73610000.0</td>\n",
       "      <td>Employment agencies</td>\n",
       "      <td>2020.0</td>\n",
       "      <td>Subsidiary</td>\n",
       "      <td>...</td>\n",
       "      <td>Active</td>\n",
       "      <td>2.209224e+06</td>\n",
       "      <td>4.637871e+06</td>\n",
       "      <td>N/A</td>\n",
       "      <td>FINDERS HOLDCO LIMITED</td>\n",
       "      <td>United Kingdom</td>\n",
       "      <td>FRANK RECRUITMENT GROUP PRIVATE LTD.</td>\n",
       "      <td>0.0</td>\n",
       "      <td>0.0</td>\n",
       "      <td>25.0</td>\n",
       "    </tr>\n",
       "    <tr>\n",
       "      <th>1</th>\n",
       "      <td>1.291294</td>\n",
       "      <td>103.827476</td>\n",
       "      <td>LAKB2BID7610849</td>\n",
       "      <td>NEW DESERT ORCHID SHIPPING PTE. LTD.</td>\n",
       "      <td>4449.0</td>\n",
       "      <td>Water Transportation of Freight, Not Elsewhere...</td>\n",
       "      <td>44490000.0</td>\n",
       "      <td>Water transportation of freight</td>\n",
       "      <td>2015.0</td>\n",
       "      <td>Subsidiary</td>\n",
       "      <td>...</td>\n",
       "      <td>Active</td>\n",
       "      <td>7.093536e+09</td>\n",
       "      <td>7.093536e+09</td>\n",
       "      <td>N/A</td>\n",
       "      <td>PETREDEC PTE. LIMITED</td>\n",
       "      <td>Singapore</td>\n",
       "      <td>NaN</td>\n",
       "      <td>0.0</td>\n",
       "      <td>0.0</td>\n",
       "      <td>100.0</td>\n",
       "    </tr>\n",
       "    <tr>\n",
       "      <th>2</th>\n",
       "      <td>1.300144</td>\n",
       "      <td>103.857517</td>\n",
       "      <td>LAKB2BID5461679</td>\n",
       "      <td>2MBAO BIOCELLBANK PTE. LTD.</td>\n",
       "      <td>6719.0</td>\n",
       "      <td>Offices of Holding Companies, Not Elsewhere Cl...</td>\n",
       "      <td>67190000.0</td>\n",
       "      <td>Holding companies, nec</td>\n",
       "      <td>1993.0</td>\n",
       "      <td>Subsidiary</td>\n",
       "      <td>...</td>\n",
       "      <td>Active</td>\n",
       "      <td>1.026308e+06</td>\n",
       "      <td>1.026308e+06</td>\n",
       "      <td>N/A</td>\n",
       "      <td>MADISON LIGHTERS AND WATCHES CO LTD</td>\n",
       "      <td>Hong Kong SAR</td>\n",
       "      <td>2MBAO BIOCELLBANK PTE. LTD.</td>\n",
       "      <td>1.0</td>\n",
       "      <td>0.0</td>\n",
       "      <td>4.0</td>\n",
       "    </tr>\n",
       "    <tr>\n",
       "      <th>3</th>\n",
       "      <td>1.300785</td>\n",
       "      <td>103.791263</td>\n",
       "      <td>LAKB2BID5088529</td>\n",
       "      <td>NEWBLOOM PTE. LTD.</td>\n",
       "      <td>6719.0</td>\n",
       "      <td>Offices of Holding Companies, Not Elsewhere Cl...</td>\n",
       "      <td>67190000.0</td>\n",
       "      <td>Holding companies, nec</td>\n",
       "      <td>2006.0</td>\n",
       "      <td>Subsidiary</td>\n",
       "      <td>...</td>\n",
       "      <td>Active</td>\n",
       "      <td>7.339898e+10</td>\n",
       "      <td>7.339898e+10</td>\n",
       "      <td>N/A</td>\n",
       "      <td>WILMAR INTERNATIONAL LIMITED</td>\n",
       "      <td>Singapore</td>\n",
       "      <td>WILMAR INTERNATIONAL LIMITED</td>\n",
       "      <td>0.0</td>\n",
       "      <td>0.0</td>\n",
       "      <td>100.0</td>\n",
       "    </tr>\n",
       "    <tr>\n",
       "      <th>4</th>\n",
       "      <td>1.298759</td>\n",
       "      <td>103.859430</td>\n",
       "      <td>LAKB2BID1268831</td>\n",
       "      <td>ASIA GREEN CAPITAL PTE. LTD.</td>\n",
       "      <td>6719.0</td>\n",
       "      <td>Offices of Holding Companies, Not Elsewhere Cl...</td>\n",
       "      <td>67190000.0</td>\n",
       "      <td>Holding companies, nec</td>\n",
       "      <td>2006.0</td>\n",
       "      <td>Parent</td>\n",
       "      <td>...</td>\n",
       "      <td>Active</td>\n",
       "      <td>4.322130e+05</td>\n",
       "      <td>4.322130e+05</td>\n",
       "      <td>Exports</td>\n",
       "      <td>ASIA GREEN CAPITAL PTE. LTD.</td>\n",
       "      <td>Singapore</td>\n",
       "      <td>ASIA GREEN CAPITAL PTE. LTD.</td>\n",
       "      <td>1.0</td>\n",
       "      <td>1.0</td>\n",
       "      <td>4.0</td>\n",
       "    </tr>\n",
       "  </tbody>\n",
       "</table>\n",
       "<p>5 rows × 24 columns</p>\n",
       "</div>"
      ],
      "text/plain": [
       "   LATITUDE   LONGITUDE        AccountID  \\\n",
       "0  1.285495  103.843852  LAKB2BID4559214   \n",
       "1  1.291294  103.827476  LAKB2BID7610849   \n",
       "2  1.300144  103.857517  LAKB2BID5461679   \n",
       "3  1.300785  103.791263  LAKB2BID5088529   \n",
       "4  1.298759  103.859430  LAKB2BID1268831   \n",
       "\n",
       "                                     Company  SIC Code  \\\n",
       "0  FRANK CONSULTING SERVICES PRIVATE LIMITED    7361.0   \n",
       "1       NEW DESERT ORCHID SHIPPING PTE. LTD.    4449.0   \n",
       "2                2MBAO BIOCELLBANK PTE. LTD.    6719.0   \n",
       "3                         NEWBLOOM PTE. LTD.    6719.0   \n",
       "4               ASIA GREEN CAPITAL PTE. LTD.    6719.0   \n",
       "\n",
       "                                            Industry  8-Digit SIC Code  \\\n",
       "0                                Employment Agencies        73610000.0   \n",
       "1  Water Transportation of Freight, Not Elsewhere...        44490000.0   \n",
       "2  Offices of Holding Companies, Not Elsewhere Cl...        67190000.0   \n",
       "3  Offices of Holding Companies, Not Elsewhere Cl...        67190000.0   \n",
       "4  Offices of Holding Companies, Not Elsewhere Cl...        67190000.0   \n",
       "\n",
       "           8-Digit SIC Description  Year Found Entity Type  ...  \\\n",
       "0              Employment agencies      2020.0  Subsidiary  ...   \n",
       "1  Water transportation of freight      2015.0  Subsidiary  ...   \n",
       "2           Holding companies, nec      1993.0  Subsidiary  ...   \n",
       "3           Holding companies, nec      2006.0  Subsidiary  ...   \n",
       "4           Holding companies, nec      2006.0      Parent  ...   \n",
       "\n",
       "  Company Status (Active/Inactive) Sales (Domestic Ultimate Total USD)  \\\n",
       "0                           Active                        2.209224e+06   \n",
       "1                           Active                        7.093536e+09   \n",
       "2                           Active                        1.026308e+06   \n",
       "3                           Active                        7.339898e+10   \n",
       "4                           Active                        4.322130e+05   \n",
       "\n",
       "  Sales (Global Ultimate Total USD) Import/Export Status  \\\n",
       "0                      4.637871e+06                  N/A   \n",
       "1                      7.093536e+09                  N/A   \n",
       "2                      1.026308e+06                  N/A   \n",
       "3                      7.339898e+10                  N/A   \n",
       "4                      4.322130e+05              Exports   \n",
       "\n",
       "               Global Ultimate Company  Global Ultimate Country  \\\n",
       "0               FINDERS HOLDCO LIMITED           United Kingdom   \n",
       "1                PETREDEC PTE. LIMITED                Singapore   \n",
       "2  MADISON LIGHTERS AND WATCHES CO LTD            Hong Kong SAR   \n",
       "3         WILMAR INTERNATIONAL LIMITED                Singapore   \n",
       "4         ASIA GREEN CAPITAL PTE. LTD.                Singapore   \n",
       "\n",
       "              Domestic Ultimate Company Is Domestic Ultimate  \\\n",
       "0  FRANK RECRUITMENT GROUP PRIVATE LTD.                  0.0   \n",
       "1                                   NaN                  0.0   \n",
       "2           2MBAO BIOCELLBANK PTE. LTD.                  1.0   \n",
       "3          WILMAR INTERNATIONAL LIMITED                  0.0   \n",
       "4          ASIA GREEN CAPITAL PTE. LTD.                  1.0   \n",
       "\n",
       "  Is Global Ultimate Employees (Global)  \n",
       "0                0.0               25.0  \n",
       "1                0.0              100.0  \n",
       "2                0.0                4.0  \n",
       "3                0.0              100.0  \n",
       "4                1.0                4.0  \n",
       "\n",
       "[5 rows x 24 columns]"
      ]
     },
     "execution_count": 14,
     "metadata": {},
     "output_type": "execute_result"
    }
   ],
   "source": [
    "dataset.head()"
   ]
  },
  {
   "cell_type": "markdown",
   "metadata": {
    "id": "S48lm09OM4V4"
   },
   "source": [
    "# Placeholders"
   ]
  },
  {
   "cell_type": "code",
   "execution_count": 15,
   "metadata": {
    "colab": {
     "base_uri": "https://localhost:8080/",
     "height": 939
    },
    "id": "Rnhi2p4XPgdj",
    "outputId": "6f3e171b-f9f4-4342-b0ec-5d0c5775fbde"
   },
   "outputs": [
    {
     "ename": "ValueError",
     "evalue": "could not convert string to float: 'LAKB2BID4559214'",
     "output_type": "error",
     "traceback": [
      "\u001b[1;31m---------------------------------------------------------------------------\u001b[0m",
      "\u001b[1;31mValueError\u001b[0m                                Traceback (most recent call last)",
      "Cell \u001b[1;32mIn[15], line 4\u001b[0m\n\u001b[0;32m      2\u001b[0m \u001b[38;5;28;01mimport\u001b[39;00m \u001b[38;5;21;01mseaborn\u001b[39;00m \u001b[38;5;28;01mas\u001b[39;00m \u001b[38;5;21;01msns\u001b[39;00m\n\u001b[0;32m      3\u001b[0m \u001b[38;5;28;01mimport\u001b[39;00m \u001b[38;5;21;01mmatplotlib\u001b[39;00m\u001b[38;5;21;01m.\u001b[39;00m\u001b[38;5;21;01mpyplot\u001b[39;00m \u001b[38;5;28;01mas\u001b[39;00m \u001b[38;5;21;01mplt\u001b[39;00m\n\u001b[1;32m----> 4\u001b[0m df_corr \u001b[38;5;241m=\u001b[39m dataset\u001b[38;5;241m.\u001b[39mcorr()\n\u001b[0;32m      5\u001b[0m figure\u001b[38;5;241m=\u001b[39mplt\u001b[38;5;241m.\u001b[39mfigure(figsize\u001b[38;5;241m=\u001b[39m(\u001b[38;5;241m20\u001b[39m,\u001b[38;5;241m15\u001b[39m))\n\u001b[0;32m      6\u001b[0m sns\u001b[38;5;241m.\u001b[39mheatmap(df_corr, annot\u001b[38;5;241m=\u001b[39m\u001b[38;5;28;01mTrue\u001b[39;00m,fmt\u001b[38;5;241m=\u001b[39m\u001b[38;5;124m\"\u001b[39m\u001b[38;5;124m.1g\u001b[39m\u001b[38;5;124m\"\u001b[39m)\n",
      "File \u001b[1;32m~\\anaconda3\\Lib\\site-packages\\pandas\\core\\frame.py:10054\u001b[0m, in \u001b[0;36mDataFrame.corr\u001b[1;34m(self, method, min_periods, numeric_only)\u001b[0m\n\u001b[0;32m  10052\u001b[0m cols \u001b[38;5;241m=\u001b[39m data\u001b[38;5;241m.\u001b[39mcolumns\n\u001b[0;32m  10053\u001b[0m idx \u001b[38;5;241m=\u001b[39m cols\u001b[38;5;241m.\u001b[39mcopy()\n\u001b[1;32m> 10054\u001b[0m mat \u001b[38;5;241m=\u001b[39m data\u001b[38;5;241m.\u001b[39mto_numpy(dtype\u001b[38;5;241m=\u001b[39m\u001b[38;5;28mfloat\u001b[39m, na_value\u001b[38;5;241m=\u001b[39mnp\u001b[38;5;241m.\u001b[39mnan, copy\u001b[38;5;241m=\u001b[39m\u001b[38;5;28;01mFalse\u001b[39;00m)\n\u001b[0;32m  10056\u001b[0m \u001b[38;5;28;01mif\u001b[39;00m method \u001b[38;5;241m==\u001b[39m \u001b[38;5;124m\"\u001b[39m\u001b[38;5;124mpearson\u001b[39m\u001b[38;5;124m\"\u001b[39m:\n\u001b[0;32m  10057\u001b[0m     correl \u001b[38;5;241m=\u001b[39m libalgos\u001b[38;5;241m.\u001b[39mnancorr(mat, minp\u001b[38;5;241m=\u001b[39mmin_periods)\n",
      "File \u001b[1;32m~\\anaconda3\\Lib\\site-packages\\pandas\\core\\frame.py:1838\u001b[0m, in \u001b[0;36mDataFrame.to_numpy\u001b[1;34m(self, dtype, copy, na_value)\u001b[0m\n\u001b[0;32m   1836\u001b[0m \u001b[38;5;28;01mif\u001b[39;00m dtype \u001b[38;5;129;01mis\u001b[39;00m \u001b[38;5;129;01mnot\u001b[39;00m \u001b[38;5;28;01mNone\u001b[39;00m:\n\u001b[0;32m   1837\u001b[0m     dtype \u001b[38;5;241m=\u001b[39m np\u001b[38;5;241m.\u001b[39mdtype(dtype)\n\u001b[1;32m-> 1838\u001b[0m result \u001b[38;5;241m=\u001b[39m \u001b[38;5;28mself\u001b[39m\u001b[38;5;241m.\u001b[39m_mgr\u001b[38;5;241m.\u001b[39mas_array(dtype\u001b[38;5;241m=\u001b[39mdtype, copy\u001b[38;5;241m=\u001b[39mcopy, na_value\u001b[38;5;241m=\u001b[39mna_value)\n\u001b[0;32m   1839\u001b[0m \u001b[38;5;28;01mif\u001b[39;00m result\u001b[38;5;241m.\u001b[39mdtype \u001b[38;5;129;01mis\u001b[39;00m \u001b[38;5;129;01mnot\u001b[39;00m dtype:\n\u001b[0;32m   1840\u001b[0m     result \u001b[38;5;241m=\u001b[39m np\u001b[38;5;241m.\u001b[39marray(result, dtype\u001b[38;5;241m=\u001b[39mdtype, copy\u001b[38;5;241m=\u001b[39m\u001b[38;5;28;01mFalse\u001b[39;00m)\n",
      "File \u001b[1;32m~\\anaconda3\\Lib\\site-packages\\pandas\\core\\internals\\managers.py:1732\u001b[0m, in \u001b[0;36mBlockManager.as_array\u001b[1;34m(self, dtype, copy, na_value)\u001b[0m\n\u001b[0;32m   1730\u001b[0m         arr\u001b[38;5;241m.\u001b[39mflags\u001b[38;5;241m.\u001b[39mwriteable \u001b[38;5;241m=\u001b[39m \u001b[38;5;28;01mFalse\u001b[39;00m\n\u001b[0;32m   1731\u001b[0m \u001b[38;5;28;01melse\u001b[39;00m:\n\u001b[1;32m-> 1732\u001b[0m     arr \u001b[38;5;241m=\u001b[39m \u001b[38;5;28mself\u001b[39m\u001b[38;5;241m.\u001b[39m_interleave(dtype\u001b[38;5;241m=\u001b[39mdtype, na_value\u001b[38;5;241m=\u001b[39mna_value)\n\u001b[0;32m   1733\u001b[0m     \u001b[38;5;66;03m# The underlying data was copied within _interleave, so no need\u001b[39;00m\n\u001b[0;32m   1734\u001b[0m     \u001b[38;5;66;03m# to further copy if copy=True or setting na_value\u001b[39;00m\n\u001b[0;32m   1736\u001b[0m \u001b[38;5;28;01mif\u001b[39;00m na_value \u001b[38;5;129;01mis\u001b[39;00m \u001b[38;5;129;01mnot\u001b[39;00m lib\u001b[38;5;241m.\u001b[39mno_default:\n",
      "File \u001b[1;32m~\\anaconda3\\Lib\\site-packages\\pandas\\core\\internals\\managers.py:1794\u001b[0m, in \u001b[0;36mBlockManager._interleave\u001b[1;34m(self, dtype, na_value)\u001b[0m\n\u001b[0;32m   1792\u001b[0m     \u001b[38;5;28;01melse\u001b[39;00m:\n\u001b[0;32m   1793\u001b[0m         arr \u001b[38;5;241m=\u001b[39m blk\u001b[38;5;241m.\u001b[39mget_values(dtype)\n\u001b[1;32m-> 1794\u001b[0m     result[rl\u001b[38;5;241m.\u001b[39mindexer] \u001b[38;5;241m=\u001b[39m arr\n\u001b[0;32m   1795\u001b[0m     itemmask[rl\u001b[38;5;241m.\u001b[39mindexer] \u001b[38;5;241m=\u001b[39m \u001b[38;5;241m1\u001b[39m\n\u001b[0;32m   1797\u001b[0m \u001b[38;5;28;01mif\u001b[39;00m \u001b[38;5;129;01mnot\u001b[39;00m itemmask\u001b[38;5;241m.\u001b[39mall():\n",
      "\u001b[1;31mValueError\u001b[0m: could not convert string to float: 'LAKB2BID4559214'"
     ]
    }
   ],
   "source": [
    "#correlation heatmap to identify significant columns\n",
    "import seaborn as sns\n",
    "import matplotlib.pyplot as plt\n",
    "df_corr = dataset.corr()\n",
    "figure=plt.figure(figsize=(20,15))\n",
    "sns.heatmap(df_corr, annot=True,fmt=\".1g\")\n",
    "plt.show()"
   ]
  },
  {
   "cell_type": "code",
   "execution_count": null,
   "metadata": {
    "id": "8LhTVEL_LBig"
   },
   "outputs": [],
   "source": [
    "#1. Adding \"not applicable\" to import/export status of companies that do not import/export\n",
    "def update_import_export_status(row):\n",
    "    if pd.isna(row['Import/Export Status']):\n",
    "        return 'not applicable'\n",
    "    else:\n",
    "        return row['Import/Export Status']\n",
    "\n",
    "dataset['Import/Export Status'] = dataset.apply(update_import_export_status, axis=1)"
   ]
  },
  {
   "cell_type": "code",
   "execution_count": null,
   "metadata": {
    "colab": {
     "base_uri": "https://localhost:8080/",
     "height": 690
    },
    "id": "862IsyXRNUl8",
    "outputId": "cbd6ebe2-d3bc-4dbb-f169-11198a16e9e2"
   },
   "outputs": [],
   "source": [
    "dataset.head()"
   ]
  },
  {
   "cell_type": "code",
   "execution_count": null,
   "metadata": {
    "id": "Frl2pLVOO4e7"
   },
   "outputs": [],
   "source": [
    "#dropping fiscal year end\n",
    "dataset.drop(columns=['Fiscal Year End'], inplace=True)\n"
   ]
  },
  {
   "cell_type": "code",
   "execution_count": 16,
   "metadata": {
    "colab": {
     "base_uri": "https://localhost:8080/"
    },
    "id": "noXKFguSYmXi",
    "outputId": "29613be7-3ca3-4d4c-953a-2b717a95f59f"
   },
   "outputs": [
    {
     "name": "stdout",
     "output_type": "stream",
     "text": [
      "Figure element not found.\n",
      "Figure element not found.\n",
      "Figure element not found.\n",
      "{nan: None,\n",
      " 'Antigua and Barbuda': '15,781.40 USD (2021)',\n",
      " 'Australia': '60,443.11 USD (2021)',\n",
      " 'Austria': '53,637.71 USD (2021)',\n",
      " 'Bahamas': '27,478.39 USD (2021)',\n",
      " 'Bahrain': '26,562.97 USD (2021)',\n",
      " 'Bangladesh': '2,457.92 USD (2021)',\n",
      " 'Belgium': '51,247.01 USD (2021)',\n",
      " 'Belize': '6,228.27 USD (2021)',\n",
      " 'Bermuda': '114,090.33 USD (2021)',\n",
      " 'Brazil': '7,507.16 USD (2021)',\n",
      " 'Brunei Darussalam': '31,449.08 USD (2021)',\n",
      " 'Canada': '51,987.94 USD (2021)',\n",
      " 'Cayman Islands': '86,568.77 USD (2021)',\n",
      " 'Chile': '16,265.10 USD (2021)',\n",
      " 'China': '12,556.33 USD (2021)',\n",
      " 'Croatia': '17,685.33 USD (2021)',\n",
      " 'Curacao': '17,717.60 USD (2021)',\n",
      " 'Cyprus': '31,551.82 USD (2021)',\n",
      " 'Denmark': '68,007.76 USD (2021)',\n",
      " 'Estonia': '27,943.70 USD (2021)',\n",
      " 'Finland': '53,654.75 USD (2021)',\n",
      " 'France': '43,658.98 USD (2021)',\n",
      " 'Germany': '51,203.55 USD (2021)',\n",
      " 'Greece': '20,192.60 USD (2021)',\n",
      " 'Hong Kong SAR': '49,800.54 USD (2021)',\n",
      " 'Hungary': '18,728.12 USD (2021)',\n",
      " 'Iceland': '68,727.64 USD (2021)',\n",
      " 'India': '2,256.59 USD (2021)',\n",
      " 'Indonesia': '4,332.71 USD (2021)',\n",
      " 'Iran': '4,091.21 USD (2021)',\n",
      " 'Ireland': '100,172.08 USD (2021)',\n",
      " 'Israel': '52,170.71 USD (2021)',\n",
      " 'Italy': '35,657.50 USD (2021)',\n",
      " 'Jamaica': '5,183.58 USD (2021)',\n",
      " 'Japan': '39,312.66 USD (2021)',\n",
      " 'Korea, Republic of': '34,997.78 USD (2021)',\n",
      " 'Kuwait': '24,300.33 USD (2020)',\n",
      " 'Lebanon': '4,136.15 USD (2021)',\n",
      " 'Liberia': '675.66 USD (2021)',\n",
      " 'Liechtenstein': '157,754.95 USD (2020)',\n",
      " 'Lithuania': '23,723.34 USD (2021)',\n",
      " 'Luxembourg': '133,590.15 USD (2021)',\n",
      " 'Malaysia': '11,109.26 USD (2021)',\n",
      " 'Maldives': '10,366.29 USD (2021)',\n",
      " 'Malta': '33,486.67 USD (2021)',\n",
      " 'Marshall Islands': '6,172.15 USD (2021)',\n",
      " 'Mauritius': '9,106.24 USD (2021)',\n",
      " 'Mexico': '10,045.68 USD (2021)',\n",
      " 'Netherlands': '57,767.88 USD (2021)',\n",
      " 'New Zealand': '48,781.03 USD (2021)',\n",
      " 'Nigeria': '2,065.75 USD (2021)',\n",
      " 'Norway': '89,154.28 USD (2021)',\n",
      " 'Panama': '14,617.60 USD (2021)',\n",
      " 'Philippines': '3,460.53 USD (2021)',\n",
      " 'Poland': '17,999.91 USD (2021)',\n",
      " 'Portugal': '24,567.51 USD (2021)',\n",
      " 'Qatar': '66,838.36 USD (2021)',\n",
      " 'Russian Federation': '12,194.78 USD (2021)',\n",
      " 'Samoa': '3,857.32 USD (2021)',\n",
      " 'Saudi Arabia': '23,185.87 USD (2021)',\n",
      " 'Singapore': '72,794.00 USD (2021)',\n",
      " 'South Africa': '7,055.04 USD (2021)',\n",
      " 'Spain': '30,103.51 USD (2021)',\n",
      " 'Sri Lanka': '4,013.69 USD (2021)',\n",
      " 'Sweden': '61,028.74 USD (2021)',\n",
      " 'Switzerland': '91,991.60 USD (2021)',\n",
      " 'Taiwan': None,\n",
      " 'Thailand': '7,066.19 USD (2021)',\n",
      " 'Turkey': '9,661.24 USD (2021)',\n",
      " 'United Arab Emirates': '44,315.55 USD (2021)',\n",
      " 'United Kingdom': '46,510.28 USD (2021)',\n",
      " 'United States': '70,248.63 USD (2021)',\n",
      " 'Vietnam': '3,756.49 USD (2021)',\n",
      " 'Virgin Islands (British)': None}\n"
     ]
    }
   ],
   "source": [
    "#Webscraping dataset\n",
    "from pprint import pprint\n",
    "import requests\n",
    "from bs4 import BeautifulSoup\n",
    "\n",
    "list_countries = list(dataset['Global Ultimate Country'].unique())\n",
    "scraped_gdps = {}\n",
    "\n",
    "def google_search(query):\n",
    "    url = f\"https://www.google.com/search?q={query} gdp per capita\"\n",
    "    headers = {\n",
    "        'User-Agent': 'Mozilla/5.0 (Windows NT 10.0; Win64; x64) AppleWebKit/537.36 (KHTML, like Gecko) Chrome/91.0.4472.124 Safari/537.36',\n",
    "        'Content-Type': 'application/json', 'Accept-Encoding': 'deflate'\n",
    "    }\n",
    "\n",
    "    response = requests.get(url, headers=headers)\n",
    "\n",
    "    if response.status_code == 200:\n",
    "        return response.text\n",
    "    else:\n",
    "        print(f\"Failed to retrieve search results. Status code: {response.status_code}\")\n",
    "        return None\n",
    "\n",
    "def extract_figure_from_html(html_content):\n",
    "    soup = BeautifulSoup(html_content, 'html.parser')\n",
    "\n",
    "    # Find the element with class \"ayqGOc\" and extract the text\n",
    "    figure_element = soup.find('div', class_='ayqGOc')\n",
    "\n",
    "    if figure_element:\n",
    "        figure_text = figure_element.get_text(strip=True)\n",
    "        return figure_text\n",
    "    else:\n",
    "        print(\"Figure element not found.\")\n",
    "        return None\n",
    "\n",
    "def apply_function(query):\n",
    "  html_content = google_search(query)\n",
    "  if html_content:\n",
    "    return extract_figure_from_html(html_content)\n",
    "  return -1\n",
    "\n",
    "\n",
    "for country in list_countries:\n",
    "  figure = apply_function(country)\n",
    "  scraped_gdps.update({country: figure})\n",
    "\n",
    "\n",
    "\n",
    "\n",
    "pprint(scraped_gdps)\n",
    "\n"
   ]
  },
  {
   "cell_type": "code",
   "execution_count": 17,
   "metadata": {
    "id": "XPO_FbWijel9"
   },
   "outputs": [],
   "source": [
    "scraped_gdps['Taiwan'] = '32,756.000 USD (2021)'\n",
    "scraped_gdps['Virgin Islands (British)'] = '39,552.17 USD (2020)'"
   ]
  },
  {
   "cell_type": "code",
   "execution_count": 18,
   "metadata": {
    "id": "kjN_KxFAsVU-"
   },
   "outputs": [],
   "source": [
    "dataset['GDP per Capita'] = dataset['Global Ultimate Country'].map(scraped_gdps)"
   ]
  },
  {
   "cell_type": "code",
   "execution_count": null,
   "metadata": {
    "id": "uONv2bKG0zAA"
   },
   "outputs": [],
   "source": [
    "dataset.drop(columns=['AccountID', '8-Digit SIC Code', 'Industry'], inplace=True)\n"
   ]
  },
  {
   "cell_type": "code",
   "execution_count": null,
   "metadata": {
    "colab": {
     "base_uri": "https://localhost:8080/",
     "height": 551
    },
    "id": "pQq5gp4ltV5G",
    "outputId": "2e080d17-6556-474b-cda9-bb7b552945d7"
   },
   "outputs": [],
   "source": [
    "dataset.head()\n"
   ]
  },
  {
   "cell_type": "code",
   "execution_count": null,
   "metadata": {
    "id": "Oq6wjSp800KL"
   },
   "outputs": [],
   "source": [
    "import tensorflow as tf\n",
    "import tensorflow_hub as hub\n"
   ]
  },
  {
   "cell_type": "code",
   "execution_count": null,
   "metadata": {
    "id": "zLTuzJXD3Aq6"
   },
   "outputs": [],
   "source": [
    "embed = hub.load(\"https://tfhub.dev/google/universal-sentence-encoder/4\")\n"
   ]
  },
  {
   "cell_type": "code",
   "execution_count": 19,
   "metadata": {
    "colab": {
     "base_uri": "https://localhost:8080/"
    },
    "id": "MNoHPkZp3GNn",
    "outputId": "6ab274f1-3fd0-42c5-f6e2-803589531037"
   },
   "outputs": [],
   "source": [
    "import numpy as np\n",
    "import pandas as pd\n",
    "#Define a list of sentences to be embedded\n",
    "\n",
    "def calculate_avg_embedding(sentence):\n",
    "  # Generate embeddings for the sentences\n",
    "  embeddings = embed([sentence])\n",
    "  averaged_embeddings = np.mean(embeddings, axis=1)\n",
    "  return float(averaged_embeddings)\n",
    "\n",
    "\n"
   ]
  },
  {
   "cell_type": "code",
   "execution_count": null,
   "metadata": {
    "id": "O6Z7iGft3aHk"
   },
   "outputs": [],
   "source": [
    "dataset['Company Description'] = dataset['Company Description'].apply(calculate_avg_embedding)\n"
   ]
  },
  {
   "cell_type": "code",
   "execution_count": null,
   "metadata": {
    "colab": {
     "base_uri": "https://localhost:8080/"
    },
    "id": "sffWphfX30Oa",
    "outputId": "c858c8a4-d8b4-47ee-d7d0-349fc9aa24ea"
   },
   "outputs": [],
   "source": [
    "dataset['Company Description']"
   ]
  },
  {
   "cell_type": "code",
   "execution_count": null,
   "metadata": {
    "colab": {
     "base_uri": "https://localhost:8080/",
     "height": 551
    },
    "id": "BXR8H7bL4p2-",
    "outputId": "554f873a-84aa-4f1a-ca1a-86039e26c184"
   },
   "outputs": [],
   "source": [
    "dataset.head()"
   ]
  },
  {
   "cell_type": "code",
   "execution_count": null,
   "metadata": {
    "id": "CfpZSlHe6Xot"
   },
   "outputs": [],
   "source": [
    "#Catboost model [Company, Parent Company, Global Ultimate]\n",
    "\n",
    "#convert sic code to categorical dataset\n",
    "categories = list(dataset['SIC Code'].unique())\n",
    "dataset['SIC Code'] = pd.Categorical(dataset['SIC Code'], categories=categories)\n",
    "dataset['SIC Code'] = dataset['SIC Code'].cat.codes\n",
    "\n",
    "#categories = list(dataset['Global Ultimate Country'].unique())\n",
    "#dataset['Global Ultimate Country'] = pd.Categorical(dataset['Global Ultimate Country'], categories=categories)\n",
    "#dataset['Global Ultimate Country'] = dataset['Global Ultimate Country'].cat.codes\n",
    "\n",
    "#categories = list(dataset['Import/Export Status'].unique())\n",
    "#dataset['Import/Export Status'] = pd.Categorical(dataset['Import/Export Status'], categories=categories)\n",
    "#dataset['Import/Export Status'] = dataset['Import/Export Status'].cat.codes\n",
    "\n",
    "catboost_dataset = dataset.drop(columns=['Company', 'Parent Company', 'Domestic Ultimate Company', 'Global Ultimate Company', '8-Digit SIC Description', 'GDP per Capita'], axis=1, inplace=False)\n",
    "#removing 8-Digit SIC description as it is redundant (heatmap shows correlation of 1 between 8-digit and sic code) (add gdp per capita later)"
   ]
  },
  {
   "cell_type": "code",
   "execution_count": null,
   "metadata": {
    "colab": {
     "base_uri": "https://localhost:8080/",
     "height": 504
    },
    "id": "ZCTtVm-m7H9a",
    "outputId": "008fd08e-5bef-4d21-b394-20f733f5b471"
   },
   "outputs": [],
   "source": [
    "catboost_dataset.head(10)\n"
   ]
  },
  {
   "cell_type": "code",
   "execution_count": null,
   "metadata": {
    "id": "WSQkxC_ABqwH"
   },
   "outputs": [],
   "source": [
    "#2,4,5,6,8,11,12,13,14\n",
    "columns_to_convert = ['Is Domestic Ultimate', 'Is Global Ultimate']\n",
    "catboost_dataset[columns_to_convert] = catboost_dataset[columns_to_convert].astype(int)\n"
   ]
  },
  {
   "cell_type": "code",
   "execution_count": null,
   "metadata": {
    "colab": {
     "base_uri": "https://localhost:8080/",
     "height": 330
    },
    "id": "cy0plh6SB8gS",
    "outputId": "d3a8e9ba-3e26-45d2-8079-f7b4c4e226ba"
   },
   "outputs": [],
   "source": [
    "catboost_dataset.head()"
   ]
  },
  {
   "cell_type": "code",
   "execution_count": null,
   "metadata": {
    "colab": {
     "base_uri": "https://localhost:8080/"
    },
    "id": "poWJHbzu0nSy",
    "outputId": "66cdb0dc-d6de-4175-cdf1-3204d5001c38"
   },
   "outputs": [],
   "source": [
    "print(len(list(catboost_dataset['SIC Code'].unique())))"
   ]
  },
  {
   "cell_type": "code",
   "execution_count": null,
   "metadata": {
    "colab": {
     "base_uri": "https://localhost:8080/"
    },
    "id": "4nd6K5hg90Vs",
    "outputId": "e227f4c7-7de0-4156-cf3d-0fd59e44178d"
   },
   "outputs": [],
   "source": [
    "!pip3 install catboost"
   ]
  },
  {
   "cell_type": "code",
   "execution_count": null,
   "metadata": {
    "colab": {
     "base_uri": "https://localhost:8080/"
    },
    "id": "Bu4NNovn_Sr-",
    "outputId": "c76024b0-3f7e-4ea6-b538-1aa88ff155cc"
   },
   "outputs": [],
   "source": [
    "print(catboost_dataset.columns.get_loc('LATITUDE'))\n",
    "print(catboost_dataset.select_dtypes(include=['object']).columns)\n",
    "print(catboost_dataset['SIC Code'].dtype)\n"
   ]
  },
  {
   "cell_type": "code",
   "execution_count": null,
   "metadata": {
    "colab": {
     "base_uri": "https://localhost:8080/"
    },
    "id": "CCdnzuDxCKFk",
    "outputId": "f05e6a1a-88bd-49ce-e7eb-5caf2daf6879"
   },
   "outputs": [],
   "source": [
    "pprint(catboost_dataset.isna().sum())\n",
    "columns_to_convert = ['Year Found', 'Parent Country', 'Global Ultimate Country']\n",
    "\n",
    "# Convert NaN values to string in specified columns\n",
    "catboost_dataset[columns_to_convert] = catboost_dataset[columns_to_convert].fillna('NaN').astype(str)\n"
   ]
  },
  {
   "cell_type": "code",
   "execution_count": null,
   "metadata": {
    "colab": {
     "base_uri": "https://localhost:8080/",
     "height": 330
    },
    "id": "vUdvCV4hF2xU",
    "outputId": "111429d2-70bd-4784-9010-0f20154a8f79"
   },
   "outputs": [],
   "source": [
    "catboost_dataset.head()"
   ]
  },
  {
   "cell_type": "code",
   "execution_count": null,
   "metadata": {
    "colab": {
     "base_uri": "https://localhost:8080/",
     "height": 1000,
     "referenced_widgets": [
      "61d79405935547ccb02f11d3d55113a6"
     ]
    },
    "id": "CeOgR0UB-p5h",
    "outputId": "574bff09-5dc0-4cfc-8a35-5779c8a66917"
   },
   "outputs": [],
   "source": [
    "import catboost\n",
    "from catboost import CatBoostRegressor, Pool\n",
    "from sklearn.model_selection import train_test_split\n",
    "from sklearn.metrics import mean_squared_error\n",
    "\n",
    "#categorical features\n",
    "cat_features = ['SIC Code','Entity Type','Parent Country','Ownership Type','Company Status (Active/Inactive)','Import/Export Status','Global Ultimate Country','Is Domestic Ultimate','Is Global Ultimate']\n",
    "\n",
    "X = catboost_dataset.drop(columns=['Sales (Global Ultimate Total USD)'])  # Features\n",
    "y = catboost_dataset['Sales (Global Ultimate Total USD)']  # Target\n",
    "X_train, X_test, y_train, y_test = train_test_split(X, y, test_size=0.2, random_state=42)\n",
    "\n",
    "train_data = Pool(data=X_train, label=y_train, cat_features=cat_features)\n",
    "test_data = Pool(data=X_test, label=y_test, cat_features=cat_features)\n",
    "\n",
    "# Initialize CatBoostRegressor\n",
    "model = CatBoostRegressor(iterations=500, depth=10, learning_rate=0.05, loss_function='RMSE')\n",
    "model.fit(train_data, eval_set=test_data, plot=True)\n",
    "y_pred = model.predict(test_data)\n",
    "\n",
    "# Evaluate the model (use appropriate metrics for regression)\n",
    "mse = mean_squared_error(y_test, y_pred)\n",
    "print(f'Mean Squared Error: {mse}')\n",
    "\n",
    "# Get feature importance\n",
    "feature_importance = model.get_feature_importance(prettified=True)\n",
    "print(feature_importance)"
   ]
  },
  {
   "cell_type": "code",
   "execution_count": null,
   "metadata": {
    "colab": {
     "base_uri": "https://localhost:8080/",
     "height": 584
    },
    "id": "QEeWMhOIIHmM",
    "outputId": "e8143da3-a76c-4d4b-c017-6a150a4291f2"
   },
   "outputs": [],
   "source": [
    "import matplotlib.pyplot as plt\n",
    "\n",
    "\n",
    "feature_importance = feature_importance.sort_values(by='Importances', ascending=False)\n",
    "# Plot the feature importances\n",
    "plt.figure(figsize=(10, 6))\n",
    "plt.barh(feature_importance['Feature Id'], feature_importance['Importances'], color='skyblue')\n",
    "plt.xlabel('Importance')\n",
    "plt.title('Feature Importances')\n",
    "plt.show()"
   ]
  },
  {
   "cell_type": "markdown",
   "metadata": {
    "id": "I_Xs2-mXyFyG"
   },
   "source": [
    "# New section"
   ]
  },
  {
   "cell_type": "markdown",
   "metadata": {
    "id": "B5FUEwdpYnBg"
   },
   "source": [
    "# Featuring Selection using ML\n"
   ]
  },
  {
   "cell_type": "code",
   "execution_count": null,
   "metadata": {
    "colab": {
     "base_uri": "https://localhost:8080/"
    },
    "id": "t4R4oE3FZEkZ",
    "outputId": "bc91ca0b-8661-405e-ddab-f40fd874a589"
   },
   "outputs": [],
   "source": [
    "!pip3 install catboost"
   ]
  },
  {
   "cell_type": "code",
   "execution_count": null,
   "metadata": {
    "id": "nTrqiS60cC6o"
   },
   "outputs": [],
   "source": []
  },
  {
   "cell_type": "code",
   "execution_count": null,
   "metadata": {
    "id": "AeHFEWkpVH3n"
   },
   "outputs": [],
   "source": [
    "from catboost import CatBoostRegressor, Pool\n",
    "target_column = \"Sales (Global Ultimate Total USD)\"  # Change this to your target column\n",
    "\n",
    "# Separate features and target\n",
    "X = dataset.drop(columns=[target_column])\n",
    "y = dataset[target_column]\n",
    "\n"
   ]
  },
  {
   "cell_type": "markdown",
   "metadata": {
    "id": "m0HFWHCiq-Dv"
   },
   "source": [
    "# Webscraping + Sentiment Analysis"
   ]
  },
  {
   "cell_type": "code",
   "execution_count": null,
   "metadata": {
    "id": "xa_qBhApq7f-"
   },
   "outputs": [],
   "source": [
    "#Web scraping to generate sentiment analysis\n",
    "#export scraped data here and do LLM functions"
   ]
  },
  {
   "cell_type": "code",
   "execution_count": null,
   "metadata": {
    "id": "mFOVcDikqTU6"
   },
   "outputs": [],
   "source": []
  },
  {
   "cell_type": "code",
   "execution_count": null,
   "metadata": {
    "id": "yhpGdE8Ao33f"
   },
   "outputs": [],
   "source": []
  },
  {
   "cell_type": "markdown",
   "metadata": {
    "id": "nQET8LWiYLZ9"
   },
   "source": [
    "# Geospatial Analysis"
   ]
  },
  {
   "cell_type": "code",
   "execution_count": null,
   "metadata": {
    "colab": {
     "base_uri": "https://localhost:8080/"
    },
    "id": "UslJ1hKMYNfi",
    "outputId": "63f4c1ac-e774-4646-a679-00ffbf5bcd53"
   },
   "outputs": [],
   "source": [
    "!pip3 install geopy"
   ]
  },
  {
   "cell_type": "code",
   "execution_count": null,
   "metadata": {
    "id": "pDauGhQMYVI3"
   },
   "outputs": [],
   "source": [
    "from geopy.geocoders import Nominatim\n",
    "\n",
    "#make a function get a country from latitude and longtitude\n",
    "\n",
    "geolocator = Nominatim(user_agent=\"my_geocoder\")\n",
    "\n",
    "def get_country(lat, lon):\n",
    "    if pd.notna(lat) and pd.notna(lon):\n",
    "        try:\n",
    "            location = geolocator.reverse((lat, lon), language='en', exactly_one=True)\n",
    "            if location and 'address' in location.raw and 'country' in location.raw['address']:\n",
    "                return location.raw['address']['country']\n",
    "        except Exception as e:\n",
    "            print(f\"Error while reverse geocoding: {e}\")\n",
    "    return None\n"
   ]
  },
  {
   "cell_type": "code",
   "execution_count": null,
   "metadata": {
    "colab": {
     "base_uri": "https://localhost:8080/"
    },
    "id": "YC2SVPZVhudY",
    "outputId": "7dcf64be-fbe9-465a-93b9-5b764a1e7b21"
   },
   "outputs": [],
   "source": [
    "print(dataset['LATITUDE'].isnull().sum())\n",
    "print(dataset['LONGITUDE'].isnull().sum())\n",
    "#drop empty data rows and save into a seperate dataset for geospatial analysis\n",
    "geo_dataset = dataset.dropna(subset=['LATITUDE', 'LONGITUDE'])\n"
   ]
  },
  {
   "cell_type": "code",
   "execution_count": null,
   "metadata": {
    "colab": {
     "background_save": true,
     "base_uri": "https://localhost:8080/"
    },
    "id": "AyLnrngubc0o",
    "outputId": "442e6c76-bea6-4b7f-c59a-ebd029081db9"
   },
   "outputs": [],
   "source": [
    "geo_dataset['country'] = dataset.apply(lambda row: get_country(row['LATITUDE'], row['LONGITUDE']), axis=1)"
   ]
  },
  {
   "cell_type": "code",
   "execution_count": null,
   "metadata": {
    "id": "sET8EsHmhvKZ"
   },
   "outputs": [],
   "source": []
  },
  {
   "cell_type": "markdown",
   "metadata": {},
   "source": [
    "# More on Geospatial analysis (and other stuff)"
   ]
  },
  {
   "cell_type": "markdown",
   "metadata": {},
   "source": [
    "Companies in the dataset are located in Singapore. It can be imperative to analyse the population density of different planning areas in Singapore since more densely populated regions can provide more opportunities for sales.\n",
    "\n",
    "The following chloropeth map shows the map of Singapore by population density. It provides even more evidence for Latitudinal and Longitudinal data to be included in the model."
   ]
  },
  {
   "cell_type": "code",
   "execution_count": null,
   "metadata": {},
   "outputs": [],
   "source": [
    "import plotly.express as px\n",
    "import matplotlib.pyplot as plt\n",
    "import pandas as pd\n",
    "import numpy as np\n",
    "import json\n",
    "\n",
    "#loading population data\n",
    "pop = pd.read_csv('population_data.csv')\n",
    "pop['Planning Area'] = pop['Planning Area'].str.upper()\n",
    "\n",
    "#making data usable\n",
    "pop['Density'] = pop['Density'].apply(lambda x: float(x.replace(\",\", \"\")))\n",
    "\n",
    "#geojson data for sg planning area\n",
    "sg_data = json.load(open('planningarealocations.geojson'))\n",
    "\n",
    "#adding a key for id to help map the states from geojson file to pop data\n",
    "for feature in sg_data['features']:\n",
    "    feature['id'] = feature['properties']['name']\n",
    "sg_data['features'][0].keys()\n",
    "\n",
    "#plotting the choropleth map\n",
    "fig = px.choropleth_mapbox(pop,\n",
    "                           locations='Planning Area', \n",
    "                           geojson=sg_data, \n",
    "                           color='Density',\n",
    "                           color_continuous_scale = px.colors.sequential.Oranges,\n",
    "                           mapbox_style='open-street-map',\n",
    "                           center = {'lat': 1.3521, 'lon': 103.8198}, \n",
    "                           zoom=10, opacity=0.7\n",
    "                           )\n",
    "\n",
    "fig.update_layout(title_text = 'Singapore Planning Areas - Population Density', title_x = 0.5)\n",
    "fig.show()"
   ]
  },
  {
   "cell_type": "code",
   "execution_count": null,
   "metadata": {},
   "outputs": [],
   "source": [
    "!pip install pandas\n",
    "!pip install matplotlib\n",
    "!pip install scikit-learn\n",
    "!pip install geopy\n",
    "!pip install folium"
   ]
  },
  {
   "cell_type": "markdown",
   "metadata": {},
   "source": [
    "# Correlation Matrix (Company, Industry, Country)"
   ]
  },
  {
   "cell_type": "code",
   "execution_count": null,
   "metadata": {},
   "outputs": [],
   "source": [
    "import pandas as pd\n",
    "import matplotlib.pyplot as plt\n",
    "from sklearn.preprocessing import LabelEncoder\n",
    "from geopy.geocoders import Nominatim\n",
    "\n",
    "file_path = 'catA_train.csv'  # replace with your file path\n",
    "df = pd.read_csv(file_path)\n",
    "\n",
    "geolocator = Nominatim(user_agent=\"testUser\")\n",
    "\n",
    "# Convert categorical variables to numeric for correlation calculation\n",
    "label_encoder = LabelEncoder()\n",
    "df['Company'] = label_encoder.fit_transform(df['Company'])\n",
    "df['Industry'] = label_encoder.fit_transform(df['Industry'])\n",
    "df['Country'] = label_encoder.fit_transform(df['Global Ultimate Country'])\n",
    "\n",
    "# fetching the country based on latitude and longitude\n",
    "# df['Country'] = None\n",
    "# for index, row in df.iterrows():\n",
    "#     latitude = row['LATITUDE']  # Assuming you have latitude and longitude columns\n",
    "#     longitude = row['LONGITUDE']\n",
    "\n",
    "#     # Reverse geocode the coordinates\n",
    "#     location = geolocator.reverse(f\"{latitude}, {longitude}\")\n",
    "\n",
    "#     if location:\n",
    "#         country = location.raw['address']['country']\n",
    "#         df.loc[index, 'Country'] = country\n",
    "\n",
    "# Calculate correlation matrix\n",
    "corr = df[['Company', 'Industry', 'Country', 'Sales (Global Ultimate Total USD)']].corr()\n",
    "\n",
    "# Display the correlation matrix\n",
    "print(corr)\n",
    "\n",
    "# Visualize the correlation matrix using a heatmap\n",
    "plt.matshow(corr)\n",
    "plt.colorbar()\n",
    "plt.show()"
   ]
  },
  {
   "cell_type": "markdown",
   "metadata": {},
   "source": [
    "# Correlation b/w Employee and Sales (Domestic, Global)"
   ]
  },
  {
   "cell_type": "code",
   "execution_count": null,
   "metadata": {},
   "outputs": [],
   "source": [
    "import pandas as pd\n",
    "import numpy as np\n",
    "\n",
    "file_path = 'catA_train.csv'  # replace with your file path\n",
    "df = pd.read_csv(file_path)\n",
    "\n",
    "employee_sales_correlation = df[\"Employees (Global Ultimate Total)\"].corr(df[\"Sales (Global Ultimate Total USD)\"])\n",
    "employee_sales_correlation_domestic = df[\"Employees (Domestic Ultimate Total)\"].corr(df[\"Sales (Domestic Ultimate Total USD)\"])\n",
    "\n",
    "N = df.shape[0]\n",
    "\n",
    "# Calculate threshold for significance at 5% level\n",
    "threshold = 2 / np.sqrt(N)\n",
    "\n",
    "employee_sales_correlation_percentage = abs(employee_sales_correlation) * 100\n",
    "employee_sales_correlation_domestic_percentage = abs(employee_sales_correlation_domestic) * 100\n",
    "\n",
    "print(f\"Correlation between Employees and Sales (Global Ultimate): {employee_sales_correlation:.10f} ({employee_sales_correlation_percentage:.2f}%)\")\n",
    "print(f\"Correlation between Employees and Sales (Domestic Ultimate): {employee_sales_correlation_domestic:.10f} ({employee_sales_correlation_domestic_percentage:.2f}%)\")\n",
    "print(f\"The threshold for significance at the 5% level is: {threshold:.10f}\")\n",
    "\n",
    "\n",
    "# Check for significance\n",
    "print(\"Employee-Sales correlation (Global Ultimate) is likely significant at 5% level:\" if abs(employee_sales_correlation) > threshold else \"Employee-Sales correlation (Global Ultimate) may not be significant at 5% level.\")\n",
    "print(\"Employee-Sales correlation (Domestic Ultimate) is likely significant at 5% level:\" if abs(employee_sales_correlation_domestic) > threshold else \"Employee-Sales correlation (Domestic Ultimate) may not be significant at 5% level.\")"
   ]
  },
  {
   "cell_type": "markdown",
   "metadata": {},
   "source": [
    "# KNN With latitude and year (Doesnt matter tho, since all companies are in the Singapore)"
   ]
  },
  {
   "cell_type": "code",
   "execution_count": null,
   "metadata": {},
   "outputs": [],
   "source": [
    "import pandas as pd\n",
    "from sklearn.neighbors import KNeighborsRegressor\n",
    "from sklearn.model_selection import train_test_split\n",
    "from sklearn.metrics import mean_squared_error \n",
    "\n",
    "file_path = 'catA_train.csv'  \n",
    "data = pd.read_csv(file_path)\n",
    "\n",
    "data = data.dropna(subset=[\"LATITUDE\", \"LONGITUDE\", \"Year Found\"])\n",
    "\n",
    "\n",
    "features = data[[\"LATITUDE\", \"Year Found\"]] \n",
    "target = data[\"Sales (Domestic Ultimate Total USD)\"] \n",
    "\n",
    "\n",
    "X_train, X_test, y_train, y_test = train_test_split(features, target, test_size=0.3, random_state=42)\n",
    "\n",
    "\n",
    "knn = KNeighborsRegressor(n_neighbors=5000)\n",
    "\n",
    "\n",
    "knn.fit(X_train, y_train)\n",
    "\n",
    "predictions = knn.predict(X_test)\n",
    "\n",
    "\n",
    "mse = mean_squared_error(y_test, predictions)\n",
    "print(\"Mean Squared Error:\", mse)\n"
   ]
  },
  {
   "cell_type": "code",
   "execution_count": null,
   "metadata": {},
   "outputs": [],
   "source": [
    "!pip install seaborn\n",
    "!pip install folium"
   ]
  },
  {
   "cell_type": "markdown",
   "metadata": {},
   "source": [
    "# WorldMap with Global Sales (Most refined version and the bottom of this file)"
   ]
  },
  {
   "cell_type": "code",
   "execution_count": null,
   "metadata": {},
   "outputs": [],
   "source": [
    "import folium\n",
    "from folium.plugins import HeatMap\n",
    "\n",
    "df = df.dropna(subset=['LATITUDE', 'LONGITUDE', 'Sales (Global Ultimate Total USD)'])\n",
    "\n",
    "m = folium.Map(location=[0, 0], zoom_start=2)\n",
    "\n",
    "heat_data = [[row['LATITUDE'], row['LONGITUDE'], row['Sales (Global Ultimate Total USD)']] for index, row in df.iterrows()]\n",
    "HeatMap(heat_data, radius=20).add_to(m)\n",
    "\n",
    "m"
   ]
  },
  {
   "cell_type": "markdown",
   "metadata": {},
   "source": [
    "# HeatMap with pure coordinates and Total Sales calculated"
   ]
  },
  {
   "cell_type": "code",
   "execution_count": null,
   "metadata": {},
   "outputs": [],
   "source": [
    "\n",
    "file_path = 'catA_train.csv' \n",
    "df = pd.read_csv(file_path)\n",
    "\n",
    "df = df.dropna(subset=['LATITUDE', 'LONGITUDE', 'Sales (Global Ultimate Total USD)', 'Sales (Domestic Ultimate Total USD)'])\n",
    "\n",
    "df[\"Total Sales\"] = df[\"Sales (Domestic Ultimate Total USD)\"] + df[\"Sales (Global Ultimate Total USD)\"]\n",
    "\n",
    "import matplotlib.pyplot as plt\n",
    "\n",
    "plt.figure(figsize=(10, 6))\n",
    "plt.scatter(df[\"LONGITUDE\"], df[\"LATITUDE\"], c=df[\"Total Sales\"], cmap=\"YlOrBr\", s=50, alpha=0.9)\n",
    "\n",
    "plt.set_cmap('YlOrBr')\n",
    "plt.subplots_adjust(left=0.1, right=0.9, top=0.9, bottom=0.1)\n",
    "\n",
    "plt.colorbar(label=\"Total Sales (USD)\")\n",
    "\n",
    "plt.xlabel(\"Longitude\")\n",
    "plt.ylabel(\"Latitude\")\n",
    "plt.title(\"Heatmap of Total Sales\")\n",
    "\n",
    "plt.show()"
   ]
  },
  {
   "cell_type": "markdown",
   "metadata": {},
   "source": [
    "# Heat Map with Global Sales based on lcoation (Cleaner version). all companies are in the Singapore"
   ]
  },
  {
   "cell_type": "code",
   "execution_count": null,
   "metadata": {},
   "outputs": [],
   "source": [
    "import pandas as pd\n",
    "import folium\n",
    "\n",
    "file_path = './catA_train.csv'\n",
    "df = pd.read_csv(file_path)\n",
    "\n",
    "# df = df.head(5000)\n",
    "\n",
    "data = df.dropna(subset=['LATITUDE', 'LONGITUDE',\n",
    "                 'Sales (Global Ultimate Total USD)', 'Sales (Domestic Ultimate Total USD)']).copy()\n",
    "\n",
    "# Calculate the weight of each point\n",
    "# data['weight'] = data['Sales (Global Ultimate Total USD)'] + \\\n",
    "#     data['Sales (Domestic Ultimate Total USD)']\n",
    "\n",
    "m = folium.Map(zoom_start=2)\n",
    "\n",
    "for idx, row in data.iterrows():\n",
    "    folium.CircleMarker(\n",
    "        location=[row['LATITUDE'], row['LONGITUDE']],\n",
    "        radius=row['Sales (Domestic Ultimate Total USD)'] / 10000000000,\n",
    "        color='blue',\n",
    "        fill=True,\n",
    "        fill_color='blue'\n",
    "    ).add_to(m)\n",
    "\n",
    "m\n"
   ]
  },
  {
   "cell_type": "markdown",
   "metadata": {},
   "source": [
    "# Top 5 growing industries"
   ]
  },
  {
   "cell_type": "code",
   "execution_count": null,
   "metadata": {
    "scrolled": true
   },
   "outputs": [],
   "source": [
    "import pandas as pd\n",
    "\n",
    "file_path = './catA_train.csv'\n",
    "df = pd.read_csv(file_path)\n",
    "\n",
    "df[\"Growth Rate\"] = df.groupby(\"Industry\")[\"Sales (Domestic Ultimate Total USD)\"].pct_change()\n",
    "\n",
    "avg_growth_rate = df.groupby(\"Industry\")[\"Growth Rate\"].mean()\n",
    "\n",
    "median_growth_rate = df.groupby(\"Industry\")[\"Growth Rate\"].median()\n",
    "\n",
    "std_dev_growth_rate = df.groupby(\"Industry\")[\"Growth Rate\"].std()\n",
    "\n",
    "growth_metrics = pd.DataFrame({\n",
    "    \"Average Growth Rate\": avg_growth_rate,\n",
    "    \"Median Growth Rate\": median_growth_rate,\n",
    "    \"Standard Deviation\": std_dev_growth_rate\n",
    "})\n",
    "\n",
    "growth_metrics = growth_metrics.sort_values(by=\"Average Growth Rate\", ascending=False)\n",
    "\n",
    "print(\"Top 5 Industries with Highest Average Growth Rate:\")\n",
    "print(growth_metrics.head(5).to_string())\n"
   ]
  },
  {
   "cell_type": "markdown",
   "metadata": {},
   "source": [
    "# YUV UPLOAD FORM HERE"
   ]
  },
  {
   "cell_type": "markdown",
   "metadata": {},
   "source": [
    "# GDP per Capita"
   ]
  },
  {
   "cell_type": "code",
   "execution_count": 97,
   "metadata": {
    "scrolled": true
   },
   "outputs": [
    {
     "name": "stdout",
     "output_type": "stream",
     "text": [
      "{nan: None,\n",
      " 'Antigua and Barbuda': '15,781.40 USD (2021)',\n",
      " 'Australia': '60,443.11 USD (2021)',\n",
      " 'Austria': '53,637.71 USD (2021)',\n",
      " 'Bahamas': '27,478.39 USD (2021)',\n",
      " 'Bahrain': '26,562.97 USD (2021)',\n",
      " 'Bangladesh': '2,457.92 USD (2021)',\n",
      " 'Belgium': '51,247.01 USD (2021)',\n",
      " 'Belize': '6,228.27 USD (2021)',\n",
      " 'Bermuda': '114,090.33 USD (2021)',\n",
      " 'Brazil': '7,507.16 USD (2021)',\n",
      " 'Brunei Darussalam': '31,449.08 USD (2021)',\n",
      " 'Canada': '51,987.94 USD (2021)',\n",
      " 'Cayman Islands': '86,568.77 USD (2021)',\n",
      " 'Chile': '16,265.10 USD (2021)',\n",
      " 'China': '12,556.33 USD (2021)',\n",
      " 'Croatia': '17,685.33 USD (2021)',\n",
      " 'Curacao': '17,717.60 USD (2021)',\n",
      " 'Cyprus': '31,551.82 USD (2021)',\n",
      " 'Denmark': '68,007.76 USD (2021)',\n",
      " 'Estonia': '27,943.70 USD (2021)',\n",
      " 'Finland': '53,654.75 USD (2021)',\n",
      " 'France': '43,658.98 USD (2021)',\n",
      " 'Germany': '51,203.55 USD (2021)',\n",
      " 'Greece': '20,192.60 USD (2021)',\n",
      " 'Hong Kong SAR': '49,800.54 USD (2021)',\n",
      " 'Hungary': '18,728.12 USD (2021)',\n",
      " 'Iceland': '68,727.64 USD (2021)',\n",
      " 'India': '2,256.59 USD (2021)',\n",
      " 'Indonesia': '4,332.71 USD (2021)',\n",
      " 'Iran': '4,091.21 USD (2021)',\n",
      " 'Ireland': '100,172.08 USD (2021)',\n",
      " 'Israel': '52,170.71 USD (2021)',\n",
      " 'Italy': '35,657.50 USD (2021)',\n",
      " 'Jamaica': '5,183.58 USD (2021)',\n",
      " 'Japan': '39,312.66 USD (2021)',\n",
      " 'Korea, Republic of': '34,997.78 USD (2021)',\n",
      " 'Kuwait': '24,300.33 USD (2020)',\n",
      " 'Lebanon': '4,136.15 USD (2021)',\n",
      " 'Liberia': '675.66 USD (2021)',\n",
      " 'Liechtenstein': '157,754.95 USD (2020)',\n",
      " 'Lithuania': '23,723.34 USD (2021)',\n",
      " 'Luxembourg': '133,590.15 USD (2021)',\n",
      " 'Malaysia': '11,109.26 USD (2021)',\n",
      " 'Maldives': '10,366.29 USD (2021)',\n",
      " 'Malta': '33,486.67 USD (2021)',\n",
      " 'Marshall Islands': '6,172.15 USD (2021)',\n",
      " 'Mauritius': '9,106.24 USD (2021)',\n",
      " 'Mexico': '10,045.68 USD (2021)',\n",
      " 'Netherlands': '57,767.88 USD (2021)',\n",
      " 'New Zealand': '48,781.03 USD (2021)',\n",
      " 'Nigeria': '2,065.75 USD (2021)',\n",
      " 'Norway': '89,154.28 USD (2021)',\n",
      " 'Panama': '14,617.60 USD (2021)',\n",
      " 'Philippines': '3,460.53 USD (2021)',\n",
      " 'Poland': '17,999.91 USD (2021)',\n",
      " 'Portugal': '24,567.51 USD (2021)',\n",
      " 'Qatar': '66,838.36 USD (2021)',\n",
      " 'Russian Federation': '12,194.78 USD (2021)',\n",
      " 'Samoa': '3,857.32 USD (2021)',\n",
      " 'Saudi Arabia': '23,185.87 USD (2021)',\n",
      " 'Singapore': '72,794.00 USD (2021)',\n",
      " 'South Africa': '7,055.04 USD (2021)',\n",
      " 'Spain': '30,103.51 USD (2021)',\n",
      " 'Sri Lanka': '4,013.69 USD (2021)',\n",
      " 'Sweden': '61,028.74 USD (2021)',\n",
      " 'Switzerland': '91,991.60 USD (2021)',\n",
      " 'Taiwan': '32,756.000 USD (2021)',\n",
      " 'Thailand': '7,066.19 USD (2021)',\n",
      " 'Turkey': '9,661.24 USD (2021)',\n",
      " 'United Arab Emirates': '44,315.55 USD (2021)',\n",
      " 'United Kingdom': '46,510.28 USD (2021)',\n",
      " 'United States': '70,248.63 USD (2021)',\n",
      " 'Vietnam': '3,756.49 USD (2021)',\n",
      " 'Virgin Islands (British)': '39,552.17 USD (2020)'}\n"
     ]
    }
   ],
   "source": [
    "pprint(scraped_gdps)"
   ]
  },
  {
   "cell_type": "code",
   "execution_count": 115,
   "metadata": {
    "scrolled": true
   },
   "outputs": [
    {
     "data": {
      "text/html": [
       "<div>\n",
       "<style scoped>\n",
       "    .dataframe tbody tr th:only-of-type {\n",
       "        vertical-align: middle;\n",
       "    }\n",
       "\n",
       "    .dataframe tbody tr th {\n",
       "        vertical-align: top;\n",
       "    }\n",
       "\n",
       "    .dataframe thead th {\n",
       "        text-align: right;\n",
       "    }\n",
       "</style>\n",
       "<table border=\"1\" class=\"dataframe\">\n",
       "  <thead>\n",
       "    <tr style=\"text-align: right;\">\n",
       "      <th></th>\n",
       "      <th>LATITUDE</th>\n",
       "      <th>LONGITUDE</th>\n",
       "      <th>AccountID</th>\n",
       "      <th>Company</th>\n",
       "      <th>SIC Code</th>\n",
       "      <th>Industry</th>\n",
       "      <th>8-Digit SIC Code</th>\n",
       "      <th>8-Digit SIC Description</th>\n",
       "      <th>Year Found</th>\n",
       "      <th>Entity Type</th>\n",
       "      <th>...</th>\n",
       "      <th>Sales (Domestic Ultimate Total USD)</th>\n",
       "      <th>Sales (Global Ultimate Total USD)</th>\n",
       "      <th>Import/Export Status</th>\n",
       "      <th>Global Ultimate Company</th>\n",
       "      <th>Global Ultimate Country</th>\n",
       "      <th>Domestic Ultimate Company</th>\n",
       "      <th>Is Domestic Ultimate</th>\n",
       "      <th>Is Global Ultimate</th>\n",
       "      <th>Employees (Global)</th>\n",
       "      <th>GDP per Capita</th>\n",
       "    </tr>\n",
       "  </thead>\n",
       "  <tbody>\n",
       "    <tr>\n",
       "      <th>0</th>\n",
       "      <td>1.285495</td>\n",
       "      <td>103.843852</td>\n",
       "      <td>LAKB2BID4559214</td>\n",
       "      <td>FRANK CONSULTING SERVICES PRIVATE LIMITED</td>\n",
       "      <td>7361.0</td>\n",
       "      <td>Employment Agencies</td>\n",
       "      <td>73610000.0</td>\n",
       "      <td>Employment agencies</td>\n",
       "      <td>2020.0</td>\n",
       "      <td>Subsidiary</td>\n",
       "      <td>...</td>\n",
       "      <td>2.209224e+06</td>\n",
       "      <td>4.637871e+06</td>\n",
       "      <td>N/A</td>\n",
       "      <td>FINDERS HOLDCO LIMITED</td>\n",
       "      <td>United Kingdom</td>\n",
       "      <td>FRANK RECRUITMENT GROUP PRIVATE LTD.</td>\n",
       "      <td>0.0</td>\n",
       "      <td>0.0</td>\n",
       "      <td>25.0</td>\n",
       "      <td>46510.2</td>\n",
       "    </tr>\n",
       "    <tr>\n",
       "      <th>1</th>\n",
       "      <td>1.291294</td>\n",
       "      <td>103.827476</td>\n",
       "      <td>LAKB2BID7610849</td>\n",
       "      <td>NEW DESERT ORCHID SHIPPING PTE. LTD.</td>\n",
       "      <td>4449.0</td>\n",
       "      <td>Water Transportation of Freight, Not Elsewhere...</td>\n",
       "      <td>44490000.0</td>\n",
       "      <td>Water transportation of freight</td>\n",
       "      <td>2015.0</td>\n",
       "      <td>Subsidiary</td>\n",
       "      <td>...</td>\n",
       "      <td>7.093536e+09</td>\n",
       "      <td>7.093536e+09</td>\n",
       "      <td>N/A</td>\n",
       "      <td>PETREDEC PTE. LIMITED</td>\n",
       "      <td>Singapore</td>\n",
       "      <td>NaN</td>\n",
       "      <td>0.0</td>\n",
       "      <td>0.0</td>\n",
       "      <td>100.0</td>\n",
       "      <td>72794.0</td>\n",
       "    </tr>\n",
       "    <tr>\n",
       "      <th>2</th>\n",
       "      <td>1.300144</td>\n",
       "      <td>103.857517</td>\n",
       "      <td>LAKB2BID5461679</td>\n",
       "      <td>2MBAO BIOCELLBANK PTE. LTD.</td>\n",
       "      <td>6719.0</td>\n",
       "      <td>Offices of Holding Companies, Not Elsewhere Cl...</td>\n",
       "      <td>67190000.0</td>\n",
       "      <td>Holding companies, nec</td>\n",
       "      <td>1993.0</td>\n",
       "      <td>Subsidiary</td>\n",
       "      <td>...</td>\n",
       "      <td>1.026308e+06</td>\n",
       "      <td>1.026308e+06</td>\n",
       "      <td>N/A</td>\n",
       "      <td>MADISON LIGHTERS AND WATCHES CO LTD</td>\n",
       "      <td>Hong Kong SAR</td>\n",
       "      <td>2MBAO BIOCELLBANK PTE. LTD.</td>\n",
       "      <td>1.0</td>\n",
       "      <td>0.0</td>\n",
       "      <td>4.0</td>\n",
       "      <td>49800.5</td>\n",
       "    </tr>\n",
       "    <tr>\n",
       "      <th>3</th>\n",
       "      <td>1.300785</td>\n",
       "      <td>103.791263</td>\n",
       "      <td>LAKB2BID5088529</td>\n",
       "      <td>NEWBLOOM PTE. LTD.</td>\n",
       "      <td>6719.0</td>\n",
       "      <td>Offices of Holding Companies, Not Elsewhere Cl...</td>\n",
       "      <td>67190000.0</td>\n",
       "      <td>Holding companies, nec</td>\n",
       "      <td>2006.0</td>\n",
       "      <td>Subsidiary</td>\n",
       "      <td>...</td>\n",
       "      <td>7.339898e+10</td>\n",
       "      <td>7.339898e+10</td>\n",
       "      <td>N/A</td>\n",
       "      <td>WILMAR INTERNATIONAL LIMITED</td>\n",
       "      <td>Singapore</td>\n",
       "      <td>WILMAR INTERNATIONAL LIMITED</td>\n",
       "      <td>0.0</td>\n",
       "      <td>0.0</td>\n",
       "      <td>100.0</td>\n",
       "      <td>72794.0</td>\n",
       "    </tr>\n",
       "    <tr>\n",
       "      <th>4</th>\n",
       "      <td>1.298759</td>\n",
       "      <td>103.859430</td>\n",
       "      <td>LAKB2BID1268831</td>\n",
       "      <td>ASIA GREEN CAPITAL PTE. LTD.</td>\n",
       "      <td>6719.0</td>\n",
       "      <td>Offices of Holding Companies, Not Elsewhere Cl...</td>\n",
       "      <td>67190000.0</td>\n",
       "      <td>Holding companies, nec</td>\n",
       "      <td>2006.0</td>\n",
       "      <td>Parent</td>\n",
       "      <td>...</td>\n",
       "      <td>4.322130e+05</td>\n",
       "      <td>4.322130e+05</td>\n",
       "      <td>Exports</td>\n",
       "      <td>ASIA GREEN CAPITAL PTE. LTD.</td>\n",
       "      <td>Singapore</td>\n",
       "      <td>ASIA GREEN CAPITAL PTE. LTD.</td>\n",
       "      <td>1.0</td>\n",
       "      <td>1.0</td>\n",
       "      <td>4.0</td>\n",
       "      <td>72794.0</td>\n",
       "    </tr>\n",
       "  </tbody>\n",
       "</table>\n",
       "<p>5 rows × 25 columns</p>\n",
       "</div>"
      ],
      "text/plain": [
       "   LATITUDE   LONGITUDE        AccountID  \\\n",
       "0  1.285495  103.843852  LAKB2BID4559214   \n",
       "1  1.291294  103.827476  LAKB2BID7610849   \n",
       "2  1.300144  103.857517  LAKB2BID5461679   \n",
       "3  1.300785  103.791263  LAKB2BID5088529   \n",
       "4  1.298759  103.859430  LAKB2BID1268831   \n",
       "\n",
       "                                     Company  SIC Code  \\\n",
       "0  FRANK CONSULTING SERVICES PRIVATE LIMITED    7361.0   \n",
       "1       NEW DESERT ORCHID SHIPPING PTE. LTD.    4449.0   \n",
       "2                2MBAO BIOCELLBANK PTE. LTD.    6719.0   \n",
       "3                         NEWBLOOM PTE. LTD.    6719.0   \n",
       "4               ASIA GREEN CAPITAL PTE. LTD.    6719.0   \n",
       "\n",
       "                                            Industry  8-Digit SIC Code  \\\n",
       "0                                Employment Agencies        73610000.0   \n",
       "1  Water Transportation of Freight, Not Elsewhere...        44490000.0   \n",
       "2  Offices of Holding Companies, Not Elsewhere Cl...        67190000.0   \n",
       "3  Offices of Holding Companies, Not Elsewhere Cl...        67190000.0   \n",
       "4  Offices of Holding Companies, Not Elsewhere Cl...        67190000.0   \n",
       "\n",
       "           8-Digit SIC Description  Year Found Entity Type  ...  \\\n",
       "0              Employment agencies      2020.0  Subsidiary  ...   \n",
       "1  Water transportation of freight      2015.0  Subsidiary  ...   \n",
       "2           Holding companies, nec      1993.0  Subsidiary  ...   \n",
       "3           Holding companies, nec      2006.0  Subsidiary  ...   \n",
       "4           Holding companies, nec      2006.0      Parent  ...   \n",
       "\n",
       "  Sales (Domestic Ultimate Total USD) Sales (Global Ultimate Total USD)  \\\n",
       "0                        2.209224e+06                      4.637871e+06   \n",
       "1                        7.093536e+09                      7.093536e+09   \n",
       "2                        1.026308e+06                      1.026308e+06   \n",
       "3                        7.339898e+10                      7.339898e+10   \n",
       "4                        4.322130e+05                      4.322130e+05   \n",
       "\n",
       "  Import/Export Status              Global Ultimate Company  \\\n",
       "0                  N/A               FINDERS HOLDCO LIMITED   \n",
       "1                  N/A                PETREDEC PTE. LIMITED   \n",
       "2                  N/A  MADISON LIGHTERS AND WATCHES CO LTD   \n",
       "3                  N/A         WILMAR INTERNATIONAL LIMITED   \n",
       "4              Exports         ASIA GREEN CAPITAL PTE. LTD.   \n",
       "\n",
       "  Global Ultimate Country             Domestic Ultimate Company  \\\n",
       "0          United Kingdom  FRANK RECRUITMENT GROUP PRIVATE LTD.   \n",
       "1               Singapore                                   NaN   \n",
       "2           Hong Kong SAR           2MBAO BIOCELLBANK PTE. LTD.   \n",
       "3               Singapore          WILMAR INTERNATIONAL LIMITED   \n",
       "4               Singapore          ASIA GREEN CAPITAL PTE. LTD.   \n",
       "\n",
       "   Is Domestic Ultimate Is Global Ultimate Employees (Global) GDP per Capita  \n",
       "0                   0.0                0.0               25.0        46510.2  \n",
       "1                   0.0                0.0              100.0        72794.0  \n",
       "2                   1.0                0.0                4.0        49800.5  \n",
       "3                   0.0                0.0              100.0        72794.0  \n",
       "4                   1.0                1.0                4.0        72794.0  \n",
       "\n",
       "[5 rows x 25 columns]"
      ]
     },
     "execution_count": 115,
     "metadata": {},
     "output_type": "execute_result"
    }
   ],
   "source": [
    "for index, row in dataset.iterrows():\n",
    "    if pd.isnull(dataset.at[index, 'Global Ultimate Country']):\n",
    "        continue\n",
    "    global_country = row['Global Ultimate Country']\n",
    "    gdp = scraped_gdps[global_country]\n",
    "    \n",
    "    #how much to slice depending on the digits\n",
    "    if len(gdp) == 17:\n",
    "        slicer = 6\n",
    "    if len(gdp) == 19:\n",
    "        slicer = 7\n",
    "    if len(gdp) == 20: \n",
    "        slicer = 8\n",
    "    if len(gdp) == 21:\n",
    "        slicer = 9\n",
    "    gdp = float(gdp[:slicer].replace(\",\", \"\"))\n",
    "    dataset.loc[index, 'GDP per Capita'] = gdp #of global ultimate\n",
    "dataset.head(5)"
   ]
  },
  {
   "cell_type": "code",
   "execution_count": 162,
   "metadata": {},
   "outputs": [
    {
     "data": {
      "text/plain": [
       "{'United Kingdom': 24490616533.605427,\n",
       " 'Singapore': 576975767.8093867,\n",
       " 'Hong Kong SAR': 3379336692.611765,\n",
       " 'France': 1260650071.3694582,\n",
       " 'Cayman Islands': 966223688.1307421,\n",
       " 'Switzerland': 5699627201.34717,\n",
       " 'Norway': 1934133171.0595238,\n",
       " 'Spain': 467849386.9714286,\n",
       " 'Denmark': 4713954739.0348835,\n",
       " 'India': 1515727726.232301,\n",
       " 'Curacao': 1530593031.8421052,\n",
       " nan: 4980219116.851064,\n",
       " 'United States': 22461012584.849556,\n",
       " 'Japan': 15008967381.110928,\n",
       " 'China': 11040940282.066832,\n",
       " 'Luxembourg': 11750436.941935483,\n",
       " 'Germany': 14569990772.73055,\n",
       " 'Virgin Islands (British)': 46176147.43049327,\n",
       " 'Panama': 467565.0,\n",
       " 'Netherlands': 2518799911.388199,\n",
       " 'Italy': 1794733177.78481,\n",
       " 'Malaysia': 1034202470.2877358,\n",
       " 'Australia': 2578373117.5429688,\n",
       " 'Korea, Republic of': 10076571535.482143,\n",
       " 'Canada': 15508502108.188889,\n",
       " 'Taiwan': 17336259582.572582,\n",
       " 'Vietnam': 243984996.92307693,\n",
       " 'Indonesia': 596017312.125,\n",
       " 'Sweden': 4365191258.009174,\n",
       " 'United Arab Emirates': 620577510.3877552,\n",
       " 'Portugal': 7984467166.153846,\n",
       " 'New Zealand': 116257124.0,\n",
       " 'Ireland': 15251515229.557692,\n",
       " 'Finland': 5871406947.25,\n",
       " 'Thailand': 4300719025.323529,\n",
       " 'Austria': 2803816417.3636365,\n",
       " 'Belgium': 242268154.8653846,\n",
       " 'Bermuda': 6443753904.012739,\n",
       " 'South Africa': 191715856.2631579,\n",
       " 'Brazil': 6054152740.066667,\n",
       " 'Mauritius': 10557695.944444444,\n",
       " 'Israel': 2459275762.9375,\n",
       " 'Cyprus': 41899102.07692308,\n",
       " 'Philippines': 1462299008.0869565,\n",
       " 'Liechtenstein': 460247661.3125}"
      ]
     },
     "execution_count": 162,
     "metadata": {},
     "output_type": "execute_result"
    }
   ],
   "source": [
    "sales_dict = {}\n",
    "for index, row in dataset.iterrows():\n",
    "    if row['Global Ultimate Country'] not in sales_dict:\n",
    "        sales_dict[row['Global Ultimate Country']] = []\n",
    "    sales_dict[row['Global Ultimate Country']].append(row['Sales (Global Ultimate Total USD)'])\n",
    "\n",
    "average_sales_country = {}\n",
    "for country, sales in sales_dict.items():\n",
    "    if len(sales_dict[country]) < 10: #removing outliers\n",
    "        continue\n",
    "    average_sales_country[country] = sum(sales)/len(sales)\n",
    "\n",
    "average_sales_country"
   ]
  },
  {
   "cell_type": "code",
   "execution_count": 163,
   "metadata": {
    "scrolled": true
   },
   "outputs": [
    {
     "name": "stdout",
     "output_type": "stream",
     "text": [
      "                          Average Sales         GDP per Capita\n",
      "United Kingdom             2.449062e+10   46,510.28 USD (2021)\n",
      "Singapore                  5.769758e+08   72,794.00 USD (2021)\n",
      "Hong Kong SAR              3.379337e+09   49,800.54 USD (2021)\n",
      "France                     1.260650e+09   43,658.98 USD (2021)\n",
      "Cayman Islands             9.662237e+08   86,568.77 USD (2021)\n",
      "Switzerland                5.699627e+09   91,991.60 USD (2021)\n",
      "Norway                     1.934133e+09   89,154.28 USD (2021)\n",
      "Spain                      4.678494e+08   30,103.51 USD (2021)\n",
      "Denmark                    4.713955e+09   68,007.76 USD (2021)\n",
      "India                      1.515728e+09    2,256.59 USD (2021)\n",
      "Curacao                    1.530593e+09   17,717.60 USD (2021)\n",
      "NaN                        4.980219e+09                   None\n",
      "United States              2.246101e+10   70,248.63 USD (2021)\n",
      "Japan                      1.500897e+10   39,312.66 USD (2021)\n",
      "China                      1.104094e+10   12,556.33 USD (2021)\n",
      "Luxembourg                 1.175044e+07  133,590.15 USD (2021)\n",
      "Germany                    1.456999e+10   51,203.55 USD (2021)\n",
      "Virgin Islands (British)   4.617615e+07   39,552.17 USD (2020)\n",
      "Panama                     4.675650e+05   14,617.60 USD (2021)\n",
      "Netherlands                2.518800e+09   57,767.88 USD (2021)\n",
      "Italy                      1.794733e+09   35,657.50 USD (2021)\n",
      "Malaysia                   1.034202e+09   11,109.26 USD (2021)\n",
      "Australia                  2.578373e+09   60,443.11 USD (2021)\n",
      "Korea, Republic of         1.007657e+10   34,997.78 USD (2021)\n",
      "Canada                     1.550850e+10   51,987.94 USD (2021)\n",
      "Taiwan                     1.733626e+10  32,756.000 USD (2021)\n",
      "Vietnam                    2.439850e+08    3,756.49 USD (2021)\n",
      "Indonesia                  5.960173e+08    4,332.71 USD (2021)\n",
      "Sweden                     4.365191e+09   61,028.74 USD (2021)\n",
      "United Arab Emirates       6.205775e+08   44,315.55 USD (2021)\n",
      "Portugal                   7.984467e+09   24,567.51 USD (2021)\n",
      "New Zealand                1.162571e+08   48,781.03 USD (2021)\n",
      "Ireland                    1.525152e+10  100,172.08 USD (2021)\n",
      "Finland                    5.871407e+09   53,654.75 USD (2021)\n",
      "Thailand                   4.300719e+09    7,066.19 USD (2021)\n",
      "Austria                    2.803816e+09   53,637.71 USD (2021)\n",
      "Belgium                    2.422682e+08   51,247.01 USD (2021)\n",
      "Bermuda                    6.443754e+09  114,090.33 USD (2021)\n",
      "South Africa               1.917159e+08    7,055.04 USD (2021)\n",
      "Brazil                     6.054153e+09    7,507.16 USD (2021)\n",
      "Mauritius                  1.055770e+07    9,106.24 USD (2021)\n",
      "Israel                     2.459276e+09   52,170.71 USD (2021)\n",
      "Cyprus                     4.189910e+07   31,551.82 USD (2021)\n",
      "Philippines                1.462299e+09    3,460.53 USD (2021)\n",
      "Liechtenstein              4.602477e+08  157,754.95 USD (2020)\n"
     ]
    }
   ],
   "source": [
    "countries_dataset = pd.DataFrame.from_dict(average_sales_country, orient='index', columns=['Average Sales'])\n",
    "countries_dataset['GDP per Capita'] = countries_dataset.index.map(scraped_gdps)\n",
    "# Display the DataFrame\n",
    "print(countries_dataset)\n"
   ]
  },
  {
   "cell_type": "code",
   "execution_count": 164,
   "metadata": {},
   "outputs": [
    {
     "data": {
      "text/html": [
       "<div>\n",
       "<style scoped>\n",
       "    .dataframe tbody tr th:only-of-type {\n",
       "        vertical-align: middle;\n",
       "    }\n",
       "\n",
       "    .dataframe tbody tr th {\n",
       "        vertical-align: top;\n",
       "    }\n",
       "\n",
       "    .dataframe thead th {\n",
       "        text-align: right;\n",
       "    }\n",
       "</style>\n",
       "<table border=\"1\" class=\"dataframe\">\n",
       "  <thead>\n",
       "    <tr style=\"text-align: right;\">\n",
       "      <th></th>\n",
       "      <th>Average Sales</th>\n",
       "      <th>GDP per Capita</th>\n",
       "    </tr>\n",
       "  </thead>\n",
       "  <tbody>\n",
       "    <tr>\n",
       "      <th>United Kingdom</th>\n",
       "      <td>2.449062e+10</td>\n",
       "      <td>46,510.28 USD (2021)</td>\n",
       "    </tr>\n",
       "    <tr>\n",
       "      <th>Singapore</th>\n",
       "      <td>5.769758e+08</td>\n",
       "      <td>72,794.00 USD (2021)</td>\n",
       "    </tr>\n",
       "    <tr>\n",
       "      <th>Hong Kong SAR</th>\n",
       "      <td>3.379337e+09</td>\n",
       "      <td>49,800.54 USD (2021)</td>\n",
       "    </tr>\n",
       "    <tr>\n",
       "      <th>France</th>\n",
       "      <td>1.260650e+09</td>\n",
       "      <td>43,658.98 USD (2021)</td>\n",
       "    </tr>\n",
       "    <tr>\n",
       "      <th>Cayman Islands</th>\n",
       "      <td>9.662237e+08</td>\n",
       "      <td>86,568.77 USD (2021)</td>\n",
       "    </tr>\n",
       "    <tr>\n",
       "      <th>Switzerland</th>\n",
       "      <td>5.699627e+09</td>\n",
       "      <td>91,991.60 USD (2021)</td>\n",
       "    </tr>\n",
       "    <tr>\n",
       "      <th>Norway</th>\n",
       "      <td>1.934133e+09</td>\n",
       "      <td>89,154.28 USD (2021)</td>\n",
       "    </tr>\n",
       "    <tr>\n",
       "      <th>Spain</th>\n",
       "      <td>4.678494e+08</td>\n",
       "      <td>30,103.51 USD (2021)</td>\n",
       "    </tr>\n",
       "    <tr>\n",
       "      <th>Denmark</th>\n",
       "      <td>4.713955e+09</td>\n",
       "      <td>68,007.76 USD (2021)</td>\n",
       "    </tr>\n",
       "    <tr>\n",
       "      <th>India</th>\n",
       "      <td>1.515728e+09</td>\n",
       "      <td>2,256.59 USD (2021)</td>\n",
       "    </tr>\n",
       "    <tr>\n",
       "      <th>Curacao</th>\n",
       "      <td>1.530593e+09</td>\n",
       "      <td>17,717.60 USD (2021)</td>\n",
       "    </tr>\n",
       "    <tr>\n",
       "      <th>United States</th>\n",
       "      <td>2.246101e+10</td>\n",
       "      <td>70,248.63 USD (2021)</td>\n",
       "    </tr>\n",
       "    <tr>\n",
       "      <th>Japan</th>\n",
       "      <td>1.500897e+10</td>\n",
       "      <td>39,312.66 USD (2021)</td>\n",
       "    </tr>\n",
       "    <tr>\n",
       "      <th>China</th>\n",
       "      <td>1.104094e+10</td>\n",
       "      <td>12,556.33 USD (2021)</td>\n",
       "    </tr>\n",
       "    <tr>\n",
       "      <th>Luxembourg</th>\n",
       "      <td>1.175044e+07</td>\n",
       "      <td>133,590.15 USD (2021)</td>\n",
       "    </tr>\n",
       "    <tr>\n",
       "      <th>Germany</th>\n",
       "      <td>1.456999e+10</td>\n",
       "      <td>51,203.55 USD (2021)</td>\n",
       "    </tr>\n",
       "    <tr>\n",
       "      <th>Virgin Islands (British)</th>\n",
       "      <td>4.617615e+07</td>\n",
       "      <td>39,552.17 USD (2020)</td>\n",
       "    </tr>\n",
       "    <tr>\n",
       "      <th>Panama</th>\n",
       "      <td>4.675650e+05</td>\n",
       "      <td>14,617.60 USD (2021)</td>\n",
       "    </tr>\n",
       "    <tr>\n",
       "      <th>Netherlands</th>\n",
       "      <td>2.518800e+09</td>\n",
       "      <td>57,767.88 USD (2021)</td>\n",
       "    </tr>\n",
       "    <tr>\n",
       "      <th>Italy</th>\n",
       "      <td>1.794733e+09</td>\n",
       "      <td>35,657.50 USD (2021)</td>\n",
       "    </tr>\n",
       "    <tr>\n",
       "      <th>Malaysia</th>\n",
       "      <td>1.034202e+09</td>\n",
       "      <td>11,109.26 USD (2021)</td>\n",
       "    </tr>\n",
       "    <tr>\n",
       "      <th>Australia</th>\n",
       "      <td>2.578373e+09</td>\n",
       "      <td>60,443.11 USD (2021)</td>\n",
       "    </tr>\n",
       "    <tr>\n",
       "      <th>Korea, Republic of</th>\n",
       "      <td>1.007657e+10</td>\n",
       "      <td>34,997.78 USD (2021)</td>\n",
       "    </tr>\n",
       "    <tr>\n",
       "      <th>Canada</th>\n",
       "      <td>1.550850e+10</td>\n",
       "      <td>51,987.94 USD (2021)</td>\n",
       "    </tr>\n",
       "    <tr>\n",
       "      <th>Taiwan</th>\n",
       "      <td>1.733626e+10</td>\n",
       "      <td>32,756.000 USD (2021)</td>\n",
       "    </tr>\n",
       "    <tr>\n",
       "      <th>Vietnam</th>\n",
       "      <td>2.439850e+08</td>\n",
       "      <td>3,756.49 USD (2021)</td>\n",
       "    </tr>\n",
       "    <tr>\n",
       "      <th>Indonesia</th>\n",
       "      <td>5.960173e+08</td>\n",
       "      <td>4,332.71 USD (2021)</td>\n",
       "    </tr>\n",
       "    <tr>\n",
       "      <th>Sweden</th>\n",
       "      <td>4.365191e+09</td>\n",
       "      <td>61,028.74 USD (2021)</td>\n",
       "    </tr>\n",
       "    <tr>\n",
       "      <th>United Arab Emirates</th>\n",
       "      <td>6.205775e+08</td>\n",
       "      <td>44,315.55 USD (2021)</td>\n",
       "    </tr>\n",
       "    <tr>\n",
       "      <th>Portugal</th>\n",
       "      <td>7.984467e+09</td>\n",
       "      <td>24,567.51 USD (2021)</td>\n",
       "    </tr>\n",
       "    <tr>\n",
       "      <th>New Zealand</th>\n",
       "      <td>1.162571e+08</td>\n",
       "      <td>48,781.03 USD (2021)</td>\n",
       "    </tr>\n",
       "    <tr>\n",
       "      <th>Ireland</th>\n",
       "      <td>1.525152e+10</td>\n",
       "      <td>100,172.08 USD (2021)</td>\n",
       "    </tr>\n",
       "    <tr>\n",
       "      <th>Finland</th>\n",
       "      <td>5.871407e+09</td>\n",
       "      <td>53,654.75 USD (2021)</td>\n",
       "    </tr>\n",
       "    <tr>\n",
       "      <th>Thailand</th>\n",
       "      <td>4.300719e+09</td>\n",
       "      <td>7,066.19 USD (2021)</td>\n",
       "    </tr>\n",
       "    <tr>\n",
       "      <th>Austria</th>\n",
       "      <td>2.803816e+09</td>\n",
       "      <td>53,637.71 USD (2021)</td>\n",
       "    </tr>\n",
       "    <tr>\n",
       "      <th>Belgium</th>\n",
       "      <td>2.422682e+08</td>\n",
       "      <td>51,247.01 USD (2021)</td>\n",
       "    </tr>\n",
       "    <tr>\n",
       "      <th>Bermuda</th>\n",
       "      <td>6.443754e+09</td>\n",
       "      <td>114,090.33 USD (2021)</td>\n",
       "    </tr>\n",
       "    <tr>\n",
       "      <th>South Africa</th>\n",
       "      <td>1.917159e+08</td>\n",
       "      <td>7,055.04 USD (2021)</td>\n",
       "    </tr>\n",
       "    <tr>\n",
       "      <th>Brazil</th>\n",
       "      <td>6.054153e+09</td>\n",
       "      <td>7,507.16 USD (2021)</td>\n",
       "    </tr>\n",
       "    <tr>\n",
       "      <th>Mauritius</th>\n",
       "      <td>1.055770e+07</td>\n",
       "      <td>9,106.24 USD (2021)</td>\n",
       "    </tr>\n",
       "    <tr>\n",
       "      <th>Israel</th>\n",
       "      <td>2.459276e+09</td>\n",
       "      <td>52,170.71 USD (2021)</td>\n",
       "    </tr>\n",
       "    <tr>\n",
       "      <th>Cyprus</th>\n",
       "      <td>4.189910e+07</td>\n",
       "      <td>31,551.82 USD (2021)</td>\n",
       "    </tr>\n",
       "    <tr>\n",
       "      <th>Philippines</th>\n",
       "      <td>1.462299e+09</td>\n",
       "      <td>3,460.53 USD (2021)</td>\n",
       "    </tr>\n",
       "    <tr>\n",
       "      <th>Liechtenstein</th>\n",
       "      <td>4.602477e+08</td>\n",
       "      <td>157,754.95 USD (2020)</td>\n",
       "    </tr>\n",
       "  </tbody>\n",
       "</table>\n",
       "</div>"
      ],
      "text/plain": [
       "                          Average Sales         GDP per Capita\n",
       "United Kingdom             2.449062e+10   46,510.28 USD (2021)\n",
       "Singapore                  5.769758e+08   72,794.00 USD (2021)\n",
       "Hong Kong SAR              3.379337e+09   49,800.54 USD (2021)\n",
       "France                     1.260650e+09   43,658.98 USD (2021)\n",
       "Cayman Islands             9.662237e+08   86,568.77 USD (2021)\n",
       "Switzerland                5.699627e+09   91,991.60 USD (2021)\n",
       "Norway                     1.934133e+09   89,154.28 USD (2021)\n",
       "Spain                      4.678494e+08   30,103.51 USD (2021)\n",
       "Denmark                    4.713955e+09   68,007.76 USD (2021)\n",
       "India                      1.515728e+09    2,256.59 USD (2021)\n",
       "Curacao                    1.530593e+09   17,717.60 USD (2021)\n",
       "United States              2.246101e+10   70,248.63 USD (2021)\n",
       "Japan                      1.500897e+10   39,312.66 USD (2021)\n",
       "China                      1.104094e+10   12,556.33 USD (2021)\n",
       "Luxembourg                 1.175044e+07  133,590.15 USD (2021)\n",
       "Germany                    1.456999e+10   51,203.55 USD (2021)\n",
       "Virgin Islands (British)   4.617615e+07   39,552.17 USD (2020)\n",
       "Panama                     4.675650e+05   14,617.60 USD (2021)\n",
       "Netherlands                2.518800e+09   57,767.88 USD (2021)\n",
       "Italy                      1.794733e+09   35,657.50 USD (2021)\n",
       "Malaysia                   1.034202e+09   11,109.26 USD (2021)\n",
       "Australia                  2.578373e+09   60,443.11 USD (2021)\n",
       "Korea, Republic of         1.007657e+10   34,997.78 USD (2021)\n",
       "Canada                     1.550850e+10   51,987.94 USD (2021)\n",
       "Taiwan                     1.733626e+10  32,756.000 USD (2021)\n",
       "Vietnam                    2.439850e+08    3,756.49 USD (2021)\n",
       "Indonesia                  5.960173e+08    4,332.71 USD (2021)\n",
       "Sweden                     4.365191e+09   61,028.74 USD (2021)\n",
       "United Arab Emirates       6.205775e+08   44,315.55 USD (2021)\n",
       "Portugal                   7.984467e+09   24,567.51 USD (2021)\n",
       "New Zealand                1.162571e+08   48,781.03 USD (2021)\n",
       "Ireland                    1.525152e+10  100,172.08 USD (2021)\n",
       "Finland                    5.871407e+09   53,654.75 USD (2021)\n",
       "Thailand                   4.300719e+09    7,066.19 USD (2021)\n",
       "Austria                    2.803816e+09   53,637.71 USD (2021)\n",
       "Belgium                    2.422682e+08   51,247.01 USD (2021)\n",
       "Bermuda                    6.443754e+09  114,090.33 USD (2021)\n",
       "South Africa               1.917159e+08    7,055.04 USD (2021)\n",
       "Brazil                     6.054153e+09    7,507.16 USD (2021)\n",
       "Mauritius                  1.055770e+07    9,106.24 USD (2021)\n",
       "Israel                     2.459276e+09   52,170.71 USD (2021)\n",
       "Cyprus                     4.189910e+07   31,551.82 USD (2021)\n",
       "Philippines                1.462299e+09    3,460.53 USD (2021)\n",
       "Liechtenstein              4.602477e+08  157,754.95 USD (2020)"
      ]
     },
     "execution_count": 164,
     "metadata": {},
     "output_type": "execute_result"
    }
   ],
   "source": [
    "countries_dataset = countries_dataset[countries_dataset.index.notnull()]\n",
    "countries_dataset"
   ]
  },
  {
   "cell_type": "code",
   "execution_count": 165,
   "metadata": {},
   "outputs": [
    {
     "data": {
      "text/html": [
       "<div>\n",
       "<style scoped>\n",
       "    .dataframe tbody tr th:only-of-type {\n",
       "        vertical-align: middle;\n",
       "    }\n",
       "\n",
       "    .dataframe tbody tr th {\n",
       "        vertical-align: top;\n",
       "    }\n",
       "\n",
       "    .dataframe thead th {\n",
       "        text-align: right;\n",
       "    }\n",
       "</style>\n",
       "<table border=\"1\" class=\"dataframe\">\n",
       "  <thead>\n",
       "    <tr style=\"text-align: right;\">\n",
       "      <th></th>\n",
       "      <th>Average Sales</th>\n",
       "      <th>GDP per Capita</th>\n",
       "    </tr>\n",
       "  </thead>\n",
       "  <tbody>\n",
       "    <tr>\n",
       "      <th>United Kingdom</th>\n",
       "      <td>2.449062e+10</td>\n",
       "      <td>46510.2</td>\n",
       "    </tr>\n",
       "    <tr>\n",
       "      <th>Singapore</th>\n",
       "      <td>5.769758e+08</td>\n",
       "      <td>72794.0</td>\n",
       "    </tr>\n",
       "    <tr>\n",
       "      <th>Hong Kong SAR</th>\n",
       "      <td>3.379337e+09</td>\n",
       "      <td>49800.5</td>\n",
       "    </tr>\n",
       "    <tr>\n",
       "      <th>France</th>\n",
       "      <td>1.260650e+09</td>\n",
       "      <td>43658.9</td>\n",
       "    </tr>\n",
       "    <tr>\n",
       "      <th>Cayman Islands</th>\n",
       "      <td>9.662237e+08</td>\n",
       "      <td>86568.7</td>\n",
       "    </tr>\n",
       "  </tbody>\n",
       "</table>\n",
       "</div>"
      ],
      "text/plain": [
       "                Average Sales GDP per Capita\n",
       "United Kingdom   2.449062e+10        46510.2\n",
       "Singapore        5.769758e+08        72794.0\n",
       "Hong Kong SAR    3.379337e+09        49800.5\n",
       "France           1.260650e+09        43658.9\n",
       "Cayman Islands   9.662237e+08        86568.7"
      ]
     },
     "execution_count": 165,
     "metadata": {},
     "output_type": "execute_result"
    }
   ],
   "source": [
    "for index, row in countries_dataset.iterrows():\n",
    "    gdp = row['GDP per Capita']\n",
    "    #how much to slice depending on the digits\n",
    "    if len(gdp) == 17:\n",
    "        slicer = 6\n",
    "    if len(gdp) == 19:\n",
    "        slicer = 7\n",
    "    if len(gdp) == 20: \n",
    "        slicer = 8\n",
    "    if len(gdp) == 21:\n",
    "        slicer = 9\n",
    "    gdp = float(gdp[:slicer].replace(\",\", \"\"))\n",
    "    countries_dataset.loc[index, 'GDP per Capita'] = gdp #of global ultimate\n",
    "countries_dataset.head(5)"
   ]
  },
  {
   "cell_type": "code",
   "execution_count": 166,
   "metadata": {},
   "outputs": [
    {
     "data": {
      "text/html": [
       "<div>\n",
       "<style scoped>\n",
       "    .dataframe tbody tr th:only-of-type {\n",
       "        vertical-align: middle;\n",
       "    }\n",
       "\n",
       "    .dataframe tbody tr th {\n",
       "        vertical-align: top;\n",
       "    }\n",
       "\n",
       "    .dataframe thead th {\n",
       "        text-align: right;\n",
       "    }\n",
       "</style>\n",
       "<table border=\"1\" class=\"dataframe\">\n",
       "  <thead>\n",
       "    <tr style=\"text-align: right;\">\n",
       "      <th></th>\n",
       "      <th>index</th>\n",
       "      <th>Average Sales</th>\n",
       "      <th>GDP per Capita</th>\n",
       "    </tr>\n",
       "  </thead>\n",
       "  <tbody>\n",
       "    <tr>\n",
       "      <th>0</th>\n",
       "      <td>United Kingdom</td>\n",
       "      <td>2.449062e+10</td>\n",
       "      <td>46510.2</td>\n",
       "    </tr>\n",
       "    <tr>\n",
       "      <th>1</th>\n",
       "      <td>Singapore</td>\n",
       "      <td>5.769758e+08</td>\n",
       "      <td>72794.0</td>\n",
       "    </tr>\n",
       "    <tr>\n",
       "      <th>2</th>\n",
       "      <td>Hong Kong SAR</td>\n",
       "      <td>3.379337e+09</td>\n",
       "      <td>49800.5</td>\n",
       "    </tr>\n",
       "    <tr>\n",
       "      <th>3</th>\n",
       "      <td>France</td>\n",
       "      <td>1.260650e+09</td>\n",
       "      <td>43658.9</td>\n",
       "    </tr>\n",
       "    <tr>\n",
       "      <th>4</th>\n",
       "      <td>Cayman Islands</td>\n",
       "      <td>9.662237e+08</td>\n",
       "      <td>86568.7</td>\n",
       "    </tr>\n",
       "    <tr>\n",
       "      <th>5</th>\n",
       "      <td>Switzerland</td>\n",
       "      <td>5.699627e+09</td>\n",
       "      <td>91991.6</td>\n",
       "    </tr>\n",
       "    <tr>\n",
       "      <th>6</th>\n",
       "      <td>Norway</td>\n",
       "      <td>1.934133e+09</td>\n",
       "      <td>89154.2</td>\n",
       "    </tr>\n",
       "    <tr>\n",
       "      <th>7</th>\n",
       "      <td>Spain</td>\n",
       "      <td>4.678494e+08</td>\n",
       "      <td>30103.5</td>\n",
       "    </tr>\n",
       "    <tr>\n",
       "      <th>8</th>\n",
       "      <td>Denmark</td>\n",
       "      <td>4.713955e+09</td>\n",
       "      <td>68007.7</td>\n",
       "    </tr>\n",
       "    <tr>\n",
       "      <th>9</th>\n",
       "      <td>India</td>\n",
       "      <td>1.515728e+09</td>\n",
       "      <td>2256.5</td>\n",
       "    </tr>\n",
       "    <tr>\n",
       "      <th>10</th>\n",
       "      <td>Curacao</td>\n",
       "      <td>1.530593e+09</td>\n",
       "      <td>17717.6</td>\n",
       "    </tr>\n",
       "    <tr>\n",
       "      <th>11</th>\n",
       "      <td>United States</td>\n",
       "      <td>2.246101e+10</td>\n",
       "      <td>70248.6</td>\n",
       "    </tr>\n",
       "    <tr>\n",
       "      <th>12</th>\n",
       "      <td>Japan</td>\n",
       "      <td>1.500897e+10</td>\n",
       "      <td>39312.6</td>\n",
       "    </tr>\n",
       "    <tr>\n",
       "      <th>13</th>\n",
       "      <td>China</td>\n",
       "      <td>1.104094e+10</td>\n",
       "      <td>12556.3</td>\n",
       "    </tr>\n",
       "    <tr>\n",
       "      <th>14</th>\n",
       "      <td>Luxembourg</td>\n",
       "      <td>1.175044e+07</td>\n",
       "      <td>133590.1</td>\n",
       "    </tr>\n",
       "    <tr>\n",
       "      <th>15</th>\n",
       "      <td>Germany</td>\n",
       "      <td>1.456999e+10</td>\n",
       "      <td>51203.5</td>\n",
       "    </tr>\n",
       "    <tr>\n",
       "      <th>16</th>\n",
       "      <td>Virgin Islands (British)</td>\n",
       "      <td>4.617615e+07</td>\n",
       "      <td>39552.1</td>\n",
       "    </tr>\n",
       "    <tr>\n",
       "      <th>17</th>\n",
       "      <td>Panama</td>\n",
       "      <td>4.675650e+05</td>\n",
       "      <td>14617.6</td>\n",
       "    </tr>\n",
       "    <tr>\n",
       "      <th>18</th>\n",
       "      <td>Netherlands</td>\n",
       "      <td>2.518800e+09</td>\n",
       "      <td>57767.8</td>\n",
       "    </tr>\n",
       "    <tr>\n",
       "      <th>19</th>\n",
       "      <td>Italy</td>\n",
       "      <td>1.794733e+09</td>\n",
       "      <td>35657.5</td>\n",
       "    </tr>\n",
       "    <tr>\n",
       "      <th>20</th>\n",
       "      <td>Malaysia</td>\n",
       "      <td>1.034202e+09</td>\n",
       "      <td>11109.2</td>\n",
       "    </tr>\n",
       "    <tr>\n",
       "      <th>21</th>\n",
       "      <td>Australia</td>\n",
       "      <td>2.578373e+09</td>\n",
       "      <td>60443.1</td>\n",
       "    </tr>\n",
       "    <tr>\n",
       "      <th>22</th>\n",
       "      <td>Korea, Republic of</td>\n",
       "      <td>1.007657e+10</td>\n",
       "      <td>34997.7</td>\n",
       "    </tr>\n",
       "    <tr>\n",
       "      <th>23</th>\n",
       "      <td>Canada</td>\n",
       "      <td>1.550850e+10</td>\n",
       "      <td>51987.9</td>\n",
       "    </tr>\n",
       "    <tr>\n",
       "      <th>24</th>\n",
       "      <td>Taiwan</td>\n",
       "      <td>1.733626e+10</td>\n",
       "      <td>32756.0</td>\n",
       "    </tr>\n",
       "    <tr>\n",
       "      <th>25</th>\n",
       "      <td>Vietnam</td>\n",
       "      <td>2.439850e+08</td>\n",
       "      <td>3756.4</td>\n",
       "    </tr>\n",
       "    <tr>\n",
       "      <th>26</th>\n",
       "      <td>Indonesia</td>\n",
       "      <td>5.960173e+08</td>\n",
       "      <td>4332.7</td>\n",
       "    </tr>\n",
       "    <tr>\n",
       "      <th>27</th>\n",
       "      <td>Sweden</td>\n",
       "      <td>4.365191e+09</td>\n",
       "      <td>61028.7</td>\n",
       "    </tr>\n",
       "    <tr>\n",
       "      <th>28</th>\n",
       "      <td>United Arab Emirates</td>\n",
       "      <td>6.205775e+08</td>\n",
       "      <td>44315.5</td>\n",
       "    </tr>\n",
       "    <tr>\n",
       "      <th>29</th>\n",
       "      <td>Portugal</td>\n",
       "      <td>7.984467e+09</td>\n",
       "      <td>24567.5</td>\n",
       "    </tr>\n",
       "    <tr>\n",
       "      <th>30</th>\n",
       "      <td>New Zealand</td>\n",
       "      <td>1.162571e+08</td>\n",
       "      <td>48781.0</td>\n",
       "    </tr>\n",
       "    <tr>\n",
       "      <th>31</th>\n",
       "      <td>Ireland</td>\n",
       "      <td>1.525152e+10</td>\n",
       "      <td>100172.0</td>\n",
       "    </tr>\n",
       "    <tr>\n",
       "      <th>32</th>\n",
       "      <td>Finland</td>\n",
       "      <td>5.871407e+09</td>\n",
       "      <td>53654.7</td>\n",
       "    </tr>\n",
       "    <tr>\n",
       "      <th>33</th>\n",
       "      <td>Thailand</td>\n",
       "      <td>4.300719e+09</td>\n",
       "      <td>7066.1</td>\n",
       "    </tr>\n",
       "    <tr>\n",
       "      <th>34</th>\n",
       "      <td>Austria</td>\n",
       "      <td>2.803816e+09</td>\n",
       "      <td>53637.7</td>\n",
       "    </tr>\n",
       "    <tr>\n",
       "      <th>35</th>\n",
       "      <td>Belgium</td>\n",
       "      <td>2.422682e+08</td>\n",
       "      <td>51247.0</td>\n",
       "    </tr>\n",
       "    <tr>\n",
       "      <th>36</th>\n",
       "      <td>Bermuda</td>\n",
       "      <td>6.443754e+09</td>\n",
       "      <td>114090.3</td>\n",
       "    </tr>\n",
       "    <tr>\n",
       "      <th>37</th>\n",
       "      <td>South Africa</td>\n",
       "      <td>1.917159e+08</td>\n",
       "      <td>7055.0</td>\n",
       "    </tr>\n",
       "    <tr>\n",
       "      <th>38</th>\n",
       "      <td>Brazil</td>\n",
       "      <td>6.054153e+09</td>\n",
       "      <td>7507.1</td>\n",
       "    </tr>\n",
       "    <tr>\n",
       "      <th>39</th>\n",
       "      <td>Mauritius</td>\n",
       "      <td>1.055770e+07</td>\n",
       "      <td>9106.2</td>\n",
       "    </tr>\n",
       "    <tr>\n",
       "      <th>40</th>\n",
       "      <td>Israel</td>\n",
       "      <td>2.459276e+09</td>\n",
       "      <td>52170.7</td>\n",
       "    </tr>\n",
       "    <tr>\n",
       "      <th>41</th>\n",
       "      <td>Cyprus</td>\n",
       "      <td>4.189910e+07</td>\n",
       "      <td>31551.8</td>\n",
       "    </tr>\n",
       "    <tr>\n",
       "      <th>42</th>\n",
       "      <td>Philippines</td>\n",
       "      <td>1.462299e+09</td>\n",
       "      <td>3460.5</td>\n",
       "    </tr>\n",
       "    <tr>\n",
       "      <th>43</th>\n",
       "      <td>Liechtenstein</td>\n",
       "      <td>4.602477e+08</td>\n",
       "      <td>157754.9</td>\n",
       "    </tr>\n",
       "  </tbody>\n",
       "</table>\n",
       "</div>"
      ],
      "text/plain": [
       "                       index  Average Sales GDP per Capita\n",
       "0             United Kingdom   2.449062e+10        46510.2\n",
       "1                  Singapore   5.769758e+08        72794.0\n",
       "2              Hong Kong SAR   3.379337e+09        49800.5\n",
       "3                     France   1.260650e+09        43658.9\n",
       "4             Cayman Islands   9.662237e+08        86568.7\n",
       "5                Switzerland   5.699627e+09        91991.6\n",
       "6                     Norway   1.934133e+09        89154.2\n",
       "7                      Spain   4.678494e+08        30103.5\n",
       "8                    Denmark   4.713955e+09        68007.7\n",
       "9                      India   1.515728e+09         2256.5\n",
       "10                   Curacao   1.530593e+09        17717.6\n",
       "11             United States   2.246101e+10        70248.6\n",
       "12                     Japan   1.500897e+10        39312.6\n",
       "13                     China   1.104094e+10        12556.3\n",
       "14                Luxembourg   1.175044e+07       133590.1\n",
       "15                   Germany   1.456999e+10        51203.5\n",
       "16  Virgin Islands (British)   4.617615e+07        39552.1\n",
       "17                    Panama   4.675650e+05        14617.6\n",
       "18               Netherlands   2.518800e+09        57767.8\n",
       "19                     Italy   1.794733e+09        35657.5\n",
       "20                  Malaysia   1.034202e+09        11109.2\n",
       "21                 Australia   2.578373e+09        60443.1\n",
       "22        Korea, Republic of   1.007657e+10        34997.7\n",
       "23                    Canada   1.550850e+10        51987.9\n",
       "24                    Taiwan   1.733626e+10        32756.0\n",
       "25                   Vietnam   2.439850e+08         3756.4\n",
       "26                 Indonesia   5.960173e+08         4332.7\n",
       "27                    Sweden   4.365191e+09        61028.7\n",
       "28      United Arab Emirates   6.205775e+08        44315.5\n",
       "29                  Portugal   7.984467e+09        24567.5\n",
       "30               New Zealand   1.162571e+08        48781.0\n",
       "31                   Ireland   1.525152e+10       100172.0\n",
       "32                   Finland   5.871407e+09        53654.7\n",
       "33                  Thailand   4.300719e+09         7066.1\n",
       "34                   Austria   2.803816e+09        53637.7\n",
       "35                   Belgium   2.422682e+08        51247.0\n",
       "36                   Bermuda   6.443754e+09       114090.3\n",
       "37              South Africa   1.917159e+08         7055.0\n",
       "38                    Brazil   6.054153e+09         7507.1\n",
       "39                 Mauritius   1.055770e+07         9106.2\n",
       "40                    Israel   2.459276e+09        52170.7\n",
       "41                    Cyprus   4.189910e+07        31551.8\n",
       "42               Philippines   1.462299e+09         3460.5\n",
       "43             Liechtenstein   4.602477e+08       157754.9"
      ]
     },
     "execution_count": 166,
     "metadata": {},
     "output_type": "execute_result"
    }
   ],
   "source": [
    "countries_dataset.reset_index(inplace=True)\n",
    "countries_dataset"
   ]
  },
  {
   "cell_type": "code",
   "execution_count": 167,
   "metadata": {
    "scrolled": true
   },
   "outputs": [
    {
     "data": {
      "text/html": [
       "<div>\n",
       "<style scoped>\n",
       "    .dataframe tbody tr th:only-of-type {\n",
       "        vertical-align: middle;\n",
       "    }\n",
       "\n",
       "    .dataframe tbody tr th {\n",
       "        vertical-align: top;\n",
       "    }\n",
       "\n",
       "    .dataframe thead th {\n",
       "        text-align: right;\n",
       "    }\n",
       "</style>\n",
       "<table border=\"1\" class=\"dataframe\">\n",
       "  <thead>\n",
       "    <tr style=\"text-align: right;\">\n",
       "      <th></th>\n",
       "      <th>Country</th>\n",
       "      <th>Average Sales</th>\n",
       "      <th>GDP per Capita</th>\n",
       "    </tr>\n",
       "  </thead>\n",
       "  <tbody>\n",
       "    <tr>\n",
       "      <th>0</th>\n",
       "      <td>United Kingdom</td>\n",
       "      <td>2.449062e+10</td>\n",
       "      <td>46510.2</td>\n",
       "    </tr>\n",
       "    <tr>\n",
       "      <th>1</th>\n",
       "      <td>Singapore</td>\n",
       "      <td>5.769758e+08</td>\n",
       "      <td>72794.0</td>\n",
       "    </tr>\n",
       "    <tr>\n",
       "      <th>2</th>\n",
       "      <td>Hong Kong SAR</td>\n",
       "      <td>3.379337e+09</td>\n",
       "      <td>49800.5</td>\n",
       "    </tr>\n",
       "    <tr>\n",
       "      <th>3</th>\n",
       "      <td>France</td>\n",
       "      <td>1.260650e+09</td>\n",
       "      <td>43658.9</td>\n",
       "    </tr>\n",
       "    <tr>\n",
       "      <th>4</th>\n",
       "      <td>Cayman Islands</td>\n",
       "      <td>9.662237e+08</td>\n",
       "      <td>86568.7</td>\n",
       "    </tr>\n",
       "    <tr>\n",
       "      <th>5</th>\n",
       "      <td>Switzerland</td>\n",
       "      <td>5.699627e+09</td>\n",
       "      <td>91991.6</td>\n",
       "    </tr>\n",
       "    <tr>\n",
       "      <th>6</th>\n",
       "      <td>Norway</td>\n",
       "      <td>1.934133e+09</td>\n",
       "      <td>89154.2</td>\n",
       "    </tr>\n",
       "    <tr>\n",
       "      <th>7</th>\n",
       "      <td>Spain</td>\n",
       "      <td>4.678494e+08</td>\n",
       "      <td>30103.5</td>\n",
       "    </tr>\n",
       "    <tr>\n",
       "      <th>8</th>\n",
       "      <td>Denmark</td>\n",
       "      <td>4.713955e+09</td>\n",
       "      <td>68007.7</td>\n",
       "    </tr>\n",
       "    <tr>\n",
       "      <th>9</th>\n",
       "      <td>India</td>\n",
       "      <td>1.515728e+09</td>\n",
       "      <td>2256.5</td>\n",
       "    </tr>\n",
       "    <tr>\n",
       "      <th>10</th>\n",
       "      <td>Curacao</td>\n",
       "      <td>1.530593e+09</td>\n",
       "      <td>17717.6</td>\n",
       "    </tr>\n",
       "    <tr>\n",
       "      <th>11</th>\n",
       "      <td>United States</td>\n",
       "      <td>2.246101e+10</td>\n",
       "      <td>70248.6</td>\n",
       "    </tr>\n",
       "    <tr>\n",
       "      <th>12</th>\n",
       "      <td>Japan</td>\n",
       "      <td>1.500897e+10</td>\n",
       "      <td>39312.6</td>\n",
       "    </tr>\n",
       "    <tr>\n",
       "      <th>13</th>\n",
       "      <td>China</td>\n",
       "      <td>1.104094e+10</td>\n",
       "      <td>12556.3</td>\n",
       "    </tr>\n",
       "    <tr>\n",
       "      <th>14</th>\n",
       "      <td>Luxembourg</td>\n",
       "      <td>1.175044e+07</td>\n",
       "      <td>133590.1</td>\n",
       "    </tr>\n",
       "    <tr>\n",
       "      <th>15</th>\n",
       "      <td>Germany</td>\n",
       "      <td>1.456999e+10</td>\n",
       "      <td>51203.5</td>\n",
       "    </tr>\n",
       "    <tr>\n",
       "      <th>16</th>\n",
       "      <td>Virgin Islands (British)</td>\n",
       "      <td>4.617615e+07</td>\n",
       "      <td>39552.1</td>\n",
       "    </tr>\n",
       "    <tr>\n",
       "      <th>17</th>\n",
       "      <td>Panama</td>\n",
       "      <td>4.675650e+05</td>\n",
       "      <td>14617.6</td>\n",
       "    </tr>\n",
       "    <tr>\n",
       "      <th>18</th>\n",
       "      <td>Netherlands</td>\n",
       "      <td>2.518800e+09</td>\n",
       "      <td>57767.8</td>\n",
       "    </tr>\n",
       "    <tr>\n",
       "      <th>19</th>\n",
       "      <td>Italy</td>\n",
       "      <td>1.794733e+09</td>\n",
       "      <td>35657.5</td>\n",
       "    </tr>\n",
       "    <tr>\n",
       "      <th>20</th>\n",
       "      <td>Malaysia</td>\n",
       "      <td>1.034202e+09</td>\n",
       "      <td>11109.2</td>\n",
       "    </tr>\n",
       "    <tr>\n",
       "      <th>21</th>\n",
       "      <td>Australia</td>\n",
       "      <td>2.578373e+09</td>\n",
       "      <td>60443.1</td>\n",
       "    </tr>\n",
       "    <tr>\n",
       "      <th>22</th>\n",
       "      <td>Korea, Republic of</td>\n",
       "      <td>1.007657e+10</td>\n",
       "      <td>34997.7</td>\n",
       "    </tr>\n",
       "    <tr>\n",
       "      <th>23</th>\n",
       "      <td>Canada</td>\n",
       "      <td>1.550850e+10</td>\n",
       "      <td>51987.9</td>\n",
       "    </tr>\n",
       "    <tr>\n",
       "      <th>24</th>\n",
       "      <td>Taiwan</td>\n",
       "      <td>1.733626e+10</td>\n",
       "      <td>32756.0</td>\n",
       "    </tr>\n",
       "    <tr>\n",
       "      <th>25</th>\n",
       "      <td>Vietnam</td>\n",
       "      <td>2.439850e+08</td>\n",
       "      <td>3756.4</td>\n",
       "    </tr>\n",
       "    <tr>\n",
       "      <th>26</th>\n",
       "      <td>Indonesia</td>\n",
       "      <td>5.960173e+08</td>\n",
       "      <td>4332.7</td>\n",
       "    </tr>\n",
       "    <tr>\n",
       "      <th>27</th>\n",
       "      <td>Sweden</td>\n",
       "      <td>4.365191e+09</td>\n",
       "      <td>61028.7</td>\n",
       "    </tr>\n",
       "    <tr>\n",
       "      <th>28</th>\n",
       "      <td>United Arab Emirates</td>\n",
       "      <td>6.205775e+08</td>\n",
       "      <td>44315.5</td>\n",
       "    </tr>\n",
       "    <tr>\n",
       "      <th>29</th>\n",
       "      <td>Portugal</td>\n",
       "      <td>7.984467e+09</td>\n",
       "      <td>24567.5</td>\n",
       "    </tr>\n",
       "    <tr>\n",
       "      <th>30</th>\n",
       "      <td>New Zealand</td>\n",
       "      <td>1.162571e+08</td>\n",
       "      <td>48781.0</td>\n",
       "    </tr>\n",
       "    <tr>\n",
       "      <th>31</th>\n",
       "      <td>Ireland</td>\n",
       "      <td>1.525152e+10</td>\n",
       "      <td>100172.0</td>\n",
       "    </tr>\n",
       "    <tr>\n",
       "      <th>32</th>\n",
       "      <td>Finland</td>\n",
       "      <td>5.871407e+09</td>\n",
       "      <td>53654.7</td>\n",
       "    </tr>\n",
       "    <tr>\n",
       "      <th>33</th>\n",
       "      <td>Thailand</td>\n",
       "      <td>4.300719e+09</td>\n",
       "      <td>7066.1</td>\n",
       "    </tr>\n",
       "    <tr>\n",
       "      <th>34</th>\n",
       "      <td>Austria</td>\n",
       "      <td>2.803816e+09</td>\n",
       "      <td>53637.7</td>\n",
       "    </tr>\n",
       "    <tr>\n",
       "      <th>35</th>\n",
       "      <td>Belgium</td>\n",
       "      <td>2.422682e+08</td>\n",
       "      <td>51247.0</td>\n",
       "    </tr>\n",
       "    <tr>\n",
       "      <th>36</th>\n",
       "      <td>Bermuda</td>\n",
       "      <td>6.443754e+09</td>\n",
       "      <td>114090.3</td>\n",
       "    </tr>\n",
       "    <tr>\n",
       "      <th>37</th>\n",
       "      <td>South Africa</td>\n",
       "      <td>1.917159e+08</td>\n",
       "      <td>7055.0</td>\n",
       "    </tr>\n",
       "    <tr>\n",
       "      <th>38</th>\n",
       "      <td>Brazil</td>\n",
       "      <td>6.054153e+09</td>\n",
       "      <td>7507.1</td>\n",
       "    </tr>\n",
       "    <tr>\n",
       "      <th>39</th>\n",
       "      <td>Mauritius</td>\n",
       "      <td>1.055770e+07</td>\n",
       "      <td>9106.2</td>\n",
       "    </tr>\n",
       "    <tr>\n",
       "      <th>40</th>\n",
       "      <td>Israel</td>\n",
       "      <td>2.459276e+09</td>\n",
       "      <td>52170.7</td>\n",
       "    </tr>\n",
       "    <tr>\n",
       "      <th>41</th>\n",
       "      <td>Cyprus</td>\n",
       "      <td>4.189910e+07</td>\n",
       "      <td>31551.8</td>\n",
       "    </tr>\n",
       "    <tr>\n",
       "      <th>42</th>\n",
       "      <td>Philippines</td>\n",
       "      <td>1.462299e+09</td>\n",
       "      <td>3460.5</td>\n",
       "    </tr>\n",
       "    <tr>\n",
       "      <th>43</th>\n",
       "      <td>Liechtenstein</td>\n",
       "      <td>4.602477e+08</td>\n",
       "      <td>157754.9</td>\n",
       "    </tr>\n",
       "  </tbody>\n",
       "</table>\n",
       "</div>"
      ],
      "text/plain": [
       "                     Country  Average Sales GDP per Capita\n",
       "0             United Kingdom   2.449062e+10        46510.2\n",
       "1                  Singapore   5.769758e+08        72794.0\n",
       "2              Hong Kong SAR   3.379337e+09        49800.5\n",
       "3                     France   1.260650e+09        43658.9\n",
       "4             Cayman Islands   9.662237e+08        86568.7\n",
       "5                Switzerland   5.699627e+09        91991.6\n",
       "6                     Norway   1.934133e+09        89154.2\n",
       "7                      Spain   4.678494e+08        30103.5\n",
       "8                    Denmark   4.713955e+09        68007.7\n",
       "9                      India   1.515728e+09         2256.5\n",
       "10                   Curacao   1.530593e+09        17717.6\n",
       "11             United States   2.246101e+10        70248.6\n",
       "12                     Japan   1.500897e+10        39312.6\n",
       "13                     China   1.104094e+10        12556.3\n",
       "14                Luxembourg   1.175044e+07       133590.1\n",
       "15                   Germany   1.456999e+10        51203.5\n",
       "16  Virgin Islands (British)   4.617615e+07        39552.1\n",
       "17                    Panama   4.675650e+05        14617.6\n",
       "18               Netherlands   2.518800e+09        57767.8\n",
       "19                     Italy   1.794733e+09        35657.5\n",
       "20                  Malaysia   1.034202e+09        11109.2\n",
       "21                 Australia   2.578373e+09        60443.1\n",
       "22        Korea, Republic of   1.007657e+10        34997.7\n",
       "23                    Canada   1.550850e+10        51987.9\n",
       "24                    Taiwan   1.733626e+10        32756.0\n",
       "25                   Vietnam   2.439850e+08         3756.4\n",
       "26                 Indonesia   5.960173e+08         4332.7\n",
       "27                    Sweden   4.365191e+09        61028.7\n",
       "28      United Arab Emirates   6.205775e+08        44315.5\n",
       "29                  Portugal   7.984467e+09        24567.5\n",
       "30               New Zealand   1.162571e+08        48781.0\n",
       "31                   Ireland   1.525152e+10       100172.0\n",
       "32                   Finland   5.871407e+09        53654.7\n",
       "33                  Thailand   4.300719e+09         7066.1\n",
       "34                   Austria   2.803816e+09        53637.7\n",
       "35                   Belgium   2.422682e+08        51247.0\n",
       "36                   Bermuda   6.443754e+09       114090.3\n",
       "37              South Africa   1.917159e+08         7055.0\n",
       "38                    Brazil   6.054153e+09         7507.1\n",
       "39                 Mauritius   1.055770e+07         9106.2\n",
       "40                    Israel   2.459276e+09        52170.7\n",
       "41                    Cyprus   4.189910e+07        31551.8\n",
       "42               Philippines   1.462299e+09         3460.5\n",
       "43             Liechtenstein   4.602477e+08       157754.9"
      ]
     },
     "execution_count": 167,
     "metadata": {},
     "output_type": "execute_result"
    }
   ],
   "source": [
    "countries_dataset.rename(columns={'index': 'Country'}, inplace=True)\n",
    "countries_dataset"
   ]
  },
  {
   "cell_type": "code",
   "execution_count": 168,
   "metadata": {},
   "outputs": [
    {
     "data": {
      "text/plain": [
       "Country            object\n",
       "Average Sales     float64\n",
       "GDP per Capita     object\n",
       "dtype: object"
      ]
     },
     "execution_count": 168,
     "metadata": {},
     "output_type": "execute_result"
    }
   ],
   "source": [
    "countries_dataset.dtypes"
   ]
  },
  {
   "cell_type": "code",
   "execution_count": 169,
   "metadata": {},
   "outputs": [],
   "source": [
    "countries_dataset['GDP per Capita'] = countries_dataset['GDP per Capita'].astype('float64')"
   ]
  },
  {
   "cell_type": "code",
   "execution_count": 175,
   "metadata": {},
   "outputs": [
    {
     "data": {
      "text/html": [
       "<div>\n",
       "<style scoped>\n",
       "    .dataframe tbody tr th:only-of-type {\n",
       "        vertical-align: middle;\n",
       "    }\n",
       "\n",
       "    .dataframe tbody tr th {\n",
       "        vertical-align: top;\n",
       "    }\n",
       "\n",
       "    .dataframe thead th {\n",
       "        text-align: right;\n",
       "    }\n",
       "</style>\n",
       "<table border=\"1\" class=\"dataframe\">\n",
       "  <thead>\n",
       "    <tr style=\"text-align: right;\">\n",
       "      <th></th>\n",
       "      <th>Country</th>\n",
       "      <th>Average Sales</th>\n",
       "      <th>GDP per Capita</th>\n",
       "    </tr>\n",
       "  </thead>\n",
       "  <tbody>\n",
       "    <tr>\n",
       "      <th>0</th>\n",
       "      <td>United Kingdom</td>\n",
       "      <td>23.921556</td>\n",
       "      <td>10.747427</td>\n",
       "    </tr>\n",
       "    <tr>\n",
       "      <th>1</th>\n",
       "      <td>Singapore</td>\n",
       "      <td>20.173311</td>\n",
       "      <td>11.195389</td>\n",
       "    </tr>\n",
       "    <tr>\n",
       "      <th>2</th>\n",
       "      <td>Hong Kong SAR</td>\n",
       "      <td>21.940945</td>\n",
       "      <td>10.815780</td>\n",
       "    </tr>\n",
       "    <tr>\n",
       "      <th>3</th>\n",
       "      <td>France</td>\n",
       "      <td>20.954893</td>\n",
       "      <td>10.684162</td>\n",
       "    </tr>\n",
       "    <tr>\n",
       "      <th>4</th>\n",
       "      <td>Cayman Islands</td>\n",
       "      <td>20.688906</td>\n",
       "      <td>11.368694</td>\n",
       "    </tr>\n",
       "    <tr>\n",
       "      <th>5</th>\n",
       "      <td>Switzerland</td>\n",
       "      <td>22.463667</td>\n",
       "      <td>11.429453</td>\n",
       "    </tr>\n",
       "    <tr>\n",
       "      <th>6</th>\n",
       "      <td>Norway</td>\n",
       "      <td>21.382925</td>\n",
       "      <td>11.398123</td>\n",
       "    </tr>\n",
       "    <tr>\n",
       "      <th>7</th>\n",
       "      <td>Spain</td>\n",
       "      <td>19.963657</td>\n",
       "      <td>10.312397</td>\n",
       "    </tr>\n",
       "    <tr>\n",
       "      <th>8</th>\n",
       "      <td>Denmark</td>\n",
       "      <td>22.273793</td>\n",
       "      <td>11.127376</td>\n",
       "    </tr>\n",
       "    <tr>\n",
       "      <th>9</th>\n",
       "      <td>India</td>\n",
       "      <td>21.139162</td>\n",
       "      <td>7.721570</td>\n",
       "    </tr>\n",
       "    <tr>\n",
       "      <th>10</th>\n",
       "      <td>Curacao</td>\n",
       "      <td>21.148921</td>\n",
       "      <td>9.782314</td>\n",
       "    </tr>\n",
       "    <tr>\n",
       "      <th>11</th>\n",
       "      <td>United States</td>\n",
       "      <td>23.835047</td>\n",
       "      <td>11.159796</td>\n",
       "    </tr>\n",
       "    <tr>\n",
       "      <th>12</th>\n",
       "      <td>Japan</td>\n",
       "      <td>23.431914</td>\n",
       "      <td>10.579300</td>\n",
       "    </tr>\n",
       "    <tr>\n",
       "      <th>13</th>\n",
       "      <td>China</td>\n",
       "      <td>23.124876</td>\n",
       "      <td>9.437978</td>\n",
       "    </tr>\n",
       "    <tr>\n",
       "      <th>14</th>\n",
       "      <td>Luxembourg</td>\n",
       "      <td>16.279401</td>\n",
       "      <td>11.802531</td>\n",
       "    </tr>\n",
       "    <tr>\n",
       "      <th>15</th>\n",
       "      <td>Germany</td>\n",
       "      <td>23.402230</td>\n",
       "      <td>10.843563</td>\n",
       "    </tr>\n",
       "    <tr>\n",
       "      <th>16</th>\n",
       "      <td>Virgin Islands (British)</td>\n",
       "      <td>17.647974</td>\n",
       "      <td>10.585374</td>\n",
       "    </tr>\n",
       "    <tr>\n",
       "      <th>17</th>\n",
       "      <td>Panama</td>\n",
       "      <td>13.055294</td>\n",
       "      <td>9.589982</td>\n",
       "    </tr>\n",
       "    <tr>\n",
       "      <th>18</th>\n",
       "      <td>Netherlands</td>\n",
       "      <td>21.647048</td>\n",
       "      <td>10.964187</td>\n",
       "    </tr>\n",
       "    <tr>\n",
       "      <th>19</th>\n",
       "      <td>Italy</td>\n",
       "      <td>21.308122</td>\n",
       "      <td>10.481715</td>\n",
       "    </tr>\n",
       "    <tr>\n",
       "      <th>20</th>\n",
       "      <td>Malaysia</td>\n",
       "      <td>20.756896</td>\n",
       "      <td>9.315529</td>\n",
       "    </tr>\n",
       "    <tr>\n",
       "      <th>21</th>\n",
       "      <td>Australia</td>\n",
       "      <td>21.670424</td>\n",
       "      <td>11.009458</td>\n",
       "    </tr>\n",
       "    <tr>\n",
       "      <th>22</th>\n",
       "      <td>Korea, Republic of</td>\n",
       "      <td>23.033479</td>\n",
       "      <td>10.463038</td>\n",
       "    </tr>\n",
       "    <tr>\n",
       "      <th>23</th>\n",
       "      <td>Canada</td>\n",
       "      <td>23.464654</td>\n",
       "      <td>10.858766</td>\n",
       "    </tr>\n",
       "    <tr>\n",
       "      <th>24</th>\n",
       "      <td>Taiwan</td>\n",
       "      <td>23.576066</td>\n",
       "      <td>10.396841</td>\n",
       "    </tr>\n",
       "    <tr>\n",
       "      <th>25</th>\n",
       "      <td>Vietnam</td>\n",
       "      <td>19.312617</td>\n",
       "      <td>8.231216</td>\n",
       "    </tr>\n",
       "    <tr>\n",
       "      <th>26</th>\n",
       "      <td>Indonesia</td>\n",
       "      <td>20.205780</td>\n",
       "      <td>8.373946</td>\n",
       "    </tr>\n",
       "    <tr>\n",
       "      <th>27</th>\n",
       "      <td>Sweden</td>\n",
       "      <td>22.196928</td>\n",
       "      <td>11.019100</td>\n",
       "    </tr>\n",
       "    <tr>\n",
       "      <th>28</th>\n",
       "      <td>United Arab Emirates</td>\n",
       "      <td>20.246161</td>\n",
       "      <td>10.699090</td>\n",
       "    </tr>\n",
       "    <tr>\n",
       "      <th>29</th>\n",
       "      <td>Portugal</td>\n",
       "      <td>22.800764</td>\n",
       "      <td>10.109180</td>\n",
       "    </tr>\n",
       "    <tr>\n",
       "      <th>30</th>\n",
       "      <td>New Zealand</td>\n",
       "      <td>18.571315</td>\n",
       "      <td>10.795096</td>\n",
       "    </tr>\n",
       "    <tr>\n",
       "      <th>31</th>\n",
       "      <td>Ireland</td>\n",
       "      <td>23.447945</td>\n",
       "      <td>11.514644</td>\n",
       "    </tr>\n",
       "    <tr>\n",
       "      <th>32</th>\n",
       "      <td>Finland</td>\n",
       "      <td>22.493360</td>\n",
       "      <td>10.890324</td>\n",
       "    </tr>\n",
       "    <tr>\n",
       "      <th>33</th>\n",
       "      <td>Thailand</td>\n",
       "      <td>22.182048</td>\n",
       "      <td>8.863064</td>\n",
       "    </tr>\n",
       "    <tr>\n",
       "      <th>34</th>\n",
       "      <td>Austria</td>\n",
       "      <td>21.754247</td>\n",
       "      <td>10.890007</td>\n",
       "    </tr>\n",
       "    <tr>\n",
       "      <th>35</th>\n",
       "      <td>Belgium</td>\n",
       "      <td>19.305556</td>\n",
       "      <td>10.844412</td>\n",
       "    </tr>\n",
       "    <tr>\n",
       "      <th>36</th>\n",
       "      <td>Bermuda</td>\n",
       "      <td>22.586377</td>\n",
       "      <td>11.644746</td>\n",
       "    </tr>\n",
       "    <tr>\n",
       "      <th>37</th>\n",
       "      <td>South Africa</td>\n",
       "      <td>19.071525</td>\n",
       "      <td>8.861492</td>\n",
       "    </tr>\n",
       "    <tr>\n",
       "      <th>38</th>\n",
       "      <td>Brazil</td>\n",
       "      <td>22.524010</td>\n",
       "      <td>8.923605</td>\n",
       "    </tr>\n",
       "    <tr>\n",
       "      <th>39</th>\n",
       "      <td>Mauritius</td>\n",
       "      <td>16.172366</td>\n",
       "      <td>9.116711</td>\n",
       "    </tr>\n",
       "    <tr>\n",
       "      <th>40</th>\n",
       "      <td>Israel</td>\n",
       "      <td>21.623133</td>\n",
       "      <td>10.862276</td>\n",
       "    </tr>\n",
       "    <tr>\n",
       "      <th>41</th>\n",
       "      <td>Cyprus</td>\n",
       "      <td>17.550775</td>\n",
       "      <td>10.359386</td>\n",
       "    </tr>\n",
       "    <tr>\n",
       "      <th>42</th>\n",
       "      <td>Philippines</td>\n",
       "      <td>21.103276</td>\n",
       "      <td>8.149168</td>\n",
       "    </tr>\n",
       "    <tr>\n",
       "      <th>43</th>\n",
       "      <td>Liechtenstein</td>\n",
       "      <td>19.947275</td>\n",
       "      <td>11.968798</td>\n",
       "    </tr>\n",
       "  </tbody>\n",
       "</table>\n",
       "</div>"
      ],
      "text/plain": [
       "                     Country  Average Sales  GDP per Capita\n",
       "0             United Kingdom      23.921556       10.747427\n",
       "1                  Singapore      20.173311       11.195389\n",
       "2              Hong Kong SAR      21.940945       10.815780\n",
       "3                     France      20.954893       10.684162\n",
       "4             Cayman Islands      20.688906       11.368694\n",
       "5                Switzerland      22.463667       11.429453\n",
       "6                     Norway      21.382925       11.398123\n",
       "7                      Spain      19.963657       10.312397\n",
       "8                    Denmark      22.273793       11.127376\n",
       "9                      India      21.139162        7.721570\n",
       "10                   Curacao      21.148921        9.782314\n",
       "11             United States      23.835047       11.159796\n",
       "12                     Japan      23.431914       10.579300\n",
       "13                     China      23.124876        9.437978\n",
       "14                Luxembourg      16.279401       11.802531\n",
       "15                   Germany      23.402230       10.843563\n",
       "16  Virgin Islands (British)      17.647974       10.585374\n",
       "17                    Panama      13.055294        9.589982\n",
       "18               Netherlands      21.647048       10.964187\n",
       "19                     Italy      21.308122       10.481715\n",
       "20                  Malaysia      20.756896        9.315529\n",
       "21                 Australia      21.670424       11.009458\n",
       "22        Korea, Republic of      23.033479       10.463038\n",
       "23                    Canada      23.464654       10.858766\n",
       "24                    Taiwan      23.576066       10.396841\n",
       "25                   Vietnam      19.312617        8.231216\n",
       "26                 Indonesia      20.205780        8.373946\n",
       "27                    Sweden      22.196928       11.019100\n",
       "28      United Arab Emirates      20.246161       10.699090\n",
       "29                  Portugal      22.800764       10.109180\n",
       "30               New Zealand      18.571315       10.795096\n",
       "31                   Ireland      23.447945       11.514644\n",
       "32                   Finland      22.493360       10.890324\n",
       "33                  Thailand      22.182048        8.863064\n",
       "34                   Austria      21.754247       10.890007\n",
       "35                   Belgium      19.305556       10.844412\n",
       "36                   Bermuda      22.586377       11.644746\n",
       "37              South Africa      19.071525        8.861492\n",
       "38                    Brazil      22.524010        8.923605\n",
       "39                 Mauritius      16.172366        9.116711\n",
       "40                    Israel      21.623133       10.862276\n",
       "41                    Cyprus      17.550775       10.359386\n",
       "42               Philippines      21.103276        8.149168\n",
       "43             Liechtenstein      19.947275       11.968798"
      ]
     },
     "execution_count": 175,
     "metadata": {},
     "output_type": "execute_result"
    }
   ],
   "source": [
    "import numpy as np\n",
    "countries_dataset['Average Sales'] = np.log(countries_dataset['Average Sales'])\n",
    "countries_dataset['GDP per Capita'] = np.log(countries_dataset['GDP per Capita'])\n",
    "countries_dataset"
   ]
  },
  {
   "cell_type": "code",
   "execution_count": 176,
   "metadata": {
    "scrolled": true
   },
   "outputs": [
    {
     "data": {
      "image/png": "[encoded data removed]",
      "text/plain": [
       "<Figure size 700x700 with 3 Axes>"
      ]
     },
     "metadata": {},
     "output_type": "display_data"
    }
   ],
   "source": [
    "import pandas as pd\n",
    "import seaborn as sns\n",
    "import matplotlib.pyplot as plt\n",
    "\n",
    "# Create a joint plot\n",
    "sns.set(style=\"whitegrid\")\n",
    "sns.jointplot(x='GDP per Capita', y='Average Sales', data=countries_dataset, kind=\"reg\", height=7)\n",
    "plt.show()\n"
   ]
  },
  {
   "cell_type": "code",
   "execution_count": 178,
   "metadata": {},
   "outputs": [
    {
     "name": "stdout",
     "output_type": "stream",
     "text": [
      "Pearson correlation coefficient: 0.14587737843551796\n",
      "P-value: 0.1627843101802081\n",
      "The correlation is statistically significant, and the relationship is not likely due to random chance.\n"
     ]
    }
   ],
   "source": [
    "# Perform Pearson correlation coefficient test\n",
    "corr_coefficient, p_value = stats.kendalltau(countries_dataset['GDP per Capita'], countries_dataset['Average Sales'])\n",
    "\n",
    "# Print the results\n",
    "print(f\"Pearson correlation coefficient: {corr_coefficient}\")\n",
    "print(f\"P-value: {p_value}\")\n",
    "\n",
    "# Interpret the results\n",
    "alpha = 0.2  # Significance level\n",
    "if p_value < alpha:\n",
    "    print(\"The correlation is statistically significant, and the relationship is not likely due to random chance.\")\n",
    "else:\n",
    "    print(\"The correlation is not statistically significant, and the relationship may be due to random chance.\")\n"
   ]
  },
  {
   "cell_type": "markdown",
   "metadata": {},
   "source": [
    "# TILL HERE"
   ]
  },
  {
   "cell_type": "markdown",
   "metadata": {},
   "source": [
    "# Company Life Cycle Analysis"
   ]
  },
  {
   "cell_type": "markdown",
   "metadata": {},
   "source": [
    "## Rationale\n",
    "Companies can be in different stages of the business cycle, implying different growth rates and potential outcomes. \n",
    "1) In the startup phase, companies have the highest risk and probability of failing, but also the potential to have a high growth rate.\n",
    "2) In the growth phase, probability of failing goes down as only the strong startups survive. The growth rate stabilizes, at a potentially high level.\n",
    "3) In the maturity phase, sales stabilize and have a low but stable growth rate, perhaps at the long term gdp growth rate. Companies in the growth phase can potentially outgrow companies in the maturity phase due to the difference in growth rates.\n",
    "4) In the decline phase, sales start to decline at a low to medium high growth rate."
   ]
  },
  {
   "cell_type": "markdown",
   "metadata": {},
   "source": [
    "## Hypothesis\n",
    "Business cycle phase of the company can significantly impact strength of sales and outcome.\n",
    "\n",
    "To test this hypothesis, we categorized companies into 4 divisions: Startup, Growth, Maturity, Decline by calculating their age and using knowledge of marketing to get a rough range for these phases. \n",
    "Then, we conducted the ANOVA test to derive the significance of output.\n",
    "\n",
    "Finally, we report that the results of the test are statistically significant with a p-value of 1.1734886251208667e-11 below our 5% level of significance. We reject the null hypothesis in favour of the alternative hypothesis that business cycle affects sales. "
   ]
  },
  {
   "cell_type": "code",
   "execution_count": null,
   "metadata": {},
   "outputs": [],
   "source": [
    "import numpy as np"
   ]
  },
  {
   "cell_type": "code",
   "execution_count": null,
   "metadata": {
    "scrolled": true
   },
   "outputs": [],
   "source": [
    "dataset['Business Life Cycle'] = np.nan\n",
    "dataset.head(5)"
   ]
  },
  {
   "cell_type": "code",
   "execution_count": null,
   "metadata": {
    "scrolled": false
   },
   "outputs": [],
   "source": [
    "#Assigning a phase to a particular age range\n",
    "for index, row in dataset.iterrows():\n",
    "    if not row['Year Found']: \n",
    "        continue\n",
    "    age = 2024 - row['Year Found']\n",
    "    if age <= 3:\n",
    "        dataset.loc[index, 'Business Life Cycle'] = 'Startup'\n",
    "    elif age <= 15:\n",
    "        dataset.loc[index, 'Business Life Cycle'] = 'Growth'\n",
    "    elif age <= 25:\n",
    "        dataset.loc[index, 'Business Life Cycle'] = 'Maturity'\n",
    "    else:\n",
    "        dataset.loc[index, 'Business Life Cycle'] = 'Decline'\n",
    "\n",
    "dataset.head(5)\n"
   ]
  },
  {
   "cell_type": "code",
   "execution_count": null,
   "metadata": {},
   "outputs": [],
   "source": [
    "#Hypothesis Test for Business Life Cycle\n",
    "from scipy.stats import f_oneway\n",
    "# Prepare the data for the ANOVA test\n",
    "categories = dataset['Business Life Cycle'].unique()\n",
    "hypothesis = [dataset[dataset['Business Life Cycle'] == category]['Sales (Global Ultimate Total USD)'] for category in categories]\n",
    "\n",
    "# Perform the ANOVA test\n",
    "f_statistic, p_value = f_oneway(*hypothesis)\n",
    "\n",
    "# Print the F-statistic and p-value\n",
    "print(f\"F-statistic: {f_statistic}, p-value: {p_value}\")"
   ]
  },
  {
   "cell_type": "code",
   "execution_count": null,
   "metadata": {},
   "outputs": [],
   "source": [
    "import matplotlib.pyplot as plt"
   ]
  },
  {
   "cell_type": "code",
   "execution_count": null,
   "metadata": {},
   "outputs": [],
   "source": [
    "business_cycle = dataset['Business Life Cycle']\n",
    "sales = dataset['Sales (Global Ultimate Total USD)']\n",
    "plt.scatter(business_cycle, sales)\n",
    "plt.xlabel('Business Cycle')\n",
    "plt.ylabel('Sales')\n",
    "plt.title('Scatter Plot of Business Cycle vs. Sales')\n",
    "plt.show()"
   ]
  },
  {
   "cell_type": "markdown",
   "metadata": {},
   "source": [
    "# Global Ultimate Chain Analysis"
   ]
  },
  {
   "cell_type": "markdown",
   "metadata": {},
   "source": [
    "# Rationale"
   ]
  },
  {
   "cell_type": "markdown",
   "metadata": {},
   "source": [
    "Companies in a global ultimate chain (which, for simplicity, we define as the the list of companies which report the same global ultimate) have the possibility of sharing resources, information and knowledge. Moreover, they may have synergistic values, by complementing each other's operations, which is the reason for a corporate hierarchy in the first place.\n",
    "Thus, companies in a large global ultimate chain may be more efficient."
   ]
  },
  {
   "cell_type": "markdown",
   "metadata": {},
   "source": [
    "# Hypothesis"
   ]
  },
  {
   "cell_type": "markdown",
   "metadata": {},
   "source": [
    "Companies in a larger global ultimate chain have an advantage over companies with a smaller chain.\n",
    "\n",
    "To test this hypothesis, we first collated a dictionary of all companies with the same global ultimate company. We created a new column called 'Associated Companies' which shows the number of companies in that company's global ultimate chain.\n",
    "\n",
    "Then we assessed the relationship between number of associated companies with efficiency of that company, by using Employees to Sales Ratio.\n",
    "\n",
    "Finally, we find that the result sare statistically significant in favour of our hypothesis with a p-value of 0."
   ]
  },
  {
   "cell_type": "code",
   "execution_count": null,
   "metadata": {
    "scrolled": true
   },
   "outputs": [],
   "source": [
    "dataset['Sales to Employees Ratio'] = dataset['Sales (Global Ultimate Total USD)']/dataset['Employees (Global)']\n",
    "dataset['Associated Companies'] = np.nan\n",
    "dataset.head(5)"
   ]
  },
  {
   "cell_type": "code",
   "execution_count": null,
   "metadata": {},
   "outputs": [],
   "source": [
    "companies_list = list(dataset['Company'])\n",
    "\n",
    "global_ultimate_dict = {}\n",
    "for index, row in dataset.iterrows():\n",
    "    if row['Global Ultimate Company'] not in global_ultimate_dict:\n",
    "        global_ultimate_dict[row['Global Ultimate Company']] = 0\n",
    "    global_ultimate_dict[row['Global Ultimate Company']] += 1\n",
    "    "
   ]
  },
  {
   "cell_type": "code",
   "execution_count": null,
   "metadata": {
    "scrolled": true
   },
   "outputs": [],
   "source": [
    "for index, row in dataset.iterrows():\n",
    "    dataset.loc[index, 'Associated Companies'] = global_ultimate_dict[row['Global Ultimate Company']]\n",
    "\n",
    "dataset.head(5)"
   ]
  },
  {
   "cell_type": "code",
   "execution_count": null,
   "metadata": {},
   "outputs": [],
   "source": [
    "x = dataset['Associated Companies']\n",
    "y = dataset['Sales to Employees Ratio']\n",
    "plt.scatter(x, y)\n",
    "plt.xlabel('Number of Associated Companies')\n",
    "plt.ylabel('Sales to Employees')\n",
    "plt.title('Distribution of Number of Associated Companies vs. Sales to Employees Ratio')\n",
    "plt.show()"
   ]
  },
  {
   "cell_type": "markdown",
   "metadata": {},
   "source": [
    "Relationship is not linear. So, we use Spearman's rank correlation coefficient."
   ]
  },
  {
   "cell_type": "code",
   "execution_count": null,
   "metadata": {},
   "outputs": [],
   "source": [
    "from scipy.stats import spearmanr"
   ]
  },
  {
   "cell_type": "code",
   "execution_count": null,
   "metadata": {},
   "outputs": [],
   "source": [
    "# Calculate Spearman's rank correlation coefficient\n",
    "tau, p_value = kendalltau(x, y)\n",
    "\n",
    "# Print the correlation coefficient and p-value\n",
    "print(f\"Spearman's r: {tau}, p-value: {p_value}\")"
   ]
  },
  {
   "cell_type": "markdown",
   "metadata": {
    "id": "aUoxTVmso33g"
   },
   "source": [
    "### **ALL** Code for machine learning and dataset analysis should be entered below.\n",
    "##### Ensure that your code is clear and readable.\n",
    "##### Comments and Markdown notes are advised to direct attention to pieces of code you deem useful."
   ]
  },
  {
   "cell_type": "code",
   "execution_count": null,
   "metadata": {
    "id": "Nkd95oUBo33g"
   },
   "outputs": [],
   "source": [
    "###...code...###"
   ]
  },
  {
   "cell_type": "markdown",
   "metadata": {
    "id": "u6QC-jtCo33g"
   },
   "source": [
    "## The cell below is **NOT** to be removed\n",
    "##### The function is to be amended so that it accepts the given input (dataframe) and returns the required output (list).\n",
    "##### It is recommended to test the function out prior to submission\n",
    "-------------------------------------------------------------------------------------------------------------------------------\n",
    "##### The hidden_data parsed into the function below will have the same layout columns wise as the dataset *SENT* to you\n",
    "##### Thus, ensure that steps taken to modify the initial dataset to fit into the model are also carried out in the function below"
   ]
  },
  {
   "cell_type": "code",
   "execution_count": null,
   "metadata": {
    "id": "_F-hkFC5o33h"
   },
   "outputs": [],
   "source": [
    "def testing_hidden_data(hidden_data: pd.DataFrame) -> list:\n",
    "    '''DO NOT REMOVE THIS FUNCTION.\n",
    "\n",
    "The function accepts a dataframe as input and return an iterable (list)\n",
    "of binary classes as output.\n",
    "\n",
    "The function should be coded to test on hidden data\n",
    "and should include any preprocessing functions needed for your model to perform.\n",
    "\n",
    "All relevant code MUST be included in this function.'''\n",
    "    result = []\n",
    "    return result"
   ]
  },
  {
   "cell_type": "markdown",
   "metadata": {
    "id": "uwWs9dROo33h"
   },
   "source": [
    "##### Cell to check testing_hidden_data function"
   ]
  },
  {
   "cell_type": "code",
   "execution_count": null,
   "metadata": {
    "id": "9MuvoQePo33h"
   },
   "outputs": [],
   "source": [
    "# This cell should output a list of predictions.\n",
    "test_df = pd.read_parquet(filepath)\n",
    "test_df = test_df.drop(columns=['Sales (Domestic Ultimate Total USD)'])\n",
    "print(testing_hidden_data(test_df))"
   ]
  },
  {
   "cell_type": "markdown",
   "metadata": {
    "id": "LUdfB60-o33i"
   },
   "source": [
    "### Please have the filename renamed and ensure that it can be run with the requirements above being met. All the best!"
   ]
  }
 ],
 "metadata": {
  "colab": {
   "include_colab_link": true,
   "provenance": []
  },
  "kernelspec": {
   "display_name": "Python 3 (ipykernel)",
   "language": "python",
   "name": "python3"
  },
  "language_info": {
   "codemirror_mode": {
    "name": "ipython",
    "version": 3
   },
   "file_extension": ".py",
   "mimetype": "text/x-python",
   "name": "python",
   "nbconvert_exporter": "python",
   "pygments_lexer": "ipython3",
   "version": "3.11.5"
  },
  "widgets": {
   "application/vnd.jupyter.widget-state+json": {
    "61d79405935547ccb02f11d3d55113a6": {
     "model_module": "catboost-widget",
     "model_module_version": "^1.0.0",
     "model_name": "CatboostWidgetModel",
     "state": {
      "_dom_classes": [],
      "_model_module": "catboost-widget",
      "_model_module_version": "^1.0.0",
      "_model_name": "CatboostWidgetModel",
      "_view_count": null,
      "_view_module": "catboost-widget",
      "_view_module_version": "^1.0.0",
      "_view_name": "CatboostWidgetView",
      "data": {
       "catboost_info": {
        "content": {
         "data": {
          "iterations": [
           {
            "iteration": 0,
            "learn": [
             21465267110
            ],
            "passed_time": 0.04391882154,
            "remaining_time": 21.91549195,
            "test": [
             21147150320
            ]
           },
           {
            "iteration": 1,
            "learn": [
             21037573260
            ],
            "passed_time": 0.1076937378,
            "remaining_time": 26.81574071,
            "test": [
             20682881680
            ]
           },
           {
            "iteration": 2,
            "learn": [
             20665010630
            ],
            "passed_time": 0.2040397643,
            "remaining_time": 33.80258762,
            "test": [
             20381854230
            ]
           },
           {
            "iteration": 3,
            "learn": [
             20309374390
            ],
            "passed_time": 0.28732411,
            "remaining_time": 35.62818964,
            "test": [
             20016704430
            ]
           },
           {
            "iteration": 4,
            "learn": [
             19901442590
            ],
            "passed_time": 0.3932194294,
            "remaining_time": 38.92872351,
            "test": [
             19623787140
            ]
           },
           {
            "iteration": 5,
            "learn": [
             19510081150
            ],
            "passed_time": 0.4775126087,
            "remaining_time": 39.31520479,
            "test": [
             19217901700
            ]
           },
           {
            "iteration": 6,
            "learn": [
             19210348500
            ],
            "passed_time": 0.5663966526,
            "remaining_time": 39.8905071,
            "test": [
             18966790500
            ]
           },
           {
            "iteration": 7,
            "learn": [
             18867018640
            ],
            "passed_time": 0.6472059477,
            "remaining_time": 39.80316579,
            "test": [
             18650903090
            ]
           },
           {
            "iteration": 8,
            "learn": [
             18526735230
            ],
            "passed_time": 0.7410629446,
            "remaining_time": 40.42910064,
            "test": [
             18357987830
            ]
           },
           {
            "iteration": 9,
            "learn": [
             18212706940
            ],
            "passed_time": 0.8242204122,
            "remaining_time": 40.3868002,
            "test": [
             18078976600
            ]
           },
           {
            "iteration": 10,
            "learn": [
             17909274280
            ],
            "passed_time": 0.9112714525,
            "remaining_time": 40.51015821,
            "test": [
             17768298210
            ]
           },
           {
            "iteration": 11,
            "learn": [
             17666932820
            ],
            "passed_time": 0.9885072138,
            "remaining_time": 40.19929336,
            "test": [
             17621859000
            ]
           },
           {
            "iteration": 12,
            "learn": [
             17400814950
            ],
            "passed_time": 1.079732474,
            "remaining_time": 40.44843961,
            "test": [
             17358940900
            ]
           },
           {
            "iteration": 13,
            "learn": [
             17166598530
            ],
            "passed_time": 1.164682087,
            "remaining_time": 40.43110672,
            "test": [
             17144105040
            ]
           },
           {
            "iteration": 14,
            "learn": [
             16957504390
            ],
            "passed_time": 1.254405325,
            "remaining_time": 40.5591055,
            "test": [
             16978834040
            ]
           },
           {
            "iteration": 15,
            "learn": [
             16733835840
            ],
            "passed_time": 1.344855203,
            "remaining_time": 40.68186988,
            "test": [
             16808506140
            ]
           },
           {
            "iteration": 16,
            "learn": [
             16539081860
            ],
            "passed_time": 1.444458021,
            "remaining_time": 41.03960141,
            "test": [
             16645527460
            ]
           },
           {
            "iteration": 17,
            "learn": [
             16372655940
            ],
            "passed_time": 1.530891938,
            "remaining_time": 40.99388412,
            "test": [
             16494655590
            ]
           },
           {
            "iteration": 18,
            "learn": [
             16171202670
            ],
            "passed_time": 1.623427757,
            "remaining_time": 41.09835532,
            "test": [
             16313382710
            ]
           },
           {
            "iteration": 19,
            "learn": [
             15981191280
            ],
            "passed_time": 1.710210581,
            "remaining_time": 41.04505394,
            "test": [
             16143728320
            ]
           },
           {
            "iteration": 20,
            "learn": [
             15830687810
            ],
            "passed_time": 1.797036603,
            "remaining_time": 40.98954919,
            "test": [
             16009106680
            ]
           },
           {
            "iteration": 21,
            "learn": [
             15697773780
            ],
            "passed_time": 1.885537843,
            "remaining_time": 40.96759496,
            "test": [
             15907581800
            ]
           },
           {
            "iteration": 22,
            "learn": [
             15531663810
            ],
            "passed_time": 1.97012134,
            "remaining_time": 40.85860345,
            "test": [
             15780698980
            ]
           },
           {
            "iteration": 23,
            "learn": [
             15387820190
            ],
            "passed_time": 2.064526691,
            "remaining_time": 40.94644603,
            "test": [
             15701628450
            ]
           },
           {
            "iteration": 24,
            "learn": [
             15241519950
            ],
            "passed_time": 2.155345344,
            "remaining_time": 40.95156154,
            "test": [
             15584421580
            ]
           },
           {
            "iteration": 25,
            "learn": [
             15098055280
            ],
            "passed_time": 2.248868043,
            "remaining_time": 40.99859432,
            "test": [
             15493066200
            ]
           },
           {
            "iteration": 26,
            "learn": [
             14930011990
            ],
            "passed_time": 2.341506408,
            "remaining_time": 41.01972337,
            "test": [
             15370826550
            ]
           },
           {
            "iteration": 27,
            "learn": [
             14786518290
            ],
            "passed_time": 2.453073452,
            "remaining_time": 41.35180962,
            "test": [
             15239270360
            ]
           },
           {
            "iteration": 28,
            "learn": [
             14676991080
            ],
            "passed_time": 2.539534644,
            "remaining_time": 41.24554543,
            "test": [
             15183128800
            ]
           },
           {
            "iteration": 29,
            "learn": [
             14570172400
            ],
            "passed_time": 2.627598675,
            "remaining_time": 41.16571257,
            "test": [
             15101599010
            ]
           },
           {
            "iteration": 30,
            "learn": [
             14471148160
            ],
            "passed_time": 2.713446256,
            "remaining_time": 41.05181594,
            "test": [
             15021079530
            ]
           },
           {
            "iteration": 31,
            "learn": [
             14393573040
            ],
            "passed_time": 2.801261103,
            "remaining_time": 40.96844363,
            "test": [
             14971191770
            ]
           },
           {
            "iteration": 32,
            "learn": [
             14314979940
            ],
            "passed_time": 2.883362054,
            "remaining_time": 40.8039418,
            "test": [
             14935899270
            ]
           },
           {
            "iteration": 33,
            "learn": [
             14205250690
            ],
            "passed_time": 2.983012078,
            "remaining_time": 40.88481259,
            "test": [
             14880712940
            ]
           },
           {
            "iteration": 34,
            "learn": [
             14108904000
            ],
            "passed_time": 3.073481124,
            "remaining_time": 40.83339208,
            "test": [
             14843920840
            ]
           },
           {
            "iteration": 35,
            "learn": [
             14027235200
            ],
            "passed_time": 3.161550891,
            "remaining_time": 40.74887815,
            "test": [
             14821929110
            ]
           },
           {
            "iteration": 36,
            "learn": [
             13959637720
            ],
            "passed_time": 3.276023492,
            "remaining_time": 40.99456423,
            "test": [
             14796237320
            ]
           },
           {
            "iteration": 37,
            "learn": [
             13882126740
            ],
            "passed_time": 3.4438957,
            "remaining_time": 41.8705214,
            "test": [
             14763700550
            ]
           },
           {
            "iteration": 38,
            "learn": [
             13789508430
            ],
            "passed_time": 3.619023378,
            "remaining_time": 42.77871223,
            "test": [
             14700568270
            ]
           },
           {
            "iteration": 39,
            "learn": [
             13703709390
            ],
            "passed_time": 3.79109151,
            "remaining_time": 43.59755236,
            "test": [
             14688051120
            ]
           },
           {
            "iteration": 40,
            "learn": [
             13641105310
            ],
            "passed_time": 3.962596845,
            "remaining_time": 44.36175492,
            "test": [
             14667469520
            ]
           },
           {
            "iteration": 41,
            "learn": [
             13587166140
            ],
            "passed_time": 4.113466657,
            "remaining_time": 44.8563745,
            "test": [
             14635990340
            ]
           },
           {
            "iteration": 42,
            "learn": [
             13516972750
            ],
            "passed_time": 4.286067654,
            "remaining_time": 45.55192832,
            "test": [
             14600794800
            ]
           },
           {
            "iteration": 43,
            "learn": [
             13470737360
            ],
            "passed_time": 4.522059633,
            "remaining_time": 46.86498165,
            "test": [
             14580553900
            ]
           },
           {
            "iteration": 44,
            "learn": [
             13413871640
            ],
            "passed_time": 4.807627475,
            "remaining_time": 48.61045558,
            "test": [
             14535607510
            ]
           },
           {
            "iteration": 45,
            "learn": [
             13363509050
            ],
            "passed_time": 5.250617001,
            "remaining_time": 51.82130692,
            "test": [
             14520087770
            ]
           },
           {
            "iteration": 46,
            "learn": [
             13296817550
            ],
            "passed_time": 5.618375361,
            "remaining_time": 54.15157529,
            "test": [
             14493082190
            ]
           },
           {
            "iteration": 47,
            "learn": [
             13249581370
            ],
            "passed_time": 6.055811177,
            "remaining_time": 57.02555525,
            "test": [
             14468802680
            ]
           },
           {
            "iteration": 48,
            "learn": [
             13191864730
            ],
            "passed_time": 6.416858211,
            "remaining_time": 59.0612868,
            "test": [
             14463075850
            ]
           },
           {
            "iteration": 49,
            "learn": [
             13145177530
            ],
            "passed_time": 6.7139942,
            "remaining_time": 60.4259478,
            "test": [
             14461130900
            ]
           },
           {
            "iteration": 50,
            "learn": [
             13094016130
            ],
            "passed_time": 7.005042768,
            "remaining_time": 61.67184711,
            "test": [
             14447342610
            ]
           },
           {
            "iteration": 51,
            "learn": [
             13027451210
            ],
            "passed_time": 7.203465143,
            "remaining_time": 62.06062277,
            "test": [
             14402451570
            ]
           },
           {
            "iteration": 52,
            "learn": [
             12978880770
            ],
            "passed_time": 7.41031576,
            "remaining_time": 62.49832349,
            "test": [
             14394664590
            ]
           },
           {
            "iteration": 53,
            "learn": [
             12931274160
            ],
            "passed_time": 7.631574315,
            "remaining_time": 63.03115083,
            "test": [
             14381402340
            ]
           },
           {
            "iteration": 54,
            "learn": [
             12899068520
            ],
            "passed_time": 7.845572345,
            "remaining_time": 63.47781261,
            "test": [
             14378024480
            ]
           },
           {
            "iteration": 55,
            "learn": [
             12862023280
            ],
            "passed_time": 8.03515298,
            "remaining_time": 63.70728434,
            "test": [
             14377552320
            ]
           },
           {
            "iteration": 56,
            "learn": [
             12801997190
            ],
            "passed_time": 8.239339493,
            "remaining_time": 64.03556834,
            "test": [
             14345639220
            ]
           },
           {
            "iteration": 57,
            "learn": [
             12767065070
            ],
            "passed_time": 8.401461154,
            "remaining_time": 64.0249281,
            "test": [
             14343873580
            ]
           },
           {
            "iteration": 58,
            "learn": [
             12722524800
            ],
            "passed_time": 8.581644642,
            "remaining_time": 64.14415741,
            "test": [
             14337009890
            ]
           },
           {
            "iteration": 59,
            "learn": [
             12629578290
            ],
            "passed_time": 8.776085241,
            "remaining_time": 64.35795843,
            "test": [
             14316711670
            ]
           },
           {
            "iteration": 60,
            "learn": [
             12568163400
            ],
            "passed_time": 8.881539885,
            "remaining_time": 63.91796737,
            "test": [
             14284938130
            ]
           },
           {
            "iteration": 61,
            "learn": [
             12509415240
            ],
            "passed_time": 8.975507282,
            "remaining_time": 63.40761596,
            "test": [
             14281688620
            ]
           },
           {
            "iteration": 62,
            "learn": [
             12416058420
            ],
            "passed_time": 9.087331182,
            "remaining_time": 63.03434487,
            "test": [
             14265834610
            ]
           },
           {
            "iteration": 63,
            "learn": [
             12331370910
            ],
            "passed_time": 9.173682845,
            "remaining_time": 62.49571438,
            "test": [
             14233612820
            ]
           },
           {
            "iteration": 64,
            "learn": [
             12277501270
            ],
            "passed_time": 9.272977068,
            "remaining_time": 62.05761576,
            "test": [
             14212049790
            ]
           },
           {
            "iteration": 65,
            "learn": [
             12237213870
            ],
            "passed_time": 9.374592075,
            "remaining_time": 61.64504486,
            "test": [
             14214047720
            ]
           },
           {
            "iteration": 66,
            "learn": [
             12206578800
            ],
            "passed_time": 9.475146096,
            "remaining_time": 61.2348994,
            "test": [
             14209800710
            ]
           },
           {
            "iteration": 67,
            "learn": [
             12164159490
            ],
            "passed_time": 9.564578975,
            "remaining_time": 60.76320761,
            "test": [
             14186406390
            ]
           },
           {
            "iteration": 68,
            "learn": [
             12140095190
            ],
            "passed_time": 9.651547793,
            "remaining_time": 60.28720433,
            "test": [
             14181461680
            ]
           },
           {
            "iteration": 69,
            "learn": [
             12103929970
            ],
            "passed_time": 9.745290028,
            "remaining_time": 59.86392445,
            "test": [
             14172875820
            ]
           },
           {
            "iteration": 70,
            "learn": [
             12078557970
            ],
            "passed_time": 9.834664441,
            "remaining_time": 59.42353585,
            "test": [
             14172690220
            ]
           },
           {
            "iteration": 71,
            "learn": [
             12043682700
            ],
            "passed_time": 9.913466145,
            "remaining_time": 58.93004875,
            "test": [
             14168856380
            ]
           },
           {
            "iteration": 72,
            "learn": [
             12023106520
            ],
            "passed_time": 10.02138778,
            "remaining_time": 58.61825453,
            "test": [
             14167332560
            ]
           },
           {
            "iteration": 73,
            "learn": [
             12001593430
            ],
            "passed_time": 10.12338862,
            "remaining_time": 58.27788585,
            "test": [
             14168873710
            ]
           },
           {
            "iteration": 74,
            "learn": [
             11982584400
            ],
            "passed_time": 10.20992834,
            "remaining_time": 57.85626061,
            "test": [
             14172896600
            ]
           },
           {
            "iteration": 75,
            "learn": [
             11938010900
            ],
            "passed_time": 10.30340718,
            "remaining_time": 57.48216635,
            "test": [
             14161689360
            ]
           },
           {
            "iteration": 76,
            "learn": [
             11898082100
            ],
            "passed_time": 10.38768376,
            "remaining_time": 57.06480821,
            "test": [
             14131685980
            ]
           },
           {
            "iteration": 77,
            "learn": [
             11833470500
            ],
            "passed_time": 10.47081371,
            "remaining_time": 56.64978699,
            "test": [
             14122347920
            ]
           },
           {
            "iteration": 78,
            "learn": [
             11816468720
            ],
            "passed_time": 10.56166002,
            "remaining_time": 56.28428946,
            "test": [
             14122340520
            ]
           },
           {
            "iteration": 79,
            "learn": [
             11792706200
            ],
            "passed_time": 10.65797022,
            "remaining_time": 55.95434368,
            "test": [
             14108809830
            ]
           },
           {
            "iteration": 80,
            "learn": [
             11696193160
            ],
            "passed_time": 10.76091748,
            "remaining_time": 55.66449907,
            "test": [
             14086074530
            ]
           },
           {
            "iteration": 81,
            "learn": [
             11663381700
            ],
            "passed_time": 10.86592235,
            "remaining_time": 55.38970171,
            "test": [
             14079592480
            ]
           },
           {
            "iteration": 82,
            "learn": [
             11620568790
            ],
            "passed_time": 11.02181906,
            "remaining_time": 55.37468131,
            "test": [
             14057497050
            ]
           },
           {
            "iteration": 83,
            "learn": [
             11598791640
            ],
            "passed_time": 11.20015851,
            "remaining_time": 55.46745168,
            "test": [
             14047954370
            ]
           },
           {
            "iteration": 84,
            "learn": [
             11558390650
            ],
            "passed_time": 11.35945134,
            "remaining_time": 55.46085067,
            "test": [
             14017140500
            ]
           },
           {
            "iteration": 85,
            "learn": [
             11510329550
            ],
            "passed_time": 11.56468622,
            "remaining_time": 55.67186156,
            "test": [
             14012088600
            ]
           },
           {
            "iteration": 86,
            "learn": [
             11489771790
            ],
            "passed_time": 11.79911602,
            "remaining_time": 56.01189559,
            "test": [
             14010939030
            ]
           },
           {
            "iteration": 87,
            "learn": [
             11465912120
            ],
            "passed_time": 12.03034865,
            "remaining_time": 56.32390505,
            "test": [
             14005754960
            ]
           },
           {
            "iteration": 88,
            "learn": [
             11444883860
            ],
            "passed_time": 12.26181762,
            "remaining_time": 56.62479824,
            "test": [
             14004332940
            ]
           },
           {
            "iteration": 89,
            "learn": [
             11422454610
            ],
            "passed_time": 12.38387743,
            "remaining_time": 56.41544163,
            "test": [
             13993560000
            ]
           },
           {
            "iteration": 90,
            "learn": [
             11385127180
            ],
            "passed_time": 12.5558944,
            "remaining_time": 56.43253638,
            "test": [
             13978976380
            ]
           },
           {
            "iteration": 91,
            "learn": [
             11361744850
            ],
            "passed_time": 12.73539747,
            "remaining_time": 56.47871923,
            "test": [
             13975868830
            ]
           },
           {
            "iteration": 92,
            "learn": [
             11348052000
            ],
            "passed_time": 12.92544898,
            "remaining_time": 56.56621222,
            "test": [
             13977080820
            ]
           },
           {
            "iteration": 93,
            "learn": [
             11328741330
            ],
            "passed_time": 13.13451919,
            "remaining_time": 56.7299446,
            "test": [
             13971740990
            ]
           },
           {
            "iteration": 94,
            "learn": [
             11322863080
            ],
            "passed_time": 13.21478945,
            "remaining_time": 56.33673398,
            "test": [
             13970244160
            ]
           },
           {
            "iteration": 95,
            "learn": [
             11302829370
            ],
            "passed_time": 13.3294607,
            "remaining_time": 56.09481376,
            "test": [
             13961069100
            ]
           },
           {
            "iteration": 96,
            "learn": [
             11298348590
            ],
            "passed_time": 13.4276228,
            "remaining_time": 55.78692771,
            "test": [
             13959441420
            ]
           },
           {
            "iteration": 97,
            "learn": [
             11263437650
            ],
            "passed_time": 13.51062568,
            "remaining_time": 55.42113798,
            "test": [
             13932807180
            ]
           },
           {
            "iteration": 98,
            "learn": [
             11240169540
            ],
            "passed_time": 13.60196711,
            "remaining_time": 55.09483647,
            "test": [
             13926714020
            ]
           },
           {
            "iteration": 99,
            "learn": [
             11155764110
            ],
            "passed_time": 13.70851414,
            "remaining_time": 54.83405657,
            "test": [
             13888475600
            ]
           },
           {
            "iteration": 100,
            "learn": [
             11151743970
            ],
            "passed_time": 13.74927258,
            "remaining_time": 54.31643327,
            "test": [
             13886201570
            ]
           },
           {
            "iteration": 101,
            "learn": [
             11132104280
            ],
            "passed_time": 13.85347273,
            "remaining_time": 54.05570733,
            "test": [
             13882974110
            ]
           },
           {
            "iteration": 102,
            "learn": [
             11098304460
            ],
            "passed_time": 13.95458252,
            "remaining_time": 53.78610931,
            "test": [
             13879074090
            ]
           },
           {
            "iteration": 103,
            "learn": [
             11064657560
            ],
            "passed_time": 14.06525985,
            "remaining_time": 53.55618173,
            "test": [
             13867193730
            ]
           },
           {
            "iteration": 104,
            "learn": [
             11039244830
            ],
            "passed_time": 14.14950288,
            "remaining_time": 53.22908225,
            "test": [
             13869176600
            ]
           },
           {
            "iteration": 105,
            "learn": [
             11028077420
            ],
            "passed_time": 14.24306938,
            "remaining_time": 52.94122014,
            "test": [
             13866728570
            ]
           },
           {
            "iteration": 106,
            "learn": [
             11009211460
            ],
            "passed_time": 14.33304681,
            "remaining_time": 52.64380744,
            "test": [
             13873620370
            ]
           },
           {
            "iteration": 107,
            "learn": [
             10991318320
            ],
            "passed_time": 14.42778457,
            "remaining_time": 52.36751438,
            "test": [
             13860326560
            ]
           },
           {
            "iteration": 108,
            "learn": [
             10965869990
            ],
            "passed_time": 14.51380244,
            "remaining_time": 52.06327298,
            "test": [
             13838844760
            ]
           },
           {
            "iteration": 109,
            "learn": [
             10953221780
            ],
            "passed_time": 14.61805801,
            "remaining_time": 51.82766022,
            "test": [
             13833472400
            ]
           },
           {
            "iteration": 110,
            "learn": [
             10932001380
            ],
            "passed_time": 14.71895734,
            "remaining_time": 51.58265231,
            "test": [
             13825270820
            ]
           },
           {
            "iteration": 111,
            "learn": [
             10915021380
            ],
            "passed_time": 14.82909687,
            "remaining_time": 51.37222843,
            "test": [
             13821072150
            ]
           },
           {
            "iteration": 112,
            "learn": [
             10859711740
            ],
            "passed_time": 14.92284779,
            "remaining_time": 51.10745218,
            "test": [
             13815611810
            ]
           },
           {
            "iteration": 113,
            "learn": [
             10846436800
            ],
            "passed_time": 15.02321055,
            "remaining_time": 50.86806379,
            "test": [
             13816502130
            ]
           },
           {
            "iteration": 114,
            "learn": [
             10828603820
            ],
            "passed_time": 15.13979835,
            "remaining_time": 50.68541186,
            "test": [
             13804168580
            ]
           },
           {
            "iteration": 115,
            "learn": [
             10819902830
            ],
            "passed_time": 15.23170849,
            "remaining_time": 50.4222074,
            "test": [
             13801039360
            ]
           },
           {
            "iteration": 116,
            "learn": [
             10756029950
            ],
            "passed_time": 15.32495418,
            "remaining_time": 50.16630301,
            "test": [
             13756742190
            ]
           },
           {
            "iteration": 117,
            "learn": [
             10750145290
            ],
            "passed_time": 15.35624665,
            "remaining_time": 49.71259508,
            "test": [
             13756369570
            ]
           },
           {
            "iteration": 118,
            "learn": [
             10744105290
            ],
            "passed_time": 15.4485374,
            "remaining_time": 49.46128361,
            "test": [
             13750291670
            ]
           },
           {
            "iteration": 119,
            "learn": [
             10735880040
            ],
            "passed_time": 15.55797424,
            "remaining_time": 49.26691843,
            "test": [
             13749266880
            ]
           },
           {
            "iteration": 120,
            "learn": [
             10721458310
            ],
            "passed_time": 15.65120108,
            "remaining_time": 49.02318356,
            "test": [
             13746013820
            ]
           },
           {
            "iteration": 121,
            "learn": [
             10706912860
            ],
            "passed_time": 15.73040947,
            "remaining_time": 48.73848179,
            "test": [
             13740572710
            ]
           },
           {
            "iteration": 122,
            "learn": [
             10687547150
            ],
            "passed_time": 15.84393913,
            "remaining_time": 48.56231749,
            "test": [
             13739253510
            ]
           },
           {
            "iteration": 123,
            "learn": [
             10658829880
            ],
            "passed_time": 15.93100006,
            "remaining_time": 48.30690341,
            "test": [
             13747137360
            ]
           },
           {
            "iteration": 124,
            "learn": [
             10643301280
            ],
            "passed_time": 16.02443748,
            "remaining_time": 48.07331243,
            "test": [
             13741654810
            ]
           },
           {
            "iteration": 125,
            "learn": [
             10633329470
            ],
            "passed_time": 16.12831682,
            "remaining_time": 47.87294039,
            "test": [
             13741934460
            ]
           },
           {
            "iteration": 126,
            "learn": [
             10596967440
            ],
            "passed_time": 16.21262257,
            "remaining_time": 47.61660015,
            "test": [
             13742632760
            ]
           },
           {
            "iteration": 127,
            "learn": [
             10585705680
            ],
            "passed_time": 16.31830181,
            "remaining_time": 47.42506464,
            "test": [
             13744639270
            ]
           },
           {
            "iteration": 128,
            "learn": [
             10572114480
            ],
            "passed_time": 16.40308837,
            "remaining_time": 47.17477353,
            "test": [
             13742829860
            ]
           },
           {
            "iteration": 129,
            "learn": [
             10545482400
            ],
            "passed_time": 16.49656979,
            "remaining_time": 46.95177557,
            "test": [
             13723281610
            ]
           },
           {
            "iteration": 130,
            "learn": [
             10525639030
            ],
            "passed_time": 16.59968336,
            "remaining_time": 46.75788672,
            "test": [
             13715246860
            ]
           },
           {
            "iteration": 131,
            "learn": [
             10513895450
            ],
            "passed_time": 16.68857748,
            "remaining_time": 46.52573115,
            "test": [
             13712777950
            ]
           },
           {
            "iteration": 132,
            "learn": [
             10491615110
            ],
            "passed_time": 16.77693134,
            "remaining_time": 46.29423912,
            "test": [
             13692385450
            ]
           },
           {
            "iteration": 133,
            "learn": [
             10476336680
            ],
            "passed_time": 16.88086755,
            "remaining_time": 46.10744421,
            "test": [
             13686650350
            ]
           },
           {
            "iteration": 134,
            "learn": [
             10415153450
            ],
            "passed_time": 16.98431918,
            "remaining_time": 45.92056668,
            "test": [
             13679985720
            ]
           },
           {
            "iteration": 135,
            "learn": [
             10397780590
            ],
            "passed_time": 17.13681741,
            "remaining_time": 45.86618779,
            "test": [
             13673966650
            ]
           },
           {
            "iteration": 136,
            "learn": [
             10381664510
            ],
            "passed_time": 17.32832615,
            "remaining_time": 45.9137401,
            "test": [
             13667777810
            ]
           },
           {
            "iteration": 137,
            "learn": [
             10366617540
            ],
            "passed_time": 17.50188313,
            "remaining_time": 45.9107369,
            "test": [
             13666744370
            ]
           },
           {
            "iteration": 138,
            "learn": [
             10340634960
            ],
            "passed_time": 17.70130047,
            "remaining_time": 45.97244222,
            "test": [
             13648429120
            ]
           },
           {
            "iteration": 139,
            "learn": [
             10328512920
            ],
            "passed_time": 17.88640136,
            "remaining_time": 45.9936035,
            "test": [
             13648130020
            ]
           },
           {
            "iteration": 140,
            "learn": [
             10316226110
            ],
            "passed_time": 18.08518185,
            "remaining_time": 46.04666869,
            "test": [
             13646781910
            ]
           },
           {
            "iteration": 141,
            "learn": [
             10309739820
            ],
            "passed_time": 18.27724289,
            "remaining_time": 46.07924617,
            "test": [
             13645879250
            ]
           },
           {
            "iteration": 142,
            "learn": [
             10295415710
            ],
            "passed_time": 18.46407785,
            "remaining_time": 46.0956349,
            "test": [
             13641484330
            ]
           },
           {
            "iteration": 143,
            "learn": [
             10277899980
            ],
            "passed_time": 18.65661209,
            "remaining_time": 46.12329099,
            "test": [
             13628880940
            ]
           },
           {
            "iteration": 144,
            "learn": [
             10259169640
            ],
            "passed_time": 18.8261704,
            "remaining_time": 46.09165857,
            "test": [
             13619498520
            ]
           },
           {
            "iteration": 145,
            "learn": [
             10250664240
            ],
            "passed_time": 19.01984921,
            "remaining_time": 46.11662069,
            "test": [
             13620289430
            ]
           },
           {
            "iteration": 146,
            "learn": [
             10242713690
            ],
            "passed_time": 19.2406749,
            "remaining_time": 46.20379756,
            "test": [
             13621754410
            ]
           },
           {
            "iteration": 147,
            "learn": [
             10215053410
            ],
            "passed_time": 19.4199981,
            "remaining_time": 46.18810359,
            "test": [
             13616267740
            ]
           },
           {
            "iteration": 148,
            "learn": [
             10205167520
            ],
            "passed_time": 19.60453454,
            "remaining_time": 46.18249412,
            "test": [
             13614238660
            ]
           },
           {
            "iteration": 149,
            "learn": [
             10195570890
            ],
            "passed_time": 19.90379823,
            "remaining_time": 46.44219586,
            "test": [
             13608903250
            ]
           },
           {
            "iteration": 150,
            "learn": [
             10129783750
            ],
            "passed_time": 20.17315939,
            "remaining_time": 46.62538163,
            "test": [
             13602744200
            ]
           },
           {
            "iteration": 151,
            "learn": [
             10120788680
            ],
            "passed_time": 20.45736856,
            "remaining_time": 46.83660696,
            "test": [
             13601235400
            ]
           },
           {
            "iteration": 152,
            "learn": [
             10054043290
            ],
            "passed_time": 20.72114351,
            "remaining_time": 46.99501175,
            "test": [
             13594255420
            ]
           },
           {
            "iteration": 153,
            "learn": [
             10051331080
            ],
            "passed_time": 20.78640298,
            "remaining_time": 46.70191838,
            "test": [
             13594800860
            ]
           },
           {
            "iteration": 154,
            "learn": [
             10030866900
            ],
            "passed_time": 20.9735455,
            "remaining_time": 46.68305288,
            "test": [
             13586619070
            ]
           },
           {
            "iteration": 155,
            "learn": [
             10023412240
            ],
            "passed_time": 21.27622749,
            "remaining_time": 46.91680933,
            "test": [
             13583353000
            ]
           },
           {
            "iteration": 156,
            "learn": [
             10016404560
            ],
            "passed_time": 21.55963221,
            "remaining_time": 47.10161686,
            "test": [
             13581799430
            ]
           },
           {
            "iteration": 157,
            "learn": [
             10005785820
            ],
            "passed_time": 21.80517948,
            "remaining_time": 47.19855305,
            "test": [
             13584237070
            ]
           },
           {
            "iteration": 158,
            "learn": [
             9981454893
            ],
            "passed_time": 22.08301761,
            "remaining_time": 47.360434,
            "test": [
             13561065270
            ]
           },
           {
            "iteration": 159,
            "learn": [
             9975014129
            ],
            "passed_time": 22.34344665,
            "remaining_time": 47.47982413,
            "test": [
             13562233110
            ]
           },
           {
            "iteration": 160,
            "learn": [
             9952842833
            ],
            "passed_time": 22.53645112,
            "remaining_time": 47.45252752,
            "test": [
             13562454790
            ]
           },
           {
            "iteration": 161,
            "learn": [
             9942531989
            ],
            "passed_time": 22.73220408,
            "remaining_time": 47.42891962,
            "test": [
             13564546070
            ]
           },
           {
            "iteration": 162,
            "learn": [
             9938229868
            ],
            "passed_time": 22.83060406,
            "remaining_time": 47.20192372,
            "test": [
             13564392880
            ]
           },
           {
            "iteration": 163,
            "learn": [
             9922020241
            ],
            "passed_time": 23.01558561,
            "remaining_time": 47.15388271,
            "test": [
             13567479690
            ]
           },
           {
            "iteration": 164,
            "learn": [
             9914935445
            ],
            "passed_time": 23.2652383,
            "remaining_time": 47.23548382,
            "test": [
             13569073940
            ]
           },
           {
            "iteration": 165,
            "learn": [
             9902324079
            ],
            "passed_time": 23.52783661,
            "remaining_time": 47.33914114,
            "test": [
             13568082390
            ]
           },
           {
            "iteration": 166,
            "learn": [
             9848971147
            ],
            "passed_time": 23.71574368,
            "remaining_time": 47.28947691,
            "test": [
             13566334010
            ]
           },
           {
            "iteration": 167,
            "learn": [
             9839107924
            ],
            "passed_time": 23.92839814,
            "remaining_time": 47.28707251,
            "test": [
             13567170440
            ]
           },
           {
            "iteration": 168,
            "learn": [
             9809423383
            ],
            "passed_time": 24.19330528,
            "remaining_time": 47.384521,
            "test": [
             13556576750
            ]
           },
           {
            "iteration": 169,
            "learn": [
             9789823435
            ],
            "passed_time": 24.53252213,
            "remaining_time": 47.62195473,
            "test": [
             13548504160
            ]
           },
           {
            "iteration": 170,
            "learn": [
             9779271537
            ],
            "passed_time": 24.89008027,
            "remaining_time": 47.88793222,
            "test": [
             13548203140
            ]
           },
           {
            "iteration": 171,
            "learn": [
             9757812845
            ],
            "passed_time": 25.20699334,
            "remaining_time": 48.06915009,
            "test": [
             13539438240
            ]
           },
           {
            "iteration": 172,
            "learn": [
             9750010441
            ],
            "passed_time": 25.43402102,
            "remaining_time": 48.07471026,
            "test": [
             13536027840
            ]
           },
           {
            "iteration": 173,
            "learn": [
             9741306766
            ],
            "passed_time": 25.66184899,
            "remaining_time": 48.07909639,
            "test": [
             13536148130
            ]
           },
           {
            "iteration": 174,
            "learn": [
             9721211659
            ],
            "passed_time": 25.90087982,
            "remaining_time": 48.10163395,
            "test": [
             13539732340
            ]
           },
           {
            "iteration": 175,
            "learn": [
             9709950713
            ],
            "passed_time": 26.10814196,
            "remaining_time": 48.06271588,
            "test": [
             13533964800
            ]
           },
           {
            "iteration": 176,
            "learn": [
             9693817981
            ],
            "passed_time": 26.32970394,
            "remaining_time": 48.04799081,
            "test": [
             13528652870
            ]
           },
           {
            "iteration": 177,
            "learn": [
             9687791762
            ],
            "passed_time": 26.58547268,
            "remaining_time": 48.09282137,
            "test": [
             13529425340
            ]
           },
           {
            "iteration": 178,
            "learn": [
             9671696971
            ],
            "passed_time": 26.79003095,
            "remaining_time": 48.04245773,
            "test": [
             13526690480
            ]
           },
           {
            "iteration": 179,
            "learn": [
             9655693391
            ],
            "passed_time": 26.99533843,
            "remaining_time": 47.99171277,
            "test": [
             13525900420
            ]
           },
           {
            "iteration": 180,
            "learn": [
             9644458262
            ],
            "passed_time": 27.20426009,
            "remaining_time": 47.94562966,
            "test": [
             13520282730
            ]
           },
           {
            "iteration": 181,
            "learn": [
             9622107277
            ],
            "passed_time": 27.42291273,
            "remaining_time": 47.9147596,
            "test": [
             13508877300
            ]
           },
           {
            "iteration": 182,
            "learn": [
             9615780034
            ],
            "passed_time": 27.65114953,
            "remaining_time": 47.89843935,
            "test": [
             13507549850
            ]
           },
           {
            "iteration": 183,
            "learn": [
             9595208273
            ],
            "passed_time": 27.87786607,
            "remaining_time": 47.87720476,
            "test": [
             13506512990
            ]
           },
           {
            "iteration": 184,
            "learn": [
             9585793080
            ],
            "passed_time": 28.11309924,
            "remaining_time": 47.86825006,
            "test": [
             13507397410
            ]
           },
           {
            "iteration": 185,
            "learn": [
             9579836375
            ],
            "passed_time": 28.36470492,
            "remaining_time": 47.88450185,
            "test": [
             13505199340
            ]
           },
           {
            "iteration": 186,
            "learn": [
             9570600015
            ],
            "passed_time": 28.63003253,
            "remaining_time": 47.92085658,
            "test": [
             13502432790
            ]
           },
           {
            "iteration": 187,
            "learn": [
             9562068596
            ],
            "passed_time": 28.75468323,
            "remaining_time": 47.72053813,
            "test": [
             13494954850
            ]
           },
           {
            "iteration": 188,
            "learn": [
             9560707160
            ],
            "passed_time": 28.77614167,
            "remaining_time": 47.35121724,
            "test": [
             13494308620
            ]
           },
           {
            "iteration": 189,
            "learn": [
             9545672401
            ],
            "passed_time": 28.87854011,
            "remaining_time": 47.11761808,
            "test": [
             13489823530
            ]
           },
           {
            "iteration": 190,
            "learn": [
             9542037534
            ],
            "passed_time": 29.06596629,
            "remaining_time": 47.02295069,
            "test": [
             13490371810
            ]
           },
           {
            "iteration": 191,
            "learn": [
             9521030963
            ],
            "passed_time": 29.27797387,
            "remaining_time": 46.96674976,
            "test": [
             13479484860
            ]
           },
           {
            "iteration": 192,
            "learn": [
             9519419661
            ],
            "passed_time": 29.44817608,
            "remaining_time": 46.84243552,
            "test": [
             13479828920
            ]
           },
           {
            "iteration": 193,
            "learn": [
             9510686721
            ],
            "passed_time": 29.69639121,
            "remaining_time": 46.84069953,
            "test": [
             13479444520
            ]
           },
           {
            "iteration": 194,
            "learn": [
             9490382477
            ],
            "passed_time": 29.86708292,
            "remaining_time": 46.71518097,
            "test": [
             13471364940
            ]
           },
           {
            "iteration": 195,
            "learn": [
             9477080607
            ],
            "passed_time": 30.04959282,
            "remaining_time": 46.60753172,
            "test": [
             13471658250
            ]
           },
           {
            "iteration": 196,
            "learn": [
             9470668527
            ],
            "passed_time": 30.22837922,
            "remaining_time": 46.49339546,
            "test": [
             13471113990
            ]
           },
           {
            "iteration": 197,
            "learn": [
             9462918044
            ],
            "passed_time": 30.44368822,
            "remaining_time": 46.43431234,
            "test": [
             13468826540
            ]
           },
           {
            "iteration": 198,
            "learn": [
             9448442845
            ],
            "passed_time": 30.61971084,
            "remaining_time": 46.314236,
            "test": [
             13467499010
            ]
           },
           {
            "iteration": 199,
            "learn": [
             9397671624
            ],
            "passed_time": 30.91099591,
            "remaining_time": 46.36649387,
            "test": [
             13452648360
            ]
           },
           {
            "iteration": 200,
            "learn": [
             9380049959
            ],
            "passed_time": 31.13798565,
            "remaining_time": 46.31969009,
            "test": [
             13450811390
            ]
           },
           {
            "iteration": 201,
            "learn": [
             9367575536
            ],
            "passed_time": 31.347402,
            "remaining_time": 46.24517722,
            "test": [
             13445614980
            ]
           },
           {
            "iteration": 202,
            "learn": [
             9352451716
            ],
            "passed_time": 31.65323819,
            "remaining_time": 46.31040268,
            "test": [
             13441839540
            ]
           },
           {
            "iteration": 203,
            "learn": [
             9346768936
            ],
            "passed_time": 31.93746205,
            "remaining_time": 46.34063121,
            "test": [
             13438654980
            ]
           },
           {
            "iteration": 204,
            "learn": [
             9336825020
            ],
            "passed_time": 32.12018044,
            "remaining_time": 46.22172307,
            "test": [
             13442549460
            ]
           },
           {
            "iteration": 205,
            "learn": [
             9332898674
            ],
            "passed_time": 32.31848412,
            "remaining_time": 46.1244385,
            "test": [
             13441577940
            ]
           },
           {
            "iteration": 206,
            "learn": [
             9319675610
            ],
            "passed_time": 32.53705854,
            "remaining_time": 46.0548703,
            "test": [
             13438037140
            ]
           },
           {
            "iteration": 207,
            "learn": [
             9305649285
            ],
            "passed_time": 32.67620793,
            "remaining_time": 45.87236883,
            "test": [
             13440611670
            ]
           },
           {
            "iteration": 208,
            "learn": [
             9294560669
            ],
            "passed_time": 32.86171051,
            "remaining_time": 45.75482181,
            "test": [
             13435429190
            ]
           },
           {
            "iteration": 209,
            "learn": [
             9282001479
            ],
            "passed_time": 33.02256741,
            "remaining_time": 45.60259309,
            "test": [
             13436234740
            ]
           },
           {
            "iteration": 210,
            "learn": [
             9276271105
            ],
            "passed_time": 33.21514514,
            "remaining_time": 45.4937296,
            "test": [
             13439465610
            ]
           },
           {
            "iteration": 211,
            "learn": [
             9266381791
            ],
            "passed_time": 33.37019381,
            "remaining_time": 45.33309348,
            "test": [
             13435218080
            ]
           },
           {
            "iteration": 212,
            "learn": [
             9213050496
            ],
            "passed_time": 33.59428256,
            "remaining_time": 45.26553565,
            "test": [
             13427444290
            ]
           },
           {
            "iteration": 213,
            "learn": [
             9199458644
            ],
            "passed_time": 33.74723457,
            "remaining_time": 45.10144433,
            "test": [
             13424229990
            ]
           },
           {
            "iteration": 214,
            "learn": [
             9192644488
            ],
            "passed_time": 33.94415489,
            "remaining_time": 44.9957402,
            "test": [
             13421691360
            ]
           },
           {
            "iteration": 215,
            "learn": [
             9186568038
            ],
            "passed_time": 34.14005756,
            "remaining_time": 44.88785346,
            "test": [
             13420562550
            ]
           },
           {
            "iteration": 216,
            "learn": [
             9182056531
            ],
            "passed_time": 34.30685389,
            "remaining_time": 44.74119654,
            "test": [
             13417988270
            ]
           },
           {
            "iteration": 217,
            "learn": [
             9175458756
            ],
            "passed_time": 34.40521654,
            "remaining_time": 44.50583057,
            "test": [
             13420746320
            ]
           },
           {
            "iteration": 218,
            "learn": [
             9162762379
            ],
            "passed_time": 34.50969828,
            "remaining_time": 44.2795672,
            "test": [
             13420504100
            ]
           },
           {
            "iteration": 219,
            "learn": [
             9144363196
            ],
            "passed_time": 34.63242675,
            "remaining_time": 44.07763404,
            "test": [
             13420078020
            ]
           },
           {
            "iteration": 220,
            "learn": [
             9132072532
            ],
            "passed_time": 34.72471315,
            "remaining_time": 43.83798628,
            "test": [
             13412237020
            ]
           },
           {
            "iteration": 221,
            "learn": [
             9117060422
            ],
            "passed_time": 34.82289541,
            "remaining_time": 43.60704921,
            "test": [
             13409503120
            ]
           },
           {
            "iteration": 222,
            "learn": [
             9100309995
            ],
            "passed_time": 34.91470265,
            "remaining_time": 43.36938401,
            "test": [
             13410737890
            ]
           },
           {
            "iteration": 223,
            "learn": [
             9085464885
            ],
            "passed_time": 35.00400601,
            "remaining_time": 43.12993598,
            "test": [
             13407685710
            ]
           },
           {
            "iteration": 224,
            "learn": [
             9067863943
            ],
            "passed_time": 35.08077091,
            "remaining_time": 42.87649778,
            "test": [
             13382489700
            ]
           },
           {
            "iteration": 225,
            "learn": [
             9053903450
            ],
            "passed_time": 35.171222,
            "remaining_time": 42.64121606,
            "test": [
             13378695700
            ]
           },
           {
            "iteration": 226,
            "learn": [
             9046478022
            ],
            "passed_time": 35.27979043,
            "remaining_time": 42.42899907,
            "test": [
             13381171010
            ]
           },
           {
            "iteration": 227,
            "learn": [
             9028461808
            ],
            "passed_time": 35.37025042,
            "remaining_time": 42.19608822,
            "test": [
             13382415410
            ]
           },
           {
            "iteration": 228,
            "learn": [
             9013423485
            ],
            "passed_time": 35.45530584,
            "remaining_time": 41.95802569,
            "test": [
             13383830650
            ]
           },
           {
            "iteration": 229,
            "learn": [
             9009366927
            ],
            "passed_time": 35.57726781,
            "remaining_time": 41.76461873,
            "test": [
             13381750220
            ]
           },
           {
            "iteration": 230,
            "learn": [
             8989931135
            ],
            "passed_time": 35.67406606,
            "remaining_time": 41.54252714,
            "test": [
             13387106640
            ]
           },
           {
            "iteration": 231,
            "learn": [
             8975687726
            ],
            "passed_time": 35.77142184,
            "remaining_time": 41.32215971,
            "test": [
             13386619870
            ]
           },
           {
            "iteration": 232,
            "learn": [
             8965686823
            ],
            "passed_time": 35.85921299,
            "remaining_time": 41.09188784,
            "test": [
             13383266890
            ]
           },
           {
            "iteration": 233,
            "learn": [
             8959035813
            ],
            "passed_time": 35.95531688,
            "remaining_time": 40.87228329,
            "test": [
             13383482520
            ]
           },
           {
            "iteration": 234,
            "learn": [
             8942948873
            ],
            "passed_time": 36.03962307,
            "remaining_time": 40.64042602,
            "test": [
             13380482160
            ]
           },
           {
            "iteration": 235,
            "learn": [
             8932667745
            ],
            "passed_time": 36.12656447,
            "remaining_time": 40.41276703,
            "test": [
             13373258690
            ]
           },
           {
            "iteration": 236,
            "learn": [
             8924051220
            ],
            "passed_time": 36.22898114,
            "remaining_time": 40.20346852,
            "test": [
             13367687730
            ]
           },
           {
            "iteration": 237,
            "learn": [
             8915913374
            ],
            "passed_time": 36.32821194,
            "remaining_time": 39.99156104,
            "test": [
             13369391620
            ]
           },
           {
            "iteration": 238,
            "learn": [
             8903685387
            ],
            "passed_time": 36.42054503,
            "remaining_time": 39.77306381,
            "test": [
             13360021650
            ]
           },
           {
            "iteration": 239,
            "learn": [
             8899636584
            ],
            "passed_time": 36.52075736,
            "remaining_time": 39.56415381,
            "test": [
             13362424210
            ]
           },
           {
            "iteration": 240,
            "learn": [
             8890842790
            ],
            "passed_time": 36.6473328,
            "remaining_time": 39.38447798,
            "test": [
             13363391450
            ]
           },
           {
            "iteration": 241,
            "learn": [
             8872481828
            ],
            "passed_time": 36.74387209,
            "remaining_time": 39.17321901,
            "test": [
             13364352820
            ]
           },
           {
            "iteration": 242,
            "learn": [
             8862294418
            ],
            "passed_time": 36.83562701,
            "remaining_time": 38.9578442,
            "test": [
             13365228030
            ]
           },
           {
            "iteration": 243,
            "learn": [
             8816375328
            ],
            "passed_time": 36.94342315,
            "remaining_time": 38.76031281,
            "test": [
             13365810270
            ]
           },
           {
            "iteration": 244,
            "learn": [
             8807447021
            ],
            "passed_time": 37.0311331,
            "remaining_time": 38.54260792,
            "test": [
             13363486080
            ]
           },
           {
            "iteration": 245,
            "learn": [
             8795870483
            ],
            "passed_time": 37.13061302,
            "remaining_time": 38.33811263,
            "test": [
             13363383180
            ]
           },
           {
            "iteration": 246,
            "learn": [
             8778439545
            ],
            "passed_time": 37.23223356,
            "remaining_time": 38.13666029,
            "test": [
             13363128280
            ]
           },
           {
            "iteration": 247,
            "learn": [
             8771364241
            ],
            "passed_time": 37.34059997,
            "remaining_time": 37.94286771,
            "test": [
             13361502570
            ]
           },
           {
            "iteration": 248,
            "learn": [
             8761097602
            ],
            "passed_time": 37.44000258,
            "remaining_time": 37.7407255,
            "test": [
             13354609710
            ]
           },
           {
            "iteration": 249,
            "learn": [
             8751695669
            ],
            "passed_time": 37.5309467,
            "remaining_time": 37.5309467,
            "test": [
             13358082720
            ]
           },
           {
            "iteration": 250,
            "learn": [
             8741778038
            ],
            "passed_time": 37.63749456,
            "remaining_time": 37.33759421,
            "test": [
             13353333760
            ]
           },
           {
            "iteration": 251,
            "learn": [
             8732603030
            ],
            "passed_time": 37.74004433,
            "remaining_time": 37.140996,
            "test": [
             13352988370
            ]
           },
           {
            "iteration": 252,
            "learn": [
             8718793533
            ],
            "passed_time": 37.82681605,
            "remaining_time": 36.92973741,
            "test": [
             13351193200
            ]
           },
           {
            "iteration": 253,
            "learn": [
             8716240263
            ],
            "passed_time": 37.92196882,
            "remaining_time": 36.7275761,
            "test": [
             13351596990
            ]
           },
           {
            "iteration": 254,
            "learn": [
             8701653584
            ],
            "passed_time": 38.02512004,
            "remaining_time": 36.53393887,
            "test": [
             13352760930
            ]
           },
           {
            "iteration": 255,
            "learn": [
             8684575250
            ],
            "passed_time": 38.12151064,
            "remaining_time": 36.33456483,
            "test": [
             13337206860
            ]
           },
           {
            "iteration": 256,
            "learn": [
             8678003534
            ],
            "passed_time": 38.22192618,
            "remaining_time": 36.1397979,
            "test": [
             13335227040
            ]
           },
           {
            "iteration": 257,
            "learn": [
             8667467321
            ],
            "passed_time": 38.32386813,
            "remaining_time": 35.94719413,
            "test": [
             13332303440
            ]
           },
           {
            "iteration": 258,
            "learn": [
             8661081116
            ],
            "passed_time": 38.42554853,
            "remaining_time": 35.75504708,
            "test": [
             13331995750
            ]
           },
           {
            "iteration": 259,
            "learn": [
             8652980540
            ],
            "passed_time": 38.51944306,
            "remaining_time": 35.55640898,
            "test": [
             13331844700
            ]
           },
           {
            "iteration": 260,
            "learn": [
             8638078958
            ],
            "passed_time": 38.63882528,
            "remaining_time": 35.3819128,
            "test": [
             13323816170
            ]
           },
           {
            "iteration": 261,
            "learn": [
             8627807978
            ],
            "passed_time": 38.74866279,
            "remaining_time": 35.19916696,
            "test": [
             13326630070
            ]
           },
           {
            "iteration": 262,
            "learn": [
             8615377437
            ],
            "passed_time": 38.84684775,
            "remaining_time": 35.00647497,
            "test": [
             13328472600
            ]
           },
           {
            "iteration": 263,
            "learn": [
             8599790710
            ],
            "passed_time": 38.93522183,
            "remaining_time": 34.80572861,
            "test": [
             13330399580
            ]
           },
           {
            "iteration": 264,
            "learn": [
             8585728560
            ],
            "passed_time": 39.03333993,
            "remaining_time": 34.61447126,
            "test": [
             13331275530
            ]
           },
           {
            "iteration": 265,
            "learn": [
             8571888441
            ],
            "passed_time": 39.11725308,
            "remaining_time": 34.41141812,
            "test": [
             13330968500
            ]
           },
           {
            "iteration": 266,
            "learn": [
             8558887344
            ],
            "passed_time": 39.21840932,
            "remaining_time": 34.22430476,
            "test": [
             13334094120
            ]
           },
           {
            "iteration": 267,
            "learn": [
             8546346456
            ],
            "passed_time": 39.31353918,
            "remaining_time": 34.032616,
            "test": [
             13335071980
            ]
           },
           {
            "iteration": 268,
            "learn": [
             8539429304
            ],
            "passed_time": 39.4055752,
            "remaining_time": 33.83898837,
            "test": [
             13334701150
            ]
           },
           {
            "iteration": 269,
            "learn": [
             8520182837
            ],
            "passed_time": 39.48752867,
            "remaining_time": 33.63752442,
            "test": [
             13334990930
            ]
           },
           {
            "iteration": 270,
            "learn": [
             8508382372
            ],
            "passed_time": 39.58593348,
            "remaining_time": 33.45084416,
            "test": [
             13336283990
            ]
           },
           {
            "iteration": 271,
            "learn": [
             8496902524
            ],
            "passed_time": 39.67591839,
            "remaining_time": 33.25775512,
            "test": [
             13337128780
            ]
           },
           {
            "iteration": 272,
            "learn": [
             8489507267
            ],
            "passed_time": 39.77918941,
            "remaining_time": 33.07646885,
            "test": [
             13334999010
            ]
           },
           {
            "iteration": 273,
            "learn": [
             8481123115
            ],
            "passed_time": 39.87739922,
            "remaining_time": 32.89157746,
            "test": [
             13334861490
            ]
           },
           {
            "iteration": 274,
            "learn": [
             8469194647
            ],
            "passed_time": 39.97562825,
            "remaining_time": 32.7073322,
            "test": [
             13335979790
            ]
           },
           {
            "iteration": 275,
            "learn": [
             8461864844
            ],
            "passed_time": 40.06383379,
            "remaining_time": 32.51557525,
            "test": [
             13334798290
            ]
           },
           {
            "iteration": 276,
            "learn": [
             8453447999
            ],
            "passed_time": 40.16472138,
            "remaining_time": 32.33477569,
            "test": [
             13332244720
            ]
           },
           {
            "iteration": 277,
            "learn": [
             8446439432
            ],
            "passed_time": 40.25567649,
            "remaining_time": 32.14661936,
            "test": [
             13331271490
            ]
           },
           {
            "iteration": 278,
            "learn": [
             8434491555
            ],
            "passed_time": 40.33690042,
            "remaining_time": 31.95145158,
            "test": [
             13330338670
            ]
           },
           {
            "iteration": 279,
            "learn": [
             8425335792
            ],
            "passed_time": 40.4339029,
            "remaining_time": 31.76949514,
            "test": [
             13331716760
            ]
           },
           {
            "iteration": 280,
            "learn": [
             8420987488
            ],
            "passed_time": 40.53683572,
            "remaining_time": 31.59276521,
            "test": [
             13332998520
            ]
           },
           {
            "iteration": 281,
            "learn": [
             8406091831
            ],
            "passed_time": 40.65611133,
            "remaining_time": 31.42919244,
            "test": [
             13319681650
            ]
           },
           {
            "iteration": 282,
            "learn": [
             8395208733
            ],
            "passed_time": 40.7680936,
            "remaining_time": 31.26034032,
            "test": [
             13320948650
            ]
           },
           {
            "iteration": 283,
            "learn": [
             8389888305
            ],
            "passed_time": 40.86758535,
            "remaining_time": 31.08238886,
            "test": [
             13320843960
            ]
           },
           {
            "iteration": 284,
            "learn": [
             8383051099
            ],
            "passed_time": 40.97402393,
            "remaining_time": 30.91022858,
            "test": [
             13317582580
            ]
           },
           {
            "iteration": 285,
            "learn": [
             8378516602
            ],
            "passed_time": 41.07636475,
            "remaining_time": 30.73546173,
            "test": [
             13318622890
            ]
           },
           {
            "iteration": 286,
            "learn": [
             8369267286
            ],
            "passed_time": 41.17790032,
            "remaining_time": 30.56060198,
            "test": [
             13319742560
            ]
           },
           {
            "iteration": 287,
            "learn": [
             8352025346
            ],
            "passed_time": 41.26939945,
            "remaining_time": 30.37886348,
            "test": [
             13313422570
            ]
           },
           {
            "iteration": 288,
            "learn": [
             8348928669
            ],
            "passed_time": 41.36672147,
            "remaining_time": 30.2020008,
            "test": [
             13314207990
            ]
           },
           {
            "iteration": 289,
            "learn": [
             8340213538
            ],
            "passed_time": 41.46410301,
            "remaining_time": 30.02572977,
            "test": [
             13302708880
            ]
           },
           {
            "iteration": 290,
            "learn": [
             8336926305
            ],
            "passed_time": 41.55436483,
            "remaining_time": 29.84488746,
            "test": [
             13303906060
            ]
           },
           {
            "iteration": 291,
            "learn": [
             8334294455
            ],
            "passed_time": 41.67582292,
            "remaining_time": 29.68688756,
            "test": [
             13303433590
            ]
           },
           {
            "iteration": 292,
            "learn": [
             8321390667
            ],
            "passed_time": 41.77457294,
            "remaining_time": 29.51309419,
            "test": [
             13303682430
            ]
           },
           {
            "iteration": 293,
            "learn": [
             8311983941
            ],
            "passed_time": 41.87004111,
            "remaining_time": 29.3375118,
            "test": [
             13303741430
            ]
           },
           {
            "iteration": 294,
            "learn": [
             8294348605
            ],
            "passed_time": 41.9588843,
            "remaining_time": 29.15786875,
            "test": [
             13286901160
            ]
           },
           {
            "iteration": 295,
            "learn": [
             8282920128
            ],
            "passed_time": 42.05177756,
            "remaining_time": 28.98163048,
            "test": [
             13288287530
            ]
           },
           {
            "iteration": 296,
            "learn": [
             8280678044
            ],
            "passed_time": 42.15367097,
            "remaining_time": 28.81210508,
            "test": [
             13287120800
            ]
           },
           {
            "iteration": 297,
            "learn": [
             8268326953
            ],
            "passed_time": 42.25405297,
            "remaining_time": 28.64200906,
            "test": [
             13284672360
            ]
           },
           {
            "iteration": 298,
            "learn": [
             8262610997
            ],
            "passed_time": 42.35545195,
            "remaining_time": 28.47306302,
            "test": [
             13283334080
            ]
           },
           {
            "iteration": 299,
            "learn": [
             8231620949
            ],
            "passed_time": 42.45243554,
            "remaining_time": 28.30162369,
            "test": [
             13280592440
            ]
           },
           {
            "iteration": 300,
            "learn": [
             8219740291
            ],
            "passed_time": 42.55433083,
            "remaining_time": 28.13392637,
            "test": [
             13277758460
            ]
           },
           {
            "iteration": 301,
            "learn": [
             8214324624
            ],
            "passed_time": 42.67204456,
            "remaining_time": 27.97703584,
            "test": [
             13276454950
            ]
           },
           {
            "iteration": 302,
            "learn": [
             8211832378
            ],
            "passed_time": 42.78008218,
            "remaining_time": 27.81411284,
            "test": [
             13275786530
            ]
           },
           {
            "iteration": 303,
            "learn": [
             8164428710
            ],
            "passed_time": 42.89135147,
            "remaining_time": 27.6536345,
            "test": [
             13271757320
            ]
           },
           {
            "iteration": 304,
            "learn": [
             8151253708
            ],
            "passed_time": 42.99168586,
            "remaining_time": 27.48648768,
            "test": [
             13262218460
            ]
           },
           {
            "iteration": 305,
            "learn": [
             8137471015
            ],
            "passed_time": 43.07996304,
            "remaining_time": 27.31213343,
            "test": [
             13260316710
            ]
           },
           {
            "iteration": 306,
            "learn": [
             8132237717
            ],
            "passed_time": 43.17783497,
            "remaining_time": 27.14437182,
            "test": [
             13260922060
            ]
           },
           {
            "iteration": 307,
            "learn": [
             8121528063
            ],
            "passed_time": 43.28310222,
            "remaining_time": 26.98167411,
            "test": [
             13263836290
            ]
           },
           {
            "iteration": 308,
            "learn": [
             8093560327
            ],
            "passed_time": 43.37285209,
            "remaining_time": 26.80975647,
            "test": [
             13261504100
            ]
           },
           {
            "iteration": 309,
            "learn": [
             8088533598
            ],
            "passed_time": 43.47775169,
            "remaining_time": 26.64765426,
            "test": [
             13260321310
            ]
           },
           {
            "iteration": 310,
            "learn": [
             8079150487
            ],
            "passed_time": 43.56702635,
            "remaining_time": 26.47642437,
            "test": [
             13259417980
            ]
           },
           {
            "iteration": 311,
            "learn": [
             8074372265
            ],
            "passed_time": 43.6896844,
            "remaining_time": 26.32583547,
            "test": [
             13258310080
            ]
           },
           {
            "iteration": 312,
            "learn": [
             8065157725
            ],
            "passed_time": 43.79511989,
            "remaining_time": 26.16513553,
            "test": [
             13256468130
            ]
           },
           {
            "iteration": 313,
            "learn": [
             8024986991
            ],
            "passed_time": 43.91232671,
            "remaining_time": 26.01176041,
            "test": [
             13249749860
            ]
           },
           {
            "iteration": 314,
            "learn": [
             8003414539
            ],
            "passed_time": 44.01204599,
            "remaining_time": 25.84834447,
            "test": [
             13248031000
            ]
           },
           {
            "iteration": 315,
            "learn": [
             8000632523
            ],
            "passed_time": 44.11595396,
            "remaining_time": 25.68777066,
            "test": [
             13248678920
            ]
           },
           {
            "iteration": 316,
            "learn": [
             7965472487
            ],
            "passed_time": 44.22307614,
            "remaining_time": 25.52940989,
            "test": [
             13243790570
            ]
           },
           {
            "iteration": 317,
            "learn": [
             7959395965
            ],
            "passed_time": 44.38920554,
            "remaining_time": 25.40514279,
            "test": [
             13244098430
            ]
           },
           {
            "iteration": 318,
            "learn": [
             7935116771
            ],
            "passed_time": 44.5739276,
            "remaining_time": 25.29116268,
            "test": [
             13241988780
            ]
           },
           {
            "iteration": 319,
            "learn": [
             7926551937
            ],
            "passed_time": 44.78831137,
            "remaining_time": 25.19342515,
            "test": [
             13243016530
            ]
           },
           {
            "iteration": 320,
            "learn": [
             7903388812
            ],
            "passed_time": 44.97361754,
            "remaining_time": 25.07874623,
            "test": [
             13241023840
            ]
           },
           {
            "iteration": 321,
            "learn": [
             7887023354
            ],
            "passed_time": 45.13439341,
            "remaining_time": 24.9500684,
            "test": [
             13237007800
            ]
           },
           {
            "iteration": 322,
            "learn": [
             7878885080
            ],
            "passed_time": 45.31443962,
            "remaining_time": 24.83175174,
            "test": [
             13234212450
            ]
           },
           {
            "iteration": 323,
            "learn": [
             7867846955
            ],
            "passed_time": 45.47253918,
            "remaining_time": 24.70113239,
            "test": [
             13235609970
            ]
           },
           {
            "iteration": 324,
            "learn": [
             7857529011
            ],
            "passed_time": 45.64609545,
            "remaining_time": 24.57866678,
            "test": [
             13234863310
            ]
           },
           {
            "iteration": 325,
            "learn": [
             7851819124
            ],
            "passed_time": 45.81527079,
            "remaining_time": 24.45354944,
            "test": [
             13235237190
            ]
           },
           {
            "iteration": 326,
            "learn": [
             7843450606
            ],
            "passed_time": 45.97914383,
            "remaining_time": 24.32535744,
            "test": [
             13228139520
            ]
           },
           {
            "iteration": 327,
            "learn": [
             7838067563
            ],
            "passed_time": 46.11027787,
            "remaining_time": 24.17977986,
            "test": [
             13228497550
            ]
           },
           {
            "iteration": 328,
            "learn": [
             7825109556
            ],
            "passed_time": 46.31790171,
            "remaining_time": 24.07404618,
            "test": [
             13222908630
            ]
           },
           {
            "iteration": 329,
            "learn": [
             7819979474
            ],
            "passed_time": 46.45612721,
            "remaining_time": 23.93194432,
            "test": [
             13223324370
            ]
           },
           {
            "iteration": 330,
            "learn": [
             7813574205
            ],
            "passed_time": 46.60958782,
            "remaining_time": 23.79764454,
            "test": [
             13221527270
            ]
           },
           {
            "iteration": 331,
            "learn": [
             7802894821
            ],
            "passed_time": 46.80789174,
            "remaining_time": 23.68592112,
            "test": [
             13213664750
            ]
           },
           {
            "iteration": 332,
            "learn": [
             7795297810
            ],
            "passed_time": 47.00767881,
            "remaining_time": 23.5744215,
            "test": [
             13213082460
            ]
           },
           {
            "iteration": 333,
            "learn": [
             7786985228
            ],
            "passed_time": 47.17743536,
            "remaining_time": 23.44746788,
            "test": [
             13210148940
            ]
           },
           {
            "iteration": 334,
            "learn": [
             7777305195
            ],
            "passed_time": 47.35226529,
            "remaining_time": 23.32275753,
            "test": [
             13210149410
            ]
           },
           {
            "iteration": 335,
            "learn": [
             7768194199
            ],
            "passed_time": 47.49456213,
            "remaining_time": 23.18186961,
            "test": [
             13210329830
            ]
           },
           {
            "iteration": 336,
            "learn": [
             7746209589
            ],
            "passed_time": 47.66634922,
            "remaining_time": 23.05523716,
            "test": [
             13208495670
            ]
           },
           {
            "iteration": 337,
            "learn": [
             7737634595
            ],
            "passed_time": 47.80648808,
            "remaining_time": 22.91316884,
            "test": [
             13208835260
            ]
           },
           {
            "iteration": 338,
            "learn": [
             7726683365
            ],
            "passed_time": 47.91262232,
            "remaining_time": 22.75496222,
            "test": [
             13209762780
            ]
           },
           {
            "iteration": 339,
            "learn": [
             7711903953
            ],
            "passed_time": 48.0059325,
            "remaining_time": 22.59102706,
            "test": [
             13206835460
            ]
           },
           {
            "iteration": 340,
            "learn": [
             7697488610
            ],
            "passed_time": 48.09596042,
            "remaining_time": 22.42597568,
            "test": [
             13204915480
            ]
           },
           {
            "iteration": 341,
            "learn": [
             7689737818
            ],
            "passed_time": 48.19854765,
            "remaining_time": 22.26716529,
            "test": [
             13206000180
            ]
           },
           {
            "iteration": 342,
            "learn": [
             7680049722
            ],
            "passed_time": 48.29131271,
            "remaining_time": 22.10418687,
            "test": [
             13198733970
            ]
           },
           {
            "iteration": 343,
            "learn": [
             7672121129
            ],
            "passed_time": 48.39362903,
            "remaining_time": 21.94594805,
            "test": [
             13200164880
            ]
           },
           {
            "iteration": 344,
            "learn": [
             7664688130
            ],
            "passed_time": 48.46939673,
            "remaining_time": 21.77610578,
            "test": [
             13201267990
            ]
           },
           {
            "iteration": 345,
            "learn": [
             7657554744
            ],
            "passed_time": 48.54048769,
            "remaining_time": 21.60472573,
            "test": [
             13202369390
            ]
           },
           {
            "iteration": 346,
            "learn": [
             7644011342
            ],
            "passed_time": 48.62641931,
            "remaining_time": 21.44046731,
            "test": [
             13192936140
            ]
           },
           {
            "iteration": 347,
            "learn": [
             7635086700
            ],
            "passed_time": 48.72830262,
            "remaining_time": 21.28362643,
            "test": [
             13194524070
            ]
           },
           {
            "iteration": 348,
            "learn": [
             7628252665
            ],
            "passed_time": 48.84370133,
            "remaining_time": 21.13294814,
            "test": [
             13195619170
            ]
           },
           {
            "iteration": 349,
            "learn": [
             7620794060
            ],
            "passed_time": 48.94847472,
            "remaining_time": 20.97791774,
            "test": [
             13197529070
            ]
           },
           {
            "iteration": 350,
            "learn": [
             7618787375
            ],
            "passed_time": 49.05589286,
            "remaining_time": 20.8242964,
            "test": [
             13198245490
            ]
           },
           {
            "iteration": 351,
            "learn": [
             7614288979
            ],
            "passed_time": 49.15139185,
            "remaining_time": 20.66592612,
            "test": [
             13195545990
            ]
           },
           {
            "iteration": 352,
            "learn": [
             7607483285
            ],
            "passed_time": 49.24019117,
            "remaining_time": 20.5051221,
            "test": [
             13197773910
            ]
           },
           {
            "iteration": 353,
            "learn": [
             7598859095
            ],
            "passed_time": 49.32783134,
            "remaining_time": 20.34424682,
            "test": [
             13191068770
            ]
           },
           {
            "iteration": 354,
            "learn": [
             7584880098
            ],
            "passed_time": 49.41961383,
            "remaining_time": 20.18547607,
            "test": [
             13191433450
            ]
           },
           {
            "iteration": 355,
            "learn": [
             7582007373
            ],
            "passed_time": 49.52163956,
            "remaining_time": 20.03122499,
            "test": [
             13191394850
            ]
           },
           {
            "iteration": 356,
            "learn": [
             7570610717
            ],
            "passed_time": 49.6147149,
            "remaining_time": 19.87368132,
            "test": [
             13182658990
            ]
           },
           {
            "iteration": 357,
            "learn": [
             7564724838
            ],
            "passed_time": 49.71167357,
            "remaining_time": 19.71803812,
            "test": [
             13180069000
            ]
           },
           {
            "iteration": 358,
            "learn": [
             7558067800
            ],
            "passed_time": 49.8343735,
            "remaining_time": 19.57283193,
            "test": [
             13183614370
            ]
           },
           {
            "iteration": 359,
            "learn": [
             7550063852
            ],
            "passed_time": 49.92737069,
            "remaining_time": 19.41619971,
            "test": [
             13185341320
            ]
           },
           {
            "iteration": 360,
            "learn": [
             7537671854
            ],
            "passed_time": 49.9960967,
            "remaining_time": 19.25057463,
            "test": [
             13177015500
            ]
           },
           {
            "iteration": 361,
            "learn": [
             7529590726
            ],
            "passed_time": 50.11209193,
            "remaining_time": 19.10350466,
            "test": [
             13178633640
            ]
           },
           {
            "iteration": 362,
            "learn": [
             7523219568
            ],
            "passed_time": 50.21388658,
            "remaining_time": 18.95124645,
            "test": [
             13179736850
            ]
           },
           {
            "iteration": 363,
            "learn": [
             7517056186
            ],
            "passed_time": 50.29375652,
            "remaining_time": 18.79107386,
            "test": [
             13183151330
            ]
           },
           {
            "iteration": 364,
            "learn": [
             7505974994
            ],
            "passed_time": 50.37827968,
            "remaining_time": 18.63306235,
            "test": [
             13177534580
            ]
           },
           {
            "iteration": 365,
            "learn": [
             7500753873
            ],
            "passed_time": 50.47168198,
            "remaining_time": 18.47870324,
            "test": [
             13175943750
            ]
           },
           {
            "iteration": 366,
            "learn": [
             7491845844
            ],
            "passed_time": 50.5619829,
            "remaining_time": 18.32355239,
            "test": [
             13176133970
            ]
           },
           {
            "iteration": 367,
            "learn": [
             7477158451
            ],
            "passed_time": 50.65278866,
            "remaining_time": 18.16893506,
            "test": [
             13176588760
            ]
           },
           {
            "iteration": 368,
            "learn": [
             7471145751
            ],
            "passed_time": 50.73018622,
            "remaining_time": 18.00990351,
            "test": [
             13177633650
            ]
           },
           {
            "iteration": 369,
            "learn": [
             7462692841
            ],
            "passed_time": 50.84949926,
            "remaining_time": 17.86604028,
            "test": [
             13171107860
            ]
           },
           {
            "iteration": 370,
            "learn": [
             7450131752
            ],
            "passed_time": 50.93875485,
            "remaining_time": 17.71185816,
            "test": [
             13171543970
            ]
           },
           {
            "iteration": 371,
            "learn": [
             7437032843
            ],
            "passed_time": 51.02890008,
            "remaining_time": 17.55833121,
            "test": [
             13166798600
            ]
           },
           {
            "iteration": 372,
            "learn": [
             7430991287
            ],
            "passed_time": 51.13717591,
            "remaining_time": 17.41131727,
            "test": [
             13169067060
            ]
           },
           {
            "iteration": 373,
            "learn": [
             7418781437
            ],
            "passed_time": 51.23726431,
            "remaining_time": 17.26175215,
            "test": [
             13164477910
            ]
           },
           {
            "iteration": 374,
            "learn": [
             7413066354
            ],
            "passed_time": 51.33303833,
            "remaining_time": 17.11101278,
            "test": [
             13165343220
            ]
           },
           {
            "iteration": 375,
            "learn": [
             7403305749
            ],
            "passed_time": 51.43120028,
            "remaining_time": 16.96135329,
            "test": [
             13169446040
            ]
           },
           {
            "iteration": 376,
            "learn": [
             7395586119
            ],
            "passed_time": 51.53410906,
            "remaining_time": 16.81351569,
            "test": [
             13166311390
            ]
           },
           {
            "iteration": 377,
            "learn": [
             7383572641
            ],
            "passed_time": 51.62328549,
            "remaining_time": 16.66148368,
            "test": [
             13163571780
            ]
           },
           {
            "iteration": 378,
            "learn": [
             7373432448
            ],
            "passed_time": 51.71444339,
            "remaining_time": 16.51041596,
            "test": [
             13158284840
            ]
           },
           {
            "iteration": 379,
            "learn": [
             7368999949
            ],
            "passed_time": 51.8426641,
            "remaining_time": 16.37136761,
            "test": [
             13158547810
            ]
           },
           {
            "iteration": 380,
            "learn": [
             7363428757
            ],
            "passed_time": 51.94936055,
            "remaining_time": 16.22565329,
            "test": [
             13160780170
            ]
           },
           {
            "iteration": 381,
            "learn": [
             7358074854
            ],
            "passed_time": 52.05168789,
            "remaining_time": 16.07879364,
            "test": [
             13163820840
            ]
           },
           {
            "iteration": 382,
            "learn": [
             7352897617
            ],
            "passed_time": 52.16247169,
            "remaining_time": 15.93474984,
            "test": [
             13161467730
            ]
           },
           {
            "iteration": 383,
            "learn": [
             7345002649
            ],
            "passed_time": 52.25409494,
            "remaining_time": 15.78509118,
            "test": [
             13163542300
            ]
           },
           {
            "iteration": 384,
            "learn": [
             7341276330
            ],
            "passed_time": 52.3516935,
            "remaining_time": 15.63751884,
            "test": [
             13163529740
            ]
           },
           {
            "iteration": 385,
            "learn": [
             7334367826
            ],
            "passed_time": 52.44932814,
            "remaining_time": 15.49021608,
            "test": [
             13160631260
            ]
           },
           {
            "iteration": 386,
            "learn": [
             7327774215
            ],
            "passed_time": 52.5473812,
            "remaining_time": 15.34329219,
            "test": [
             13157884380
            ]
           },
           {
            "iteration": 387,
            "learn": [
             7322858601
            ],
            "passed_time": 52.63922997,
            "remaining_time": 15.19482927,
            "test": [
             13160139630
            ]
           },
           {
            "iteration": 388,
            "learn": [
             7315954970
            ],
            "passed_time": 52.74038316,
            "remaining_time": 15.04931242,
            "test": [
             13154206640
            ]
           },
           {
            "iteration": 389,
            "learn": [
             7310799139
            ],
            "passed_time": 52.85736857,
            "remaining_time": 14.90848857,
            "test": [
             13152793820
            ]
           },
           {
            "iteration": 390,
            "learn": [
             7300293658
            ],
            "passed_time": 52.95715797,
            "remaining_time": 14.76299289,
            "test": [
             13153395770
            ]
           },
           {
            "iteration": 391,
            "learn": [
             7295847747
            ],
            "passed_time": 53.06846301,
            "remaining_time": 14.62090307,
            "test": [
             13153618600
            ]
           },
           {
            "iteration": 392,
            "learn": [
             7292439949
            ],
            "passed_time": 53.16987607,
            "remaining_time": 14.47627669,
            "test": [
             13153669020
            ]
           },
           {
            "iteration": 393,
            "learn": [
             7291326824
            ],
            "passed_time": 53.26018653,
            "remaining_time": 14.32888267,
            "test": [
             13152887120
            ]
           },
           {
            "iteration": 394,
            "learn": [
             7281125472
            ],
            "passed_time": 53.35059423,
            "remaining_time": 14.18180353,
            "test": [
             13150196700
            ]
           },
           {
            "iteration": 395,
            "learn": [
             7269536124
            ],
            "passed_time": 53.43289553,
            "remaining_time": 14.03288165,
            "test": [
             13150611700
            ]
           },
           {
            "iteration": 396,
            "learn": [
             7261281171
            ],
            "passed_time": 53.52538644,
            "remaining_time": 13.88693905,
            "test": [
             13141579400
            ]
           },
           {
            "iteration": 397,
            "learn": [
             7250035468
            ],
            "passed_time": 53.62471801,
            "remaining_time": 13.74301818,
            "test": [
             13138802190
            ]
           },
           {
            "iteration": 398,
            "learn": [
             7240659222
            ],
            "passed_time": 53.71912156,
            "remaining_time": 13.59807338,
            "test": [
             13138941110
            ]
           },
           {
            "iteration": 399,
            "learn": [
             7235675529
            ],
            "passed_time": 53.818295,
            "remaining_time": 13.45457375,
            "test": [
             13138625540
            ]
           },
           {
            "iteration": 400,
            "learn": [
             7232557427
            ],
            "passed_time": 53.94132258,
            "remaining_time": 13.31718438,
            "test": [
             13138661180
            ]
           },
           {
            "iteration": 401,
            "learn": [
             7225199578
            ],
            "passed_time": 54.03986605,
            "remaining_time": 13.17389769,
            "test": [
             13136352590
            ]
           },
           {
            "iteration": 402,
            "learn": [
             7216346332
            ],
            "passed_time": 54.14847331,
            "remaining_time": 13.03325536,
            "test": [
             13135618090
            ]
           },
           {
            "iteration": 403,
            "learn": [
             7210387841
            ],
            "passed_time": 54.2574334,
            "remaining_time": 12.89285546,
            "test": [
             13133550410
            ]
           },
           {
            "iteration": 404,
            "learn": [
             7200379504
            ],
            "passed_time": 54.34565184,
            "remaining_time": 12.74774549,
            "test": [
             13135484660
            ]
           },
           {
            "iteration": 405,
            "learn": [
             7183755244
            ],
            "passed_time": 54.43789724,
            "remaining_time": 12.60384813,
            "test": [
             13124493330
            ]
           },
           {
            "iteration": 406,
            "learn": [
             7174265387
            ],
            "passed_time": 54.52023963,
            "remaining_time": 12.45794173,
            "test": [
             13126465570
            ]
           },
           {
            "iteration": 407,
            "learn": [
             7173323961
            ],
            "passed_time": 54.61413812,
            "remaining_time": 12.31495271,
            "test": [
             13125860080
            ]
           },
           {
            "iteration": 408,
            "learn": [
             7168675702
            ],
            "passed_time": 54.69478283,
            "remaining_time": 12.16925486,
            "test": [
             13122886350
            ]
           },
           {
            "iteration": 409,
            "learn": [
             7154944835
            ],
            "passed_time": 54.79080803,
            "remaining_time": 12.02725054,
            "test": [
             13115403090
            ]
           },
           {
            "iteration": 410,
            "learn": [
             7150274964
            ],
            "passed_time": 54.91732928,
            "remaining_time": 11.89207374,
            "test": [
             13115134870
            ]
           },
           {
            "iteration": 411,
            "learn": [
             7141335028
            ],
            "passed_time": 55.01486301,
            "remaining_time": 11.75074744,
            "test": [
             13112871280
            ]
           },
           {
            "iteration": 412,
            "learn": [
             7136858134
            ],
            "passed_time": 55.10694194,
            "remaining_time": 11.60848414,
            "test": [
             13112636490
            ]
           },
           {
            "iteration": 413,
            "learn": [
             7131499265
            ],
            "passed_time": 55.22004794,
            "remaining_time": 11.47083121,
            "test": [
             13110879340
            ]
           },
           {
            "iteration": 414,
            "learn": [
             7126459657
            ],
            "passed_time": 55.30958726,
            "remaining_time": 11.32846968,
            "test": [
             13109244880
            ]
           },
           {
            "iteration": 415,
            "learn": [
             7118384851
            ],
            "passed_time": 55.40432675,
            "remaining_time": 11.18741213,
            "test": [
             13111886500
            ]
           },
           {
            "iteration": 416,
            "learn": [
             7110142992
            ],
            "passed_time": 55.49603724,
            "remaining_time": 11.04597384,
            "test": [
             13105047110
            ]
           },
           {
            "iteration": 417,
            "learn": [
             7103694916
            ],
            "passed_time": 55.59934352,
            "remaining_time": 10.90704825,
            "test": [
             13106500060
            ]
           },
           {
            "iteration": 418,
            "learn": [
             7095307851
            ],
            "passed_time": 55.6895809,
            "remaining_time": 10.76576624,
            "test": [
             13105739780
            ]
           },
           {
            "iteration": 419,
            "learn": [
             7085224139
            ],
            "passed_time": 55.78951741,
            "remaining_time": 10.62657474,
            "test": [
             13106031980
            ]
           },
           {
            "iteration": 420,
            "learn": [
             7077058393
            ],
            "passed_time": 55.91800097,
            "remaining_time": 10.49292655,
            "test": [
             13105438130
            ]
           },
           {
            "iteration": 421,
            "learn": [
             7071329398
            ],
            "passed_time": 56.0110152,
            "remaining_time": 10.35274688,
            "test": [
             13105299220
            ]
           },
           {
            "iteration": 422,
            "learn": [
             7065356648
            ],
            "passed_time": 56.11712018,
            "remaining_time": 10.21517318,
            "test": [
             13106731730
            ]
           },
           {
            "iteration": 423,
            "learn": [
             7058775758
            ],
            "passed_time": 56.22321566,
            "remaining_time": 10.0777462,
            "test": [
             13104332520
            ]
           },
           {
            "iteration": 424,
            "learn": [
             7053383355
            ],
            "passed_time": 56.33310703,
            "remaining_time": 9.941136534,
            "test": [
             13105652180
            ]
           },
           {
            "iteration": 425,
            "learn": [
             7047148605
            ],
            "passed_time": 56.43727231,
            "remaining_time": 9.803657631,
            "test": [
             13103340620
            ]
           },
           {
            "iteration": 426,
            "learn": [
             7042182915
            ],
            "passed_time": 56.52521122,
            "remaining_time": 9.663560701,
            "test": [
             13103449820
            ]
           },
           {
            "iteration": 427,
            "learn": [
             7038695125
            ],
            "passed_time": 56.62051261,
            "remaining_time": 9.524946046,
            "test": [
             13103767180
            ]
           },
           {
            "iteration": 428,
            "learn": [
             7032629056
            ],
            "passed_time": 56.7109259,
            "remaining_time": 9.385724332,
            "test": [
             13100719350
            ]
           },
           {
            "iteration": 429,
            "learn": [
             6990701060
            ],
            "passed_time": 56.80971357,
            "remaining_time": 9.248092907,
            "test": [
             13101196360
            ]
           },
           {
            "iteration": 430,
            "learn": [
             6983517533
            ],
            "passed_time": 56.93866945,
            "remaining_time": 9.115471443,
            "test": [
             13101232850
            ]
           },
           {
            "iteration": 431,
            "learn": [
             6979424132
            ],
            "passed_time": 57.04456992,
            "remaining_time": 8.979237858,
            "test": [
             13101062970
            ]
           },
           {
            "iteration": 432,
            "learn": [
             6972765620
            ],
            "passed_time": 57.13218072,
            "remaining_time": 8.840314337,
            "test": [
             13098996820
            ]
           },
           {
            "iteration": 433,
            "learn": [
             6969451524
            ],
            "passed_time": 57.24829543,
            "remaining_time": 8.705961978,
            "test": [
             13099324450
            ]
           },
           {
            "iteration": 434,
            "learn": [
             6932354932
            ],
            "passed_time": 57.35919147,
            "remaining_time": 8.570913669,
            "test": [
             13099295420
            ]
           },
           {
            "iteration": 435,
            "learn": [
             6926877399
            ],
            "passed_time": 57.45905064,
            "remaining_time": 8.434356057,
            "test": [
             13100723290
            ]
           },
           {
            "iteration": 436,
            "learn": [
             6920254938
            ],
            "passed_time": 57.55290691,
            "remaining_time": 8.297100997,
            "test": [
             13098562030
            ]
           },
           {
            "iteration": 437,
            "learn": [
             6916741613
            ],
            "passed_time": 57.65211665,
            "remaining_time": 8.160801901,
            "test": [
             13099171720
            ]
           },
           {
            "iteration": 438,
            "learn": [
             6914018402
            ],
            "passed_time": 57.77170644,
            "remaining_time": 8.027503629,
            "test": [
             13100101630
            ]
           },
           {
            "iteration": 439,
            "learn": [
             6907737695
            ],
            "passed_time": 57.97452882,
            "remaining_time": 7.905617566,
            "test": [
             13098268550
            ]
           },
           {
            "iteration": 440,
            "learn": [
             6905775496
            ],
            "passed_time": 58.15221963,
            "remaining_time": 7.780002173,
            "test": [
             13097032400
            ]
           },
           {
            "iteration": 441,
            "learn": [
             6901108575
            ],
            "passed_time": 58.33835934,
            "remaining_time": 7.655259823,
            "test": [
             13093600530
            ]
           },
           {
            "iteration": 442,
            "learn": [
             6894256119
            ],
            "passed_time": 58.53659954,
            "remaining_time": 7.531797232,
            "test": [
             13093652930
            ]
           },
           {
            "iteration": 443,
            "learn": [
             6881085304
            ],
            "passed_time": 58.70210011,
            "remaining_time": 7.403868483,
            "test": [
             13093032200
            ]
           },
           {
            "iteration": 444,
            "learn": [
             6876613911
            ],
            "passed_time": 58.88609257,
            "remaining_time": 7.278056385,
            "test": [
             13094219970
            ]
           },
           {
            "iteration": 445,
            "learn": [
             6873656954
            ],
            "passed_time": 59.09089552,
            "remaining_time": 7.154503046,
            "test": [
             13094222350
            ]
           },
           {
            "iteration": 446,
            "learn": [
             6870827454
            ],
            "passed_time": 59.21002911,
            "remaining_time": 7.020428508,
            "test": [
             13094229460
            ]
           },
           {
            "iteration": 447,
            "learn": [
             6865250833
            ],
            "passed_time": 59.40445975,
            "remaining_time": 6.895160507,
            "test": [
             13092378410
            ]
           },
           {
            "iteration": 448,
            "learn": [
             6859967400
            ],
            "passed_time": 59.57825895,
            "remaining_time": 6.767240995,
            "test": [
             13090645750
            ]
           },
           {
            "iteration": 449,
            "learn": [
             6854327211
            ],
            "passed_time": 59.75717064,
            "remaining_time": 6.639685626,
            "test": [
             13089058140
            ]
           },
           {
            "iteration": 450,
            "learn": [
             6846850532
            ],
            "passed_time": 59.93973791,
            "remaining_time": 6.512299685,
            "test": [
             13087139930
            ]
           },
           {
            "iteration": 451,
            "learn": [
             6840363463
            ],
            "passed_time": 60.13475534,
            "remaining_time": 6.385991717,
            "test": [
             13088867300
            ]
           },
           {
            "iteration": 452,
            "learn": [
             6835567414
            ],
            "passed_time": 60.3063095,
            "remaining_time": 6.256946019,
            "test": [
             13090931690
            ]
           },
           {
            "iteration": 453,
            "learn": [
             6825917648
            ],
            "passed_time": 60.49496922,
            "remaining_time": 6.129446221,
            "test": [
             13089214680
            ]
           },
           {
            "iteration": 454,
            "learn": [
             6822108890
            ],
            "passed_time": 60.67008157,
            "remaining_time": 6.000337738,
            "test": [
             13090133580
            ]
           },
           {
            "iteration": 455,
            "learn": [
             6817640825
            ],
            "passed_time": 60.85018672,
            "remaining_time": 5.871509245,
            "test": [
             13092210570
            ]
           },
           {
            "iteration": 456,
            "learn": [
             6812022222
            ],
            "passed_time": 61.04569115,
            "remaining_time": 5.743905294,
            "test": [
             13090343770
            ]
           },
           {
            "iteration": 457,
            "learn": [
             6811472377
            ],
            "passed_time": 61.2597958,
            "remaining_time": 5.617710532,
            "test": [
             13090170150
            ]
           },
           {
            "iteration": 458,
            "learn": [
             6807607423
            ],
            "passed_time": 61.37117731,
            "remaining_time": 5.481957014,
            "test": [
             13090785790
            ]
           },
           {
            "iteration": 459,
            "learn": [
             6778540127
            ],
            "passed_time": 61.48612532,
            "remaining_time": 5.346619593,
            "test": [
             13091413130
            ]
           },
           {
            "iteration": 460,
            "learn": [
             6775339689
            ],
            "passed_time": 61.59241245,
            "remaining_time": 5.210637929,
            "test": [
             13091677240
            ]
           },
           {
            "iteration": 461,
            "learn": [
             6750646052
            ],
            "passed_time": 61.70181618,
            "remaining_time": 5.075041157,
            "test": [
             13089740680
            ]
           },
           {
            "iteration": 462,
            "learn": [
             6745093496
            ],
            "passed_time": 61.78829915,
            "remaining_time": 4.93772585,
            "test": [
             13090241470
            ]
           },
           {
            "iteration": 463,
            "learn": [
             6740233609
            ],
            "passed_time": 61.88758204,
            "remaining_time": 4.801622745,
            "test": [
             13088614060
            ]
           },
           {
            "iteration": 464,
            "learn": [
             6738985612
            ],
            "passed_time": 61.99656653,
            "remaining_time": 4.666408233,
            "test": [
             13088030420
            ]
           },
           {
            "iteration": 465,
            "learn": [
             6730674468
            ],
            "passed_time": 62.09154741,
            "remaining_time": 4.530284575,
            "test": [
             13085745150
            ]
           },
           {
            "iteration": 466,
            "learn": [
             6722033269
            ],
            "passed_time": 62.21844357,
            "remaining_time": 4.396592372,
            "test": [
             13083992950
            ]
           },
           {
            "iteration": 467,
            "learn": [
             6720823523
            ],
            "passed_time": 62.3158956,
            "remaining_time": 4.260915938,
            "test": [
             13083447900
            ]
           },
           {
            "iteration": 468,
            "learn": [
             6717840775
            ],
            "passed_time": 62.42992574,
            "remaining_time": 4.12649829,
            "test": [
             13083731860
            ]
           },
           {
            "iteration": 469,
            "learn": [
             6713734604
            ],
            "passed_time": 62.53102715,
            "remaining_time": 3.991342158,
            "test": [
             13080882190
            ]
           },
           {
            "iteration": 470,
            "learn": [
             6701095093
            ],
            "passed_time": 62.62980275,
            "remaining_time": 3.85618743,
            "test": [
             13081606310
            ]
           },
           {
            "iteration": 471,
            "learn": [
             6696919396
            ],
            "passed_time": 62.72959204,
            "remaining_time": 3.721246985,
            "test": [
             13082533910
            ]
           },
           {
            "iteration": 472,
            "learn": [
             6691677904
            ],
            "passed_time": 62.81884511,
            "remaining_time": 3.585853738,
            "test": [
             13082008770
            ]
           },
           {
            "iteration": 473,
            "learn": [
             6689796664
            ],
            "passed_time": 62.91092146,
            "remaining_time": 3.450810038,
            "test": [
             13082154810
            ]
           },
           {
            "iteration": 474,
            "learn": [
             6682927836
            ],
            "passed_time": 63.00200957,
            "remaining_time": 3.315895241,
            "test": [
             13080019270
            ]
           },
           {
            "iteration": 475,
            "learn": [
             6679088599
            ],
            "passed_time": 63.09673701,
            "remaining_time": 3.181348085,
            "test": [
             13077349990
            ]
           },
           {
            "iteration": 476,
            "learn": [
             6677296683
            ],
            "passed_time": 63.22461807,
            "remaining_time": 3.04856649,
            "test": [
             13077515370
            ]
           },
           {
            "iteration": 477,
            "learn": [
             6673672966
            ],
            "passed_time": 63.28157001,
            "remaining_time": 2.912540879,
            "test": [
             13074998930
            ]
           },
           {
            "iteration": 478,
            "learn": [
             6667293677
            ],
            "passed_time": 63.38163916,
            "remaining_time": 2.778735746,
            "test": [
             13074787600
            ]
           },
           {
            "iteration": 479,
            "learn": [
             6660501421
            ],
            "passed_time": 63.48704224,
            "remaining_time": 2.645293427,
            "test": [
             13070659280
            ]
           },
           {
            "iteration": 480,
            "learn": [
             6657079530
            ],
            "passed_time": 63.60341892,
            "remaining_time": 2.512401163,
            "test": [
             13068284070
            ]
           },
           {
            "iteration": 481,
            "learn": [
             6650140394
            ],
            "passed_time": 63.68671462,
            "remaining_time": 2.37834204,
            "test": [
             13067552220
            ]
           },
           {
            "iteration": 482,
            "learn": [
             6622670356
            ],
            "passed_time": 63.78277792,
            "remaining_time": 2.244942494,
            "test": [
             13067464090
            ]
           },
           {
            "iteration": 483,
            "learn": [
             6616073656
            ],
            "passed_time": 63.87979005,
            "remaining_time": 2.111728597,
            "test": [
             13067551470
            ]
           },
           {
            "iteration": 484,
            "learn": [
             6614358877
            ],
            "passed_time": 63.97841682,
            "remaining_time": 1.978713922,
            "test": [
             13067720930
            ]
           },
           {
            "iteration": 485,
            "learn": [
             6611882899
            ],
            "passed_time": 64.06973995,
            "remaining_time": 1.845630369,
            "test": [
             13070541880
            ]
           },
           {
            "iteration": 486,
            "learn": [
             6603853870
            ],
            "passed_time": 64.15994322,
            "remaining_time": 1.712688423,
            "test": [
             13069049790
            ]
           },
           {
            "iteration": 487,
            "learn": [
             6602221054
            ],
            "passed_time": 64.59287643,
            "remaining_time": 1.58834942,
            "test": [
             13069227800
            ]
           },
           {
            "iteration": 488,
            "learn": [
             6596221609
            ],
            "passed_time": 64.68436823,
            "remaining_time": 1.455067588,
            "test": [
             13068849930
            ]
           },
           {
            "iteration": 489,
            "learn": [
             6591718212
            ],
            "passed_time": 64.76083761,
            "remaining_time": 1.321649747,
            "test": [
             13067201020
            ]
           },
           {
            "iteration": 490,
            "learn": [
             6585294976
            ],
            "passed_time": 64.84735937,
            "remaining_time": 1.188648135,
            "test": [
             13065234580
            ]
           },
           {
            "iteration": 491,
            "learn": [
             6578667255
            ],
            "passed_time": 64.94374276,
            "remaining_time": 1.055995817,
            "test": [
             13063652850
            ]
           },
           {
            "iteration": 492,
            "learn": [
             6577107743
            ],
            "passed_time": 65.03792328,
            "remaining_time": 0.9234593569,
            "test": [
             13063827730
            ]
           },
           {
            "iteration": 493,
            "learn": [
             6572159366
            ],
            "passed_time": 65.13444149,
            "remaining_time": 0.7911065769,
            "test": [
             13063369950
            ]
           },
           {
            "iteration": 494,
            "learn": [
             6568951114
            ],
            "passed_time": 65.22405509,
            "remaining_time": 0.6588288393,
            "test": [
             13061123050
            ]
           },
           {
            "iteration": 495,
            "learn": [
             6567458280
            ],
            "passed_time": 65.32514035,
            "remaining_time": 0.526815648,
            "test": [
             13061305910
            ]
           },
           {
            "iteration": 496,
            "learn": [
             6562673268
            ],
            "passed_time": 65.42219114,
            "remaining_time": 0.3949025622,
            "test": [
             13060903100
            ]
           },
           {
            "iteration": 497,
            "learn": [
             6536570892
            ],
            "passed_time": 65.54104474,
            "remaining_time": 0.2632170471,
            "test": [
             13060790920
            ]
           },
           {
            "iteration": 498,
            "learn": [
             6535624149
            ],
            "passed_time": 65.65396876,
            "remaining_time": 0.1315710797,
            "test": [
             13059652820
            ]
           },
           {
            "iteration": 499,
            "learn": [
             6532601182
            ],
            "passed_time": 65.74073236,
            "remaining_time": 0,
            "test": [
             13057531140
            ]
           }
          ],
          "meta": {
           "iteration_count": 500,
           "launch_mode": "Train",
           "learn_metrics": [
            {
             "best_value": "Min",
             "name": "RMSE"
            }
           ],
           "learn_sets": [
            "learn"
           ],
           "name": "experiment",
           "parameters": "",
           "test_metrics": [
            {
             "best_value": "Min",
             "name": "RMSE"
            }
           ],
           "test_sets": [
            "test"
           ]
          }
         },
         "passed_iterations": 499,
         "total_iterations": 500
        },
        "name": "catboost_info",
        "path": "catboost_info"
       }
      },
      "layout": "IPY_MODEL_4ad1bc95a1a4424084c439110a5cf98d"
     }
    }
   }
  }
 },
 "nbformat": 4,
 "nbformat_minor": 1
}
