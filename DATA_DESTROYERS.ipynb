{
  "cells": [
    {
      "cell_type": "markdown",
      "metadata": {
        "id": "view-in-github",
        "colab_type": "text"
      },
      "source": [
        "<a href=\"https://colab.research.google.com/github/YuvBindal/NUS-SDS-Datathon-Champion/blob/main/DATA_DESTROYERS.ipynb\" target=\"_parent\"><img src=\"https://colab.research.google.com/assets/colab-badge.svg\" alt=\"Open In Colab\"/></a>"
      ]
    },
    {
      "cell_type": "markdown",
      "metadata": {
        "id": "1tdrrXl4o33Y"
      },
      "source": [
        "##### The cell below is for you to keep track of the libraries used and install those libraries quickly\n",
        "##### Ensure that the proper library names are used and the syntax of `%pip install PACKAGE_NAME` is followed"
      ]
    },
    {
      "cell_type": "code",
      "execution_count": 3,
      "metadata": {
        "colab": {
          "base_uri": "https://localhost:8080/"
        },
        "id": "c9c-a3tqo33d",
        "outputId": "9396b3ac-dc12-474a-f6ea-e9842474b65c"
      },
      "outputs": [
        {
          "output_type": "stream",
          "name": "stdout",
          "text": [
            "Requirement already satisfied: pandas in /usr/local/lib/python3.10/dist-packages (1.5.3)\n",
            "Requirement already satisfied: python-dateutil>=2.8.1 in /usr/local/lib/python3.10/dist-packages (from pandas) (2.8.2)\n",
            "Requirement already satisfied: pytz>=2020.1 in /usr/local/lib/python3.10/dist-packages (from pandas) (2023.3.post1)\n",
            "Requirement already satisfied: numpy>=1.21.0 in /usr/local/lib/python3.10/dist-packages (from pandas) (1.23.5)\n",
            "Requirement already satisfied: six>=1.5 in /usr/local/lib/python3.10/dist-packages (from python-dateutil>=2.8.1->pandas) (1.16.0)\n",
            "Requirement already satisfied: matplotlib in /usr/local/lib/python3.10/dist-packages (3.7.1)\n",
            "Requirement already satisfied: contourpy>=1.0.1 in /usr/local/lib/python3.10/dist-packages (from matplotlib) (1.2.0)\n",
            "Requirement already satisfied: cycler>=0.10 in /usr/local/lib/python3.10/dist-packages (from matplotlib) (0.12.1)\n",
            "Requirement already satisfied: fonttools>=4.22.0 in /usr/local/lib/python3.10/dist-packages (from matplotlib) (4.47.2)\n",
            "Requirement already satisfied: kiwisolver>=1.0.1 in /usr/local/lib/python3.10/dist-packages (from matplotlib) (1.4.5)\n",
            "Requirement already satisfied: numpy>=1.20 in /usr/local/lib/python3.10/dist-packages (from matplotlib) (1.23.5)\n",
            "Requirement already satisfied: packaging>=20.0 in /usr/local/lib/python3.10/dist-packages (from matplotlib) (23.2)\n",
            "Requirement already satisfied: pillow>=6.2.0 in /usr/local/lib/python3.10/dist-packages (from matplotlib) (9.4.0)\n",
            "Requirement already satisfied: pyparsing>=2.3.1 in /usr/local/lib/python3.10/dist-packages (from matplotlib) (3.1.1)\n",
            "Requirement already satisfied: python-dateutil>=2.7 in /usr/local/lib/python3.10/dist-packages (from matplotlib) (2.8.2)\n",
            "Requirement already satisfied: six>=1.5 in /usr/local/lib/python3.10/dist-packages (from python-dateutil>=2.7->matplotlib) (1.16.0)\n",
            "Requirement already satisfied: numpy in /usr/local/lib/python3.10/dist-packages (1.23.5)\n"
          ]
        }
      ],
      "source": [
        "!pip3 install pandas\n",
        "!pip3 install matplotlib\n",
        "!pip3 install numpy\n",
        "# add commented pip installation lines for packages used as shown above for ease of testing\n",
        "# the line should be of the format %pip install PACKAGE_NAME"
      ]
    },
    {
      "cell_type": "markdown",
      "metadata": {
        "id": "W1rfGRp4o33f"
      },
      "source": [
        "## **DO NOT CHANGE** the filepath variable\n",
        "##### Instead, create a folder named 'data' in your current working directory and\n",
        "##### have the .parquet file inside that. A relative path *must* be used when loading data into pandas"
      ]
    },
    {
      "cell_type": "markdown",
      "source": [
        "# Data Cleaning"
      ],
      "metadata": {
        "id": "W5t6VZcsyH0t"
      }
    },
    {
      "cell_type": "code",
      "execution_count": 4,
      "metadata": {
        "colab": {
          "base_uri": "https://localhost:8080/"
        },
        "id": "bDUHfoadpsCH",
        "outputId": "87b04e4c-fb31-409c-cd2c-c168a64ed721"
      },
      "outputs": [
        {
          "output_type": "stream",
          "name": "stdout",
          "text": [
            "Mounted at /content/drive\n"
          ]
        }
      ],
      "source": [
        "from google.colab import drive\n",
        "drive.mount('/content/drive')"
      ]
    },
    {
      "cell_type": "code",
      "execution_count": 53,
      "metadata": {
        "colab": {
          "base_uri": "https://localhost:8080/",
          "height": 690
        },
        "id": "hcy-tcNEp_6w",
        "outputId": "3668258c-308a-4e88-8002-c897d12e8eac"
      },
      "outputs": [
        {
          "output_type": "execute_result",
          "data": {
            "text/plain": [
              "   LATITUDE   LONGITUDE        AccountID  \\\n",
              "0  1.285495  103.843852  LAKB2BID4559214   \n",
              "1  1.291294  103.827476  LAKB2BID7610849   \n",
              "2  1.300144  103.857517  LAKB2BID5461679   \n",
              "3  1.300785  103.791263  LAKB2BID5088529   \n",
              "4  1.298759  103.859430  LAKB2BID1268831   \n",
              "\n",
              "                                     Company  SIC Code  \\\n",
              "0  FRANK CONSULTING SERVICES PRIVATE LIMITED    7361.0   \n",
              "1       NEW DESERT ORCHID SHIPPING PTE. LTD.    4449.0   \n",
              "2                2MBAO BIOCELLBANK PTE. LTD.    6719.0   \n",
              "3                         NEWBLOOM PTE. LTD.    6719.0   \n",
              "4               ASIA GREEN CAPITAL PTE. LTD.    6719.0   \n",
              "\n",
              "                                            Industry  8-Digit SIC Code  \\\n",
              "0                                Employment Agencies        73610000.0   \n",
              "1  Water Transportation of Freight, Not Elsewhere...        44490000.0   \n",
              "2  Offices of Holding Companies, Not Elsewhere Cl...        67190000.0   \n",
              "3  Offices of Holding Companies, Not Elsewhere Cl...        67190000.0   \n",
              "4  Offices of Holding Companies, Not Elsewhere Cl...        67190000.0   \n",
              "\n",
              "           8-Digit SIC Description  Year Found Entity Type  ...  \\\n",
              "0              Employment agencies      2020.0  Subsidiary  ...   \n",
              "1  Water transportation of freight      2015.0  Subsidiary  ...   \n",
              "2           Holding companies, nec      1993.0  Subsidiary  ...   \n",
              "3           Holding companies, nec      2006.0  Subsidiary  ...   \n",
              "4           Holding companies, nec      2006.0      Parent  ...   \n",
              "\n",
              "  Employees (Global Ultimate Total) Sales (Domestic Ultimate Total USD)  \\\n",
              "0                               NaN                        2.209224e+06   \n",
              "1                             100.0                        7.093536e+09   \n",
              "2                               4.0                        1.026308e+06   \n",
              "3                             100.0                        7.339898e+10   \n",
              "4                               4.0                        4.322130e+05   \n",
              "\n",
              "  Sales (Global Ultimate Total USD) Import/Export Status  Fiscal Year End  \\\n",
              "0                      4.637871e+06                  NaN              NaN   \n",
              "1                      7.093536e+09                  NaN              NaN   \n",
              "2                      1.026308e+06                  NaN              NaN   \n",
              "3                      7.339898e+10                  NaN              NaN   \n",
              "4                      4.322130e+05              Exports              NaN   \n",
              "\n",
              "               Global Ultimate Company  Global Ultimate Country  \\\n",
              "0               FINDERS HOLDCO LIMITED           United Kingdom   \n",
              "1                PETREDEC PTE. LIMITED                Singapore   \n",
              "2  MADISON LIGHTERS AND WATCHES CO LTD            Hong Kong SAR   \n",
              "3         WILMAR INTERNATIONAL LIMITED                Singapore   \n",
              "4         ASIA GREEN CAPITAL PTE. LTD.                Singapore   \n",
              "\n",
              "              Domestic Ultimate Company  Is Domestic Ultimate  \\\n",
              "0  FRANK RECRUITMENT GROUP PRIVATE LTD.                   0.0   \n",
              "1                                   NaN                   0.0   \n",
              "2           2MBAO BIOCELLBANK PTE. LTD.                   1.0   \n",
              "3          WILMAR INTERNATIONAL LIMITED                   0.0   \n",
              "4          ASIA GREEN CAPITAL PTE. LTD.                   1.0   \n",
              "\n",
              "   Is Global Ultimate  \n",
              "0                 0.0  \n",
              "1                 0.0  \n",
              "2                 0.0  \n",
              "3                 0.0  \n",
              "4                 1.0  \n",
              "\n",
              "[5 rows x 28 columns]"
            ],
            "text/html": [
              "\n",
              "  <div id=\"df-2926a934-095e-469f-88cf-5afd5cd80b17\" class=\"colab-df-container\">\n",
              "    <div>\n",
              "<style scoped>\n",
              "    .dataframe tbody tr th:only-of-type {\n",
              "        vertical-align: middle;\n",
              "    }\n",
              "\n",
              "    .dataframe tbody tr th {\n",
              "        vertical-align: top;\n",
              "    }\n",
              "\n",
              "    .dataframe thead th {\n",
              "        text-align: right;\n",
              "    }\n",
              "</style>\n",
              "<table border=\"1\" class=\"dataframe\">\n",
              "  <thead>\n",
              "    <tr style=\"text-align: right;\">\n",
              "      <th></th>\n",
              "      <th>LATITUDE</th>\n",
              "      <th>LONGITUDE</th>\n",
              "      <th>AccountID</th>\n",
              "      <th>Company</th>\n",
              "      <th>SIC Code</th>\n",
              "      <th>Industry</th>\n",
              "      <th>8-Digit SIC Code</th>\n",
              "      <th>8-Digit SIC Description</th>\n",
              "      <th>Year Found</th>\n",
              "      <th>Entity Type</th>\n",
              "      <th>...</th>\n",
              "      <th>Employees (Global Ultimate Total)</th>\n",
              "      <th>Sales (Domestic Ultimate Total USD)</th>\n",
              "      <th>Sales (Global Ultimate Total USD)</th>\n",
              "      <th>Import/Export Status</th>\n",
              "      <th>Fiscal Year End</th>\n",
              "      <th>Global Ultimate Company</th>\n",
              "      <th>Global Ultimate Country</th>\n",
              "      <th>Domestic Ultimate Company</th>\n",
              "      <th>Is Domestic Ultimate</th>\n",
              "      <th>Is Global Ultimate</th>\n",
              "    </tr>\n",
              "  </thead>\n",
              "  <tbody>\n",
              "    <tr>\n",
              "      <th>0</th>\n",
              "      <td>1.285495</td>\n",
              "      <td>103.843852</td>\n",
              "      <td>LAKB2BID4559214</td>\n",
              "      <td>FRANK CONSULTING SERVICES PRIVATE LIMITED</td>\n",
              "      <td>7361.0</td>\n",
              "      <td>Employment Agencies</td>\n",
              "      <td>73610000.0</td>\n",
              "      <td>Employment agencies</td>\n",
              "      <td>2020.0</td>\n",
              "      <td>Subsidiary</td>\n",
              "      <td>...</td>\n",
              "      <td>NaN</td>\n",
              "      <td>2.209224e+06</td>\n",
              "      <td>4.637871e+06</td>\n",
              "      <td>NaN</td>\n",
              "      <td>NaN</td>\n",
              "      <td>FINDERS HOLDCO LIMITED</td>\n",
              "      <td>United Kingdom</td>\n",
              "      <td>FRANK RECRUITMENT GROUP PRIVATE LTD.</td>\n",
              "      <td>0.0</td>\n",
              "      <td>0.0</td>\n",
              "    </tr>\n",
              "    <tr>\n",
              "      <th>1</th>\n",
              "      <td>1.291294</td>\n",
              "      <td>103.827476</td>\n",
              "      <td>LAKB2BID7610849</td>\n",
              "      <td>NEW DESERT ORCHID SHIPPING PTE. LTD.</td>\n",
              "      <td>4449.0</td>\n",
              "      <td>Water Transportation of Freight, Not Elsewhere...</td>\n",
              "      <td>44490000.0</td>\n",
              "      <td>Water transportation of freight</td>\n",
              "      <td>2015.0</td>\n",
              "      <td>Subsidiary</td>\n",
              "      <td>...</td>\n",
              "      <td>100.0</td>\n",
              "      <td>7.093536e+09</td>\n",
              "      <td>7.093536e+09</td>\n",
              "      <td>NaN</td>\n",
              "      <td>NaN</td>\n",
              "      <td>PETREDEC PTE. LIMITED</td>\n",
              "      <td>Singapore</td>\n",
              "      <td>NaN</td>\n",
              "      <td>0.0</td>\n",
              "      <td>0.0</td>\n",
              "    </tr>\n",
              "    <tr>\n",
              "      <th>2</th>\n",
              "      <td>1.300144</td>\n",
              "      <td>103.857517</td>\n",
              "      <td>LAKB2BID5461679</td>\n",
              "      <td>2MBAO BIOCELLBANK PTE. LTD.</td>\n",
              "      <td>6719.0</td>\n",
              "      <td>Offices of Holding Companies, Not Elsewhere Cl...</td>\n",
              "      <td>67190000.0</td>\n",
              "      <td>Holding companies, nec</td>\n",
              "      <td>1993.0</td>\n",
              "      <td>Subsidiary</td>\n",
              "      <td>...</td>\n",
              "      <td>4.0</td>\n",
              "      <td>1.026308e+06</td>\n",
              "      <td>1.026308e+06</td>\n",
              "      <td>NaN</td>\n",
              "      <td>NaN</td>\n",
              "      <td>MADISON LIGHTERS AND WATCHES CO LTD</td>\n",
              "      <td>Hong Kong SAR</td>\n",
              "      <td>2MBAO BIOCELLBANK PTE. LTD.</td>\n",
              "      <td>1.0</td>\n",
              "      <td>0.0</td>\n",
              "    </tr>\n",
              "    <tr>\n",
              "      <th>3</th>\n",
              "      <td>1.300785</td>\n",
              "      <td>103.791263</td>\n",
              "      <td>LAKB2BID5088529</td>\n",
              "      <td>NEWBLOOM PTE. LTD.</td>\n",
              "      <td>6719.0</td>\n",
              "      <td>Offices of Holding Companies, Not Elsewhere Cl...</td>\n",
              "      <td>67190000.0</td>\n",
              "      <td>Holding companies, nec</td>\n",
              "      <td>2006.0</td>\n",
              "      <td>Subsidiary</td>\n",
              "      <td>...</td>\n",
              "      <td>100.0</td>\n",
              "      <td>7.339898e+10</td>\n",
              "      <td>7.339898e+10</td>\n",
              "      <td>NaN</td>\n",
              "      <td>NaN</td>\n",
              "      <td>WILMAR INTERNATIONAL LIMITED</td>\n",
              "      <td>Singapore</td>\n",
              "      <td>WILMAR INTERNATIONAL LIMITED</td>\n",
              "      <td>0.0</td>\n",
              "      <td>0.0</td>\n",
              "    </tr>\n",
              "    <tr>\n",
              "      <th>4</th>\n",
              "      <td>1.298759</td>\n",
              "      <td>103.859430</td>\n",
              "      <td>LAKB2BID1268831</td>\n",
              "      <td>ASIA GREEN CAPITAL PTE. LTD.</td>\n",
              "      <td>6719.0</td>\n",
              "      <td>Offices of Holding Companies, Not Elsewhere Cl...</td>\n",
              "      <td>67190000.0</td>\n",
              "      <td>Holding companies, nec</td>\n",
              "      <td>2006.0</td>\n",
              "      <td>Parent</td>\n",
              "      <td>...</td>\n",
              "      <td>4.0</td>\n",
              "      <td>4.322130e+05</td>\n",
              "      <td>4.322130e+05</td>\n",
              "      <td>Exports</td>\n",
              "      <td>NaN</td>\n",
              "      <td>ASIA GREEN CAPITAL PTE. LTD.</td>\n",
              "      <td>Singapore</td>\n",
              "      <td>ASIA GREEN CAPITAL PTE. LTD.</td>\n",
              "      <td>1.0</td>\n",
              "      <td>1.0</td>\n",
              "    </tr>\n",
              "  </tbody>\n",
              "</table>\n",
              "<p>5 rows × 28 columns</p>\n",
              "</div>\n",
              "    <div class=\"colab-df-buttons\">\n",
              "\n",
              "  <div class=\"colab-df-container\">\n",
              "    <button class=\"colab-df-convert\" onclick=\"convertToInteractive('df-2926a934-095e-469f-88cf-5afd5cd80b17')\"\n",
              "            title=\"Convert this dataframe to an interactive table.\"\n",
              "            style=\"display:none;\">\n",
              "\n",
              "  <svg xmlns=\"http://www.w3.org/2000/svg\" height=\"24px\" viewBox=\"0 -960 960 960\">\n",
              "    <path d=\"M120-120v-720h720v720H120Zm60-500h600v-160H180v160Zm220 220h160v-160H400v160Zm0 220h160v-160H400v160ZM180-400h160v-160H180v160Zm440 0h160v-160H620v160ZM180-180h160v-160H180v160Zm440 0h160v-160H620v160Z\"/>\n",
              "  </svg>\n",
              "    </button>\n",
              "\n",
              "  <style>\n",
              "    .colab-df-container {\n",
              "      display:flex;\n",
              "      gap: 12px;\n",
              "    }\n",
              "\n",
              "    .colab-df-convert {\n",
              "      background-color: #E8F0FE;\n",
              "      border: none;\n",
              "      border-radius: 50%;\n",
              "      cursor: pointer;\n",
              "      display: none;\n",
              "      fill: #1967D2;\n",
              "      height: 32px;\n",
              "      padding: 0 0 0 0;\n",
              "      width: 32px;\n",
              "    }\n",
              "\n",
              "    .colab-df-convert:hover {\n",
              "      background-color: #E2EBFA;\n",
              "      box-shadow: 0px 1px 2px rgba(60, 64, 67, 0.3), 0px 1px 3px 1px rgba(60, 64, 67, 0.15);\n",
              "      fill: #174EA6;\n",
              "    }\n",
              "\n",
              "    .colab-df-buttons div {\n",
              "      margin-bottom: 4px;\n",
              "    }\n",
              "\n",
              "    [theme=dark] .colab-df-convert {\n",
              "      background-color: #3B4455;\n",
              "      fill: #D2E3FC;\n",
              "    }\n",
              "\n",
              "    [theme=dark] .colab-df-convert:hover {\n",
              "      background-color: #434B5C;\n",
              "      box-shadow: 0px 1px 3px 1px rgba(0, 0, 0, 0.15);\n",
              "      filter: drop-shadow(0px 1px 2px rgba(0, 0, 0, 0.3));\n",
              "      fill: #FFFFFF;\n",
              "    }\n",
              "  </style>\n",
              "\n",
              "    <script>\n",
              "      const buttonEl =\n",
              "        document.querySelector('#df-2926a934-095e-469f-88cf-5afd5cd80b17 button.colab-df-convert');\n",
              "      buttonEl.style.display =\n",
              "        google.colab.kernel.accessAllowed ? 'block' : 'none';\n",
              "\n",
              "      async function convertToInteractive(key) {\n",
              "        const element = document.querySelector('#df-2926a934-095e-469f-88cf-5afd5cd80b17');\n",
              "        const dataTable =\n",
              "          await google.colab.kernel.invokeFunction('convertToInteractive',\n",
              "                                                    [key], {});\n",
              "        if (!dataTable) return;\n",
              "\n",
              "        const docLinkHtml = 'Like what you see? Visit the ' +\n",
              "          '<a target=\"_blank\" href=https://colab.research.google.com/notebooks/data_table.ipynb>data table notebook</a>'\n",
              "          + ' to learn more about interactive tables.';\n",
              "        element.innerHTML = '';\n",
              "        dataTable['output_type'] = 'display_data';\n",
              "        await google.colab.output.renderOutput(dataTable, element);\n",
              "        const docLink = document.createElement('div');\n",
              "        docLink.innerHTML = docLinkHtml;\n",
              "        element.appendChild(docLink);\n",
              "      }\n",
              "    </script>\n",
              "  </div>\n",
              "\n",
              "\n",
              "<div id=\"df-1873a066-cf7b-4f26-8c43-bc1bff098aaf\">\n",
              "  <button class=\"colab-df-quickchart\" onclick=\"quickchart('df-1873a066-cf7b-4f26-8c43-bc1bff098aaf')\"\n",
              "            title=\"Suggest charts\"\n",
              "            style=\"display:none;\">\n",
              "\n",
              "<svg xmlns=\"http://www.w3.org/2000/svg\" height=\"24px\"viewBox=\"0 0 24 24\"\n",
              "     width=\"24px\">\n",
              "    <g>\n",
              "        <path d=\"M19 3H5c-1.1 0-2 .9-2 2v14c0 1.1.9 2 2 2h14c1.1 0 2-.9 2-2V5c0-1.1-.9-2-2-2zM9 17H7v-7h2v7zm4 0h-2V7h2v10zm4 0h-2v-4h2v4z\"/>\n",
              "    </g>\n",
              "</svg>\n",
              "  </button>\n",
              "\n",
              "<style>\n",
              "  .colab-df-quickchart {\n",
              "      --bg-color: #E8F0FE;\n",
              "      --fill-color: #1967D2;\n",
              "      --hover-bg-color: #E2EBFA;\n",
              "      --hover-fill-color: #174EA6;\n",
              "      --disabled-fill-color: #AAA;\n",
              "      --disabled-bg-color: #DDD;\n",
              "  }\n",
              "\n",
              "  [theme=dark] .colab-df-quickchart {\n",
              "      --bg-color: #3B4455;\n",
              "      --fill-color: #D2E3FC;\n",
              "      --hover-bg-color: #434B5C;\n",
              "      --hover-fill-color: #FFFFFF;\n",
              "      --disabled-bg-color: #3B4455;\n",
              "      --disabled-fill-color: #666;\n",
              "  }\n",
              "\n",
              "  .colab-df-quickchart {\n",
              "    background-color: var(--bg-color);\n",
              "    border: none;\n",
              "    border-radius: 50%;\n",
              "    cursor: pointer;\n",
              "    display: none;\n",
              "    fill: var(--fill-color);\n",
              "    height: 32px;\n",
              "    padding: 0;\n",
              "    width: 32px;\n",
              "  }\n",
              "\n",
              "  .colab-df-quickchart:hover {\n",
              "    background-color: var(--hover-bg-color);\n",
              "    box-shadow: 0 1px 2px rgba(60, 64, 67, 0.3), 0 1px 3px 1px rgba(60, 64, 67, 0.15);\n",
              "    fill: var(--button-hover-fill-color);\n",
              "  }\n",
              "\n",
              "  .colab-df-quickchart-complete:disabled,\n",
              "  .colab-df-quickchart-complete:disabled:hover {\n",
              "    background-color: var(--disabled-bg-color);\n",
              "    fill: var(--disabled-fill-color);\n",
              "    box-shadow: none;\n",
              "  }\n",
              "\n",
              "  .colab-df-spinner {\n",
              "    border: 2px solid var(--fill-color);\n",
              "    border-color: transparent;\n",
              "    border-bottom-color: var(--fill-color);\n",
              "    animation:\n",
              "      spin 1s steps(1) infinite;\n",
              "  }\n",
              "\n",
              "  @keyframes spin {\n",
              "    0% {\n",
              "      border-color: transparent;\n",
              "      border-bottom-color: var(--fill-color);\n",
              "      border-left-color: var(--fill-color);\n",
              "    }\n",
              "    20% {\n",
              "      border-color: transparent;\n",
              "      border-left-color: var(--fill-color);\n",
              "      border-top-color: var(--fill-color);\n",
              "    }\n",
              "    30% {\n",
              "      border-color: transparent;\n",
              "      border-left-color: var(--fill-color);\n",
              "      border-top-color: var(--fill-color);\n",
              "      border-right-color: var(--fill-color);\n",
              "    }\n",
              "    40% {\n",
              "      border-color: transparent;\n",
              "      border-right-color: var(--fill-color);\n",
              "      border-top-color: var(--fill-color);\n",
              "    }\n",
              "    60% {\n",
              "      border-color: transparent;\n",
              "      border-right-color: var(--fill-color);\n",
              "    }\n",
              "    80% {\n",
              "      border-color: transparent;\n",
              "      border-right-color: var(--fill-color);\n",
              "      border-bottom-color: var(--fill-color);\n",
              "    }\n",
              "    90% {\n",
              "      border-color: transparent;\n",
              "      border-bottom-color: var(--fill-color);\n",
              "    }\n",
              "  }\n",
              "</style>\n",
              "\n",
              "  <script>\n",
              "    async function quickchart(key) {\n",
              "      const quickchartButtonEl =\n",
              "        document.querySelector('#' + key + ' button');\n",
              "      quickchartButtonEl.disabled = true;  // To prevent multiple clicks.\n",
              "      quickchartButtonEl.classList.add('colab-df-spinner');\n",
              "      try {\n",
              "        const charts = await google.colab.kernel.invokeFunction(\n",
              "            'suggestCharts', [key], {});\n",
              "      } catch (error) {\n",
              "        console.error('Error during call to suggestCharts:', error);\n",
              "      }\n",
              "      quickchartButtonEl.classList.remove('colab-df-spinner');\n",
              "      quickchartButtonEl.classList.add('colab-df-quickchart-complete');\n",
              "    }\n",
              "    (() => {\n",
              "      let quickchartButtonEl =\n",
              "        document.querySelector('#df-1873a066-cf7b-4f26-8c43-bc1bff098aaf button');\n",
              "      quickchartButtonEl.style.display =\n",
              "        google.colab.kernel.accessAllowed ? 'block' : 'none';\n",
              "    })();\n",
              "  </script>\n",
              "</div>\n",
              "\n",
              "    </div>\n",
              "  </div>\n"
            ]
          },
          "metadata": {},
          "execution_count": 53
        }
      ],
      "source": [
        "import pandas as pd\n",
        "file_path = '/content/drive/My Drive/catA_train.csv'\n",
        "dataset = pd.read_csv(file_path)\n",
        "dataset.head()\n"
      ]
    },
    {
      "cell_type": "code",
      "execution_count": 54,
      "metadata": {
        "colab": {
          "base_uri": "https://localhost:8080/"
        },
        "id": "xQVC1a34qpCP",
        "outputId": "ce6f5bd3-5c70-4fa4-d851-a45cc9b4b47f"
      },
      "outputs": [
        {
          "output_type": "execute_result",
          "data": {
            "text/plain": [
              "(29182, 28)"
            ]
          },
          "metadata": {},
          "execution_count": 54
        }
      ],
      "source": [
        "dataset.shape"
      ]
    },
    {
      "cell_type": "code",
      "source": [
        "dataset.info()\n"
      ],
      "metadata": {
        "colab": {
          "base_uri": "https://localhost:8080/"
        },
        "id": "hDtLIoZoyVi3",
        "outputId": "128bbd60-e68a-4862-9bd6-8979bc1b3d99"
      },
      "execution_count": 55,
      "outputs": [
        {
          "output_type": "stream",
          "name": "stdout",
          "text": [
            "<class 'pandas.core.frame.DataFrame'>\n",
            "RangeIndex: 29182 entries, 0 to 29181\n",
            "Data columns (total 28 columns):\n",
            " #   Column                               Non-Null Count  Dtype  \n",
            "---  ------                               --------------  -----  \n",
            " 0   LATITUDE                             29062 non-null  float64\n",
            " 1   LONGITUDE                            29062 non-null  float64\n",
            " 2   AccountID                            29182 non-null  object \n",
            " 3   Company                              29182 non-null  object \n",
            " 4   SIC Code                             29182 non-null  float64\n",
            " 5   Industry                             29182 non-null  object \n",
            " 6   8-Digit SIC Code                     29182 non-null  float64\n",
            " 7   8-Digit SIC Description              29182 non-null  object \n",
            " 8   Year Found                           28748 non-null  float64\n",
            " 9   Entity Type                          29182 non-null  object \n",
            " 10  Parent Company                       28668 non-null  object \n",
            " 11  Parent Country                       28662 non-null  object \n",
            " 12  Ownership Type                       29182 non-null  object \n",
            " 13  Company Description                  29182 non-null  object \n",
            " 14  Square Footage                       0 non-null      float64\n",
            " 15  Company Status (Active/Inactive)     29182 non-null  object \n",
            " 16  Employees (Single Site)              16779 non-null  float64\n",
            " 17  Employees (Domestic Ultimate Total)  29103 non-null  float64\n",
            " 18  Employees (Global Ultimate Total)    26408 non-null  float64\n",
            " 19  Sales (Domestic Ultimate Total USD)  29182 non-null  float64\n",
            " 20  Sales (Global Ultimate Total USD)    29182 non-null  float64\n",
            " 21  Import/Export Status                 6613 non-null   object \n",
            " 22  Fiscal Year End                      6737 non-null   object \n",
            " 23  Global Ultimate Company              28668 non-null  object \n",
            " 24  Global Ultimate Country              28659 non-null  object \n",
            " 25  Domestic Ultimate Company            28147 non-null  object \n",
            " 26  Is Domestic Ultimate                 29182 non-null  float64\n",
            " 27  Is Global Ultimate                   29182 non-null  float64\n",
            "dtypes: float64(13), object(15)\n",
            "memory usage: 6.2+ MB\n"
          ]
        }
      ]
    },
    {
      "cell_type": "code",
      "source": [
        "dataset.isna().sum()\n"
      ],
      "metadata": {
        "colab": {
          "base_uri": "https://localhost:8080/"
        },
        "id": "yqve-inbyqW5",
        "outputId": "ae282163-cc91-48f6-c554-916cb9e5783c"
      },
      "execution_count": 56,
      "outputs": [
        {
          "output_type": "execute_result",
          "data": {
            "text/plain": [
              "LATITUDE                                 120\n",
              "LONGITUDE                                120\n",
              "AccountID                                  0\n",
              "Company                                    0\n",
              "SIC Code                                   0\n",
              "Industry                                   0\n",
              "8-Digit SIC Code                           0\n",
              "8-Digit SIC Description                    0\n",
              "Year Found                               434\n",
              "Entity Type                                0\n",
              "Parent Company                           514\n",
              "Parent Country                           520\n",
              "Ownership Type                             0\n",
              "Company Description                        0\n",
              "Square Footage                         29182\n",
              "Company Status (Active/Inactive)           0\n",
              "Employees (Single Site)                12403\n",
              "Employees (Domestic Ultimate Total)       79\n",
              "Employees (Global Ultimate Total)       2774\n",
              "Sales (Domestic Ultimate Total USD)        0\n",
              "Sales (Global Ultimate Total USD)          0\n",
              "Import/Export Status                   22569\n",
              "Fiscal Year End                        22445\n",
              "Global Ultimate Company                  514\n",
              "Global Ultimate Country                  523\n",
              "Domestic Ultimate Company               1035\n",
              "Is Domestic Ultimate                       0\n",
              "Is Global Ultimate                         0\n",
              "dtype: int64"
            ]
          },
          "metadata": {},
          "execution_count": 56
        }
      ]
    },
    {
      "cell_type": "code",
      "source": [
        "dataset = dataset.drop('Square Footage', axis = 1)"
      ],
      "metadata": {
        "id": "Z995rRVfyuEt"
      },
      "execution_count": 57,
      "outputs": []
    },
    {
      "cell_type": "code",
      "source": [
        "dataset = dataset.dropna(subset = ['LATITUDE', 'LONGITUDE', 'Employees (Domestic Ultimate Total)'])"
      ],
      "metadata": {
        "id": "1me2EEGPy5RU"
      },
      "execution_count": 58,
      "outputs": []
    },
    {
      "cell_type": "code",
      "source": [
        "(dataset['Employees (Single Site)'] > dataset['Employees (Domestic Ultimate Total)']).sum() + (dataset['Employees (Single Site)'] > dataset['Employees (Global Ultimate Total)']).sum()\n"
      ],
      "metadata": {
        "colab": {
          "base_uri": "https://localhost:8080/"
        },
        "id": "3RPvLfMHy_yR",
        "outputId": "13c06eb4-65f8-4130-c43f-e6f288d17370"
      },
      "execution_count": 59,
      "outputs": [
        {
          "output_type": "execute_result",
          "data": {
            "text/plain": [
              "12038"
            ]
          },
          "metadata": {},
          "execution_count": 59
        }
      ]
    },
    {
      "cell_type": "code",
      "source": [
        "dataset['Employees (Global)'] = dataset[['Employees (Single Site)','Employees (Domestic Ultimate Total)','Employees (Global Ultimate Total)']].max(axis = 1)\n"
      ],
      "metadata": {
        "id": "h-roLydUzFac"
      },
      "execution_count": 60,
      "outputs": []
    },
    {
      "cell_type": "code",
      "source": [
        "dataset.drop(columns = ['Employees (Single Site)','Employees (Domestic Ultimate Total)','Employees (Global Ultimate Total)', 'Fiscal Year End'], inplace = True)"
      ],
      "metadata": {
        "id": "S5xaK24qzI-E"
      },
      "execution_count": 61,
      "outputs": []
    },
    {
      "cell_type": "code",
      "source": [
        "dataset['Import/Export Status'].fillna('N/A', inplace = True)"
      ],
      "metadata": {
        "id": "oEMqX7qEzezu"
      },
      "execution_count": 63,
      "outputs": []
    },
    {
      "cell_type": "code",
      "source": [
        "dataset = dataset[dataset['Company Status (Active/Inactive)'] == 'Active']\n"
      ],
      "metadata": {
        "id": "vQsf6jJTzl5D"
      },
      "execution_count": 66,
      "outputs": []
    },
    {
      "cell_type": "code",
      "source": [
        "dataset.head()"
      ],
      "metadata": {
        "colab": {
          "base_uri": "https://localhost:8080/",
          "height": 690
        },
        "id": "SGql3qSFzstP",
        "outputId": "0bbfc62d-c2eb-4bbe-a511-2cc0412b935f"
      },
      "execution_count": 68,
      "outputs": [
        {
          "output_type": "execute_result",
          "data": {
            "text/plain": [
              "   LATITUDE   LONGITUDE        AccountID  \\\n",
              "0  1.285495  103.843852  LAKB2BID4559214   \n",
              "1  1.291294  103.827476  LAKB2BID7610849   \n",
              "2  1.300144  103.857517  LAKB2BID5461679   \n",
              "3  1.300785  103.791263  LAKB2BID5088529   \n",
              "4  1.298759  103.859430  LAKB2BID1268831   \n",
              "\n",
              "                                     Company  SIC Code  \\\n",
              "0  FRANK CONSULTING SERVICES PRIVATE LIMITED    7361.0   \n",
              "1       NEW DESERT ORCHID SHIPPING PTE. LTD.    4449.0   \n",
              "2                2MBAO BIOCELLBANK PTE. LTD.    6719.0   \n",
              "3                         NEWBLOOM PTE. LTD.    6719.0   \n",
              "4               ASIA GREEN CAPITAL PTE. LTD.    6719.0   \n",
              "\n",
              "                                            Industry  8-Digit SIC Code  \\\n",
              "0                                Employment Agencies        73610000.0   \n",
              "1  Water Transportation of Freight, Not Elsewhere...        44490000.0   \n",
              "2  Offices of Holding Companies, Not Elsewhere Cl...        67190000.0   \n",
              "3  Offices of Holding Companies, Not Elsewhere Cl...        67190000.0   \n",
              "4  Offices of Holding Companies, Not Elsewhere Cl...        67190000.0   \n",
              "\n",
              "           8-Digit SIC Description  Year Found Entity Type  ...  \\\n",
              "0              Employment agencies      2020.0  Subsidiary  ...   \n",
              "1  Water transportation of freight      2015.0  Subsidiary  ...   \n",
              "2           Holding companies, nec      1993.0  Subsidiary  ...   \n",
              "3           Holding companies, nec      2006.0  Subsidiary  ...   \n",
              "4           Holding companies, nec      2006.0      Parent  ...   \n",
              "\n",
              "  Company Status (Active/Inactive) Sales (Domestic Ultimate Total USD)  \\\n",
              "0                           Active                        2.209224e+06   \n",
              "1                           Active                        7.093536e+09   \n",
              "2                           Active                        1.026308e+06   \n",
              "3                           Active                        7.339898e+10   \n",
              "4                           Active                        4.322130e+05   \n",
              "\n",
              "  Sales (Global Ultimate Total USD) Import/Export Status  \\\n",
              "0                      4.637871e+06                  N/A   \n",
              "1                      7.093536e+09                  N/A   \n",
              "2                      1.026308e+06                  N/A   \n",
              "3                      7.339898e+10                  N/A   \n",
              "4                      4.322130e+05              Exports   \n",
              "\n",
              "               Global Ultimate Company  Global Ultimate Country  \\\n",
              "0               FINDERS HOLDCO LIMITED           United Kingdom   \n",
              "1                PETREDEC PTE. LIMITED                Singapore   \n",
              "2  MADISON LIGHTERS AND WATCHES CO LTD            Hong Kong SAR   \n",
              "3         WILMAR INTERNATIONAL LIMITED                Singapore   \n",
              "4         ASIA GREEN CAPITAL PTE. LTD.                Singapore   \n",
              "\n",
              "              Domestic Ultimate Company Is Domestic Ultimate  \\\n",
              "0  FRANK RECRUITMENT GROUP PRIVATE LTD.                  0.0   \n",
              "1                                   NaN                  0.0   \n",
              "2           2MBAO BIOCELLBANK PTE. LTD.                  1.0   \n",
              "3          WILMAR INTERNATIONAL LIMITED                  0.0   \n",
              "4          ASIA GREEN CAPITAL PTE. LTD.                  1.0   \n",
              "\n",
              "  Is Global Ultimate Employees (Global)  \n",
              "0                0.0               25.0  \n",
              "1                0.0              100.0  \n",
              "2                0.0                4.0  \n",
              "3                0.0              100.0  \n",
              "4                1.0                4.0  \n",
              "\n",
              "[5 rows x 24 columns]"
            ],
            "text/html": [
              "\n",
              "  <div id=\"df-96a75056-50bd-4488-ada6-eef1ca067afc\" class=\"colab-df-container\">\n",
              "    <div>\n",
              "<style scoped>\n",
              "    .dataframe tbody tr th:only-of-type {\n",
              "        vertical-align: middle;\n",
              "    }\n",
              "\n",
              "    .dataframe tbody tr th {\n",
              "        vertical-align: top;\n",
              "    }\n",
              "\n",
              "    .dataframe thead th {\n",
              "        text-align: right;\n",
              "    }\n",
              "</style>\n",
              "<table border=\"1\" class=\"dataframe\">\n",
              "  <thead>\n",
              "    <tr style=\"text-align: right;\">\n",
              "      <th></th>\n",
              "      <th>LATITUDE</th>\n",
              "      <th>LONGITUDE</th>\n",
              "      <th>AccountID</th>\n",
              "      <th>Company</th>\n",
              "      <th>SIC Code</th>\n",
              "      <th>Industry</th>\n",
              "      <th>8-Digit SIC Code</th>\n",
              "      <th>8-Digit SIC Description</th>\n",
              "      <th>Year Found</th>\n",
              "      <th>Entity Type</th>\n",
              "      <th>...</th>\n",
              "      <th>Company Status (Active/Inactive)</th>\n",
              "      <th>Sales (Domestic Ultimate Total USD)</th>\n",
              "      <th>Sales (Global Ultimate Total USD)</th>\n",
              "      <th>Import/Export Status</th>\n",
              "      <th>Global Ultimate Company</th>\n",
              "      <th>Global Ultimate Country</th>\n",
              "      <th>Domestic Ultimate Company</th>\n",
              "      <th>Is Domestic Ultimate</th>\n",
              "      <th>Is Global Ultimate</th>\n",
              "      <th>Employees (Global)</th>\n",
              "    </tr>\n",
              "  </thead>\n",
              "  <tbody>\n",
              "    <tr>\n",
              "      <th>0</th>\n",
              "      <td>1.285495</td>\n",
              "      <td>103.843852</td>\n",
              "      <td>LAKB2BID4559214</td>\n",
              "      <td>FRANK CONSULTING SERVICES PRIVATE LIMITED</td>\n",
              "      <td>7361.0</td>\n",
              "      <td>Employment Agencies</td>\n",
              "      <td>73610000.0</td>\n",
              "      <td>Employment agencies</td>\n",
              "      <td>2020.0</td>\n",
              "      <td>Subsidiary</td>\n",
              "      <td>...</td>\n",
              "      <td>Active</td>\n",
              "      <td>2.209224e+06</td>\n",
              "      <td>4.637871e+06</td>\n",
              "      <td>N/A</td>\n",
              "      <td>FINDERS HOLDCO LIMITED</td>\n",
              "      <td>United Kingdom</td>\n",
              "      <td>FRANK RECRUITMENT GROUP PRIVATE LTD.</td>\n",
              "      <td>0.0</td>\n",
              "      <td>0.0</td>\n",
              "      <td>25.0</td>\n",
              "    </tr>\n",
              "    <tr>\n",
              "      <th>1</th>\n",
              "      <td>1.291294</td>\n",
              "      <td>103.827476</td>\n",
              "      <td>LAKB2BID7610849</td>\n",
              "      <td>NEW DESERT ORCHID SHIPPING PTE. LTD.</td>\n",
              "      <td>4449.0</td>\n",
              "      <td>Water Transportation of Freight, Not Elsewhere...</td>\n",
              "      <td>44490000.0</td>\n",
              "      <td>Water transportation of freight</td>\n",
              "      <td>2015.0</td>\n",
              "      <td>Subsidiary</td>\n",
              "      <td>...</td>\n",
              "      <td>Active</td>\n",
              "      <td>7.093536e+09</td>\n",
              "      <td>7.093536e+09</td>\n",
              "      <td>N/A</td>\n",
              "      <td>PETREDEC PTE. LIMITED</td>\n",
              "      <td>Singapore</td>\n",
              "      <td>NaN</td>\n",
              "      <td>0.0</td>\n",
              "      <td>0.0</td>\n",
              "      <td>100.0</td>\n",
              "    </tr>\n",
              "    <tr>\n",
              "      <th>2</th>\n",
              "      <td>1.300144</td>\n",
              "      <td>103.857517</td>\n",
              "      <td>LAKB2BID5461679</td>\n",
              "      <td>2MBAO BIOCELLBANK PTE. LTD.</td>\n",
              "      <td>6719.0</td>\n",
              "      <td>Offices of Holding Companies, Not Elsewhere Cl...</td>\n",
              "      <td>67190000.0</td>\n",
              "      <td>Holding companies, nec</td>\n",
              "      <td>1993.0</td>\n",
              "      <td>Subsidiary</td>\n",
              "      <td>...</td>\n",
              "      <td>Active</td>\n",
              "      <td>1.026308e+06</td>\n",
              "      <td>1.026308e+06</td>\n",
              "      <td>N/A</td>\n",
              "      <td>MADISON LIGHTERS AND WATCHES CO LTD</td>\n",
              "      <td>Hong Kong SAR</td>\n",
              "      <td>2MBAO BIOCELLBANK PTE. LTD.</td>\n",
              "      <td>1.0</td>\n",
              "      <td>0.0</td>\n",
              "      <td>4.0</td>\n",
              "    </tr>\n",
              "    <tr>\n",
              "      <th>3</th>\n",
              "      <td>1.300785</td>\n",
              "      <td>103.791263</td>\n",
              "      <td>LAKB2BID5088529</td>\n",
              "      <td>NEWBLOOM PTE. LTD.</td>\n",
              "      <td>6719.0</td>\n",
              "      <td>Offices of Holding Companies, Not Elsewhere Cl...</td>\n",
              "      <td>67190000.0</td>\n",
              "      <td>Holding companies, nec</td>\n",
              "      <td>2006.0</td>\n",
              "      <td>Subsidiary</td>\n",
              "      <td>...</td>\n",
              "      <td>Active</td>\n",
              "      <td>7.339898e+10</td>\n",
              "      <td>7.339898e+10</td>\n",
              "      <td>N/A</td>\n",
              "      <td>WILMAR INTERNATIONAL LIMITED</td>\n",
              "      <td>Singapore</td>\n",
              "      <td>WILMAR INTERNATIONAL LIMITED</td>\n",
              "      <td>0.0</td>\n",
              "      <td>0.0</td>\n",
              "      <td>100.0</td>\n",
              "    </tr>\n",
              "    <tr>\n",
              "      <th>4</th>\n",
              "      <td>1.298759</td>\n",
              "      <td>103.859430</td>\n",
              "      <td>LAKB2BID1268831</td>\n",
              "      <td>ASIA GREEN CAPITAL PTE. LTD.</td>\n",
              "      <td>6719.0</td>\n",
              "      <td>Offices of Holding Companies, Not Elsewhere Cl...</td>\n",
              "      <td>67190000.0</td>\n",
              "      <td>Holding companies, nec</td>\n",
              "      <td>2006.0</td>\n",
              "      <td>Parent</td>\n",
              "      <td>...</td>\n",
              "      <td>Active</td>\n",
              "      <td>4.322130e+05</td>\n",
              "      <td>4.322130e+05</td>\n",
              "      <td>Exports</td>\n",
              "      <td>ASIA GREEN CAPITAL PTE. LTD.</td>\n",
              "      <td>Singapore</td>\n",
              "      <td>ASIA GREEN CAPITAL PTE. LTD.</td>\n",
              "      <td>1.0</td>\n",
              "      <td>1.0</td>\n",
              "      <td>4.0</td>\n",
              "    </tr>\n",
              "  </tbody>\n",
              "</table>\n",
              "<p>5 rows × 24 columns</p>\n",
              "</div>\n",
              "    <div class=\"colab-df-buttons\">\n",
              "\n",
              "  <div class=\"colab-df-container\">\n",
              "    <button class=\"colab-df-convert\" onclick=\"convertToInteractive('df-96a75056-50bd-4488-ada6-eef1ca067afc')\"\n",
              "            title=\"Convert this dataframe to an interactive table.\"\n",
              "            style=\"display:none;\">\n",
              "\n",
              "  <svg xmlns=\"http://www.w3.org/2000/svg\" height=\"24px\" viewBox=\"0 -960 960 960\">\n",
              "    <path d=\"M120-120v-720h720v720H120Zm60-500h600v-160H180v160Zm220 220h160v-160H400v160Zm0 220h160v-160H400v160ZM180-400h160v-160H180v160Zm440 0h160v-160H620v160ZM180-180h160v-160H180v160Zm440 0h160v-160H620v160Z\"/>\n",
              "  </svg>\n",
              "    </button>\n",
              "\n",
              "  <style>\n",
              "    .colab-df-container {\n",
              "      display:flex;\n",
              "      gap: 12px;\n",
              "    }\n",
              "\n",
              "    .colab-df-convert {\n",
              "      background-color: #E8F0FE;\n",
              "      border: none;\n",
              "      border-radius: 50%;\n",
              "      cursor: pointer;\n",
              "      display: none;\n",
              "      fill: #1967D2;\n",
              "      height: 32px;\n",
              "      padding: 0 0 0 0;\n",
              "      width: 32px;\n",
              "    }\n",
              "\n",
              "    .colab-df-convert:hover {\n",
              "      background-color: #E2EBFA;\n",
              "      box-shadow: 0px 1px 2px rgba(60, 64, 67, 0.3), 0px 1px 3px 1px rgba(60, 64, 67, 0.15);\n",
              "      fill: #174EA6;\n",
              "    }\n",
              "\n",
              "    .colab-df-buttons div {\n",
              "      margin-bottom: 4px;\n",
              "    }\n",
              "\n",
              "    [theme=dark] .colab-df-convert {\n",
              "      background-color: #3B4455;\n",
              "      fill: #D2E3FC;\n",
              "    }\n",
              "\n",
              "    [theme=dark] .colab-df-convert:hover {\n",
              "      background-color: #434B5C;\n",
              "      box-shadow: 0px 1px 3px 1px rgba(0, 0, 0, 0.15);\n",
              "      filter: drop-shadow(0px 1px 2px rgba(0, 0, 0, 0.3));\n",
              "      fill: #FFFFFF;\n",
              "    }\n",
              "  </style>\n",
              "\n",
              "    <script>\n",
              "      const buttonEl =\n",
              "        document.querySelector('#df-96a75056-50bd-4488-ada6-eef1ca067afc button.colab-df-convert');\n",
              "      buttonEl.style.display =\n",
              "        google.colab.kernel.accessAllowed ? 'block' : 'none';\n",
              "\n",
              "      async function convertToInteractive(key) {\n",
              "        const element = document.querySelector('#df-96a75056-50bd-4488-ada6-eef1ca067afc');\n",
              "        const dataTable =\n",
              "          await google.colab.kernel.invokeFunction('convertToInteractive',\n",
              "                                                    [key], {});\n",
              "        if (!dataTable) return;\n",
              "\n",
              "        const docLinkHtml = 'Like what you see? Visit the ' +\n",
              "          '<a target=\"_blank\" href=https://colab.research.google.com/notebooks/data_table.ipynb>data table notebook</a>'\n",
              "          + ' to learn more about interactive tables.';\n",
              "        element.innerHTML = '';\n",
              "        dataTable['output_type'] = 'display_data';\n",
              "        await google.colab.output.renderOutput(dataTable, element);\n",
              "        const docLink = document.createElement('div');\n",
              "        docLink.innerHTML = docLinkHtml;\n",
              "        element.appendChild(docLink);\n",
              "      }\n",
              "    </script>\n",
              "  </div>\n",
              "\n",
              "\n",
              "<div id=\"df-e4b4202d-f85b-4a88-bc9d-f7a61e1fee68\">\n",
              "  <button class=\"colab-df-quickchart\" onclick=\"quickchart('df-e4b4202d-f85b-4a88-bc9d-f7a61e1fee68')\"\n",
              "            title=\"Suggest charts\"\n",
              "            style=\"display:none;\">\n",
              "\n",
              "<svg xmlns=\"http://www.w3.org/2000/svg\" height=\"24px\"viewBox=\"0 0 24 24\"\n",
              "     width=\"24px\">\n",
              "    <g>\n",
              "        <path d=\"M19 3H5c-1.1 0-2 .9-2 2v14c0 1.1.9 2 2 2h14c1.1 0 2-.9 2-2V5c0-1.1-.9-2-2-2zM9 17H7v-7h2v7zm4 0h-2V7h2v10zm4 0h-2v-4h2v4z\"/>\n",
              "    </g>\n",
              "</svg>\n",
              "  </button>\n",
              "\n",
              "<style>\n",
              "  .colab-df-quickchart {\n",
              "      --bg-color: #E8F0FE;\n",
              "      --fill-color: #1967D2;\n",
              "      --hover-bg-color: #E2EBFA;\n",
              "      --hover-fill-color: #174EA6;\n",
              "      --disabled-fill-color: #AAA;\n",
              "      --disabled-bg-color: #DDD;\n",
              "  }\n",
              "\n",
              "  [theme=dark] .colab-df-quickchart {\n",
              "      --bg-color: #3B4455;\n",
              "      --fill-color: #D2E3FC;\n",
              "      --hover-bg-color: #434B5C;\n",
              "      --hover-fill-color: #FFFFFF;\n",
              "      --disabled-bg-color: #3B4455;\n",
              "      --disabled-fill-color: #666;\n",
              "  }\n",
              "\n",
              "  .colab-df-quickchart {\n",
              "    background-color: var(--bg-color);\n",
              "    border: none;\n",
              "    border-radius: 50%;\n",
              "    cursor: pointer;\n",
              "    display: none;\n",
              "    fill: var(--fill-color);\n",
              "    height: 32px;\n",
              "    padding: 0;\n",
              "    width: 32px;\n",
              "  }\n",
              "\n",
              "  .colab-df-quickchart:hover {\n",
              "    background-color: var(--hover-bg-color);\n",
              "    box-shadow: 0 1px 2px rgba(60, 64, 67, 0.3), 0 1px 3px 1px rgba(60, 64, 67, 0.15);\n",
              "    fill: var(--button-hover-fill-color);\n",
              "  }\n",
              "\n",
              "  .colab-df-quickchart-complete:disabled,\n",
              "  .colab-df-quickchart-complete:disabled:hover {\n",
              "    background-color: var(--disabled-bg-color);\n",
              "    fill: var(--disabled-fill-color);\n",
              "    box-shadow: none;\n",
              "  }\n",
              "\n",
              "  .colab-df-spinner {\n",
              "    border: 2px solid var(--fill-color);\n",
              "    border-color: transparent;\n",
              "    border-bottom-color: var(--fill-color);\n",
              "    animation:\n",
              "      spin 1s steps(1) infinite;\n",
              "  }\n",
              "\n",
              "  @keyframes spin {\n",
              "    0% {\n",
              "      border-color: transparent;\n",
              "      border-bottom-color: var(--fill-color);\n",
              "      border-left-color: var(--fill-color);\n",
              "    }\n",
              "    20% {\n",
              "      border-color: transparent;\n",
              "      border-left-color: var(--fill-color);\n",
              "      border-top-color: var(--fill-color);\n",
              "    }\n",
              "    30% {\n",
              "      border-color: transparent;\n",
              "      border-left-color: var(--fill-color);\n",
              "      border-top-color: var(--fill-color);\n",
              "      border-right-color: var(--fill-color);\n",
              "    }\n",
              "    40% {\n",
              "      border-color: transparent;\n",
              "      border-right-color: var(--fill-color);\n",
              "      border-top-color: var(--fill-color);\n",
              "    }\n",
              "    60% {\n",
              "      border-color: transparent;\n",
              "      border-right-color: var(--fill-color);\n",
              "    }\n",
              "    80% {\n",
              "      border-color: transparent;\n",
              "      border-right-color: var(--fill-color);\n",
              "      border-bottom-color: var(--fill-color);\n",
              "    }\n",
              "    90% {\n",
              "      border-color: transparent;\n",
              "      border-bottom-color: var(--fill-color);\n",
              "    }\n",
              "  }\n",
              "</style>\n",
              "\n",
              "  <script>\n",
              "    async function quickchart(key) {\n",
              "      const quickchartButtonEl =\n",
              "        document.querySelector('#' + key + ' button');\n",
              "      quickchartButtonEl.disabled = true;  // To prevent multiple clicks.\n",
              "      quickchartButtonEl.classList.add('colab-df-spinner');\n",
              "      try {\n",
              "        const charts = await google.colab.kernel.invokeFunction(\n",
              "            'suggestCharts', [key], {});\n",
              "      } catch (error) {\n",
              "        console.error('Error during call to suggestCharts:', error);\n",
              "      }\n",
              "      quickchartButtonEl.classList.remove('colab-df-spinner');\n",
              "      quickchartButtonEl.classList.add('colab-df-quickchart-complete');\n",
              "    }\n",
              "    (() => {\n",
              "      let quickchartButtonEl =\n",
              "        document.querySelector('#df-e4b4202d-f85b-4a88-bc9d-f7a61e1fee68 button');\n",
              "      quickchartButtonEl.style.display =\n",
              "        google.colab.kernel.accessAllowed ? 'block' : 'none';\n",
              "    })();\n",
              "  </script>\n",
              "</div>\n",
              "\n",
              "    </div>\n",
              "  </div>\n"
            ]
          },
          "metadata": {},
          "execution_count": 68
        }
      ]
    },
    {
      "cell_type": "markdown",
      "source": [
        "# Placeholders"
      ],
      "metadata": {
        "id": "S48lm09OM4V4"
      }
    },
    {
      "cell_type": "code",
      "source": [
        "#correlation heatmap to identify significant columns\n",
        "import seaborn as sns\n",
        "import matplotlib.pyplot as plt\n",
        "df_corr = dataset.corr()\n",
        "figure=plt.figure(figsize=(20,15))\n",
        "sns.heatmap(df_corr, annot=True,fmt=\".1g\")\n",
        "plt.show()"
      ],
      "metadata": {
        "colab": {
          "base_uri": "https://localhost:8080/",
          "height": 939
        },
        "id": "Rnhi2p4XPgdj",
        "outputId": "6f3e171b-f9f4-4342-b0ec-5d0c5775fbde"
      },
      "execution_count": 69,
      "outputs": [
        {
          "output_type": "stream",
          "name": "stderr",
          "text": [
            "<ipython-input-69-0103152c89c5>:4: FutureWarning: The default value of numeric_only in DataFrame.corr is deprecated. In a future version, it will default to False. Select only valid columns or specify the value of numeric_only to silence this warning.\n",
            "  df_corr = dataset.corr()\n"
          ]
        },
        {
          "output_type": "display_data",
          "data": {
            "text/plain": [
              "<Figure size 2000x1500 with 2 Axes>"
            ],
            "image/png": "[encoded data removed]"
          },
          "metadata": {}
        }
      ]
    },
    {
      "cell_type": "code",
      "source": [
        "#1. Adding \"not applicable\" to import/export status of companies that do not import/export\n",
        "def update_import_export_status(row):\n",
        "    if pd.isna(row['Import/Export Status']):\n",
        "        return 'not applicable'\n",
        "    else:\n",
        "        return row['Import/Export Status']\n",
        "\n",
        "dataset['Import/Export Status'] = dataset.apply(update_import_export_status, axis=1)"
      ],
      "metadata": {
        "id": "8LhTVEL_LBig"
      },
      "execution_count": 72,
      "outputs": []
    },
    {
      "cell_type": "code",
      "source": [
        "dataset.head()"
      ],
      "metadata": {
        "colab": {
          "base_uri": "https://localhost:8080/",
          "height": 690
        },
        "id": "862IsyXRNUl8",
        "outputId": "cbd6ebe2-d3bc-4dbb-f169-11198a16e9e2"
      },
      "execution_count": 73,
      "outputs": [
        {
          "output_type": "execute_result",
          "data": {
            "text/plain": [
              "   LATITUDE   LONGITUDE        AccountID  \\\n",
              "0  1.285495  103.843852  LAKB2BID4559214   \n",
              "1  1.291294  103.827476  LAKB2BID7610849   \n",
              "2  1.300144  103.857517  LAKB2BID5461679   \n",
              "3  1.300785  103.791263  LAKB2BID5088529   \n",
              "4  1.298759  103.859430  LAKB2BID1268831   \n",
              "\n",
              "                                     Company  SIC Code  \\\n",
              "0  FRANK CONSULTING SERVICES PRIVATE LIMITED    7361.0   \n",
              "1       NEW DESERT ORCHID SHIPPING PTE. LTD.    4449.0   \n",
              "2                2MBAO BIOCELLBANK PTE. LTD.    6719.0   \n",
              "3                         NEWBLOOM PTE. LTD.    6719.0   \n",
              "4               ASIA GREEN CAPITAL PTE. LTD.    6719.0   \n",
              "\n",
              "                                            Industry  8-Digit SIC Code  \\\n",
              "0                                Employment Agencies        73610000.0   \n",
              "1  Water Transportation of Freight, Not Elsewhere...        44490000.0   \n",
              "2  Offices of Holding Companies, Not Elsewhere Cl...        67190000.0   \n",
              "3  Offices of Holding Companies, Not Elsewhere Cl...        67190000.0   \n",
              "4  Offices of Holding Companies, Not Elsewhere Cl...        67190000.0   \n",
              "\n",
              "           8-Digit SIC Description  Year Found Entity Type  ...  \\\n",
              "0              Employment agencies      2020.0  Subsidiary  ...   \n",
              "1  Water transportation of freight      2015.0  Subsidiary  ...   \n",
              "2           Holding companies, nec      1993.0  Subsidiary  ...   \n",
              "3           Holding companies, nec      2006.0  Subsidiary  ...   \n",
              "4           Holding companies, nec      2006.0      Parent  ...   \n",
              "\n",
              "  Company Status (Active/Inactive) Sales (Domestic Ultimate Total USD)  \\\n",
              "0                           Active                        2.209224e+06   \n",
              "1                           Active                        7.093536e+09   \n",
              "2                           Active                        1.026308e+06   \n",
              "3                           Active                        7.339898e+10   \n",
              "4                           Active                        4.322130e+05   \n",
              "\n",
              "  Sales (Global Ultimate Total USD) Import/Export Status  \\\n",
              "0                      4.637871e+06                  N/A   \n",
              "1                      7.093536e+09                  N/A   \n",
              "2                      1.026308e+06                  N/A   \n",
              "3                      7.339898e+10                  N/A   \n",
              "4                      4.322130e+05              Exports   \n",
              "\n",
              "               Global Ultimate Company  Global Ultimate Country  \\\n",
              "0               FINDERS HOLDCO LIMITED           United Kingdom   \n",
              "1                PETREDEC PTE. LIMITED                Singapore   \n",
              "2  MADISON LIGHTERS AND WATCHES CO LTD            Hong Kong SAR   \n",
              "3         WILMAR INTERNATIONAL LIMITED                Singapore   \n",
              "4         ASIA GREEN CAPITAL PTE. LTD.                Singapore   \n",
              "\n",
              "              Domestic Ultimate Company Is Domestic Ultimate  \\\n",
              "0  FRANK RECRUITMENT GROUP PRIVATE LTD.                  0.0   \n",
              "1                                   NaN                  0.0   \n",
              "2           2MBAO BIOCELLBANK PTE. LTD.                  1.0   \n",
              "3          WILMAR INTERNATIONAL LIMITED                  0.0   \n",
              "4          ASIA GREEN CAPITAL PTE. LTD.                  1.0   \n",
              "\n",
              "  Is Global Ultimate Employees (Global)  \n",
              "0                0.0               25.0  \n",
              "1                0.0              100.0  \n",
              "2                0.0                4.0  \n",
              "3                0.0              100.0  \n",
              "4                1.0                4.0  \n",
              "\n",
              "[5 rows x 24 columns]"
            ],
            "text/html": [
              "\n",
              "  <div id=\"df-2d46dbc8-8e0f-48d7-86d9-9bb7b4aaa4f9\" class=\"colab-df-container\">\n",
              "    <div>\n",
              "<style scoped>\n",
              "    .dataframe tbody tr th:only-of-type {\n",
              "        vertical-align: middle;\n",
              "    }\n",
              "\n",
              "    .dataframe tbody tr th {\n",
              "        vertical-align: top;\n",
              "    }\n",
              "\n",
              "    .dataframe thead th {\n",
              "        text-align: right;\n",
              "    }\n",
              "</style>\n",
              "<table border=\"1\" class=\"dataframe\">\n",
              "  <thead>\n",
              "    <tr style=\"text-align: right;\">\n",
              "      <th></th>\n",
              "      <th>LATITUDE</th>\n",
              "      <th>LONGITUDE</th>\n",
              "      <th>AccountID</th>\n",
              "      <th>Company</th>\n",
              "      <th>SIC Code</th>\n",
              "      <th>Industry</th>\n",
              "      <th>8-Digit SIC Code</th>\n",
              "      <th>8-Digit SIC Description</th>\n",
              "      <th>Year Found</th>\n",
              "      <th>Entity Type</th>\n",
              "      <th>...</th>\n",
              "      <th>Company Status (Active/Inactive)</th>\n",
              "      <th>Sales (Domestic Ultimate Total USD)</th>\n",
              "      <th>Sales (Global Ultimate Total USD)</th>\n",
              "      <th>Import/Export Status</th>\n",
              "      <th>Global Ultimate Company</th>\n",
              "      <th>Global Ultimate Country</th>\n",
              "      <th>Domestic Ultimate Company</th>\n",
              "      <th>Is Domestic Ultimate</th>\n",
              "      <th>Is Global Ultimate</th>\n",
              "      <th>Employees (Global)</th>\n",
              "    </tr>\n",
              "  </thead>\n",
              "  <tbody>\n",
              "    <tr>\n",
              "      <th>0</th>\n",
              "      <td>1.285495</td>\n",
              "      <td>103.843852</td>\n",
              "      <td>LAKB2BID4559214</td>\n",
              "      <td>FRANK CONSULTING SERVICES PRIVATE LIMITED</td>\n",
              "      <td>7361.0</td>\n",
              "      <td>Employment Agencies</td>\n",
              "      <td>73610000.0</td>\n",
              "      <td>Employment agencies</td>\n",
              "      <td>2020.0</td>\n",
              "      <td>Subsidiary</td>\n",
              "      <td>...</td>\n",
              "      <td>Active</td>\n",
              "      <td>2.209224e+06</td>\n",
              "      <td>4.637871e+06</td>\n",
              "      <td>N/A</td>\n",
              "      <td>FINDERS HOLDCO LIMITED</td>\n",
              "      <td>United Kingdom</td>\n",
              "      <td>FRANK RECRUITMENT GROUP PRIVATE LTD.</td>\n",
              "      <td>0.0</td>\n",
              "      <td>0.0</td>\n",
              "      <td>25.0</td>\n",
              "    </tr>\n",
              "    <tr>\n",
              "      <th>1</th>\n",
              "      <td>1.291294</td>\n",
              "      <td>103.827476</td>\n",
              "      <td>LAKB2BID7610849</td>\n",
              "      <td>NEW DESERT ORCHID SHIPPING PTE. LTD.</td>\n",
              "      <td>4449.0</td>\n",
              "      <td>Water Transportation of Freight, Not Elsewhere...</td>\n",
              "      <td>44490000.0</td>\n",
              "      <td>Water transportation of freight</td>\n",
              "      <td>2015.0</td>\n",
              "      <td>Subsidiary</td>\n",
              "      <td>...</td>\n",
              "      <td>Active</td>\n",
              "      <td>7.093536e+09</td>\n",
              "      <td>7.093536e+09</td>\n",
              "      <td>N/A</td>\n",
              "      <td>PETREDEC PTE. LIMITED</td>\n",
              "      <td>Singapore</td>\n",
              "      <td>NaN</td>\n",
              "      <td>0.0</td>\n",
              "      <td>0.0</td>\n",
              "      <td>100.0</td>\n",
              "    </tr>\n",
              "    <tr>\n",
              "      <th>2</th>\n",
              "      <td>1.300144</td>\n",
              "      <td>103.857517</td>\n",
              "      <td>LAKB2BID5461679</td>\n",
              "      <td>2MBAO BIOCELLBANK PTE. LTD.</td>\n",
              "      <td>6719.0</td>\n",
              "      <td>Offices of Holding Companies, Not Elsewhere Cl...</td>\n",
              "      <td>67190000.0</td>\n",
              "      <td>Holding companies, nec</td>\n",
              "      <td>1993.0</td>\n",
              "      <td>Subsidiary</td>\n",
              "      <td>...</td>\n",
              "      <td>Active</td>\n",
              "      <td>1.026308e+06</td>\n",
              "      <td>1.026308e+06</td>\n",
              "      <td>N/A</td>\n",
              "      <td>MADISON LIGHTERS AND WATCHES CO LTD</td>\n",
              "      <td>Hong Kong SAR</td>\n",
              "      <td>2MBAO BIOCELLBANK PTE. LTD.</td>\n",
              "      <td>1.0</td>\n",
              "      <td>0.0</td>\n",
              "      <td>4.0</td>\n",
              "    </tr>\n",
              "    <tr>\n",
              "      <th>3</th>\n",
              "      <td>1.300785</td>\n",
              "      <td>103.791263</td>\n",
              "      <td>LAKB2BID5088529</td>\n",
              "      <td>NEWBLOOM PTE. LTD.</td>\n",
              "      <td>6719.0</td>\n",
              "      <td>Offices of Holding Companies, Not Elsewhere Cl...</td>\n",
              "      <td>67190000.0</td>\n",
              "      <td>Holding companies, nec</td>\n",
              "      <td>2006.0</td>\n",
              "      <td>Subsidiary</td>\n",
              "      <td>...</td>\n",
              "      <td>Active</td>\n",
              "      <td>7.339898e+10</td>\n",
              "      <td>7.339898e+10</td>\n",
              "      <td>N/A</td>\n",
              "      <td>WILMAR INTERNATIONAL LIMITED</td>\n",
              "      <td>Singapore</td>\n",
              "      <td>WILMAR INTERNATIONAL LIMITED</td>\n",
              "      <td>0.0</td>\n",
              "      <td>0.0</td>\n",
              "      <td>100.0</td>\n",
              "    </tr>\n",
              "    <tr>\n",
              "      <th>4</th>\n",
              "      <td>1.298759</td>\n",
              "      <td>103.859430</td>\n",
              "      <td>LAKB2BID1268831</td>\n",
              "      <td>ASIA GREEN CAPITAL PTE. LTD.</td>\n",
              "      <td>6719.0</td>\n",
              "      <td>Offices of Holding Companies, Not Elsewhere Cl...</td>\n",
              "      <td>67190000.0</td>\n",
              "      <td>Holding companies, nec</td>\n",
              "      <td>2006.0</td>\n",
              "      <td>Parent</td>\n",
              "      <td>...</td>\n",
              "      <td>Active</td>\n",
              "      <td>4.322130e+05</td>\n",
              "      <td>4.322130e+05</td>\n",
              "      <td>Exports</td>\n",
              "      <td>ASIA GREEN CAPITAL PTE. LTD.</td>\n",
              "      <td>Singapore</td>\n",
              "      <td>ASIA GREEN CAPITAL PTE. LTD.</td>\n",
              "      <td>1.0</td>\n",
              "      <td>1.0</td>\n",
              "      <td>4.0</td>\n",
              "    </tr>\n",
              "  </tbody>\n",
              "</table>\n",
              "<p>5 rows × 24 columns</p>\n",
              "</div>\n",
              "    <div class=\"colab-df-buttons\">\n",
              "\n",
              "  <div class=\"colab-df-container\">\n",
              "    <button class=\"colab-df-convert\" onclick=\"convertToInteractive('df-2d46dbc8-8e0f-48d7-86d9-9bb7b4aaa4f9')\"\n",
              "            title=\"Convert this dataframe to an interactive table.\"\n",
              "            style=\"display:none;\">\n",
              "\n",
              "  <svg xmlns=\"http://www.w3.org/2000/svg\" height=\"24px\" viewBox=\"0 -960 960 960\">\n",
              "    <path d=\"M120-120v-720h720v720H120Zm60-500h600v-160H180v160Zm220 220h160v-160H400v160Zm0 220h160v-160H400v160ZM180-400h160v-160H180v160Zm440 0h160v-160H620v160ZM180-180h160v-160H180v160Zm440 0h160v-160H620v160Z\"/>\n",
              "  </svg>\n",
              "    </button>\n",
              "\n",
              "  <style>\n",
              "    .colab-df-container {\n",
              "      display:flex;\n",
              "      gap: 12px;\n",
              "    }\n",
              "\n",
              "    .colab-df-convert {\n",
              "      background-color: #E8F0FE;\n",
              "      border: none;\n",
              "      border-radius: 50%;\n",
              "      cursor: pointer;\n",
              "      display: none;\n",
              "      fill: #1967D2;\n",
              "      height: 32px;\n",
              "      padding: 0 0 0 0;\n",
              "      width: 32px;\n",
              "    }\n",
              "\n",
              "    .colab-df-convert:hover {\n",
              "      background-color: #E2EBFA;\n",
              "      box-shadow: 0px 1px 2px rgba(60, 64, 67, 0.3), 0px 1px 3px 1px rgba(60, 64, 67, 0.15);\n",
              "      fill: #174EA6;\n",
              "    }\n",
              "\n",
              "    .colab-df-buttons div {\n",
              "      margin-bottom: 4px;\n",
              "    }\n",
              "\n",
              "    [theme=dark] .colab-df-convert {\n",
              "      background-color: #3B4455;\n",
              "      fill: #D2E3FC;\n",
              "    }\n",
              "\n",
              "    [theme=dark] .colab-df-convert:hover {\n",
              "      background-color: #434B5C;\n",
              "      box-shadow: 0px 1px 3px 1px rgba(0, 0, 0, 0.15);\n",
              "      filter: drop-shadow(0px 1px 2px rgba(0, 0, 0, 0.3));\n",
              "      fill: #FFFFFF;\n",
              "    }\n",
              "  </style>\n",
              "\n",
              "    <script>\n",
              "      const buttonEl =\n",
              "        document.querySelector('#df-2d46dbc8-8e0f-48d7-86d9-9bb7b4aaa4f9 button.colab-df-convert');\n",
              "      buttonEl.style.display =\n",
              "        google.colab.kernel.accessAllowed ? 'block' : 'none';\n",
              "\n",
              "      async function convertToInteractive(key) {\n",
              "        const element = document.querySelector('#df-2d46dbc8-8e0f-48d7-86d9-9bb7b4aaa4f9');\n",
              "        const dataTable =\n",
              "          await google.colab.kernel.invokeFunction('convertToInteractive',\n",
              "                                                    [key], {});\n",
              "        if (!dataTable) return;\n",
              "\n",
              "        const docLinkHtml = 'Like what you see? Visit the ' +\n",
              "          '<a target=\"_blank\" href=https://colab.research.google.com/notebooks/data_table.ipynb>data table notebook</a>'\n",
              "          + ' to learn more about interactive tables.';\n",
              "        element.innerHTML = '';\n",
              "        dataTable['output_type'] = 'display_data';\n",
              "        await google.colab.output.renderOutput(dataTable, element);\n",
              "        const docLink = document.createElement('div');\n",
              "        docLink.innerHTML = docLinkHtml;\n",
              "        element.appendChild(docLink);\n",
              "      }\n",
              "    </script>\n",
              "  </div>\n",
              "\n",
              "\n",
              "<div id=\"df-72223da8-65a4-4bc9-9405-faa6a7529ed3\">\n",
              "  <button class=\"colab-df-quickchart\" onclick=\"quickchart('df-72223da8-65a4-4bc9-9405-faa6a7529ed3')\"\n",
              "            title=\"Suggest charts\"\n",
              "            style=\"display:none;\">\n",
              "\n",
              "<svg xmlns=\"http://www.w3.org/2000/svg\" height=\"24px\"viewBox=\"0 0 24 24\"\n",
              "     width=\"24px\">\n",
              "    <g>\n",
              "        <path d=\"M19 3H5c-1.1 0-2 .9-2 2v14c0 1.1.9 2 2 2h14c1.1 0 2-.9 2-2V5c0-1.1-.9-2-2-2zM9 17H7v-7h2v7zm4 0h-2V7h2v10zm4 0h-2v-4h2v4z\"/>\n",
              "    </g>\n",
              "</svg>\n",
              "  </button>\n",
              "\n",
              "<style>\n",
              "  .colab-df-quickchart {\n",
              "      --bg-color: #E8F0FE;\n",
              "      --fill-color: #1967D2;\n",
              "      --hover-bg-color: #E2EBFA;\n",
              "      --hover-fill-color: #174EA6;\n",
              "      --disabled-fill-color: #AAA;\n",
              "      --disabled-bg-color: #DDD;\n",
              "  }\n",
              "\n",
              "  [theme=dark] .colab-df-quickchart {\n",
              "      --bg-color: #3B4455;\n",
              "      --fill-color: #D2E3FC;\n",
              "      --hover-bg-color: #434B5C;\n",
              "      --hover-fill-color: #FFFFFF;\n",
              "      --disabled-bg-color: #3B4455;\n",
              "      --disabled-fill-color: #666;\n",
              "  }\n",
              "\n",
              "  .colab-df-quickchart {\n",
              "    background-color: var(--bg-color);\n",
              "    border: none;\n",
              "    border-radius: 50%;\n",
              "    cursor: pointer;\n",
              "    display: none;\n",
              "    fill: var(--fill-color);\n",
              "    height: 32px;\n",
              "    padding: 0;\n",
              "    width: 32px;\n",
              "  }\n",
              "\n",
              "  .colab-df-quickchart:hover {\n",
              "    background-color: var(--hover-bg-color);\n",
              "    box-shadow: 0 1px 2px rgba(60, 64, 67, 0.3), 0 1px 3px 1px rgba(60, 64, 67, 0.15);\n",
              "    fill: var(--button-hover-fill-color);\n",
              "  }\n",
              "\n",
              "  .colab-df-quickchart-complete:disabled,\n",
              "  .colab-df-quickchart-complete:disabled:hover {\n",
              "    background-color: var(--disabled-bg-color);\n",
              "    fill: var(--disabled-fill-color);\n",
              "    box-shadow: none;\n",
              "  }\n",
              "\n",
              "  .colab-df-spinner {\n",
              "    border: 2px solid var(--fill-color);\n",
              "    border-color: transparent;\n",
              "    border-bottom-color: var(--fill-color);\n",
              "    animation:\n",
              "      spin 1s steps(1) infinite;\n",
              "  }\n",
              "\n",
              "  @keyframes spin {\n",
              "    0% {\n",
              "      border-color: transparent;\n",
              "      border-bottom-color: var(--fill-color);\n",
              "      border-left-color: var(--fill-color);\n",
              "    }\n",
              "    20% {\n",
              "      border-color: transparent;\n",
              "      border-left-color: var(--fill-color);\n",
              "      border-top-color: var(--fill-color);\n",
              "    }\n",
              "    30% {\n",
              "      border-color: transparent;\n",
              "      border-left-color: var(--fill-color);\n",
              "      border-top-color: var(--fill-color);\n",
              "      border-right-color: var(--fill-color);\n",
              "    }\n",
              "    40% {\n",
              "      border-color: transparent;\n",
              "      border-right-color: var(--fill-color);\n",
              "      border-top-color: var(--fill-color);\n",
              "    }\n",
              "    60% {\n",
              "      border-color: transparent;\n",
              "      border-right-color: var(--fill-color);\n",
              "    }\n",
              "    80% {\n",
              "      border-color: transparent;\n",
              "      border-right-color: var(--fill-color);\n",
              "      border-bottom-color: var(--fill-color);\n",
              "    }\n",
              "    90% {\n",
              "      border-color: transparent;\n",
              "      border-bottom-color: var(--fill-color);\n",
              "    }\n",
              "  }\n",
              "</style>\n",
              "\n",
              "  <script>\n",
              "    async function quickchart(key) {\n",
              "      const quickchartButtonEl =\n",
              "        document.querySelector('#' + key + ' button');\n",
              "      quickchartButtonEl.disabled = true;  // To prevent multiple clicks.\n",
              "      quickchartButtonEl.classList.add('colab-df-spinner');\n",
              "      try {\n",
              "        const charts = await google.colab.kernel.invokeFunction(\n",
              "            'suggestCharts', [key], {});\n",
              "      } catch (error) {\n",
              "        console.error('Error during call to suggestCharts:', error);\n",
              "      }\n",
              "      quickchartButtonEl.classList.remove('colab-df-spinner');\n",
              "      quickchartButtonEl.classList.add('colab-df-quickchart-complete');\n",
              "    }\n",
              "    (() => {\n",
              "      let quickchartButtonEl =\n",
              "        document.querySelector('#df-72223da8-65a4-4bc9-9405-faa6a7529ed3 button');\n",
              "      quickchartButtonEl.style.display =\n",
              "        google.colab.kernel.accessAllowed ? 'block' : 'none';\n",
              "    })();\n",
              "  </script>\n",
              "</div>\n",
              "\n",
              "    </div>\n",
              "  </div>\n"
            ]
          },
          "metadata": {},
          "execution_count": 73
        }
      ]
    },
    {
      "cell_type": "code",
      "source": [
        "#dropping fiscal year end\n",
        "dataset.drop(columns=['Fiscal Year End'], inplace=True)\n"
      ],
      "metadata": {
        "id": "Frl2pLVOO4e7"
      },
      "execution_count": 14,
      "outputs": []
    },
    {
      "cell_type": "code",
      "source": [
        "#Webscraping dataset\n",
        "from pprint import pprint\n",
        "import requests\n",
        "from bs4 import BeautifulSoup\n",
        "\n",
        "list_countries = list(dataset['Global Ultimate Country'].unique())\n",
        "scraped_gdps = {}\n",
        "\n",
        "def google_search(query):\n",
        "    url = f\"https://www.google.com/search?q={query} gdp per capita\"\n",
        "    headers = {\n",
        "        'User-Agent': 'Mozilla/5.0 (Windows NT 10.0; Win64; x64) AppleWebKit/537.36 (KHTML, like Gecko) Chrome/91.0.4472.124 Safari/537.36',\n",
        "        'Content-Type': 'application/json', 'Accept-Encoding': 'deflate'\n",
        "    }\n",
        "\n",
        "    response = requests.get(url, headers=headers)\n",
        "\n",
        "    if response.status_code == 200:\n",
        "        return response.text\n",
        "    else:\n",
        "        print(f\"Failed to retrieve search results. Status code: {response.status_code}\")\n",
        "        return None\n",
        "\n",
        "def extract_figure_from_html(html_content):\n",
        "    soup = BeautifulSoup(html_content, 'html.parser')\n",
        "\n",
        "    # Find the element with class \"ayqGOc\" and extract the text\n",
        "    figure_element = soup.find('div', class_='ayqGOc')\n",
        "\n",
        "    if figure_element:\n",
        "        figure_text = figure_element.get_text(strip=True)\n",
        "        return figure_text\n",
        "    else:\n",
        "        print(\"Figure element not found.\")\n",
        "        return None\n",
        "\n",
        "def apply_function(query):\n",
        "  html_content = google_search(query)\n",
        "  if html_content:\n",
        "    return extract_figure_from_html(html_content)\n",
        "  return -1\n",
        "\n",
        "\n",
        "for country in list_countries:\n",
        "  figure = apply_function(country)\n",
        "  scraped_gdps.update({country: figure})\n",
        "\n",
        "\n",
        "\n",
        "\n",
        "pprint(scraped_gdps)\n",
        "\n"
      ],
      "metadata": {
        "colab": {
          "base_uri": "https://localhost:8080/"
        },
        "id": "noXKFguSYmXi",
        "outputId": "29613be7-3ca3-4d4c-953a-2b717a95f59f"
      },
      "execution_count": 34,
      "outputs": [
        {
          "output_type": "stream",
          "name": "stdout",
          "text": [
            "Figure element not found.\n",
            "Figure element not found.\n",
            "Figure element not found.\n",
            "{nan: None,\n",
            " 'Antigua and Barbuda': '15,781.40 USD (2021)',\n",
            " 'Australia': '60,443.11 USD (2021)',\n",
            " 'Austria': '53,637.71 USD (2021)',\n",
            " 'Bahamas': '27,478.39 USD (2021)',\n",
            " 'Bahrain': '26,562.97 USD (2021)',\n",
            " 'Bangladesh': '2,457.92 USD (2021)',\n",
            " 'Belgium': '51,247.01 USD (2021)',\n",
            " 'Belize': '6,228.27 USD (2021)',\n",
            " 'Bermuda': '114,090.33 USD (2021)',\n",
            " 'Brazil': '7,507.16 USD (2021)',\n",
            " 'Brunei Darussalam': '31,449.08 USD (2021)',\n",
            " 'Canada': '51,987.94 USD (2021)',\n",
            " 'Cayman Islands': '86,568.77 USD (2021)',\n",
            " 'Chile': '16,265.10 USD (2021)',\n",
            " 'China': '12,556.33 USD (2021)',\n",
            " 'Croatia': '17,685.33 USD (2021)',\n",
            " 'Curacao': '17,717.60 USD (2021)',\n",
            " 'Cyprus': '31,551.82 USD (2021)',\n",
            " 'Denmark': '68,007.76 USD (2021)',\n",
            " 'Estonia': '27,943.70 USD (2021)',\n",
            " 'Finland': '53,654.75 USD (2021)',\n",
            " 'France': '43,658.98 USD (2021)',\n",
            " 'Germany': '51,203.55 USD (2021)',\n",
            " 'Greece': '20,192.60 USD (2021)',\n",
            " 'Hong Kong SAR': '49,800.54 USD (2021)',\n",
            " 'Hungary': '18,728.12 USD (2021)',\n",
            " 'Iceland': '68,727.64 USD (2021)',\n",
            " 'India': '2,256.59 USD (2021)',\n",
            " 'Indonesia': '4,332.71 USD (2021)',\n",
            " 'Iran': '4,091.21 USD (2021)',\n",
            " 'Ireland': '100,172.08 USD (2021)',\n",
            " 'Israel': '52,170.71 USD (2021)',\n",
            " 'Italy': '35,657.50 USD (2021)',\n",
            " 'Jamaica': '5,183.58 USD (2021)',\n",
            " 'Japan': '39,312.66 USD (2021)',\n",
            " 'Korea, Republic of': '34,997.78 USD (2021)',\n",
            " 'Kuwait': '24,300.33 USD (2020)',\n",
            " 'Lebanon': '4,136.15 USD (2021)',\n",
            " 'Liberia': '675.66 USD (2021)',\n",
            " 'Liechtenstein': '157,754.95 USD (2020)',\n",
            " 'Lithuania': '23,723.34 USD (2021)',\n",
            " 'Luxembourg': '133,590.15 USD (2021)',\n",
            " 'Malaysia': '11,109.26 USD (2021)',\n",
            " 'Maldives': '10,366.29 USD (2021)',\n",
            " 'Malta': '33,486.67 USD (2021)',\n",
            " 'Marshall Islands': '6,172.15 USD (2021)',\n",
            " 'Mauritius': '9,106.24 USD (2021)',\n",
            " 'Mexico': '10,045.68 USD (2021)',\n",
            " 'Netherlands': '57,767.88 USD (2021)',\n",
            " 'New Zealand': '48,781.03 USD (2021)',\n",
            " 'Nigeria': '2,065.75 USD (2021)',\n",
            " 'Norway': '89,154.28 USD (2021)',\n",
            " 'Panama': '14,617.60 USD (2021)',\n",
            " 'Philippines': '3,460.53 USD (2021)',\n",
            " 'Poland': '17,999.91 USD (2021)',\n",
            " 'Portugal': '24,567.51 USD (2021)',\n",
            " 'Qatar': '66,838.36 USD (2021)',\n",
            " 'Russian Federation': '12,194.78 USD (2021)',\n",
            " 'Samoa': '3,857.32 USD (2021)',\n",
            " 'Saudi Arabia': '23,185.87 USD (2021)',\n",
            " 'Singapore': '72,794.00 USD (2021)',\n",
            " 'South Africa': '7,055.04 USD (2021)',\n",
            " 'Spain': '30,103.51 USD (2021)',\n",
            " 'Sri Lanka': '4,013.69 USD (2021)',\n",
            " 'Sweden': '61,028.74 USD (2021)',\n",
            " 'Switzerland': '91,991.60 USD (2021)',\n",
            " 'Taiwan': None,\n",
            " 'Thailand': '7,066.19 USD (2021)',\n",
            " 'Turkey': '9,661.24 USD (2021)',\n",
            " 'United Arab Emirates': '44,315.55 USD (2021)',\n",
            " 'United Kingdom': '46,510.28 USD (2021)',\n",
            " 'United States': '70,248.63 USD (2021)',\n",
            " 'Vietnam': '3,756.49 USD (2021)',\n",
            " 'Virgin Islands (British)': None}\n"
          ]
        }
      ]
    },
    {
      "cell_type": "code",
      "source": [
        "scraped_gdps['Taiwan'] = '32,756.000 USD (2021)'\n",
        "scraped_gdps['Virgin Islands (British)'] = '39,552.17 USD (2020)'"
      ],
      "metadata": {
        "id": "XPO_FbWijel9"
      },
      "execution_count": 35,
      "outputs": []
    },
    {
      "cell_type": "code",
      "source": [
        "dataset['GDP per Capita'] = dataset['Global Ultimate Country'].map(scraped_gdps)"
      ],
      "metadata": {
        "id": "kjN_KxFAsVU-"
      },
      "execution_count": 74,
      "outputs": []
    },
    {
      "cell_type": "code",
      "source": [
        "dataset.drop(columns=['AccountID', '8-Digit SIC Code', 'Industry'], inplace=True)\n"
      ],
      "metadata": {
        "id": "uONv2bKG0zAA"
      },
      "execution_count": 97,
      "outputs": []
    },
    {
      "cell_type": "code",
      "source": [
        "dataset.head()\n"
      ],
      "metadata": {
        "colab": {
          "base_uri": "https://localhost:8080/",
          "height": 551
        },
        "id": "pQq5gp4ltV5G",
        "outputId": "2e080d17-6556-474b-cda9-bb7b552945d7"
      },
      "execution_count": 99,
      "outputs": [
        {
          "output_type": "execute_result",
          "data": {
            "text/plain": [
              "   LATITUDE   LONGITUDE                                    Company  SIC Code  \\\n",
              "0  1.285495  103.843852  FRANK CONSULTING SERVICES PRIVATE LIMITED    7361.0   \n",
              "1  1.291294  103.827476       NEW DESERT ORCHID SHIPPING PTE. LTD.    4449.0   \n",
              "2  1.300144  103.857517                2MBAO BIOCELLBANK PTE. LTD.    6719.0   \n",
              "3  1.300785  103.791263                         NEWBLOOM PTE. LTD.    6719.0   \n",
              "4  1.298759  103.859430               ASIA GREEN CAPITAL PTE. LTD.    6719.0   \n",
              "\n",
              "           8-Digit SIC Description  Year Found Entity Type  \\\n",
              "0              Employment agencies      2020.0  Subsidiary   \n",
              "1  Water transportation of freight      2015.0  Subsidiary   \n",
              "2           Holding companies, nec      1993.0  Subsidiary   \n",
              "3           Holding companies, nec      2006.0  Subsidiary   \n",
              "4           Holding companies, nec      2006.0      Parent   \n",
              "\n",
              "                         Parent Company Parent Country Ownership Type  ...  \\\n",
              "0  FRANK RECRUITMENT GROUP PRIVATE LTD.      Singapore        Private  ...   \n",
              "1          FORTITUDE SHIPPING PTE. LTD.      Singapore        Private  ...   \n",
              "2   MADISON LIGHTERS AND WATCHES CO LTD  Hong Kong SAR        Private  ...   \n",
              "3          WILMAR INTERNATIONAL LIMITED      Singapore        Private  ...   \n",
              "4          ASIA GREEN CAPITAL PTE. LTD.      Singapore        Private  ...   \n",
              "\n",
              "  Sales (Domestic Ultimate Total USD) Sales (Global Ultimate Total USD)  \\\n",
              "0                        2.209224e+06                      4.637871e+06   \n",
              "1                        7.093536e+09                      7.093536e+09   \n",
              "2                        1.026308e+06                      1.026308e+06   \n",
              "3                        7.339898e+10                      7.339898e+10   \n",
              "4                        4.322130e+05                      4.322130e+05   \n",
              "\n",
              "   Import/Export Status              Global Ultimate Company  \\\n",
              "0                   N/A               FINDERS HOLDCO LIMITED   \n",
              "1                   N/A                PETREDEC PTE. LIMITED   \n",
              "2                   N/A  MADISON LIGHTERS AND WATCHES CO LTD   \n",
              "3                   N/A         WILMAR INTERNATIONAL LIMITED   \n",
              "4               Exports         ASIA GREEN CAPITAL PTE. LTD.   \n",
              "\n",
              "  Global Ultimate Country             Domestic Ultimate Company  \\\n",
              "0          United Kingdom  FRANK RECRUITMENT GROUP PRIVATE LTD.   \n",
              "1               Singapore                                   NaN   \n",
              "2           Hong Kong SAR           2MBAO BIOCELLBANK PTE. LTD.   \n",
              "3               Singapore          WILMAR INTERNATIONAL LIMITED   \n",
              "4               Singapore          ASIA GREEN CAPITAL PTE. LTD.   \n",
              "\n",
              "  Is Domestic Ultimate Is Global Ultimate  Employees (Global)  \\\n",
              "0                  0.0                0.0                25.0   \n",
              "1                  0.0                0.0               100.0   \n",
              "2                  1.0                0.0                 4.0   \n",
              "3                  0.0                0.0               100.0   \n",
              "4                  1.0                1.0                 4.0   \n",
              "\n",
              "         GDP per Capita  \n",
              "0  46,510.28 USD (2021)  \n",
              "1  72,794.00 USD (2021)  \n",
              "2  49,800.54 USD (2021)  \n",
              "3  72,794.00 USD (2021)  \n",
              "4  72,794.00 USD (2021)  \n",
              "\n",
              "[5 rows x 22 columns]"
            ],
            "text/html": [
              "\n",
              "  <div id=\"df-161eb72b-611a-4b27-bc43-eed623f688b7\" class=\"colab-df-container\">\n",
              "    <div>\n",
              "<style scoped>\n",
              "    .dataframe tbody tr th:only-of-type {\n",
              "        vertical-align: middle;\n",
              "    }\n",
              "\n",
              "    .dataframe tbody tr th {\n",
              "        vertical-align: top;\n",
              "    }\n",
              "\n",
              "    .dataframe thead th {\n",
              "        text-align: right;\n",
              "    }\n",
              "</style>\n",
              "<table border=\"1\" class=\"dataframe\">\n",
              "  <thead>\n",
              "    <tr style=\"text-align: right;\">\n",
              "      <th></th>\n",
              "      <th>LATITUDE</th>\n",
              "      <th>LONGITUDE</th>\n",
              "      <th>Company</th>\n",
              "      <th>SIC Code</th>\n",
              "      <th>8-Digit SIC Description</th>\n",
              "      <th>Year Found</th>\n",
              "      <th>Entity Type</th>\n",
              "      <th>Parent Company</th>\n",
              "      <th>Parent Country</th>\n",
              "      <th>Ownership Type</th>\n",
              "      <th>...</th>\n",
              "      <th>Sales (Domestic Ultimate Total USD)</th>\n",
              "      <th>Sales (Global Ultimate Total USD)</th>\n",
              "      <th>Import/Export Status</th>\n",
              "      <th>Global Ultimate Company</th>\n",
              "      <th>Global Ultimate Country</th>\n",
              "      <th>Domestic Ultimate Company</th>\n",
              "      <th>Is Domestic Ultimate</th>\n",
              "      <th>Is Global Ultimate</th>\n",
              "      <th>Employees (Global)</th>\n",
              "      <th>GDP per Capita</th>\n",
              "    </tr>\n",
              "  </thead>\n",
              "  <tbody>\n",
              "    <tr>\n",
              "      <th>0</th>\n",
              "      <td>1.285495</td>\n",
              "      <td>103.843852</td>\n",
              "      <td>FRANK CONSULTING SERVICES PRIVATE LIMITED</td>\n",
              "      <td>7361.0</td>\n",
              "      <td>Employment agencies</td>\n",
              "      <td>2020.0</td>\n",
              "      <td>Subsidiary</td>\n",
              "      <td>FRANK RECRUITMENT GROUP PRIVATE LTD.</td>\n",
              "      <td>Singapore</td>\n",
              "      <td>Private</td>\n",
              "      <td>...</td>\n",
              "      <td>2.209224e+06</td>\n",
              "      <td>4.637871e+06</td>\n",
              "      <td>N/A</td>\n",
              "      <td>FINDERS HOLDCO LIMITED</td>\n",
              "      <td>United Kingdom</td>\n",
              "      <td>FRANK RECRUITMENT GROUP PRIVATE LTD.</td>\n",
              "      <td>0.0</td>\n",
              "      <td>0.0</td>\n",
              "      <td>25.0</td>\n",
              "      <td>46,510.28 USD (2021)</td>\n",
              "    </tr>\n",
              "    <tr>\n",
              "      <th>1</th>\n",
              "      <td>1.291294</td>\n",
              "      <td>103.827476</td>\n",
              "      <td>NEW DESERT ORCHID SHIPPING PTE. LTD.</td>\n",
              "      <td>4449.0</td>\n",
              "      <td>Water transportation of freight</td>\n",
              "      <td>2015.0</td>\n",
              "      <td>Subsidiary</td>\n",
              "      <td>FORTITUDE SHIPPING PTE. LTD.</td>\n",
              "      <td>Singapore</td>\n",
              "      <td>Private</td>\n",
              "      <td>...</td>\n",
              "      <td>7.093536e+09</td>\n",
              "      <td>7.093536e+09</td>\n",
              "      <td>N/A</td>\n",
              "      <td>PETREDEC PTE. LIMITED</td>\n",
              "      <td>Singapore</td>\n",
              "      <td>NaN</td>\n",
              "      <td>0.0</td>\n",
              "      <td>0.0</td>\n",
              "      <td>100.0</td>\n",
              "      <td>72,794.00 USD (2021)</td>\n",
              "    </tr>\n",
              "    <tr>\n",
              "      <th>2</th>\n",
              "      <td>1.300144</td>\n",
              "      <td>103.857517</td>\n",
              "      <td>2MBAO BIOCELLBANK PTE. LTD.</td>\n",
              "      <td>6719.0</td>\n",
              "      <td>Holding companies, nec</td>\n",
              "      <td>1993.0</td>\n",
              "      <td>Subsidiary</td>\n",
              "      <td>MADISON LIGHTERS AND WATCHES CO LTD</td>\n",
              "      <td>Hong Kong SAR</td>\n",
              "      <td>Private</td>\n",
              "      <td>...</td>\n",
              "      <td>1.026308e+06</td>\n",
              "      <td>1.026308e+06</td>\n",
              "      <td>N/A</td>\n",
              "      <td>MADISON LIGHTERS AND WATCHES CO LTD</td>\n",
              "      <td>Hong Kong SAR</td>\n",
              "      <td>2MBAO BIOCELLBANK PTE. LTD.</td>\n",
              "      <td>1.0</td>\n",
              "      <td>0.0</td>\n",
              "      <td>4.0</td>\n",
              "      <td>49,800.54 USD (2021)</td>\n",
              "    </tr>\n",
              "    <tr>\n",
              "      <th>3</th>\n",
              "      <td>1.300785</td>\n",
              "      <td>103.791263</td>\n",
              "      <td>NEWBLOOM PTE. LTD.</td>\n",
              "      <td>6719.0</td>\n",
              "      <td>Holding companies, nec</td>\n",
              "      <td>2006.0</td>\n",
              "      <td>Subsidiary</td>\n",
              "      <td>WILMAR INTERNATIONAL LIMITED</td>\n",
              "      <td>Singapore</td>\n",
              "      <td>Private</td>\n",
              "      <td>...</td>\n",
              "      <td>7.339898e+10</td>\n",
              "      <td>7.339898e+10</td>\n",
              "      <td>N/A</td>\n",
              "      <td>WILMAR INTERNATIONAL LIMITED</td>\n",
              "      <td>Singapore</td>\n",
              "      <td>WILMAR INTERNATIONAL LIMITED</td>\n",
              "      <td>0.0</td>\n",
              "      <td>0.0</td>\n",
              "      <td>100.0</td>\n",
              "      <td>72,794.00 USD (2021)</td>\n",
              "    </tr>\n",
              "    <tr>\n",
              "      <th>4</th>\n",
              "      <td>1.298759</td>\n",
              "      <td>103.859430</td>\n",
              "      <td>ASIA GREEN CAPITAL PTE. LTD.</td>\n",
              "      <td>6719.0</td>\n",
              "      <td>Holding companies, nec</td>\n",
              "      <td>2006.0</td>\n",
              "      <td>Parent</td>\n",
              "      <td>ASIA GREEN CAPITAL PTE. LTD.</td>\n",
              "      <td>Singapore</td>\n",
              "      <td>Private</td>\n",
              "      <td>...</td>\n",
              "      <td>4.322130e+05</td>\n",
              "      <td>4.322130e+05</td>\n",
              "      <td>Exports</td>\n",
              "      <td>ASIA GREEN CAPITAL PTE. LTD.</td>\n",
              "      <td>Singapore</td>\n",
              "      <td>ASIA GREEN CAPITAL PTE. LTD.</td>\n",
              "      <td>1.0</td>\n",
              "      <td>1.0</td>\n",
              "      <td>4.0</td>\n",
              "      <td>72,794.00 USD (2021)</td>\n",
              "    </tr>\n",
              "  </tbody>\n",
              "</table>\n",
              "<p>5 rows × 22 columns</p>\n",
              "</div>\n",
              "    <div class=\"colab-df-buttons\">\n",
              "\n",
              "  <div class=\"colab-df-container\">\n",
              "    <button class=\"colab-df-convert\" onclick=\"convertToInteractive('df-161eb72b-611a-4b27-bc43-eed623f688b7')\"\n",
              "            title=\"Convert this dataframe to an interactive table.\"\n",
              "            style=\"display:none;\">\n",
              "\n",
              "  <svg xmlns=\"http://www.w3.org/2000/svg\" height=\"24px\" viewBox=\"0 -960 960 960\">\n",
              "    <path d=\"M120-120v-720h720v720H120Zm60-500h600v-160H180v160Zm220 220h160v-160H400v160Zm0 220h160v-160H400v160ZM180-400h160v-160H180v160Zm440 0h160v-160H620v160ZM180-180h160v-160H180v160Zm440 0h160v-160H620v160Z\"/>\n",
              "  </svg>\n",
              "    </button>\n",
              "\n",
              "  <style>\n",
              "    .colab-df-container {\n",
              "      display:flex;\n",
              "      gap: 12px;\n",
              "    }\n",
              "\n",
              "    .colab-df-convert {\n",
              "      background-color: #E8F0FE;\n",
              "      border: none;\n",
              "      border-radius: 50%;\n",
              "      cursor: pointer;\n",
              "      display: none;\n",
              "      fill: #1967D2;\n",
              "      height: 32px;\n",
              "      padding: 0 0 0 0;\n",
              "      width: 32px;\n",
              "    }\n",
              "\n",
              "    .colab-df-convert:hover {\n",
              "      background-color: #E2EBFA;\n",
              "      box-shadow: 0px 1px 2px rgba(60, 64, 67, 0.3), 0px 1px 3px 1px rgba(60, 64, 67, 0.15);\n",
              "      fill: #174EA6;\n",
              "    }\n",
              "\n",
              "    .colab-df-buttons div {\n",
              "      margin-bottom: 4px;\n",
              "    }\n",
              "\n",
              "    [theme=dark] .colab-df-convert {\n",
              "      background-color: #3B4455;\n",
              "      fill: #D2E3FC;\n",
              "    }\n",
              "\n",
              "    [theme=dark] .colab-df-convert:hover {\n",
              "      background-color: #434B5C;\n",
              "      box-shadow: 0px 1px 3px 1px rgba(0, 0, 0, 0.15);\n",
              "      filter: drop-shadow(0px 1px 2px rgba(0, 0, 0, 0.3));\n",
              "      fill: #FFFFFF;\n",
              "    }\n",
              "  </style>\n",
              "\n",
              "    <script>\n",
              "      const buttonEl =\n",
              "        document.querySelector('#df-161eb72b-611a-4b27-bc43-eed623f688b7 button.colab-df-convert');\n",
              "      buttonEl.style.display =\n",
              "        google.colab.kernel.accessAllowed ? 'block' : 'none';\n",
              "\n",
              "      async function convertToInteractive(key) {\n",
              "        const element = document.querySelector('#df-161eb72b-611a-4b27-bc43-eed623f688b7');\n",
              "        const dataTable =\n",
              "          await google.colab.kernel.invokeFunction('convertToInteractive',\n",
              "                                                    [key], {});\n",
              "        if (!dataTable) return;\n",
              "\n",
              "        const docLinkHtml = 'Like what you see? Visit the ' +\n",
              "          '<a target=\"_blank\" href=https://colab.research.google.com/notebooks/data_table.ipynb>data table notebook</a>'\n",
              "          + ' to learn more about interactive tables.';\n",
              "        element.innerHTML = '';\n",
              "        dataTable['output_type'] = 'display_data';\n",
              "        await google.colab.output.renderOutput(dataTable, element);\n",
              "        const docLink = document.createElement('div');\n",
              "        docLink.innerHTML = docLinkHtml;\n",
              "        element.appendChild(docLink);\n",
              "      }\n",
              "    </script>\n",
              "  </div>\n",
              "\n",
              "\n",
              "<div id=\"df-dd450a2a-c2fa-43d2-bd60-e616920630ac\">\n",
              "  <button class=\"colab-df-quickchart\" onclick=\"quickchart('df-dd450a2a-c2fa-43d2-bd60-e616920630ac')\"\n",
              "            title=\"Suggest charts\"\n",
              "            style=\"display:none;\">\n",
              "\n",
              "<svg xmlns=\"http://www.w3.org/2000/svg\" height=\"24px\"viewBox=\"0 0 24 24\"\n",
              "     width=\"24px\">\n",
              "    <g>\n",
              "        <path d=\"M19 3H5c-1.1 0-2 .9-2 2v14c0 1.1.9 2 2 2h14c1.1 0 2-.9 2-2V5c0-1.1-.9-2-2-2zM9 17H7v-7h2v7zm4 0h-2V7h2v10zm4 0h-2v-4h2v4z\"/>\n",
              "    </g>\n",
              "</svg>\n",
              "  </button>\n",
              "\n",
              "<style>\n",
              "  .colab-df-quickchart {\n",
              "      --bg-color: #E8F0FE;\n",
              "      --fill-color: #1967D2;\n",
              "      --hover-bg-color: #E2EBFA;\n",
              "      --hover-fill-color: #174EA6;\n",
              "      --disabled-fill-color: #AAA;\n",
              "      --disabled-bg-color: #DDD;\n",
              "  }\n",
              "\n",
              "  [theme=dark] .colab-df-quickchart {\n",
              "      --bg-color: #3B4455;\n",
              "      --fill-color: #D2E3FC;\n",
              "      --hover-bg-color: #434B5C;\n",
              "      --hover-fill-color: #FFFFFF;\n",
              "      --disabled-bg-color: #3B4455;\n",
              "      --disabled-fill-color: #666;\n",
              "  }\n",
              "\n",
              "  .colab-df-quickchart {\n",
              "    background-color: var(--bg-color);\n",
              "    border: none;\n",
              "    border-radius: 50%;\n",
              "    cursor: pointer;\n",
              "    display: none;\n",
              "    fill: var(--fill-color);\n",
              "    height: 32px;\n",
              "    padding: 0;\n",
              "    width: 32px;\n",
              "  }\n",
              "\n",
              "  .colab-df-quickchart:hover {\n",
              "    background-color: var(--hover-bg-color);\n",
              "    box-shadow: 0 1px 2px rgba(60, 64, 67, 0.3), 0 1px 3px 1px rgba(60, 64, 67, 0.15);\n",
              "    fill: var(--button-hover-fill-color);\n",
              "  }\n",
              "\n",
              "  .colab-df-quickchart-complete:disabled,\n",
              "  .colab-df-quickchart-complete:disabled:hover {\n",
              "    background-color: var(--disabled-bg-color);\n",
              "    fill: var(--disabled-fill-color);\n",
              "    box-shadow: none;\n",
              "  }\n",
              "\n",
              "  .colab-df-spinner {\n",
              "    border: 2px solid var(--fill-color);\n",
              "    border-color: transparent;\n",
              "    border-bottom-color: var(--fill-color);\n",
              "    animation:\n",
              "      spin 1s steps(1) infinite;\n",
              "  }\n",
              "\n",
              "  @keyframes spin {\n",
              "    0% {\n",
              "      border-color: transparent;\n",
              "      border-bottom-color: var(--fill-color);\n",
              "      border-left-color: var(--fill-color);\n",
              "    }\n",
              "    20% {\n",
              "      border-color: transparent;\n",
              "      border-left-color: var(--fill-color);\n",
              "      border-top-color: var(--fill-color);\n",
              "    }\n",
              "    30% {\n",
              "      border-color: transparent;\n",
              "      border-left-color: var(--fill-color);\n",
              "      border-top-color: var(--fill-color);\n",
              "      border-right-color: var(--fill-color);\n",
              "    }\n",
              "    40% {\n",
              "      border-color: transparent;\n",
              "      border-right-color: var(--fill-color);\n",
              "      border-top-color: var(--fill-color);\n",
              "    }\n",
              "    60% {\n",
              "      border-color: transparent;\n",
              "      border-right-color: var(--fill-color);\n",
              "    }\n",
              "    80% {\n",
              "      border-color: transparent;\n",
              "      border-right-color: var(--fill-color);\n",
              "      border-bottom-color: var(--fill-color);\n",
              "    }\n",
              "    90% {\n",
              "      border-color: transparent;\n",
              "      border-bottom-color: var(--fill-color);\n",
              "    }\n",
              "  }\n",
              "</style>\n",
              "\n",
              "  <script>\n",
              "    async function quickchart(key) {\n",
              "      const quickchartButtonEl =\n",
              "        document.querySelector('#' + key + ' button');\n",
              "      quickchartButtonEl.disabled = true;  // To prevent multiple clicks.\n",
              "      quickchartButtonEl.classList.add('colab-df-spinner');\n",
              "      try {\n",
              "        const charts = await google.colab.kernel.invokeFunction(\n",
              "            'suggestCharts', [key], {});\n",
              "      } catch (error) {\n",
              "        console.error('Error during call to suggestCharts:', error);\n",
              "      }\n",
              "      quickchartButtonEl.classList.remove('colab-df-spinner');\n",
              "      quickchartButtonEl.classList.add('colab-df-quickchart-complete');\n",
              "    }\n",
              "    (() => {\n",
              "      let quickchartButtonEl =\n",
              "        document.querySelector('#df-dd450a2a-c2fa-43d2-bd60-e616920630ac button');\n",
              "      quickchartButtonEl.style.display =\n",
              "        google.colab.kernel.accessAllowed ? 'block' : 'none';\n",
              "    })();\n",
              "  </script>\n",
              "</div>\n",
              "\n",
              "    </div>\n",
              "  </div>\n"
            ]
          },
          "metadata": {},
          "execution_count": 99
        }
      ]
    },
    {
      "cell_type": "code",
      "source": [
        "import tensorflow as tf\n",
        "import tensorflow_hub as hub\n"
      ],
      "metadata": {
        "id": "Oq6wjSp800KL"
      },
      "execution_count": 100,
      "outputs": []
    },
    {
      "cell_type": "code",
      "source": [
        "embed = hub.load(\"https://tfhub.dev/google/universal-sentence-encoder/4\")\n"
      ],
      "metadata": {
        "id": "zLTuzJXD3Aq6"
      },
      "execution_count": 101,
      "outputs": []
    },
    {
      "cell_type": "code",
      "source": [
        "import numpy as np\n",
        "import pandas as pd\n",
        "#Define a list of sentences to be embedded\n",
        "\n",
        "def calculate_avg_embedding(sentence):\n",
        "  # Generate embeddings for the sentences\n",
        "  embeddings = embed([sentence])\n",
        "  averaged_embeddings = np.mean(embeddings, axis=1)\n",
        "  return float(averaged_embeddings)\n",
        "\n",
        "\n"
      ],
      "metadata": {
        "colab": {
          "base_uri": "https://localhost:8080/"
        },
        "id": "MNoHPkZp3GNn",
        "outputId": "6ab274f1-3fd0-42c5-f6e2-803589531037"
      },
      "execution_count": 104,
      "outputs": [
        {
          "output_type": "stream",
          "name": "stdout",
          "text": [
            "0.0009519747691228986\n"
          ]
        }
      ]
    },
    {
      "cell_type": "code",
      "source": [
        "dataset['Company Description'] = dataset['Company Description'].apply(calculate_avg_embedding)\n"
      ],
      "metadata": {
        "id": "O6Z7iGft3aHk"
      },
      "execution_count": 106,
      "outputs": []
    },
    {
      "cell_type": "code",
      "source": [
        "dataset['Company Description']"
      ],
      "metadata": {
        "colab": {
          "base_uri": "https://localhost:8080/"
        },
        "id": "sffWphfX30Oa",
        "outputId": "c858c8a4-d8b4-47ee-d7d0-349fc9aa24ea"
      },
      "execution_count": 110,
      "outputs": [
        {
          "output_type": "execute_result",
          "data": {
            "text/plain": [
              "0        0.000412\n",
              "1        0.000042\n",
              "2        0.000857\n",
              "3        0.001070\n",
              "4        0.001599\n",
              "           ...   \n",
              "29177    0.001201\n",
              "29178    0.000921\n",
              "29179    0.001886\n",
              "29180    0.001111\n",
              "29181   -0.000611\n",
              "Name: Company Description, Length: 28984, dtype: float64"
            ]
          },
          "metadata": {},
          "execution_count": 110
        }
      ]
    },
    {
      "cell_type": "code",
      "source": [
        "dataset.head()"
      ],
      "metadata": {
        "colab": {
          "base_uri": "https://localhost:8080/",
          "height": 551
        },
        "id": "BXR8H7bL4p2-",
        "outputId": "554f873a-84aa-4f1a-ca1a-86039e26c184"
      },
      "execution_count": 111,
      "outputs": [
        {
          "output_type": "execute_result",
          "data": {
            "text/plain": [
              "   LATITUDE   LONGITUDE                                    Company  SIC Code  \\\n",
              "0  1.285495  103.843852  FRANK CONSULTING SERVICES PRIVATE LIMITED    7361.0   \n",
              "1  1.291294  103.827476       NEW DESERT ORCHID SHIPPING PTE. LTD.    4449.0   \n",
              "2  1.300144  103.857517                2MBAO BIOCELLBANK PTE. LTD.    6719.0   \n",
              "3  1.300785  103.791263                         NEWBLOOM PTE. LTD.    6719.0   \n",
              "4  1.298759  103.859430               ASIA GREEN CAPITAL PTE. LTD.    6719.0   \n",
              "\n",
              "           8-Digit SIC Description  Year Found Entity Type  \\\n",
              "0              Employment agencies      2020.0  Subsidiary   \n",
              "1  Water transportation of freight      2015.0  Subsidiary   \n",
              "2           Holding companies, nec      1993.0  Subsidiary   \n",
              "3           Holding companies, nec      2006.0  Subsidiary   \n",
              "4           Holding companies, nec      2006.0      Parent   \n",
              "\n",
              "                         Parent Company Parent Country Ownership Type  ...  \\\n",
              "0  FRANK RECRUITMENT GROUP PRIVATE LTD.      Singapore        Private  ...   \n",
              "1          FORTITUDE SHIPPING PTE. LTD.      Singapore        Private  ...   \n",
              "2   MADISON LIGHTERS AND WATCHES CO LTD  Hong Kong SAR        Private  ...   \n",
              "3          WILMAR INTERNATIONAL LIMITED      Singapore        Private  ...   \n",
              "4          ASIA GREEN CAPITAL PTE. LTD.      Singapore        Private  ...   \n",
              "\n",
              "   Sales (Domestic Ultimate Total USD) Sales (Global Ultimate Total USD)  \\\n",
              "0                         2.209224e+06                      4.637871e+06   \n",
              "1                         7.093536e+09                      7.093536e+09   \n",
              "2                         1.026308e+06                      1.026308e+06   \n",
              "3                         7.339898e+10                      7.339898e+10   \n",
              "4                         4.322130e+05                      4.322130e+05   \n",
              "\n",
              "   Import/Export Status              Global Ultimate Company  \\\n",
              "0                   N/A               FINDERS HOLDCO LIMITED   \n",
              "1                   N/A                PETREDEC PTE. LIMITED   \n",
              "2                   N/A  MADISON LIGHTERS AND WATCHES CO LTD   \n",
              "3                   N/A         WILMAR INTERNATIONAL LIMITED   \n",
              "4               Exports         ASIA GREEN CAPITAL PTE. LTD.   \n",
              "\n",
              "  Global Ultimate Country             Domestic Ultimate Company  \\\n",
              "0          United Kingdom  FRANK RECRUITMENT GROUP PRIVATE LTD.   \n",
              "1               Singapore                                   NaN   \n",
              "2           Hong Kong SAR           2MBAO BIOCELLBANK PTE. LTD.   \n",
              "3               Singapore          WILMAR INTERNATIONAL LIMITED   \n",
              "4               Singapore          ASIA GREEN CAPITAL PTE. LTD.   \n",
              "\n",
              "  Is Domestic Ultimate Is Global Ultimate  Employees (Global)  \\\n",
              "0                  0.0                0.0                25.0   \n",
              "1                  0.0                0.0               100.0   \n",
              "2                  1.0                0.0                 4.0   \n",
              "3                  0.0                0.0               100.0   \n",
              "4                  1.0                1.0                 4.0   \n",
              "\n",
              "         GDP per Capita  \n",
              "0  46,510.28 USD (2021)  \n",
              "1  72,794.00 USD (2021)  \n",
              "2  49,800.54 USD (2021)  \n",
              "3  72,794.00 USD (2021)  \n",
              "4  72,794.00 USD (2021)  \n",
              "\n",
              "[5 rows x 22 columns]"
            ],
            "text/html": [
              "\n",
              "  <div id=\"df-76e49235-9610-4a71-9dd5-57b9d3961865\" class=\"colab-df-container\">\n",
              "    <div>\n",
              "<style scoped>\n",
              "    .dataframe tbody tr th:only-of-type {\n",
              "        vertical-align: middle;\n",
              "    }\n",
              "\n",
              "    .dataframe tbody tr th {\n",
              "        vertical-align: top;\n",
              "    }\n",
              "\n",
              "    .dataframe thead th {\n",
              "        text-align: right;\n",
              "    }\n",
              "</style>\n",
              "<table border=\"1\" class=\"dataframe\">\n",
              "  <thead>\n",
              "    <tr style=\"text-align: right;\">\n",
              "      <th></th>\n",
              "      <th>LATITUDE</th>\n",
              "      <th>LONGITUDE</th>\n",
              "      <th>Company</th>\n",
              "      <th>SIC Code</th>\n",
              "      <th>8-Digit SIC Description</th>\n",
              "      <th>Year Found</th>\n",
              "      <th>Entity Type</th>\n",
              "      <th>Parent Company</th>\n",
              "      <th>Parent Country</th>\n",
              "      <th>Ownership Type</th>\n",
              "      <th>...</th>\n",
              "      <th>Sales (Domestic Ultimate Total USD)</th>\n",
              "      <th>Sales (Global Ultimate Total USD)</th>\n",
              "      <th>Import/Export Status</th>\n",
              "      <th>Global Ultimate Company</th>\n",
              "      <th>Global Ultimate Country</th>\n",
              "      <th>Domestic Ultimate Company</th>\n",
              "      <th>Is Domestic Ultimate</th>\n",
              "      <th>Is Global Ultimate</th>\n",
              "      <th>Employees (Global)</th>\n",
              "      <th>GDP per Capita</th>\n",
              "    </tr>\n",
              "  </thead>\n",
              "  <tbody>\n",
              "    <tr>\n",
              "      <th>0</th>\n",
              "      <td>1.285495</td>\n",
              "      <td>103.843852</td>\n",
              "      <td>FRANK CONSULTING SERVICES PRIVATE LIMITED</td>\n",
              "      <td>7361.0</td>\n",
              "      <td>Employment agencies</td>\n",
              "      <td>2020.0</td>\n",
              "      <td>Subsidiary</td>\n",
              "      <td>FRANK RECRUITMENT GROUP PRIVATE LTD.</td>\n",
              "      <td>Singapore</td>\n",
              "      <td>Private</td>\n",
              "      <td>...</td>\n",
              "      <td>2.209224e+06</td>\n",
              "      <td>4.637871e+06</td>\n",
              "      <td>N/A</td>\n",
              "      <td>FINDERS HOLDCO LIMITED</td>\n",
              "      <td>United Kingdom</td>\n",
              "      <td>FRANK RECRUITMENT GROUP PRIVATE LTD.</td>\n",
              "      <td>0.0</td>\n",
              "      <td>0.0</td>\n",
              "      <td>25.0</td>\n",
              "      <td>46,510.28 USD (2021)</td>\n",
              "    </tr>\n",
              "    <tr>\n",
              "      <th>1</th>\n",
              "      <td>1.291294</td>\n",
              "      <td>103.827476</td>\n",
              "      <td>NEW DESERT ORCHID SHIPPING PTE. LTD.</td>\n",
              "      <td>4449.0</td>\n",
              "      <td>Water transportation of freight</td>\n",
              "      <td>2015.0</td>\n",
              "      <td>Subsidiary</td>\n",
              "      <td>FORTITUDE SHIPPING PTE. LTD.</td>\n",
              "      <td>Singapore</td>\n",
              "      <td>Private</td>\n",
              "      <td>...</td>\n",
              "      <td>7.093536e+09</td>\n",
              "      <td>7.093536e+09</td>\n",
              "      <td>N/A</td>\n",
              "      <td>PETREDEC PTE. LIMITED</td>\n",
              "      <td>Singapore</td>\n",
              "      <td>NaN</td>\n",
              "      <td>0.0</td>\n",
              "      <td>0.0</td>\n",
              "      <td>100.0</td>\n",
              "      <td>72,794.00 USD (2021)</td>\n",
              "    </tr>\n",
              "    <tr>\n",
              "      <th>2</th>\n",
              "      <td>1.300144</td>\n",
              "      <td>103.857517</td>\n",
              "      <td>2MBAO BIOCELLBANK PTE. LTD.</td>\n",
              "      <td>6719.0</td>\n",
              "      <td>Holding companies, nec</td>\n",
              "      <td>1993.0</td>\n",
              "      <td>Subsidiary</td>\n",
              "      <td>MADISON LIGHTERS AND WATCHES CO LTD</td>\n",
              "      <td>Hong Kong SAR</td>\n",
              "      <td>Private</td>\n",
              "      <td>...</td>\n",
              "      <td>1.026308e+06</td>\n",
              "      <td>1.026308e+06</td>\n",
              "      <td>N/A</td>\n",
              "      <td>MADISON LIGHTERS AND WATCHES CO LTD</td>\n",
              "      <td>Hong Kong SAR</td>\n",
              "      <td>2MBAO BIOCELLBANK PTE. LTD.</td>\n",
              "      <td>1.0</td>\n",
              "      <td>0.0</td>\n",
              "      <td>4.0</td>\n",
              "      <td>49,800.54 USD (2021)</td>\n",
              "    </tr>\n",
              "    <tr>\n",
              "      <th>3</th>\n",
              "      <td>1.300785</td>\n",
              "      <td>103.791263</td>\n",
              "      <td>NEWBLOOM PTE. LTD.</td>\n",
              "      <td>6719.0</td>\n",
              "      <td>Holding companies, nec</td>\n",
              "      <td>2006.0</td>\n",
              "      <td>Subsidiary</td>\n",
              "      <td>WILMAR INTERNATIONAL LIMITED</td>\n",
              "      <td>Singapore</td>\n",
              "      <td>Private</td>\n",
              "      <td>...</td>\n",
              "      <td>7.339898e+10</td>\n",
              "      <td>7.339898e+10</td>\n",
              "      <td>N/A</td>\n",
              "      <td>WILMAR INTERNATIONAL LIMITED</td>\n",
              "      <td>Singapore</td>\n",
              "      <td>WILMAR INTERNATIONAL LIMITED</td>\n",
              "      <td>0.0</td>\n",
              "      <td>0.0</td>\n",
              "      <td>100.0</td>\n",
              "      <td>72,794.00 USD (2021)</td>\n",
              "    </tr>\n",
              "    <tr>\n",
              "      <th>4</th>\n",
              "      <td>1.298759</td>\n",
              "      <td>103.859430</td>\n",
              "      <td>ASIA GREEN CAPITAL PTE. LTD.</td>\n",
              "      <td>6719.0</td>\n",
              "      <td>Holding companies, nec</td>\n",
              "      <td>2006.0</td>\n",
              "      <td>Parent</td>\n",
              "      <td>ASIA GREEN CAPITAL PTE. LTD.</td>\n",
              "      <td>Singapore</td>\n",
              "      <td>Private</td>\n",
              "      <td>...</td>\n",
              "      <td>4.322130e+05</td>\n",
              "      <td>4.322130e+05</td>\n",
              "      <td>Exports</td>\n",
              "      <td>ASIA GREEN CAPITAL PTE. LTD.</td>\n",
              "      <td>Singapore</td>\n",
              "      <td>ASIA GREEN CAPITAL PTE. LTD.</td>\n",
              "      <td>1.0</td>\n",
              "      <td>1.0</td>\n",
              "      <td>4.0</td>\n",
              "      <td>72,794.00 USD (2021)</td>\n",
              "    </tr>\n",
              "  </tbody>\n",
              "</table>\n",
              "<p>5 rows × 22 columns</p>\n",
              "</div>\n",
              "    <div class=\"colab-df-buttons\">\n",
              "\n",
              "  <div class=\"colab-df-container\">\n",
              "    <button class=\"colab-df-convert\" onclick=\"convertToInteractive('df-76e49235-9610-4a71-9dd5-57b9d3961865')\"\n",
              "            title=\"Convert this dataframe to an interactive table.\"\n",
              "            style=\"display:none;\">\n",
              "\n",
              "  <svg xmlns=\"http://www.w3.org/2000/svg\" height=\"24px\" viewBox=\"0 -960 960 960\">\n",
              "    <path d=\"M120-120v-720h720v720H120Zm60-500h600v-160H180v160Zm220 220h160v-160H400v160Zm0 220h160v-160H400v160ZM180-400h160v-160H180v160Zm440 0h160v-160H620v160ZM180-180h160v-160H180v160Zm440 0h160v-160H620v160Z\"/>\n",
              "  </svg>\n",
              "    </button>\n",
              "\n",
              "  <style>\n",
              "    .colab-df-container {\n",
              "      display:flex;\n",
              "      gap: 12px;\n",
              "    }\n",
              "\n",
              "    .colab-df-convert {\n",
              "      background-color: #E8F0FE;\n",
              "      border: none;\n",
              "      border-radius: 50%;\n",
              "      cursor: pointer;\n",
              "      display: none;\n",
              "      fill: #1967D2;\n",
              "      height: 32px;\n",
              "      padding: 0 0 0 0;\n",
              "      width: 32px;\n",
              "    }\n",
              "\n",
              "    .colab-df-convert:hover {\n",
              "      background-color: #E2EBFA;\n",
              "      box-shadow: 0px 1px 2px rgba(60, 64, 67, 0.3), 0px 1px 3px 1px rgba(60, 64, 67, 0.15);\n",
              "      fill: #174EA6;\n",
              "    }\n",
              "\n",
              "    .colab-df-buttons div {\n",
              "      margin-bottom: 4px;\n",
              "    }\n",
              "\n",
              "    [theme=dark] .colab-df-convert {\n",
              "      background-color: #3B4455;\n",
              "      fill: #D2E3FC;\n",
              "    }\n",
              "\n",
              "    [theme=dark] .colab-df-convert:hover {\n",
              "      background-color: #434B5C;\n",
              "      box-shadow: 0px 1px 3px 1px rgba(0, 0, 0, 0.15);\n",
              "      filter: drop-shadow(0px 1px 2px rgba(0, 0, 0, 0.3));\n",
              "      fill: #FFFFFF;\n",
              "    }\n",
              "  </style>\n",
              "\n",
              "    <script>\n",
              "      const buttonEl =\n",
              "        document.querySelector('#df-76e49235-9610-4a71-9dd5-57b9d3961865 button.colab-df-convert');\n",
              "      buttonEl.style.display =\n",
              "        google.colab.kernel.accessAllowed ? 'block' : 'none';\n",
              "\n",
              "      async function convertToInteractive(key) {\n",
              "        const element = document.querySelector('#df-76e49235-9610-4a71-9dd5-57b9d3961865');\n",
              "        const dataTable =\n",
              "          await google.colab.kernel.invokeFunction('convertToInteractive',\n",
              "                                                    [key], {});\n",
              "        if (!dataTable) return;\n",
              "\n",
              "        const docLinkHtml = 'Like what you see? Visit the ' +\n",
              "          '<a target=\"_blank\" href=https://colab.research.google.com/notebooks/data_table.ipynb>data table notebook</a>'\n",
              "          + ' to learn more about interactive tables.';\n",
              "        element.innerHTML = '';\n",
              "        dataTable['output_type'] = 'display_data';\n",
              "        await google.colab.output.renderOutput(dataTable, element);\n",
              "        const docLink = document.createElement('div');\n",
              "        docLink.innerHTML = docLinkHtml;\n",
              "        element.appendChild(docLink);\n",
              "      }\n",
              "    </script>\n",
              "  </div>\n",
              "\n",
              "\n",
              "<div id=\"df-e43ce9d2-935a-4d18-a0e8-67356cfa8535\">\n",
              "  <button class=\"colab-df-quickchart\" onclick=\"quickchart('df-e43ce9d2-935a-4d18-a0e8-67356cfa8535')\"\n",
              "            title=\"Suggest charts\"\n",
              "            style=\"display:none;\">\n",
              "\n",
              "<svg xmlns=\"http://www.w3.org/2000/svg\" height=\"24px\"viewBox=\"0 0 24 24\"\n",
              "     width=\"24px\">\n",
              "    <g>\n",
              "        <path d=\"M19 3H5c-1.1 0-2 .9-2 2v14c0 1.1.9 2 2 2h14c1.1 0 2-.9 2-2V5c0-1.1-.9-2-2-2zM9 17H7v-7h2v7zm4 0h-2V7h2v10zm4 0h-2v-4h2v4z\"/>\n",
              "    </g>\n",
              "</svg>\n",
              "  </button>\n",
              "\n",
              "<style>\n",
              "  .colab-df-quickchart {\n",
              "      --bg-color: #E8F0FE;\n",
              "      --fill-color: #1967D2;\n",
              "      --hover-bg-color: #E2EBFA;\n",
              "      --hover-fill-color: #174EA6;\n",
              "      --disabled-fill-color: #AAA;\n",
              "      --disabled-bg-color: #DDD;\n",
              "  }\n",
              "\n",
              "  [theme=dark] .colab-df-quickchart {\n",
              "      --bg-color: #3B4455;\n",
              "      --fill-color: #D2E3FC;\n",
              "      --hover-bg-color: #434B5C;\n",
              "      --hover-fill-color: #FFFFFF;\n",
              "      --disabled-bg-color: #3B4455;\n",
              "      --disabled-fill-color: #666;\n",
              "  }\n",
              "\n",
              "  .colab-df-quickchart {\n",
              "    background-color: var(--bg-color);\n",
              "    border: none;\n",
              "    border-radius: 50%;\n",
              "    cursor: pointer;\n",
              "    display: none;\n",
              "    fill: var(--fill-color);\n",
              "    height: 32px;\n",
              "    padding: 0;\n",
              "    width: 32px;\n",
              "  }\n",
              "\n",
              "  .colab-df-quickchart:hover {\n",
              "    background-color: var(--hover-bg-color);\n",
              "    box-shadow: 0 1px 2px rgba(60, 64, 67, 0.3), 0 1px 3px 1px rgba(60, 64, 67, 0.15);\n",
              "    fill: var(--button-hover-fill-color);\n",
              "  }\n",
              "\n",
              "  .colab-df-quickchart-complete:disabled,\n",
              "  .colab-df-quickchart-complete:disabled:hover {\n",
              "    background-color: var(--disabled-bg-color);\n",
              "    fill: var(--disabled-fill-color);\n",
              "    box-shadow: none;\n",
              "  }\n",
              "\n",
              "  .colab-df-spinner {\n",
              "    border: 2px solid var(--fill-color);\n",
              "    border-color: transparent;\n",
              "    border-bottom-color: var(--fill-color);\n",
              "    animation:\n",
              "      spin 1s steps(1) infinite;\n",
              "  }\n",
              "\n",
              "  @keyframes spin {\n",
              "    0% {\n",
              "      border-color: transparent;\n",
              "      border-bottom-color: var(--fill-color);\n",
              "      border-left-color: var(--fill-color);\n",
              "    }\n",
              "    20% {\n",
              "      border-color: transparent;\n",
              "      border-left-color: var(--fill-color);\n",
              "      border-top-color: var(--fill-color);\n",
              "    }\n",
              "    30% {\n",
              "      border-color: transparent;\n",
              "      border-left-color: var(--fill-color);\n",
              "      border-top-color: var(--fill-color);\n",
              "      border-right-color: var(--fill-color);\n",
              "    }\n",
              "    40% {\n",
              "      border-color: transparent;\n",
              "      border-right-color: var(--fill-color);\n",
              "      border-top-color: var(--fill-color);\n",
              "    }\n",
              "    60% {\n",
              "      border-color: transparent;\n",
              "      border-right-color: var(--fill-color);\n",
              "    }\n",
              "    80% {\n",
              "      border-color: transparent;\n",
              "      border-right-color: var(--fill-color);\n",
              "      border-bottom-color: var(--fill-color);\n",
              "    }\n",
              "    90% {\n",
              "      border-color: transparent;\n",
              "      border-bottom-color: var(--fill-color);\n",
              "    }\n",
              "  }\n",
              "</style>\n",
              "\n",
              "  <script>\n",
              "    async function quickchart(key) {\n",
              "      const quickchartButtonEl =\n",
              "        document.querySelector('#' + key + ' button');\n",
              "      quickchartButtonEl.disabled = true;  // To prevent multiple clicks.\n",
              "      quickchartButtonEl.classList.add('colab-df-spinner');\n",
              "      try {\n",
              "        const charts = await google.colab.kernel.invokeFunction(\n",
              "            'suggestCharts', [key], {});\n",
              "      } catch (error) {\n",
              "        console.error('Error during call to suggestCharts:', error);\n",
              "      }\n",
              "      quickchartButtonEl.classList.remove('colab-df-spinner');\n",
              "      quickchartButtonEl.classList.add('colab-df-quickchart-complete');\n",
              "    }\n",
              "    (() => {\n",
              "      let quickchartButtonEl =\n",
              "        document.querySelector('#df-e43ce9d2-935a-4d18-a0e8-67356cfa8535 button');\n",
              "      quickchartButtonEl.style.display =\n",
              "        google.colab.kernel.accessAllowed ? 'block' : 'none';\n",
              "    })();\n",
              "  </script>\n",
              "</div>\n",
              "\n",
              "    </div>\n",
              "  </div>\n"
            ]
          },
          "metadata": {},
          "execution_count": 111
        }
      ]
    },
    {
      "cell_type": "code",
      "source": [
        "#Catboost model [Compnay, Parent Company, Global Ultimate]\n",
        "\n",
        "#convert sic code to categorical dataset\n",
        "categories = list(dataset['SIC Code'].unique())\n",
        "dataset['SIC Code'] = pd.Categorical(dataset['SIC Code'], categories=categories)\n",
        "dataset['SIC Code'] = dataset['SIC Code'].cat.codes\n",
        "\n",
        "#categories = list(dataset['Global Ultimate Country'].unique())\n",
        "#dataset['Global Ultimate Country'] = pd.Categorical(dataset['Global Ultimate Country'], categories=categories)\n",
        "#dataset['Global Ultimate Country'] = dataset['Global Ultimate Country'].cat.codes\n",
        "\n",
        "#categories = list(dataset['Import/Export Status'].unique())\n",
        "#dataset['Import/Export Status'] = pd.Categorical(dataset['Import/Export Status'], categories=categories)\n",
        "#dataset['Import/Export Status'] = dataset['Import/Export Status'].cat.codes\n",
        "\n",
        "catboost_dataset = dataset.drop(columns=['Company', 'Parent Company', 'Domestic Ultimate Company', 'Global Ultimate Company', '8-Digit SIC Description', 'GDP per Capita'], axis=1, inplace=False)\n",
        "#removing 8-Digit SIC description as it is redundant (heatmap shows correlation of 1 between 8-digit and sic code) (add gdp per capita later)"
      ],
      "metadata": {
        "id": "CfpZSlHe6Xot"
      },
      "execution_count": 169,
      "outputs": []
    },
    {
      "cell_type": "code",
      "source": [
        "catboost_dataset.head(10)\n"
      ],
      "metadata": {
        "colab": {
          "base_uri": "https://localhost:8080/",
          "height": 504
        },
        "id": "ZCTtVm-m7H9a",
        "outputId": "008fd08e-5bef-4d21-b394-20f733f5b471"
      },
      "execution_count": 170,
      "outputs": [
        {
          "output_type": "execute_result",
          "data": {
            "text/plain": [
              "   LATITUDE   LONGITUDE  SIC Code  Year Found Entity Type Parent Country  \\\n",
              "0  1.285495  103.843852         0      2020.0  Subsidiary      Singapore   \n",
              "1  1.291294  103.827476         1      2015.0  Subsidiary      Singapore   \n",
              "2  1.300144  103.857517         2      1993.0  Subsidiary  Hong Kong SAR   \n",
              "3  1.300785  103.791263         2      2006.0  Subsidiary      Singapore   \n",
              "4  1.298759  103.859430         2      2006.0      Parent      Singapore   \n",
              "5  1.444773  103.812740         3      1986.0  Subsidiary      Singapore   \n",
              "6  1.317979  103.843477         4      1989.0  Subsidiary      Singapore   \n",
              "7  1.282887  103.850849         2      2010.0  Subsidiary      Singapore   \n",
              "8  1.318815  103.892581         0      2013.0  Subsidiary    Netherlands   \n",
              "9  1.282957  103.816935         2      2004.0  Subsidiary      Singapore   \n",
              "\n",
              "  Ownership Type  Company Description Company Status (Active/Inactive)  \\\n",
              "0        Private             0.000412                           Active   \n",
              "1        Private             0.000042                           Active   \n",
              "2        Private             0.000857                           Active   \n",
              "3        Private             0.001070                           Active   \n",
              "4        Private             0.001599                           Active   \n",
              "5        Private             0.001372                           Active   \n",
              "6        Private             0.000404                           Active   \n",
              "7        Private             0.000817                           Active   \n",
              "8        Private            -0.000343                           Active   \n",
              "9        Private             0.001247                           Active   \n",
              "\n",
              "   Sales (Domestic Ultimate Total USD)  Sales (Global Ultimate Total USD)  \\\n",
              "0                         2.209224e+06                       4.637871e+06   \n",
              "1                         7.093536e+09                       7.093536e+09   \n",
              "2                         1.026308e+06                       1.026308e+06   \n",
              "3                         7.339898e+10                       7.339898e+10   \n",
              "4                         4.322130e+05                       4.322130e+05   \n",
              "5                         1.026308e+06                       1.026308e+06   \n",
              "6                         5.025090e+09                       3.633030e+08   \n",
              "7                         1.026308e+06                       1.026308e+06   \n",
              "8                         6.493420e+05                       6.725700e+09   \n",
              "9                         3.424410e+08                       3.424410e+08   \n",
              "\n",
              "     Import/Export Status Global Ultimate Country  Is Domestic Ultimate  \\\n",
              "0                     N/A          United Kingdom                   0.0   \n",
              "1                     N/A               Singapore                   0.0   \n",
              "2                     N/A           Hong Kong SAR                   1.0   \n",
              "3                     N/A               Singapore                   0.0   \n",
              "4                 Exports               Singapore                   1.0   \n",
              "5                     N/A               Singapore                   0.0   \n",
              "6  Both Imports & Exports                  France                   0.0   \n",
              "7                     N/A               Singapore                   0.0   \n",
              "8                     N/A          United Kingdom                   1.0   \n",
              "9                     N/A               Singapore                   0.0   \n",
              "\n",
              "   Is Global Ultimate  Employees (Global)  \n",
              "0                 0.0                25.0  \n",
              "1                 0.0               100.0  \n",
              "2                 0.0                 4.0  \n",
              "3                 0.0               100.0  \n",
              "4                 1.0                 4.0  \n",
              "5                 0.0               300.0  \n",
              "6                 0.0               119.0  \n",
              "7                 0.0                10.0  \n",
              "8                 0.0                15.0  \n",
              "9                 0.0               150.0  "
            ],
            "text/html": [
              "\n",
              "  <div id=\"df-6a8593f0-9f41-41de-910f-8537ec089a47\" class=\"colab-df-container\">\n",
              "    <div>\n",
              "<style scoped>\n",
              "    .dataframe tbody tr th:only-of-type {\n",
              "        vertical-align: middle;\n",
              "    }\n",
              "\n",
              "    .dataframe tbody tr th {\n",
              "        vertical-align: top;\n",
              "    }\n",
              "\n",
              "    .dataframe thead th {\n",
              "        text-align: right;\n",
              "    }\n",
              "</style>\n",
              "<table border=\"1\" class=\"dataframe\">\n",
              "  <thead>\n",
              "    <tr style=\"text-align: right;\">\n",
              "      <th></th>\n",
              "      <th>LATITUDE</th>\n",
              "      <th>LONGITUDE</th>\n",
              "      <th>SIC Code</th>\n",
              "      <th>Year Found</th>\n",
              "      <th>Entity Type</th>\n",
              "      <th>Parent Country</th>\n",
              "      <th>Ownership Type</th>\n",
              "      <th>Company Description</th>\n",
              "      <th>Company Status (Active/Inactive)</th>\n",
              "      <th>Sales (Domestic Ultimate Total USD)</th>\n",
              "      <th>Sales (Global Ultimate Total USD)</th>\n",
              "      <th>Import/Export Status</th>\n",
              "      <th>Global Ultimate Country</th>\n",
              "      <th>Is Domestic Ultimate</th>\n",
              "      <th>Is Global Ultimate</th>\n",
              "      <th>Employees (Global)</th>\n",
              "    </tr>\n",
              "  </thead>\n",
              "  <tbody>\n",
              "    <tr>\n",
              "      <th>0</th>\n",
              "      <td>1.285495</td>\n",
              "      <td>103.843852</td>\n",
              "      <td>0</td>\n",
              "      <td>2020.0</td>\n",
              "      <td>Subsidiary</td>\n",
              "      <td>Singapore</td>\n",
              "      <td>Private</td>\n",
              "      <td>0.000412</td>\n",
              "      <td>Active</td>\n",
              "      <td>2.209224e+06</td>\n",
              "      <td>4.637871e+06</td>\n",
              "      <td>N/A</td>\n",
              "      <td>United Kingdom</td>\n",
              "      <td>0.0</td>\n",
              "      <td>0.0</td>\n",
              "      <td>25.0</td>\n",
              "    </tr>\n",
              "    <tr>\n",
              "      <th>1</th>\n",
              "      <td>1.291294</td>\n",
              "      <td>103.827476</td>\n",
              "      <td>1</td>\n",
              "      <td>2015.0</td>\n",
              "      <td>Subsidiary</td>\n",
              "      <td>Singapore</td>\n",
              "      <td>Private</td>\n",
              "      <td>0.000042</td>\n",
              "      <td>Active</td>\n",
              "      <td>7.093536e+09</td>\n",
              "      <td>7.093536e+09</td>\n",
              "      <td>N/A</td>\n",
              "      <td>Singapore</td>\n",
              "      <td>0.0</td>\n",
              "      <td>0.0</td>\n",
              "      <td>100.0</td>\n",
              "    </tr>\n",
              "    <tr>\n",
              "      <th>2</th>\n",
              "      <td>1.300144</td>\n",
              "      <td>103.857517</td>\n",
              "      <td>2</td>\n",
              "      <td>1993.0</td>\n",
              "      <td>Subsidiary</td>\n",
              "      <td>Hong Kong SAR</td>\n",
              "      <td>Private</td>\n",
              "      <td>0.000857</td>\n",
              "      <td>Active</td>\n",
              "      <td>1.026308e+06</td>\n",
              "      <td>1.026308e+06</td>\n",
              "      <td>N/A</td>\n",
              "      <td>Hong Kong SAR</td>\n",
              "      <td>1.0</td>\n",
              "      <td>0.0</td>\n",
              "      <td>4.0</td>\n",
              "    </tr>\n",
              "    <tr>\n",
              "      <th>3</th>\n",
              "      <td>1.300785</td>\n",
              "      <td>103.791263</td>\n",
              "      <td>2</td>\n",
              "      <td>2006.0</td>\n",
              "      <td>Subsidiary</td>\n",
              "      <td>Singapore</td>\n",
              "      <td>Private</td>\n",
              "      <td>0.001070</td>\n",
              "      <td>Active</td>\n",
              "      <td>7.339898e+10</td>\n",
              "      <td>7.339898e+10</td>\n",
              "      <td>N/A</td>\n",
              "      <td>Singapore</td>\n",
              "      <td>0.0</td>\n",
              "      <td>0.0</td>\n",
              "      <td>100.0</td>\n",
              "    </tr>\n",
              "    <tr>\n",
              "      <th>4</th>\n",
              "      <td>1.298759</td>\n",
              "      <td>103.859430</td>\n",
              "      <td>2</td>\n",
              "      <td>2006.0</td>\n",
              "      <td>Parent</td>\n",
              "      <td>Singapore</td>\n",
              "      <td>Private</td>\n",
              "      <td>0.001599</td>\n",
              "      <td>Active</td>\n",
              "      <td>4.322130e+05</td>\n",
              "      <td>4.322130e+05</td>\n",
              "      <td>Exports</td>\n",
              "      <td>Singapore</td>\n",
              "      <td>1.0</td>\n",
              "      <td>1.0</td>\n",
              "      <td>4.0</td>\n",
              "    </tr>\n",
              "    <tr>\n",
              "      <th>5</th>\n",
              "      <td>1.444773</td>\n",
              "      <td>103.812740</td>\n",
              "      <td>3</td>\n",
              "      <td>1986.0</td>\n",
              "      <td>Subsidiary</td>\n",
              "      <td>Singapore</td>\n",
              "      <td>Private</td>\n",
              "      <td>0.001372</td>\n",
              "      <td>Active</td>\n",
              "      <td>1.026308e+06</td>\n",
              "      <td>1.026308e+06</td>\n",
              "      <td>N/A</td>\n",
              "      <td>Singapore</td>\n",
              "      <td>0.0</td>\n",
              "      <td>0.0</td>\n",
              "      <td>300.0</td>\n",
              "    </tr>\n",
              "    <tr>\n",
              "      <th>6</th>\n",
              "      <td>1.317979</td>\n",
              "      <td>103.843477</td>\n",
              "      <td>4</td>\n",
              "      <td>1989.0</td>\n",
              "      <td>Subsidiary</td>\n",
              "      <td>Singapore</td>\n",
              "      <td>Private</td>\n",
              "      <td>0.000404</td>\n",
              "      <td>Active</td>\n",
              "      <td>5.025090e+09</td>\n",
              "      <td>3.633030e+08</td>\n",
              "      <td>Both Imports &amp; Exports</td>\n",
              "      <td>France</td>\n",
              "      <td>0.0</td>\n",
              "      <td>0.0</td>\n",
              "      <td>119.0</td>\n",
              "    </tr>\n",
              "    <tr>\n",
              "      <th>7</th>\n",
              "      <td>1.282887</td>\n",
              "      <td>103.850849</td>\n",
              "      <td>2</td>\n",
              "      <td>2010.0</td>\n",
              "      <td>Subsidiary</td>\n",
              "      <td>Singapore</td>\n",
              "      <td>Private</td>\n",
              "      <td>0.000817</td>\n",
              "      <td>Active</td>\n",
              "      <td>1.026308e+06</td>\n",
              "      <td>1.026308e+06</td>\n",
              "      <td>N/A</td>\n",
              "      <td>Singapore</td>\n",
              "      <td>0.0</td>\n",
              "      <td>0.0</td>\n",
              "      <td>10.0</td>\n",
              "    </tr>\n",
              "    <tr>\n",
              "      <th>8</th>\n",
              "      <td>1.318815</td>\n",
              "      <td>103.892581</td>\n",
              "      <td>0</td>\n",
              "      <td>2013.0</td>\n",
              "      <td>Subsidiary</td>\n",
              "      <td>Netherlands</td>\n",
              "      <td>Private</td>\n",
              "      <td>-0.000343</td>\n",
              "      <td>Active</td>\n",
              "      <td>6.493420e+05</td>\n",
              "      <td>6.725700e+09</td>\n",
              "      <td>N/A</td>\n",
              "      <td>United Kingdom</td>\n",
              "      <td>1.0</td>\n",
              "      <td>0.0</td>\n",
              "      <td>15.0</td>\n",
              "    </tr>\n",
              "    <tr>\n",
              "      <th>9</th>\n",
              "      <td>1.282957</td>\n",
              "      <td>103.816935</td>\n",
              "      <td>2</td>\n",
              "      <td>2004.0</td>\n",
              "      <td>Subsidiary</td>\n",
              "      <td>Singapore</td>\n",
              "      <td>Private</td>\n",
              "      <td>0.001247</td>\n",
              "      <td>Active</td>\n",
              "      <td>3.424410e+08</td>\n",
              "      <td>3.424410e+08</td>\n",
              "      <td>N/A</td>\n",
              "      <td>Singapore</td>\n",
              "      <td>0.0</td>\n",
              "      <td>0.0</td>\n",
              "      <td>150.0</td>\n",
              "    </tr>\n",
              "  </tbody>\n",
              "</table>\n",
              "</div>\n",
              "    <div class=\"colab-df-buttons\">\n",
              "\n",
              "  <div class=\"colab-df-container\">\n",
              "    <button class=\"colab-df-convert\" onclick=\"convertToInteractive('df-6a8593f0-9f41-41de-910f-8537ec089a47')\"\n",
              "            title=\"Convert this dataframe to an interactive table.\"\n",
              "            style=\"display:none;\">\n",
              "\n",
              "  <svg xmlns=\"http://www.w3.org/2000/svg\" height=\"24px\" viewBox=\"0 -960 960 960\">\n",
              "    <path d=\"M120-120v-720h720v720H120Zm60-500h600v-160H180v160Zm220 220h160v-160H400v160Zm0 220h160v-160H400v160ZM180-400h160v-160H180v160Zm440 0h160v-160H620v160ZM180-180h160v-160H180v160Zm440 0h160v-160H620v160Z\"/>\n",
              "  </svg>\n",
              "    </button>\n",
              "\n",
              "  <style>\n",
              "    .colab-df-container {\n",
              "      display:flex;\n",
              "      gap: 12px;\n",
              "    }\n",
              "\n",
              "    .colab-df-convert {\n",
              "      background-color: #E8F0FE;\n",
              "      border: none;\n",
              "      border-radius: 50%;\n",
              "      cursor: pointer;\n",
              "      display: none;\n",
              "      fill: #1967D2;\n",
              "      height: 32px;\n",
              "      padding: 0 0 0 0;\n",
              "      width: 32px;\n",
              "    }\n",
              "\n",
              "    .colab-df-convert:hover {\n",
              "      background-color: #E2EBFA;\n",
              "      box-shadow: 0px 1px 2px rgba(60, 64, 67, 0.3), 0px 1px 3px 1px rgba(60, 64, 67, 0.15);\n",
              "      fill: #174EA6;\n",
              "    }\n",
              "\n",
              "    .colab-df-buttons div {\n",
              "      margin-bottom: 4px;\n",
              "    }\n",
              "\n",
              "    [theme=dark] .colab-df-convert {\n",
              "      background-color: #3B4455;\n",
              "      fill: #D2E3FC;\n",
              "    }\n",
              "\n",
              "    [theme=dark] .colab-df-convert:hover {\n",
              "      background-color: #434B5C;\n",
              "      box-shadow: 0px 1px 3px 1px rgba(0, 0, 0, 0.15);\n",
              "      filter: drop-shadow(0px 1px 2px rgba(0, 0, 0, 0.3));\n",
              "      fill: #FFFFFF;\n",
              "    }\n",
              "  </style>\n",
              "\n",
              "    <script>\n",
              "      const buttonEl =\n",
              "        document.querySelector('#df-6a8593f0-9f41-41de-910f-8537ec089a47 button.colab-df-convert');\n",
              "      buttonEl.style.display =\n",
              "        google.colab.kernel.accessAllowed ? 'block' : 'none';\n",
              "\n",
              "      async function convertToInteractive(key) {\n",
              "        const element = document.querySelector('#df-6a8593f0-9f41-41de-910f-8537ec089a47');\n",
              "        const dataTable =\n",
              "          await google.colab.kernel.invokeFunction('convertToInteractive',\n",
              "                                                    [key], {});\n",
              "        if (!dataTable) return;\n",
              "\n",
              "        const docLinkHtml = 'Like what you see? Visit the ' +\n",
              "          '<a target=\"_blank\" href=https://colab.research.google.com/notebooks/data_table.ipynb>data table notebook</a>'\n",
              "          + ' to learn more about interactive tables.';\n",
              "        element.innerHTML = '';\n",
              "        dataTable['output_type'] = 'display_data';\n",
              "        await google.colab.output.renderOutput(dataTable, element);\n",
              "        const docLink = document.createElement('div');\n",
              "        docLink.innerHTML = docLinkHtml;\n",
              "        element.appendChild(docLink);\n",
              "      }\n",
              "    </script>\n",
              "  </div>\n",
              "\n",
              "\n",
              "<div id=\"df-4d2d1ab4-4f3c-4704-a4fd-af4609b93d61\">\n",
              "  <button class=\"colab-df-quickchart\" onclick=\"quickchart('df-4d2d1ab4-4f3c-4704-a4fd-af4609b93d61')\"\n",
              "            title=\"Suggest charts\"\n",
              "            style=\"display:none;\">\n",
              "\n",
              "<svg xmlns=\"http://www.w3.org/2000/svg\" height=\"24px\"viewBox=\"0 0 24 24\"\n",
              "     width=\"24px\">\n",
              "    <g>\n",
              "        <path d=\"M19 3H5c-1.1 0-2 .9-2 2v14c0 1.1.9 2 2 2h14c1.1 0 2-.9 2-2V5c0-1.1-.9-2-2-2zM9 17H7v-7h2v7zm4 0h-2V7h2v10zm4 0h-2v-4h2v4z\"/>\n",
              "    </g>\n",
              "</svg>\n",
              "  </button>\n",
              "\n",
              "<style>\n",
              "  .colab-df-quickchart {\n",
              "      --bg-color: #E8F0FE;\n",
              "      --fill-color: #1967D2;\n",
              "      --hover-bg-color: #E2EBFA;\n",
              "      --hover-fill-color: #174EA6;\n",
              "      --disabled-fill-color: #AAA;\n",
              "      --disabled-bg-color: #DDD;\n",
              "  }\n",
              "\n",
              "  [theme=dark] .colab-df-quickchart {\n",
              "      --bg-color: #3B4455;\n",
              "      --fill-color: #D2E3FC;\n",
              "      --hover-bg-color: #434B5C;\n",
              "      --hover-fill-color: #FFFFFF;\n",
              "      --disabled-bg-color: #3B4455;\n",
              "      --disabled-fill-color: #666;\n",
              "  }\n",
              "\n",
              "  .colab-df-quickchart {\n",
              "    background-color: var(--bg-color);\n",
              "    border: none;\n",
              "    border-radius: 50%;\n",
              "    cursor: pointer;\n",
              "    display: none;\n",
              "    fill: var(--fill-color);\n",
              "    height: 32px;\n",
              "    padding: 0;\n",
              "    width: 32px;\n",
              "  }\n",
              "\n",
              "  .colab-df-quickchart:hover {\n",
              "    background-color: var(--hover-bg-color);\n",
              "    box-shadow: 0 1px 2px rgba(60, 64, 67, 0.3), 0 1px 3px 1px rgba(60, 64, 67, 0.15);\n",
              "    fill: var(--button-hover-fill-color);\n",
              "  }\n",
              "\n",
              "  .colab-df-quickchart-complete:disabled,\n",
              "  .colab-df-quickchart-complete:disabled:hover {\n",
              "    background-color: var(--disabled-bg-color);\n",
              "    fill: var(--disabled-fill-color);\n",
              "    box-shadow: none;\n",
              "  }\n",
              "\n",
              "  .colab-df-spinner {\n",
              "    border: 2px solid var(--fill-color);\n",
              "    border-color: transparent;\n",
              "    border-bottom-color: var(--fill-color);\n",
              "    animation:\n",
              "      spin 1s steps(1) infinite;\n",
              "  }\n",
              "\n",
              "  @keyframes spin {\n",
              "    0% {\n",
              "      border-color: transparent;\n",
              "      border-bottom-color: var(--fill-color);\n",
              "      border-left-color: var(--fill-color);\n",
              "    }\n",
              "    20% {\n",
              "      border-color: transparent;\n",
              "      border-left-color: var(--fill-color);\n",
              "      border-top-color: var(--fill-color);\n",
              "    }\n",
              "    30% {\n",
              "      border-color: transparent;\n",
              "      border-left-color: var(--fill-color);\n",
              "      border-top-color: var(--fill-color);\n",
              "      border-right-color: var(--fill-color);\n",
              "    }\n",
              "    40% {\n",
              "      border-color: transparent;\n",
              "      border-right-color: var(--fill-color);\n",
              "      border-top-color: var(--fill-color);\n",
              "    }\n",
              "    60% {\n",
              "      border-color: transparent;\n",
              "      border-right-color: var(--fill-color);\n",
              "    }\n",
              "    80% {\n",
              "      border-color: transparent;\n",
              "      border-right-color: var(--fill-color);\n",
              "      border-bottom-color: var(--fill-color);\n",
              "    }\n",
              "    90% {\n",
              "      border-color: transparent;\n",
              "      border-bottom-color: var(--fill-color);\n",
              "    }\n",
              "  }\n",
              "</style>\n",
              "\n",
              "  <script>\n",
              "    async function quickchart(key) {\n",
              "      const quickchartButtonEl =\n",
              "        document.querySelector('#' + key + ' button');\n",
              "      quickchartButtonEl.disabled = true;  // To prevent multiple clicks.\n",
              "      quickchartButtonEl.classList.add('colab-df-spinner');\n",
              "      try {\n",
              "        const charts = await google.colab.kernel.invokeFunction(\n",
              "            'suggestCharts', [key], {});\n",
              "      } catch (error) {\n",
              "        console.error('Error during call to suggestCharts:', error);\n",
              "      }\n",
              "      quickchartButtonEl.classList.remove('colab-df-spinner');\n",
              "      quickchartButtonEl.classList.add('colab-df-quickchart-complete');\n",
              "    }\n",
              "    (() => {\n",
              "      let quickchartButtonEl =\n",
              "        document.querySelector('#df-4d2d1ab4-4f3c-4704-a4fd-af4609b93d61 button');\n",
              "      quickchartButtonEl.style.display =\n",
              "        google.colab.kernel.accessAllowed ? 'block' : 'none';\n",
              "    })();\n",
              "  </script>\n",
              "</div>\n",
              "\n",
              "    </div>\n",
              "  </div>\n"
            ]
          },
          "metadata": {},
          "execution_count": 170
        }
      ]
    },
    {
      "cell_type": "code",
      "source": [
        "#2,4,5,6,8,11,12,13,14\n",
        "columns_to_convert = ['Is Domestic Ultimate', 'Is Global Ultimate']\n",
        "catboost_dataset[columns_to_convert] = catboost_dataset[columns_to_convert].astype(int)\n"
      ],
      "metadata": {
        "id": "WSQkxC_ABqwH"
      },
      "execution_count": 178,
      "outputs": []
    },
    {
      "cell_type": "code",
      "source": [
        "catboost_dataset.head()"
      ],
      "metadata": {
        "colab": {
          "base_uri": "https://localhost:8080/",
          "height": 330
        },
        "id": "cy0plh6SB8gS",
        "outputId": "d3a8e9ba-3e26-45d2-8079-f7b4c4e226ba"
      },
      "execution_count": 168,
      "outputs": [
        {
          "output_type": "execute_result",
          "data": {
            "text/plain": [
              "   LATITUDE   LONGITUDE  SIC Code  Year Found Entity Type Parent Country  \\\n",
              "0  1.285495  103.843852         0      2020.0  Subsidiary      Singapore   \n",
              "1  1.291294  103.827476         1      2015.0  Subsidiary      Singapore   \n",
              "2  1.300144  103.857517         2      1993.0  Subsidiary  Hong Kong SAR   \n",
              "3  1.300785  103.791263         2      2006.0  Subsidiary      Singapore   \n",
              "4  1.298759  103.859430         2      2006.0      Parent      Singapore   \n",
              "\n",
              "  Ownership Type  Company Description Company Status (Active/Inactive)  \\\n",
              "0        Private             0.000412                           Active   \n",
              "1        Private             0.000042                           Active   \n",
              "2        Private             0.000857                           Active   \n",
              "3        Private             0.001070                           Active   \n",
              "4        Private             0.001599                           Active   \n",
              "\n",
              "   Sales (Domestic Ultimate Total USD)  Sales (Global Ultimate Total USD)  \\\n",
              "0                         2.209224e+06                       4.637871e+06   \n",
              "1                         7.093536e+09                       7.093536e+09   \n",
              "2                         1.026308e+06                       1.026308e+06   \n",
              "3                         7.339898e+10                       7.339898e+10   \n",
              "4                         4.322130e+05                       4.322130e+05   \n",
              "\n",
              "  Import/Export Status Global Ultimate Country  Is Domestic Ultimate  \\\n",
              "0                  N/A          United Kingdom                   0.0   \n",
              "1                  N/A               Singapore                   0.0   \n",
              "2                  N/A           Hong Kong SAR                   1.0   \n",
              "3                  N/A               Singapore                   0.0   \n",
              "4              Exports               Singapore                   1.0   \n",
              "\n",
              "   Is Global Ultimate  Employees (Global)  \n",
              "0                 0.0                25.0  \n",
              "1                 0.0               100.0  \n",
              "2                 0.0                 4.0  \n",
              "3                 0.0               100.0  \n",
              "4                 1.0                 4.0  "
            ],
            "text/html": [
              "\n",
              "  <div id=\"df-bafb7dda-c545-4d74-8810-6d0da1321020\" class=\"colab-df-container\">\n",
              "    <div>\n",
              "<style scoped>\n",
              "    .dataframe tbody tr th:only-of-type {\n",
              "        vertical-align: middle;\n",
              "    }\n",
              "\n",
              "    .dataframe tbody tr th {\n",
              "        vertical-align: top;\n",
              "    }\n",
              "\n",
              "    .dataframe thead th {\n",
              "        text-align: right;\n",
              "    }\n",
              "</style>\n",
              "<table border=\"1\" class=\"dataframe\">\n",
              "  <thead>\n",
              "    <tr style=\"text-align: right;\">\n",
              "      <th></th>\n",
              "      <th>LATITUDE</th>\n",
              "      <th>LONGITUDE</th>\n",
              "      <th>SIC Code</th>\n",
              "      <th>Year Found</th>\n",
              "      <th>Entity Type</th>\n",
              "      <th>Parent Country</th>\n",
              "      <th>Ownership Type</th>\n",
              "      <th>Company Description</th>\n",
              "      <th>Company Status (Active/Inactive)</th>\n",
              "      <th>Sales (Domestic Ultimate Total USD)</th>\n",
              "      <th>Sales (Global Ultimate Total USD)</th>\n",
              "      <th>Import/Export Status</th>\n",
              "      <th>Global Ultimate Country</th>\n",
              "      <th>Is Domestic Ultimate</th>\n",
              "      <th>Is Global Ultimate</th>\n",
              "      <th>Employees (Global)</th>\n",
              "    </tr>\n",
              "  </thead>\n",
              "  <tbody>\n",
              "    <tr>\n",
              "      <th>0</th>\n",
              "      <td>1.285495</td>\n",
              "      <td>103.843852</td>\n",
              "      <td>0</td>\n",
              "      <td>2020.0</td>\n",
              "      <td>Subsidiary</td>\n",
              "      <td>Singapore</td>\n",
              "      <td>Private</td>\n",
              "      <td>0.000412</td>\n",
              "      <td>Active</td>\n",
              "      <td>2.209224e+06</td>\n",
              "      <td>4.637871e+06</td>\n",
              "      <td>N/A</td>\n",
              "      <td>United Kingdom</td>\n",
              "      <td>0.0</td>\n",
              "      <td>0.0</td>\n",
              "      <td>25.0</td>\n",
              "    </tr>\n",
              "    <tr>\n",
              "      <th>1</th>\n",
              "      <td>1.291294</td>\n",
              "      <td>103.827476</td>\n",
              "      <td>1</td>\n",
              "      <td>2015.0</td>\n",
              "      <td>Subsidiary</td>\n",
              "      <td>Singapore</td>\n",
              "      <td>Private</td>\n",
              "      <td>0.000042</td>\n",
              "      <td>Active</td>\n",
              "      <td>7.093536e+09</td>\n",
              "      <td>7.093536e+09</td>\n",
              "      <td>N/A</td>\n",
              "      <td>Singapore</td>\n",
              "      <td>0.0</td>\n",
              "      <td>0.0</td>\n",
              "      <td>100.0</td>\n",
              "    </tr>\n",
              "    <tr>\n",
              "      <th>2</th>\n",
              "      <td>1.300144</td>\n",
              "      <td>103.857517</td>\n",
              "      <td>2</td>\n",
              "      <td>1993.0</td>\n",
              "      <td>Subsidiary</td>\n",
              "      <td>Hong Kong SAR</td>\n",
              "      <td>Private</td>\n",
              "      <td>0.000857</td>\n",
              "      <td>Active</td>\n",
              "      <td>1.026308e+06</td>\n",
              "      <td>1.026308e+06</td>\n",
              "      <td>N/A</td>\n",
              "      <td>Hong Kong SAR</td>\n",
              "      <td>1.0</td>\n",
              "      <td>0.0</td>\n",
              "      <td>4.0</td>\n",
              "    </tr>\n",
              "    <tr>\n",
              "      <th>3</th>\n",
              "      <td>1.300785</td>\n",
              "      <td>103.791263</td>\n",
              "      <td>2</td>\n",
              "      <td>2006.0</td>\n",
              "      <td>Subsidiary</td>\n",
              "      <td>Singapore</td>\n",
              "      <td>Private</td>\n",
              "      <td>0.001070</td>\n",
              "      <td>Active</td>\n",
              "      <td>7.339898e+10</td>\n",
              "      <td>7.339898e+10</td>\n",
              "      <td>N/A</td>\n",
              "      <td>Singapore</td>\n",
              "      <td>0.0</td>\n",
              "      <td>0.0</td>\n",
              "      <td>100.0</td>\n",
              "    </tr>\n",
              "    <tr>\n",
              "      <th>4</th>\n",
              "      <td>1.298759</td>\n",
              "      <td>103.859430</td>\n",
              "      <td>2</td>\n",
              "      <td>2006.0</td>\n",
              "      <td>Parent</td>\n",
              "      <td>Singapore</td>\n",
              "      <td>Private</td>\n",
              "      <td>0.001599</td>\n",
              "      <td>Active</td>\n",
              "      <td>4.322130e+05</td>\n",
              "      <td>4.322130e+05</td>\n",
              "      <td>Exports</td>\n",
              "      <td>Singapore</td>\n",
              "      <td>1.0</td>\n",
              "      <td>1.0</td>\n",
              "      <td>4.0</td>\n",
              "    </tr>\n",
              "  </tbody>\n",
              "</table>\n",
              "</div>\n",
              "    <div class=\"colab-df-buttons\">\n",
              "\n",
              "  <div class=\"colab-df-container\">\n",
              "    <button class=\"colab-df-convert\" onclick=\"convertToInteractive('df-bafb7dda-c545-4d74-8810-6d0da1321020')\"\n",
              "            title=\"Convert this dataframe to an interactive table.\"\n",
              "            style=\"display:none;\">\n",
              "\n",
              "  <svg xmlns=\"http://www.w3.org/2000/svg\" height=\"24px\" viewBox=\"0 -960 960 960\">\n",
              "    <path d=\"M120-120v-720h720v720H120Zm60-500h600v-160H180v160Zm220 220h160v-160H400v160Zm0 220h160v-160H400v160ZM180-400h160v-160H180v160Zm440 0h160v-160H620v160ZM180-180h160v-160H180v160Zm440 0h160v-160H620v160Z\"/>\n",
              "  </svg>\n",
              "    </button>\n",
              "\n",
              "  <style>\n",
              "    .colab-df-container {\n",
              "      display:flex;\n",
              "      gap: 12px;\n",
              "    }\n",
              "\n",
              "    .colab-df-convert {\n",
              "      background-color: #E8F0FE;\n",
              "      border: none;\n",
              "      border-radius: 50%;\n",
              "      cursor: pointer;\n",
              "      display: none;\n",
              "      fill: #1967D2;\n",
              "      height: 32px;\n",
              "      padding: 0 0 0 0;\n",
              "      width: 32px;\n",
              "    }\n",
              "\n",
              "    .colab-df-convert:hover {\n",
              "      background-color: #E2EBFA;\n",
              "      box-shadow: 0px 1px 2px rgba(60, 64, 67, 0.3), 0px 1px 3px 1px rgba(60, 64, 67, 0.15);\n",
              "      fill: #174EA6;\n",
              "    }\n",
              "\n",
              "    .colab-df-buttons div {\n",
              "      margin-bottom: 4px;\n",
              "    }\n",
              "\n",
              "    [theme=dark] .colab-df-convert {\n",
              "      background-color: #3B4455;\n",
              "      fill: #D2E3FC;\n",
              "    }\n",
              "\n",
              "    [theme=dark] .colab-df-convert:hover {\n",
              "      background-color: #434B5C;\n",
              "      box-shadow: 0px 1px 3px 1px rgba(0, 0, 0, 0.15);\n",
              "      filter: drop-shadow(0px 1px 2px rgba(0, 0, 0, 0.3));\n",
              "      fill: #FFFFFF;\n",
              "    }\n",
              "  </style>\n",
              "\n",
              "    <script>\n",
              "      const buttonEl =\n",
              "        document.querySelector('#df-bafb7dda-c545-4d74-8810-6d0da1321020 button.colab-df-convert');\n",
              "      buttonEl.style.display =\n",
              "        google.colab.kernel.accessAllowed ? 'block' : 'none';\n",
              "\n",
              "      async function convertToInteractive(key) {\n",
              "        const element = document.querySelector('#df-bafb7dda-c545-4d74-8810-6d0da1321020');\n",
              "        const dataTable =\n",
              "          await google.colab.kernel.invokeFunction('convertToInteractive',\n",
              "                                                    [key], {});\n",
              "        if (!dataTable) return;\n",
              "\n",
              "        const docLinkHtml = 'Like what you see? Visit the ' +\n",
              "          '<a target=\"_blank\" href=https://colab.research.google.com/notebooks/data_table.ipynb>data table notebook</a>'\n",
              "          + ' to learn more about interactive tables.';\n",
              "        element.innerHTML = '';\n",
              "        dataTable['output_type'] = 'display_data';\n",
              "        await google.colab.output.renderOutput(dataTable, element);\n",
              "        const docLink = document.createElement('div');\n",
              "        docLink.innerHTML = docLinkHtml;\n",
              "        element.appendChild(docLink);\n",
              "      }\n",
              "    </script>\n",
              "  </div>\n",
              "\n",
              "\n",
              "<div id=\"df-afaa80e3-0211-459f-82ed-0f277f8d63ba\">\n",
              "  <button class=\"colab-df-quickchart\" onclick=\"quickchart('df-afaa80e3-0211-459f-82ed-0f277f8d63ba')\"\n",
              "            title=\"Suggest charts\"\n",
              "            style=\"display:none;\">\n",
              "\n",
              "<svg xmlns=\"http://www.w3.org/2000/svg\" height=\"24px\"viewBox=\"0 0 24 24\"\n",
              "     width=\"24px\">\n",
              "    <g>\n",
              "        <path d=\"M19 3H5c-1.1 0-2 .9-2 2v14c0 1.1.9 2 2 2h14c1.1 0 2-.9 2-2V5c0-1.1-.9-2-2-2zM9 17H7v-7h2v7zm4 0h-2V7h2v10zm4 0h-2v-4h2v4z\"/>\n",
              "    </g>\n",
              "</svg>\n",
              "  </button>\n",
              "\n",
              "<style>\n",
              "  .colab-df-quickchart {\n",
              "      --bg-color: #E8F0FE;\n",
              "      --fill-color: #1967D2;\n",
              "      --hover-bg-color: #E2EBFA;\n",
              "      --hover-fill-color: #174EA6;\n",
              "      --disabled-fill-color: #AAA;\n",
              "      --disabled-bg-color: #DDD;\n",
              "  }\n",
              "\n",
              "  [theme=dark] .colab-df-quickchart {\n",
              "      --bg-color: #3B4455;\n",
              "      --fill-color: #D2E3FC;\n",
              "      --hover-bg-color: #434B5C;\n",
              "      --hover-fill-color: #FFFFFF;\n",
              "      --disabled-bg-color: #3B4455;\n",
              "      --disabled-fill-color: #666;\n",
              "  }\n",
              "\n",
              "  .colab-df-quickchart {\n",
              "    background-color: var(--bg-color);\n",
              "    border: none;\n",
              "    border-radius: 50%;\n",
              "    cursor: pointer;\n",
              "    display: none;\n",
              "    fill: var(--fill-color);\n",
              "    height: 32px;\n",
              "    padding: 0;\n",
              "    width: 32px;\n",
              "  }\n",
              "\n",
              "  .colab-df-quickchart:hover {\n",
              "    background-color: var(--hover-bg-color);\n",
              "    box-shadow: 0 1px 2px rgba(60, 64, 67, 0.3), 0 1px 3px 1px rgba(60, 64, 67, 0.15);\n",
              "    fill: var(--button-hover-fill-color);\n",
              "  }\n",
              "\n",
              "  .colab-df-quickchart-complete:disabled,\n",
              "  .colab-df-quickchart-complete:disabled:hover {\n",
              "    background-color: var(--disabled-bg-color);\n",
              "    fill: var(--disabled-fill-color);\n",
              "    box-shadow: none;\n",
              "  }\n",
              "\n",
              "  .colab-df-spinner {\n",
              "    border: 2px solid var(--fill-color);\n",
              "    border-color: transparent;\n",
              "    border-bottom-color: var(--fill-color);\n",
              "    animation:\n",
              "      spin 1s steps(1) infinite;\n",
              "  }\n",
              "\n",
              "  @keyframes spin {\n",
              "    0% {\n",
              "      border-color: transparent;\n",
              "      border-bottom-color: var(--fill-color);\n",
              "      border-left-color: var(--fill-color);\n",
              "    }\n",
              "    20% {\n",
              "      border-color: transparent;\n",
              "      border-left-color: var(--fill-color);\n",
              "      border-top-color: var(--fill-color);\n",
              "    }\n",
              "    30% {\n",
              "      border-color: transparent;\n",
              "      border-left-color: var(--fill-color);\n",
              "      border-top-color: var(--fill-color);\n",
              "      border-right-color: var(--fill-color);\n",
              "    }\n",
              "    40% {\n",
              "      border-color: transparent;\n",
              "      border-right-color: var(--fill-color);\n",
              "      border-top-color: var(--fill-color);\n",
              "    }\n",
              "    60% {\n",
              "      border-color: transparent;\n",
              "      border-right-color: var(--fill-color);\n",
              "    }\n",
              "    80% {\n",
              "      border-color: transparent;\n",
              "      border-right-color: var(--fill-color);\n",
              "      border-bottom-color: var(--fill-color);\n",
              "    }\n",
              "    90% {\n",
              "      border-color: transparent;\n",
              "      border-bottom-color: var(--fill-color);\n",
              "    }\n",
              "  }\n",
              "</style>\n",
              "\n",
              "  <script>\n",
              "    async function quickchart(key) {\n",
              "      const quickchartButtonEl =\n",
              "        document.querySelector('#' + key + ' button');\n",
              "      quickchartButtonEl.disabled = true;  // To prevent multiple clicks.\n",
              "      quickchartButtonEl.classList.add('colab-df-spinner');\n",
              "      try {\n",
              "        const charts = await google.colab.kernel.invokeFunction(\n",
              "            'suggestCharts', [key], {});\n",
              "      } catch (error) {\n",
              "        console.error('Error during call to suggestCharts:', error);\n",
              "      }\n",
              "      quickchartButtonEl.classList.remove('colab-df-spinner');\n",
              "      quickchartButtonEl.classList.add('colab-df-quickchart-complete');\n",
              "    }\n",
              "    (() => {\n",
              "      let quickchartButtonEl =\n",
              "        document.querySelector('#df-afaa80e3-0211-459f-82ed-0f277f8d63ba button');\n",
              "      quickchartButtonEl.style.display =\n",
              "        google.colab.kernel.accessAllowed ? 'block' : 'none';\n",
              "    })();\n",
              "  </script>\n",
              "</div>\n",
              "\n",
              "    </div>\n",
              "  </div>\n"
            ]
          },
          "metadata": {},
          "execution_count": 168
        }
      ]
    },
    {
      "cell_type": "code",
      "source": [
        "print(len(list(catboost_dataset['SIC Code'].unique())))"
      ],
      "metadata": {
        "colab": {
          "base_uri": "https://localhost:8080/"
        },
        "id": "poWJHbzu0nSy",
        "outputId": "66cdb0dc-d6de-4175-cdf1-3204d5001c38"
      },
      "execution_count": 172,
      "outputs": [
        {
          "output_type": "stream",
          "name": "stdout",
          "text": [
            "582\n"
          ]
        }
      ]
    },
    {
      "cell_type": "code",
      "source": [
        "!pip3 install catboost"
      ],
      "metadata": {
        "colab": {
          "base_uri": "https://localhost:8080/"
        },
        "id": "4nd6K5hg90Vs",
        "outputId": "e227f4c7-7de0-4156-cf3d-0fd59e44178d"
      },
      "execution_count": 173,
      "outputs": [
        {
          "output_type": "stream",
          "name": "stdout",
          "text": [
            "Requirement already satisfied: catboost in /usr/local/lib/python3.10/dist-packages (1.2.2)\n",
            "Requirement already satisfied: graphviz in /usr/local/lib/python3.10/dist-packages (from catboost) (0.20.1)\n",
            "Requirement already satisfied: matplotlib in /usr/local/lib/python3.10/dist-packages (from catboost) (3.7.1)\n",
            "Requirement already satisfied: numpy>=1.16.0 in /usr/local/lib/python3.10/dist-packages (from catboost) (1.23.5)\n",
            "Requirement already satisfied: pandas>=0.24 in /usr/local/lib/python3.10/dist-packages (from catboost) (1.5.3)\n",
            "Requirement already satisfied: scipy in /usr/local/lib/python3.10/dist-packages (from catboost) (1.11.4)\n",
            "Requirement already satisfied: plotly in /usr/local/lib/python3.10/dist-packages (from catboost) (5.15.0)\n",
            "Requirement already satisfied: six in /usr/local/lib/python3.10/dist-packages (from catboost) (1.16.0)\n",
            "Requirement already satisfied: python-dateutil>=2.8.1 in /usr/local/lib/python3.10/dist-packages (from pandas>=0.24->catboost) (2.8.2)\n",
            "Requirement already satisfied: pytz>=2020.1 in /usr/local/lib/python3.10/dist-packages (from pandas>=0.24->catboost) (2023.3.post1)\n",
            "Requirement already satisfied: contourpy>=1.0.1 in /usr/local/lib/python3.10/dist-packages (from matplotlib->catboost) (1.2.0)\n",
            "Requirement already satisfied: cycler>=0.10 in /usr/local/lib/python3.10/dist-packages (from matplotlib->catboost) (0.12.1)\n",
            "Requirement already satisfied: fonttools>=4.22.0 in /usr/local/lib/python3.10/dist-packages (from matplotlib->catboost) (4.47.2)\n",
            "Requirement already satisfied: kiwisolver>=1.0.1 in /usr/local/lib/python3.10/dist-packages (from matplotlib->catboost) (1.4.5)\n",
            "Requirement already satisfied: packaging>=20.0 in /usr/local/lib/python3.10/dist-packages (from matplotlib->catboost) (23.2)\n",
            "Requirement already satisfied: pillow>=6.2.0 in /usr/local/lib/python3.10/dist-packages (from matplotlib->catboost) (9.4.0)\n",
            "Requirement already satisfied: pyparsing>=2.3.1 in /usr/local/lib/python3.10/dist-packages (from matplotlib->catboost) (3.1.1)\n",
            "Requirement already satisfied: tenacity>=6.2.0 in /usr/local/lib/python3.10/dist-packages (from plotly->catboost) (8.2.3)\n"
          ]
        }
      ]
    },
    {
      "cell_type": "code",
      "source": [
        "print(catboost_dataset.columns.get_loc('LATITUDE'))\n",
        "print(catboost_dataset.select_dtypes(include=['object']).columns)\n",
        "print(catboost_dataset['SIC Code'].dtype)\n"
      ],
      "metadata": {
        "colab": {
          "base_uri": "https://localhost:8080/"
        },
        "id": "Bu4NNovn_Sr-",
        "outputId": "c76024b0-3f7e-4ea6-b538-1aa88ff155cc"
      },
      "execution_count": 174,
      "outputs": [
        {
          "output_type": "stream",
          "name": "stdout",
          "text": [
            "0\n",
            "Index(['Entity Type', 'Parent Country', 'Ownership Type',\n",
            "       'Company Status (Active/Inactive)', 'Import/Export Status',\n",
            "       'Global Ultimate Country'],\n",
            "      dtype='object')\n",
            "int16\n"
          ]
        }
      ]
    },
    {
      "cell_type": "code",
      "source": [
        "pprint(catboost_dataset.isna().sum())\n",
        "columns_to_convert = ['Year Found', 'Parent Country', 'Global Ultimate Country']\n",
        "\n",
        "# Convert NaN values to string in specified columns\n",
        "catboost_dataset[columns_to_convert] = catboost_dataset[columns_to_convert].fillna('NaN').astype(str)\n"
      ],
      "metadata": {
        "colab": {
          "base_uri": "https://localhost:8080/"
        },
        "id": "CCdnzuDxCKFk",
        "outputId": "f05e6a1a-88bd-49ce-e7eb-5caf2daf6879"
      },
      "execution_count": 175,
      "outputs": [
        {
          "output_type": "stream",
          "name": "stdout",
          "text": [
            "LATITUDE                                 0\n",
            "LONGITUDE                                0\n",
            "SIC Code                                 0\n",
            "Year Found                             426\n",
            "Entity Type                              0\n",
            "Parent Country                         514\n",
            "Ownership Type                           0\n",
            "Company Description                      0\n",
            "Company Status (Active/Inactive)         0\n",
            "Sales (Domestic Ultimate Total USD)      0\n",
            "Sales (Global Ultimate Total USD)        0\n",
            "Import/Export Status                     0\n",
            "Global Ultimate Country                517\n",
            "Is Domestic Ultimate                     0\n",
            "Is Global Ultimate                       0\n",
            "Employees (Global)                       0\n",
            "dtype: int64\n"
          ]
        }
      ]
    },
    {
      "cell_type": "code",
      "source": [
        "catboost_dataset.head()"
      ],
      "metadata": {
        "colab": {
          "base_uri": "https://localhost:8080/",
          "height": 330
        },
        "id": "vUdvCV4hF2xU",
        "outputId": "111429d2-70bd-4784-9010-0f20154a8f79"
      },
      "execution_count": 179,
      "outputs": [
        {
          "output_type": "execute_result",
          "data": {
            "text/plain": [
              "   LATITUDE   LONGITUDE  SIC Code Year Found Entity Type Parent Country  \\\n",
              "0  1.285495  103.843852         0     2020.0  Subsidiary      Singapore   \n",
              "1  1.291294  103.827476         1     2015.0  Subsidiary      Singapore   \n",
              "2  1.300144  103.857517         2     1993.0  Subsidiary  Hong Kong SAR   \n",
              "3  1.300785  103.791263         2     2006.0  Subsidiary      Singapore   \n",
              "4  1.298759  103.859430         2     2006.0      Parent      Singapore   \n",
              "\n",
              "  Ownership Type  Company Description Company Status (Active/Inactive)  \\\n",
              "0        Private             0.000412                           Active   \n",
              "1        Private             0.000042                           Active   \n",
              "2        Private             0.000857                           Active   \n",
              "3        Private             0.001070                           Active   \n",
              "4        Private             0.001599                           Active   \n",
              "\n",
              "   Sales (Domestic Ultimate Total USD)  Sales (Global Ultimate Total USD)  \\\n",
              "0                         2.209224e+06                       4.637871e+06   \n",
              "1                         7.093536e+09                       7.093536e+09   \n",
              "2                         1.026308e+06                       1.026308e+06   \n",
              "3                         7.339898e+10                       7.339898e+10   \n",
              "4                         4.322130e+05                       4.322130e+05   \n",
              "\n",
              "  Import/Export Status Global Ultimate Country  Is Domestic Ultimate  \\\n",
              "0                  N/A          United Kingdom                     0   \n",
              "1                  N/A               Singapore                     0   \n",
              "2                  N/A           Hong Kong SAR                     1   \n",
              "3                  N/A               Singapore                     0   \n",
              "4              Exports               Singapore                     1   \n",
              "\n",
              "   Is Global Ultimate  Employees (Global)  \n",
              "0                   0                25.0  \n",
              "1                   0               100.0  \n",
              "2                   0                 4.0  \n",
              "3                   0               100.0  \n",
              "4                   1                 4.0  "
            ],
            "text/html": [
              "\n",
              "  <div id=\"df-c98d3822-1047-42ca-b33b-c07249f53240\" class=\"colab-df-container\">\n",
              "    <div>\n",
              "<style scoped>\n",
              "    .dataframe tbody tr th:only-of-type {\n",
              "        vertical-align: middle;\n",
              "    }\n",
              "\n",
              "    .dataframe tbody tr th {\n",
              "        vertical-align: top;\n",
              "    }\n",
              "\n",
              "    .dataframe thead th {\n",
              "        text-align: right;\n",
              "    }\n",
              "</style>\n",
              "<table border=\"1\" class=\"dataframe\">\n",
              "  <thead>\n",
              "    <tr style=\"text-align: right;\">\n",
              "      <th></th>\n",
              "      <th>LATITUDE</th>\n",
              "      <th>LONGITUDE</th>\n",
              "      <th>SIC Code</th>\n",
              "      <th>Year Found</th>\n",
              "      <th>Entity Type</th>\n",
              "      <th>Parent Country</th>\n",
              "      <th>Ownership Type</th>\n",
              "      <th>Company Description</th>\n",
              "      <th>Company Status (Active/Inactive)</th>\n",
              "      <th>Sales (Domestic Ultimate Total USD)</th>\n",
              "      <th>Sales (Global Ultimate Total USD)</th>\n",
              "      <th>Import/Export Status</th>\n",
              "      <th>Global Ultimate Country</th>\n",
              "      <th>Is Domestic Ultimate</th>\n",
              "      <th>Is Global Ultimate</th>\n",
              "      <th>Employees (Global)</th>\n",
              "    </tr>\n",
              "  </thead>\n",
              "  <tbody>\n",
              "    <tr>\n",
              "      <th>0</th>\n",
              "      <td>1.285495</td>\n",
              "      <td>103.843852</td>\n",
              "      <td>0</td>\n",
              "      <td>2020.0</td>\n",
              "      <td>Subsidiary</td>\n",
              "      <td>Singapore</td>\n",
              "      <td>Private</td>\n",
              "      <td>0.000412</td>\n",
              "      <td>Active</td>\n",
              "      <td>2.209224e+06</td>\n",
              "      <td>4.637871e+06</td>\n",
              "      <td>N/A</td>\n",
              "      <td>United Kingdom</td>\n",
              "      <td>0</td>\n",
              "      <td>0</td>\n",
              "      <td>25.0</td>\n",
              "    </tr>\n",
              "    <tr>\n",
              "      <th>1</th>\n",
              "      <td>1.291294</td>\n",
              "      <td>103.827476</td>\n",
              "      <td>1</td>\n",
              "      <td>2015.0</td>\n",
              "      <td>Subsidiary</td>\n",
              "      <td>Singapore</td>\n",
              "      <td>Private</td>\n",
              "      <td>0.000042</td>\n",
              "      <td>Active</td>\n",
              "      <td>7.093536e+09</td>\n",
              "      <td>7.093536e+09</td>\n",
              "      <td>N/A</td>\n",
              "      <td>Singapore</td>\n",
              "      <td>0</td>\n",
              "      <td>0</td>\n",
              "      <td>100.0</td>\n",
              "    </tr>\n",
              "    <tr>\n",
              "      <th>2</th>\n",
              "      <td>1.300144</td>\n",
              "      <td>103.857517</td>\n",
              "      <td>2</td>\n",
              "      <td>1993.0</td>\n",
              "      <td>Subsidiary</td>\n",
              "      <td>Hong Kong SAR</td>\n",
              "      <td>Private</td>\n",
              "      <td>0.000857</td>\n",
              "      <td>Active</td>\n",
              "      <td>1.026308e+06</td>\n",
              "      <td>1.026308e+06</td>\n",
              "      <td>N/A</td>\n",
              "      <td>Hong Kong SAR</td>\n",
              "      <td>1</td>\n",
              "      <td>0</td>\n",
              "      <td>4.0</td>\n",
              "    </tr>\n",
              "    <tr>\n",
              "      <th>3</th>\n",
              "      <td>1.300785</td>\n",
              "      <td>103.791263</td>\n",
              "      <td>2</td>\n",
              "      <td>2006.0</td>\n",
              "      <td>Subsidiary</td>\n",
              "      <td>Singapore</td>\n",
              "      <td>Private</td>\n",
              "      <td>0.001070</td>\n",
              "      <td>Active</td>\n",
              "      <td>7.339898e+10</td>\n",
              "      <td>7.339898e+10</td>\n",
              "      <td>N/A</td>\n",
              "      <td>Singapore</td>\n",
              "      <td>0</td>\n",
              "      <td>0</td>\n",
              "      <td>100.0</td>\n",
              "    </tr>\n",
              "    <tr>\n",
              "      <th>4</th>\n",
              "      <td>1.298759</td>\n",
              "      <td>103.859430</td>\n",
              "      <td>2</td>\n",
              "      <td>2006.0</td>\n",
              "      <td>Parent</td>\n",
              "      <td>Singapore</td>\n",
              "      <td>Private</td>\n",
              "      <td>0.001599</td>\n",
              "      <td>Active</td>\n",
              "      <td>4.322130e+05</td>\n",
              "      <td>4.322130e+05</td>\n",
              "      <td>Exports</td>\n",
              "      <td>Singapore</td>\n",
              "      <td>1</td>\n",
              "      <td>1</td>\n",
              "      <td>4.0</td>\n",
              "    </tr>\n",
              "  </tbody>\n",
              "</table>\n",
              "</div>\n",
              "    <div class=\"colab-df-buttons\">\n",
              "\n",
              "  <div class=\"colab-df-container\">\n",
              "    <button class=\"colab-df-convert\" onclick=\"convertToInteractive('df-c98d3822-1047-42ca-b33b-c07249f53240')\"\n",
              "            title=\"Convert this dataframe to an interactive table.\"\n",
              "            style=\"display:none;\">\n",
              "\n",
              "  <svg xmlns=\"http://www.w3.org/2000/svg\" height=\"24px\" viewBox=\"0 -960 960 960\">\n",
              "    <path d=\"M120-120v-720h720v720H120Zm60-500h600v-160H180v160Zm220 220h160v-160H400v160Zm0 220h160v-160H400v160ZM180-400h160v-160H180v160Zm440 0h160v-160H620v160ZM180-180h160v-160H180v160Zm440 0h160v-160H620v160Z\"/>\n",
              "  </svg>\n",
              "    </button>\n",
              "\n",
              "  <style>\n",
              "    .colab-df-container {\n",
              "      display:flex;\n",
              "      gap: 12px;\n",
              "    }\n",
              "\n",
              "    .colab-df-convert {\n",
              "      background-color: #E8F0FE;\n",
              "      border: none;\n",
              "      border-radius: 50%;\n",
              "      cursor: pointer;\n",
              "      display: none;\n",
              "      fill: #1967D2;\n",
              "      height: 32px;\n",
              "      padding: 0 0 0 0;\n",
              "      width: 32px;\n",
              "    }\n",
              "\n",
              "    .colab-df-convert:hover {\n",
              "      background-color: #E2EBFA;\n",
              "      box-shadow: 0px 1px 2px rgba(60, 64, 67, 0.3), 0px 1px 3px 1px rgba(60, 64, 67, 0.15);\n",
              "      fill: #174EA6;\n",
              "    }\n",
              "\n",
              "    .colab-df-buttons div {\n",
              "      margin-bottom: 4px;\n",
              "    }\n",
              "\n",
              "    [theme=dark] .colab-df-convert {\n",
              "      background-color: #3B4455;\n",
              "      fill: #D2E3FC;\n",
              "    }\n",
              "\n",
              "    [theme=dark] .colab-df-convert:hover {\n",
              "      background-color: #434B5C;\n",
              "      box-shadow: 0px 1px 3px 1px rgba(0, 0, 0, 0.15);\n",
              "      filter: drop-shadow(0px 1px 2px rgba(0, 0, 0, 0.3));\n",
              "      fill: #FFFFFF;\n",
              "    }\n",
              "  </style>\n",
              "\n",
              "    <script>\n",
              "      const buttonEl =\n",
              "        document.querySelector('#df-c98d3822-1047-42ca-b33b-c07249f53240 button.colab-df-convert');\n",
              "      buttonEl.style.display =\n",
              "        google.colab.kernel.accessAllowed ? 'block' : 'none';\n",
              "\n",
              "      async function convertToInteractive(key) {\n",
              "        const element = document.querySelector('#df-c98d3822-1047-42ca-b33b-c07249f53240');\n",
              "        const dataTable =\n",
              "          await google.colab.kernel.invokeFunction('convertToInteractive',\n",
              "                                                    [key], {});\n",
              "        if (!dataTable) return;\n",
              "\n",
              "        const docLinkHtml = 'Like what you see? Visit the ' +\n",
              "          '<a target=\"_blank\" href=https://colab.research.google.com/notebooks/data_table.ipynb>data table notebook</a>'\n",
              "          + ' to learn more about interactive tables.';\n",
              "        element.innerHTML = '';\n",
              "        dataTable['output_type'] = 'display_data';\n",
              "        await google.colab.output.renderOutput(dataTable, element);\n",
              "        const docLink = document.createElement('div');\n",
              "        docLink.innerHTML = docLinkHtml;\n",
              "        element.appendChild(docLink);\n",
              "      }\n",
              "    </script>\n",
              "  </div>\n",
              "\n",
              "\n",
              "<div id=\"df-798d9ae8-595c-483d-a51b-504be476fed9\">\n",
              "  <button class=\"colab-df-quickchart\" onclick=\"quickchart('df-798d9ae8-595c-483d-a51b-504be476fed9')\"\n",
              "            title=\"Suggest charts\"\n",
              "            style=\"display:none;\">\n",
              "\n",
              "<svg xmlns=\"http://www.w3.org/2000/svg\" height=\"24px\"viewBox=\"0 0 24 24\"\n",
              "     width=\"24px\">\n",
              "    <g>\n",
              "        <path d=\"M19 3H5c-1.1 0-2 .9-2 2v14c0 1.1.9 2 2 2h14c1.1 0 2-.9 2-2V5c0-1.1-.9-2-2-2zM9 17H7v-7h2v7zm4 0h-2V7h2v10zm4 0h-2v-4h2v4z\"/>\n",
              "    </g>\n",
              "</svg>\n",
              "  </button>\n",
              "\n",
              "<style>\n",
              "  .colab-df-quickchart {\n",
              "      --bg-color: #E8F0FE;\n",
              "      --fill-color: #1967D2;\n",
              "      --hover-bg-color: #E2EBFA;\n",
              "      --hover-fill-color: #174EA6;\n",
              "      --disabled-fill-color: #AAA;\n",
              "      --disabled-bg-color: #DDD;\n",
              "  }\n",
              "\n",
              "  [theme=dark] .colab-df-quickchart {\n",
              "      --bg-color: #3B4455;\n",
              "      --fill-color: #D2E3FC;\n",
              "      --hover-bg-color: #434B5C;\n",
              "      --hover-fill-color: #FFFFFF;\n",
              "      --disabled-bg-color: #3B4455;\n",
              "      --disabled-fill-color: #666;\n",
              "  }\n",
              "\n",
              "  .colab-df-quickchart {\n",
              "    background-color: var(--bg-color);\n",
              "    border: none;\n",
              "    border-radius: 50%;\n",
              "    cursor: pointer;\n",
              "    display: none;\n",
              "    fill: var(--fill-color);\n",
              "    height: 32px;\n",
              "    padding: 0;\n",
              "    width: 32px;\n",
              "  }\n",
              "\n",
              "  .colab-df-quickchart:hover {\n",
              "    background-color: var(--hover-bg-color);\n",
              "    box-shadow: 0 1px 2px rgba(60, 64, 67, 0.3), 0 1px 3px 1px rgba(60, 64, 67, 0.15);\n",
              "    fill: var(--button-hover-fill-color);\n",
              "  }\n",
              "\n",
              "  .colab-df-quickchart-complete:disabled,\n",
              "  .colab-df-quickchart-complete:disabled:hover {\n",
              "    background-color: var(--disabled-bg-color);\n",
              "    fill: var(--disabled-fill-color);\n",
              "    box-shadow: none;\n",
              "  }\n",
              "\n",
              "  .colab-df-spinner {\n",
              "    border: 2px solid var(--fill-color);\n",
              "    border-color: transparent;\n",
              "    border-bottom-color: var(--fill-color);\n",
              "    animation:\n",
              "      spin 1s steps(1) infinite;\n",
              "  }\n",
              "\n",
              "  @keyframes spin {\n",
              "    0% {\n",
              "      border-color: transparent;\n",
              "      border-bottom-color: var(--fill-color);\n",
              "      border-left-color: var(--fill-color);\n",
              "    }\n",
              "    20% {\n",
              "      border-color: transparent;\n",
              "      border-left-color: var(--fill-color);\n",
              "      border-top-color: var(--fill-color);\n",
              "    }\n",
              "    30% {\n",
              "      border-color: transparent;\n",
              "      border-left-color: var(--fill-color);\n",
              "      border-top-color: var(--fill-color);\n",
              "      border-right-color: var(--fill-color);\n",
              "    }\n",
              "    40% {\n",
              "      border-color: transparent;\n",
              "      border-right-color: var(--fill-color);\n",
              "      border-top-color: var(--fill-color);\n",
              "    }\n",
              "    60% {\n",
              "      border-color: transparent;\n",
              "      border-right-color: var(--fill-color);\n",
              "    }\n",
              "    80% {\n",
              "      border-color: transparent;\n",
              "      border-right-color: var(--fill-color);\n",
              "      border-bottom-color: var(--fill-color);\n",
              "    }\n",
              "    90% {\n",
              "      border-color: transparent;\n",
              "      border-bottom-color: var(--fill-color);\n",
              "    }\n",
              "  }\n",
              "</style>\n",
              "\n",
              "  <script>\n",
              "    async function quickchart(key) {\n",
              "      const quickchartButtonEl =\n",
              "        document.querySelector('#' + key + ' button');\n",
              "      quickchartButtonEl.disabled = true;  // To prevent multiple clicks.\n",
              "      quickchartButtonEl.classList.add('colab-df-spinner');\n",
              "      try {\n",
              "        const charts = await google.colab.kernel.invokeFunction(\n",
              "            'suggestCharts', [key], {});\n",
              "      } catch (error) {\n",
              "        console.error('Error during call to suggestCharts:', error);\n",
              "      }\n",
              "      quickchartButtonEl.classList.remove('colab-df-spinner');\n",
              "      quickchartButtonEl.classList.add('colab-df-quickchart-complete');\n",
              "    }\n",
              "    (() => {\n",
              "      let quickchartButtonEl =\n",
              "        document.querySelector('#df-798d9ae8-595c-483d-a51b-504be476fed9 button');\n",
              "      quickchartButtonEl.style.display =\n",
              "        google.colab.kernel.accessAllowed ? 'block' : 'none';\n",
              "    })();\n",
              "  </script>\n",
              "</div>\n",
              "\n",
              "    </div>\n",
              "  </div>\n"
            ]
          },
          "metadata": {},
          "execution_count": 179
        }
      ]
    },
    {
      "cell_type": "code",
      "source": [
        "import catboost\n",
        "from catboost import CatBoostRegressor, Pool\n",
        "from sklearn.model_selection import train_test_split\n",
        "from sklearn.metrics import mean_squared_error\n",
        "\n",
        "#categorical features\n",
        "cat_features = ['SIC Code','Entity Type','Parent Country','Ownership Type','Company Status (Active/Inactive)','Import/Export Status','Global Ultimate Country','Is Domestic Ultimate','Is Global Ultimate']\n",
        "\n",
        "X = catboost_dataset.drop(columns=['Sales (Global Ultimate Total USD)'])  # Features\n",
        "y = catboost_dataset['Sales (Global Ultimate Total USD)']  # Target\n",
        "X_train, X_test, y_train, y_test = train_test_split(X, y, test_size=0.2, random_state=42)\n",
        "\n",
        "train_data = Pool(data=X_train, label=y_train, cat_features=cat_features)\n",
        "test_data = Pool(data=X_test, label=y_test, cat_features=cat_features)\n",
        "\n",
        "# Initialize CatBoostRegressor\n",
        "model = CatBoostRegressor(iterations=500, depth=10, learning_rate=0.05, loss_function='RMSE')\n",
        "model.fit(train_data, eval_set=test_data, plot=True)\n",
        "y_pred = model.predict(test_data)\n",
        "\n",
        "# Evaluate the model (use appropriate metrics for regression)\n",
        "mse = mean_squared_error(y_test, y_pred)\n",
        "print(f'Mean Squared Error: {mse}')\n",
        "\n",
        "# Get feature importance\n",
        "feature_importance = model.get_feature_importance(prettified=True)\n",
        "print(feature_importance)"
      ],
      "metadata": {
        "colab": {
          "base_uri": "https://localhost:8080/",
          "height": 1000,
          "referenced_widgets": [
            "61d79405935547ccb02f11d3d55113a6"
          ]
        },
        "id": "CeOgR0UB-p5h",
        "outputId": "574bff09-5dc0-4cfc-8a35-5779c8a66917"
      },
      "execution_count": 181,
      "outputs": [
        {
          "output_type": "display_data",
          "data": {
            "text/plain": [
              "MetricVisualizer(layout=Layout(align_self='stretch', height='500px'))"
            ],
            "application/vnd.jupyter.widget-view+json": {
              "version_major": 2,
              "version_minor": 0,
              "model_id": "61d79405935547ccb02f11d3d55113a6"
            }
          },
          "metadata": {}
        },
        {
          "output_type": "stream",
          "name": "stdout",
          "text": [
            "0:\tlearn: 21465267113.3271866\ttest: 21147150315.7619591\tbest: 21147150315.7619591 (0)\ttotal: 43.9ms\tremaining: 21.9s\n",
            "1:\tlearn: 21037573258.1837997\ttest: 20682881682.7125397\tbest: 20682881682.7125397 (1)\ttotal: 108ms\tremaining: 26.8s\n",
            "2:\tlearn: 20665010633.9567146\ttest: 20381854225.6402779\tbest: 20381854225.6402779 (2)\ttotal: 204ms\tremaining: 33.8s\n",
            "3:\tlearn: 20309374385.4834137\ttest: 20016704428.2330170\tbest: 20016704428.2330170 (3)\ttotal: 287ms\tremaining: 35.6s\n",
            "4:\tlearn: 19901442589.9715881\ttest: 19623787140.2346954\tbest: 19623787140.2346954 (4)\ttotal: 393ms\tremaining: 38.9s\n",
            "5:\tlearn: 19510081146.5778046\ttest: 19217901704.2191696\tbest: 19217901704.2191696 (5)\ttotal: 478ms\tremaining: 39.3s\n",
            "6:\tlearn: 19210348500.3441658\ttest: 18966790503.1865578\tbest: 18966790503.1865578 (6)\ttotal: 566ms\tremaining: 39.9s\n",
            "7:\tlearn: 18867018641.2061806\ttest: 18650903094.8189545\tbest: 18650903094.8189545 (7)\ttotal: 647ms\tremaining: 39.8s\n",
            "8:\tlearn: 18526735234.9025459\ttest: 18357987829.5131149\tbest: 18357987829.5131149 (8)\ttotal: 741ms\tremaining: 40.4s\n",
            "9:\tlearn: 18212706935.3230400\ttest: 18078976597.4455032\tbest: 18078976597.4455032 (9)\ttotal: 824ms\tremaining: 40.4s\n",
            "10:\tlearn: 17909274283.0089951\ttest: 17768298209.5354767\tbest: 17768298209.5354767 (10)\ttotal: 911ms\tremaining: 40.5s\n",
            "11:\tlearn: 17666932815.2177238\ttest: 17621859002.1707535\tbest: 17621859002.1707535 (11)\ttotal: 989ms\tremaining: 40.2s\n",
            "12:\tlearn: 17400814948.5114975\ttest: 17358940898.8324928\tbest: 17358940898.8324928 (12)\ttotal: 1.08s\tremaining: 40.4s\n",
            "13:\tlearn: 17166598528.6193905\ttest: 17144105035.5919170\tbest: 17144105035.5919170 (13)\ttotal: 1.16s\tremaining: 40.4s\n",
            "14:\tlearn: 16957504394.5117092\ttest: 16978834036.5266876\tbest: 16978834036.5266876 (14)\ttotal: 1.25s\tremaining: 40.6s\n",
            "15:\tlearn: 16733835835.8000259\ttest: 16808506139.6496754\tbest: 16808506139.6496754 (15)\ttotal: 1.34s\tremaining: 40.7s\n",
            "16:\tlearn: 16539081856.2392178\ttest: 16645527462.9615612\tbest: 16645527462.9615612 (16)\ttotal: 1.44s\tremaining: 41s\n",
            "17:\tlearn: 16372655943.7334919\ttest: 16494655588.4116287\tbest: 16494655588.4116287 (17)\ttotal: 1.53s\tremaining: 41s\n",
            "18:\tlearn: 16171202669.7148685\ttest: 16313382705.5245285\tbest: 16313382705.5245285 (18)\ttotal: 1.62s\tremaining: 41.1s\n",
            "19:\tlearn: 15981191281.0683022\ttest: 16143728322.0622463\tbest: 16143728322.0622463 (19)\ttotal: 1.71s\tremaining: 41s\n",
            "20:\tlearn: 15830687812.3779068\ttest: 16009106677.9665661\tbest: 16009106677.9665661 (20)\ttotal: 1.8s\tremaining: 41s\n",
            "21:\tlearn: 15697773775.4522266\ttest: 15907581799.9135323\tbest: 15907581799.9135323 (21)\ttotal: 1.89s\tremaining: 41s\n",
            "22:\tlearn: 15531663807.7413616\ttest: 15780698981.9492550\tbest: 15780698981.9492550 (22)\ttotal: 1.97s\tremaining: 40.9s\n",
            "23:\tlearn: 15387820185.4242573\ttest: 15701628454.5774555\tbest: 15701628454.5774555 (23)\ttotal: 2.06s\tremaining: 40.9s\n",
            "24:\tlearn: 15241519952.0248299\ttest: 15584421580.9509201\tbest: 15584421580.9509201 (24)\ttotal: 2.15s\tremaining: 41s\n",
            "25:\tlearn: 15098055275.7063580\ttest: 15493066204.3965588\tbest: 15493066204.3965588 (25)\ttotal: 2.25s\tremaining: 41s\n",
            "26:\tlearn: 14930011993.7160645\ttest: 15370826549.8905487\tbest: 15370826549.8905487 (26)\ttotal: 2.34s\tremaining: 41s\n",
            "27:\tlearn: 14786518291.7612553\ttest: 15239270360.7033062\tbest: 15239270360.7033062 (27)\ttotal: 2.45s\tremaining: 41.4s\n",
            "28:\tlearn: 14676991079.2817764\ttest: 15183128795.3057480\tbest: 15183128795.3057480 (28)\ttotal: 2.54s\tremaining: 41.2s\n",
            "29:\tlearn: 14570172400.6440392\ttest: 15101599014.4809628\tbest: 15101599014.4809628 (29)\ttotal: 2.63s\tremaining: 41.2s\n",
            "30:\tlearn: 14471148156.8345833\ttest: 15021079529.4206848\tbest: 15021079529.4206848 (30)\ttotal: 2.71s\tremaining: 41.1s\n",
            "31:\tlearn: 14393573044.9096889\ttest: 14971191771.7722435\tbest: 14971191771.7722435 (31)\ttotal: 2.8s\tremaining: 41s\n",
            "32:\tlearn: 14314979941.4557285\ttest: 14935899274.2420864\tbest: 14935899274.2420864 (32)\ttotal: 2.88s\tremaining: 40.8s\n",
            "33:\tlearn: 14205250685.7376156\ttest: 14880712941.9140320\tbest: 14880712941.9140320 (33)\ttotal: 2.98s\tremaining: 40.9s\n",
            "34:\tlearn: 14108903996.6468620\ttest: 14843920843.7650700\tbest: 14843920843.7650700 (34)\ttotal: 3.07s\tremaining: 40.8s\n",
            "35:\tlearn: 14027235202.5272369\ttest: 14821929108.9059429\tbest: 14821929108.9059429 (35)\ttotal: 3.16s\tremaining: 40.7s\n",
            "36:\tlearn: 13959637722.2937069\ttest: 14796237321.3155499\tbest: 14796237321.3155499 (36)\ttotal: 3.28s\tremaining: 41s\n",
            "37:\tlearn: 13882126737.8042660\ttest: 14763700548.7135239\tbest: 14763700548.7135239 (37)\ttotal: 3.44s\tremaining: 41.9s\n",
            "38:\tlearn: 13789508429.1663723\ttest: 14700568267.3326073\tbest: 14700568267.3326073 (38)\ttotal: 3.62s\tremaining: 42.8s\n",
            "39:\tlearn: 13703709392.9871864\ttest: 14688051120.5073471\tbest: 14688051120.5073471 (39)\ttotal: 3.79s\tremaining: 43.6s\n",
            "40:\tlearn: 13641105312.5438519\ttest: 14667469518.1593838\tbest: 14667469518.1593838 (40)\ttotal: 3.96s\tremaining: 44.4s\n",
            "41:\tlearn: 13587166137.7172432\ttest: 14635990342.2125835\tbest: 14635990342.2125835 (41)\ttotal: 4.11s\tremaining: 44.9s\n",
            "42:\tlearn: 13516972745.8004799\ttest: 14600794799.0975056\tbest: 14600794799.0975056 (42)\ttotal: 4.29s\tremaining: 45.6s\n",
            "43:\tlearn: 13470737364.5300732\ttest: 14580553901.6619587\tbest: 14580553901.6619587 (43)\ttotal: 4.52s\tremaining: 46.9s\n",
            "44:\tlearn: 13413871635.7409420\ttest: 14535607506.8525429\tbest: 14535607506.8525429 (44)\ttotal: 4.81s\tremaining: 48.6s\n",
            "45:\tlearn: 13363509049.0860271\ttest: 14520087765.7730293\tbest: 14520087765.7730293 (45)\ttotal: 5.25s\tremaining: 51.8s\n",
            "46:\tlearn: 13296817547.4812088\ttest: 14493082192.8354797\tbest: 14493082192.8354797 (46)\ttotal: 5.62s\tremaining: 54.2s\n",
            "47:\tlearn: 13249581370.9777184\ttest: 14468802682.3607540\tbest: 14468802682.3607540 (47)\ttotal: 6.05s\tremaining: 57s\n",
            "48:\tlearn: 13191864730.4028549\ttest: 14463075852.0071907\tbest: 14463075852.0071907 (48)\ttotal: 6.42s\tremaining: 59.1s\n",
            "49:\tlearn: 13145177533.4716244\ttest: 14461130896.8802681\tbest: 14461130896.8802681 (49)\ttotal: 6.71s\tremaining: 1m\n",
            "50:\tlearn: 13094016133.6467419\ttest: 14447342610.2998047\tbest: 14447342610.2998047 (50)\ttotal: 7s\tremaining: 1m 1s\n",
            "51:\tlearn: 13027451206.8794708\ttest: 14402451565.1106853\tbest: 14402451565.1106853 (51)\ttotal: 7.2s\tremaining: 1m 2s\n",
            "52:\tlearn: 12978880766.0217419\ttest: 14394664594.6728230\tbest: 14394664594.6728230 (52)\ttotal: 7.41s\tremaining: 1m 2s\n",
            "53:\tlearn: 12931274164.4515266\ttest: 14381402344.8142567\tbest: 14381402344.8142567 (53)\ttotal: 7.63s\tremaining: 1m 3s\n",
            "54:\tlearn: 12899068515.3954868\ttest: 14378024478.0841312\tbest: 14378024478.0841312 (54)\ttotal: 7.84s\tremaining: 1m 3s\n",
            "55:\tlearn: 12862023282.0245018\ttest: 14377552323.4768391\tbest: 14377552323.4768391 (55)\ttotal: 8.04s\tremaining: 1m 3s\n",
            "56:\tlearn: 12801997189.0429115\ttest: 14345639224.4783287\tbest: 14345639224.4783287 (56)\ttotal: 8.24s\tremaining: 1m 4s\n",
            "57:\tlearn: 12767065069.4255428\ttest: 14343873576.9100227\tbest: 14343873576.9100227 (57)\ttotal: 8.4s\tremaining: 1m 4s\n",
            "58:\tlearn: 12722524804.5358906\ttest: 14337009886.7382584\tbest: 14337009886.7382584 (58)\ttotal: 8.58s\tremaining: 1m 4s\n",
            "59:\tlearn: 12629578289.5894775\ttest: 14316711673.4655724\tbest: 14316711673.4655724 (59)\ttotal: 8.78s\tremaining: 1m 4s\n",
            "60:\tlearn: 12568163400.2472725\ttest: 14284938131.0774956\tbest: 14284938131.0774956 (60)\ttotal: 8.88s\tremaining: 1m 3s\n",
            "61:\tlearn: 12509415237.5592365\ttest: 14281688618.4697361\tbest: 14281688618.4697361 (61)\ttotal: 8.97s\tremaining: 1m 3s\n",
            "62:\tlearn: 12416058417.3756008\ttest: 14265834609.0177994\tbest: 14265834609.0177994 (62)\ttotal: 9.09s\tremaining: 1m 3s\n",
            "63:\tlearn: 12331370907.7016869\ttest: 14233612816.9889965\tbest: 14233612816.9889965 (63)\ttotal: 9.17s\tremaining: 1m 2s\n",
            "64:\tlearn: 12277501273.2179356\ttest: 14212049793.7716064\tbest: 14212049793.7716064 (64)\ttotal: 9.27s\tremaining: 1m 2s\n",
            "65:\tlearn: 12237213872.4110909\ttest: 14214047716.7772179\tbest: 14212049793.7716064 (64)\ttotal: 9.37s\tremaining: 1m 1s\n",
            "66:\tlearn: 12206578795.7906475\ttest: 14209800707.9821110\tbest: 14209800707.9821110 (66)\ttotal: 9.47s\tremaining: 1m 1s\n",
            "67:\tlearn: 12164159489.7732925\ttest: 14186406391.0497608\tbest: 14186406391.0497608 (67)\ttotal: 9.56s\tremaining: 1m\n",
            "68:\tlearn: 12140095193.0178089\ttest: 14181461678.4424210\tbest: 14181461678.4424210 (68)\ttotal: 9.65s\tremaining: 1m\n",
            "69:\tlearn: 12103929970.7020664\ttest: 14172875818.9172096\tbest: 14172875818.9172096 (69)\ttotal: 9.74s\tremaining: 59.9s\n",
            "70:\tlearn: 12078557974.1534863\ttest: 14172690218.1746998\tbest: 14172690218.1746998 (70)\ttotal: 9.83s\tremaining: 59.4s\n",
            "71:\tlearn: 12043682703.8084106\ttest: 14168856383.5683975\tbest: 14168856383.5683975 (71)\ttotal: 9.91s\tremaining: 58.9s\n",
            "72:\tlearn: 12023106520.6371078\ttest: 14167332559.2476406\tbest: 14167332559.2476406 (72)\ttotal: 10s\tremaining: 58.6s\n",
            "73:\tlearn: 12001593426.8247948\ttest: 14168873708.0225296\tbest: 14167332559.2476406 (72)\ttotal: 10.1s\tremaining: 58.3s\n",
            "74:\tlearn: 11982584398.4670677\ttest: 14172896598.4626617\tbest: 14167332559.2476406 (72)\ttotal: 10.2s\tremaining: 57.9s\n",
            "75:\tlearn: 11938010895.2268505\ttest: 14161689362.3029156\tbest: 14161689362.3029156 (75)\ttotal: 10.3s\tremaining: 57.5s\n",
            "76:\tlearn: 11898082101.5816574\ttest: 14131685978.1772575\tbest: 14131685978.1772575 (76)\ttotal: 10.4s\tremaining: 57.1s\n",
            "77:\tlearn: 11833470495.1158066\ttest: 14122347922.9487095\tbest: 14122347922.9487095 (77)\ttotal: 10.5s\tremaining: 56.6s\n",
            "78:\tlearn: 11816468719.8090534\ttest: 14122340518.4730339\tbest: 14122340518.4730339 (78)\ttotal: 10.6s\tremaining: 56.3s\n",
            "79:\tlearn: 11792706197.3084049\ttest: 14108809828.0877514\tbest: 14108809828.0877514 (79)\ttotal: 10.7s\tremaining: 56s\n",
            "80:\tlearn: 11696193158.2508125\ttest: 14086074528.8194485\tbest: 14086074528.8194485 (80)\ttotal: 10.8s\tremaining: 55.7s\n",
            "81:\tlearn: 11663381703.0759678\ttest: 14079592477.8134823\tbest: 14079592477.8134823 (81)\ttotal: 10.9s\tremaining: 55.4s\n",
            "82:\tlearn: 11620568790.3663406\ttest: 14057497049.2600784\tbest: 14057497049.2600784 (82)\ttotal: 11s\tremaining: 55.4s\n",
            "83:\tlearn: 11598791640.8648605\ttest: 14047954365.6870174\tbest: 14047954365.6870174 (83)\ttotal: 11.2s\tremaining: 55.5s\n",
            "84:\tlearn: 11558390646.1483135\ttest: 14017140500.3426094\tbest: 14017140500.3426094 (84)\ttotal: 11.4s\tremaining: 55.5s\n",
            "85:\tlearn: 11510329549.4557018\ttest: 14012088598.3622551\tbest: 14012088598.3622551 (85)\ttotal: 11.6s\tremaining: 55.7s\n",
            "86:\tlearn: 11489771793.8988361\ttest: 14010939028.5085144\tbest: 14010939028.5085144 (86)\ttotal: 11.8s\tremaining: 56s\n",
            "87:\tlearn: 11465912117.2083378\ttest: 14005754955.3660336\tbest: 14005754955.3660336 (87)\ttotal: 12s\tremaining: 56.3s\n",
            "88:\tlearn: 11444883855.2158356\ttest: 14004332937.7330017\tbest: 14004332937.7330017 (88)\ttotal: 12.3s\tremaining: 56.6s\n",
            "89:\tlearn: 11422454614.6601238\ttest: 13993559999.5896378\tbest: 13993559999.5896378 (89)\ttotal: 12.4s\tremaining: 56.4s\n",
            "90:\tlearn: 11385127176.1501675\ttest: 13978976376.8155804\tbest: 13978976376.8155804 (90)\ttotal: 12.6s\tremaining: 56.4s\n",
            "91:\tlearn: 11361744850.3642941\ttest: 13975868831.4508419\tbest: 13975868831.4508419 (91)\ttotal: 12.7s\tremaining: 56.5s\n",
            "92:\tlearn: 11348052003.2071514\ttest: 13977080824.8517075\tbest: 13975868831.4508419 (91)\ttotal: 12.9s\tremaining: 56.6s\n",
            "93:\tlearn: 11328741327.4065304\ttest: 13971740989.1671925\tbest: 13971740989.1671925 (93)\ttotal: 13.1s\tremaining: 56.7s\n",
            "94:\tlearn: 11322863075.6671734\ttest: 13970244164.9500656\tbest: 13970244164.9500656 (94)\ttotal: 13.2s\tremaining: 56.3s\n",
            "95:\tlearn: 11302829372.3396244\ttest: 13961069095.5779152\tbest: 13961069095.5779152 (95)\ttotal: 13.3s\tremaining: 56.1s\n",
            "96:\tlearn: 11298348588.6972733\ttest: 13959441421.0590000\tbest: 13959441421.0590000 (96)\ttotal: 13.4s\tremaining: 55.8s\n",
            "97:\tlearn: 11263437645.0362415\ttest: 13932807183.0619183\tbest: 13932807183.0619183 (97)\ttotal: 13.5s\tremaining: 55.4s\n",
            "98:\tlearn: 11240169535.0277061\ttest: 13926714018.4317036\tbest: 13926714018.4317036 (98)\ttotal: 13.6s\tremaining: 55.1s\n",
            "99:\tlearn: 11155764109.8482075\ttest: 13888475596.3751144\tbest: 13888475596.3751144 (99)\ttotal: 13.7s\tremaining: 54.8s\n",
            "100:\tlearn: 11151743965.7477932\ttest: 13886201569.9191971\tbest: 13886201569.9191971 (100)\ttotal: 13.7s\tremaining: 54.3s\n",
            "101:\tlearn: 11132104280.6933060\ttest: 13882974114.3313026\tbest: 13882974114.3313026 (101)\ttotal: 13.9s\tremaining: 54.1s\n",
            "102:\tlearn: 11098304464.6121845\ttest: 13879074085.3894691\tbest: 13879074085.3894691 (102)\ttotal: 14s\tremaining: 53.8s\n",
            "103:\tlearn: 11064657560.8445816\ttest: 13867193732.5264912\tbest: 13867193732.5264912 (103)\ttotal: 14.1s\tremaining: 53.6s\n",
            "104:\tlearn: 11039244829.2733116\ttest: 13869176599.8081684\tbest: 13867193732.5264912 (103)\ttotal: 14.1s\tremaining: 53.2s\n",
            "105:\tlearn: 11028077417.8018303\ttest: 13866728567.3358860\tbest: 13866728567.3358860 (105)\ttotal: 14.2s\tremaining: 52.9s\n",
            "106:\tlearn: 11009211458.2185173\ttest: 13873620366.9502697\tbest: 13866728567.3358860 (105)\ttotal: 14.3s\tremaining: 52.6s\n",
            "107:\tlearn: 10991318320.2745953\ttest: 13860326561.6866074\tbest: 13860326561.6866074 (107)\ttotal: 14.4s\tremaining: 52.4s\n",
            "108:\tlearn: 10965869987.6364384\ttest: 13838844764.5017376\tbest: 13838844764.5017376 (108)\ttotal: 14.5s\tremaining: 52.1s\n",
            "109:\tlearn: 10953221783.5560837\ttest: 13833472396.6873474\tbest: 13833472396.6873474 (109)\ttotal: 14.6s\tremaining: 51.8s\n",
            "110:\tlearn: 10932001380.6147671\ttest: 13825270824.7346916\tbest: 13825270824.7346916 (110)\ttotal: 14.7s\tremaining: 51.6s\n",
            "111:\tlearn: 10915021381.9684372\ttest: 13821072145.5742931\tbest: 13821072145.5742931 (111)\ttotal: 14.8s\tremaining: 51.4s\n",
            "112:\tlearn: 10859711740.6851692\ttest: 13815611814.9875069\tbest: 13815611814.9875069 (112)\ttotal: 14.9s\tremaining: 51.1s\n",
            "113:\tlearn: 10846436798.1987801\ttest: 13816502127.3295784\tbest: 13815611814.9875069 (112)\ttotal: 15s\tremaining: 50.9s\n",
            "114:\tlearn: 10828603824.5931416\ttest: 13804168584.3847160\tbest: 13804168584.3847160 (114)\ttotal: 15.1s\tremaining: 50.7s\n",
            "115:\tlearn: 10819902827.6330280\ttest: 13801039363.2278576\tbest: 13801039363.2278576 (115)\ttotal: 15.2s\tremaining: 50.4s\n",
            "116:\tlearn: 10756029952.4394703\ttest: 13756742189.3205280\tbest: 13756742189.3205280 (116)\ttotal: 15.3s\tremaining: 50.2s\n",
            "117:\tlearn: 10750145293.0227757\ttest: 13756369573.7740288\tbest: 13756369573.7740288 (117)\ttotal: 15.4s\tremaining: 49.7s\n",
            "118:\tlearn: 10744105294.2842503\ttest: 13750291673.4164200\tbest: 13750291673.4164200 (118)\ttotal: 15.4s\tremaining: 49.5s\n",
            "119:\tlearn: 10735880036.0646572\ttest: 13749266881.3367844\tbest: 13749266881.3367844 (119)\ttotal: 15.6s\tremaining: 49.3s\n",
            "120:\tlearn: 10721458310.8116245\ttest: 13746013822.3801823\tbest: 13746013822.3801823 (120)\ttotal: 15.7s\tremaining: 49s\n",
            "121:\tlearn: 10706912857.3889332\ttest: 13740572710.0958862\tbest: 13740572710.0958862 (121)\ttotal: 15.7s\tremaining: 48.7s\n",
            "122:\tlearn: 10687547145.7253723\ttest: 13739253513.2712803\tbest: 13739253513.2712803 (122)\ttotal: 15.8s\tremaining: 48.6s\n",
            "123:\tlearn: 10658829877.9002209\ttest: 13747137359.8435078\tbest: 13739253513.2712803 (122)\ttotal: 15.9s\tremaining: 48.3s\n",
            "124:\tlearn: 10643301283.8483772\ttest: 13741654806.0614948\tbest: 13739253513.2712803 (122)\ttotal: 16s\tremaining: 48.1s\n",
            "125:\tlearn: 10633329471.8837948\ttest: 13741934458.5507050\tbest: 13739253513.2712803 (122)\ttotal: 16.1s\tremaining: 47.9s\n",
            "126:\tlearn: 10596967440.2197113\ttest: 13742632758.3786526\tbest: 13739253513.2712803 (122)\ttotal: 16.2s\tremaining: 47.6s\n",
            "127:\tlearn: 10585705679.0440903\ttest: 13744639266.9728165\tbest: 13739253513.2712803 (122)\ttotal: 16.3s\tremaining: 47.4s\n",
            "128:\tlearn: 10572114484.2228241\ttest: 13742829861.8403931\tbest: 13739253513.2712803 (122)\ttotal: 16.4s\tremaining: 47.2s\n",
            "129:\tlearn: 10545482403.1543236\ttest: 13723281606.9784412\tbest: 13723281606.9784412 (129)\ttotal: 16.5s\tremaining: 47s\n",
            "130:\tlearn: 10525639027.6753826\ttest: 13715246859.1860657\tbest: 13715246859.1860657 (130)\ttotal: 16.6s\tremaining: 46.8s\n",
            "131:\tlearn: 10513895448.7011833\ttest: 13712777950.9372520\tbest: 13712777950.9372520 (131)\ttotal: 16.7s\tremaining: 46.5s\n",
            "132:\tlearn: 10491615112.2187023\ttest: 13692385448.1724949\tbest: 13692385448.1724949 (132)\ttotal: 16.8s\tremaining: 46.3s\n",
            "133:\tlearn: 10476336681.2710323\ttest: 13686650352.9376850\tbest: 13686650352.9376850 (133)\ttotal: 16.9s\tremaining: 46.1s\n",
            "134:\tlearn: 10415153445.0294380\ttest: 13679985723.3067474\tbest: 13679985723.3067474 (134)\ttotal: 17s\tremaining: 45.9s\n",
            "135:\tlearn: 10397780585.6842937\ttest: 13673966654.4951305\tbest: 13673966654.4951305 (135)\ttotal: 17.1s\tremaining: 45.9s\n",
            "136:\tlearn: 10381664512.8495502\ttest: 13667777807.4277763\tbest: 13667777807.4277763 (136)\ttotal: 17.3s\tremaining: 45.9s\n",
            "137:\tlearn: 10366617540.9981880\ttest: 13666744365.3155842\tbest: 13666744365.3155842 (137)\ttotal: 17.5s\tremaining: 45.9s\n",
            "138:\tlearn: 10340634960.5591736\ttest: 13648429124.3693695\tbest: 13648429124.3693695 (138)\ttotal: 17.7s\tremaining: 46s\n",
            "139:\tlearn: 10328512917.6076565\ttest: 13648130018.9695587\tbest: 13648130018.9695587 (139)\ttotal: 17.9s\tremaining: 46s\n",
            "140:\tlearn: 10316226108.7831287\ttest: 13646781912.1271305\tbest: 13646781912.1271305 (140)\ttotal: 18.1s\tremaining: 46s\n",
            "141:\tlearn: 10309739824.7811127\ttest: 13645879253.1576672\tbest: 13645879253.1576672 (141)\ttotal: 18.3s\tremaining: 46.1s\n",
            "142:\tlearn: 10295415714.7414265\ttest: 13641484330.9870415\tbest: 13641484330.9870415 (142)\ttotal: 18.5s\tremaining: 46.1s\n",
            "143:\tlearn: 10277899982.3825531\ttest: 13628880944.2410240\tbest: 13628880944.2410240 (143)\ttotal: 18.7s\tremaining: 46.1s\n",
            "144:\tlearn: 10259169638.5092716\ttest: 13619498518.3155346\tbest: 13619498518.3155346 (144)\ttotal: 18.8s\tremaining: 46.1s\n",
            "145:\tlearn: 10250664238.4006672\ttest: 13620289431.7476597\tbest: 13619498518.3155346 (144)\ttotal: 19s\tremaining: 46.1s\n",
            "146:\tlearn: 10242713685.0430698\ttest: 13621754412.1806507\tbest: 13619498518.3155346 (144)\ttotal: 19.2s\tremaining: 46.2s\n",
            "147:\tlearn: 10215053414.0099754\ttest: 13616267737.3675938\tbest: 13616267737.3675938 (147)\ttotal: 19.4s\tremaining: 46.2s\n",
            "148:\tlearn: 10205167522.3416901\ttest: 13614238660.1167278\tbest: 13614238660.1167278 (148)\ttotal: 19.6s\tremaining: 46.2s\n",
            "149:\tlearn: 10195570889.2910595\ttest: 13608903253.7998657\tbest: 13608903253.7998657 (149)\ttotal: 19.9s\tremaining: 46.4s\n",
            "150:\tlearn: 10129783750.2977428\ttest: 13602744201.5823879\tbest: 13602744201.5823879 (150)\ttotal: 20.2s\tremaining: 46.6s\n",
            "151:\tlearn: 10120788675.5235100\ttest: 13601235399.3738327\tbest: 13601235399.3738327 (151)\ttotal: 20.5s\tremaining: 46.8s\n",
            "152:\tlearn: 10054043288.9070015\ttest: 13594255418.9328995\tbest: 13594255418.9328995 (152)\ttotal: 20.7s\tremaining: 47s\n",
            "153:\tlearn: 10051331077.5586395\ttest: 13594800859.3429394\tbest: 13594255418.9328995 (152)\ttotal: 20.8s\tremaining: 46.7s\n",
            "154:\tlearn: 10030866904.6671028\ttest: 13586619069.4910278\tbest: 13586619069.4910278 (154)\ttotal: 21s\tremaining: 46.7s\n",
            "155:\tlearn: 10023412235.2443390\ttest: 13583352999.8862610\tbest: 13583352999.8862610 (155)\ttotal: 21.3s\tremaining: 46.9s\n",
            "156:\tlearn: 10016404559.6057739\ttest: 13581799425.0426331\tbest: 13581799425.0426331 (156)\ttotal: 21.6s\tremaining: 47.1s\n",
            "157:\tlearn: 10005785819.3930454\ttest: 13584237066.6796894\tbest: 13581799425.0426331 (156)\ttotal: 21.8s\tremaining: 47.2s\n",
            "158:\tlearn: 9981454893.0861568\ttest: 13561065269.5258541\tbest: 13561065269.5258541 (158)\ttotal: 22.1s\tremaining: 47.4s\n",
            "159:\tlearn: 9975014128.5217152\ttest: 13562233110.3660698\tbest: 13561065269.5258541 (158)\ttotal: 22.3s\tremaining: 47.5s\n",
            "160:\tlearn: 9952842832.7691269\ttest: 13562454792.4496460\tbest: 13561065269.5258541 (158)\ttotal: 22.5s\tremaining: 47.5s\n",
            "161:\tlearn: 9942531988.8431911\ttest: 13564546074.9822598\tbest: 13561065269.5258541 (158)\ttotal: 22.7s\tremaining: 47.4s\n",
            "162:\tlearn: 9938229868.1383610\ttest: 13564392883.5197563\tbest: 13561065269.5258541 (158)\ttotal: 22.8s\tremaining: 47.2s\n",
            "163:\tlearn: 9922020240.8246918\ttest: 13567479694.3634224\tbest: 13561065269.5258541 (158)\ttotal: 23s\tremaining: 47.2s\n",
            "164:\tlearn: 9914935444.9368687\ttest: 13569073943.2180634\tbest: 13561065269.5258541 (158)\ttotal: 23.3s\tremaining: 47.2s\n",
            "165:\tlearn: 9902324079.4873810\ttest: 13568082388.9919586\tbest: 13561065269.5258541 (158)\ttotal: 23.5s\tremaining: 47.3s\n",
            "166:\tlearn: 9848971146.6970711\ttest: 13566334006.3218040\tbest: 13561065269.5258541 (158)\ttotal: 23.7s\tremaining: 47.3s\n",
            "167:\tlearn: 9839107923.6311874\ttest: 13567170437.4649067\tbest: 13561065269.5258541 (158)\ttotal: 23.9s\tremaining: 47.3s\n",
            "168:\tlearn: 9809423383.2784920\ttest: 13556576745.4694710\tbest: 13556576745.4694710 (168)\ttotal: 24.2s\tremaining: 47.4s\n",
            "169:\tlearn: 9789823435.2558670\ttest: 13548504155.0006866\tbest: 13548504155.0006866 (169)\ttotal: 24.5s\tremaining: 47.6s\n",
            "170:\tlearn: 9779271536.7688656\ttest: 13548203141.2859688\tbest: 13548203141.2859688 (170)\ttotal: 24.9s\tremaining: 47.9s\n",
            "171:\tlearn: 9757812844.6396008\ttest: 13539438244.4966545\tbest: 13539438244.4966545 (171)\ttotal: 25.2s\tremaining: 48.1s\n",
            "172:\tlearn: 9750010441.3201942\ttest: 13536027839.3804874\tbest: 13536027839.3804874 (172)\ttotal: 25.4s\tremaining: 48.1s\n",
            "173:\tlearn: 9741306766.3060150\ttest: 13536148128.6825066\tbest: 13536027839.3804874 (172)\ttotal: 25.7s\tremaining: 48.1s\n",
            "174:\tlearn: 9721211659.3618069\ttest: 13539732341.7064362\tbest: 13536027839.3804874 (172)\ttotal: 25.9s\tremaining: 48.1s\n",
            "175:\tlearn: 9709950713.1454220\ttest: 13533964798.1405640\tbest: 13533964798.1405640 (175)\ttotal: 26.1s\tremaining: 48.1s\n",
            "176:\tlearn: 9693817980.6128693\ttest: 13528652874.3608360\tbest: 13528652874.3608360 (176)\ttotal: 26.3s\tremaining: 48s\n",
            "177:\tlearn: 9687791762.3208046\ttest: 13529425339.0083675\tbest: 13528652874.3608360 (176)\ttotal: 26.6s\tremaining: 48.1s\n",
            "178:\tlearn: 9671696970.6649132\ttest: 13526690484.0973835\tbest: 13526690484.0973835 (178)\ttotal: 26.8s\tremaining: 48s\n",
            "179:\tlearn: 9655693390.8566875\ttest: 13525900421.1925697\tbest: 13525900421.1925697 (179)\ttotal: 27s\tremaining: 48s\n",
            "180:\tlearn: 9644458262.2646885\ttest: 13520282730.9473171\tbest: 13520282730.9473171 (180)\ttotal: 27.2s\tremaining: 47.9s\n",
            "181:\tlearn: 9622107276.5954838\ttest: 13508877301.5754566\tbest: 13508877301.5754566 (181)\ttotal: 27.4s\tremaining: 47.9s\n",
            "182:\tlearn: 9615780034.1679516\ttest: 13507549848.7282047\tbest: 13507549848.7282047 (182)\ttotal: 27.7s\tremaining: 47.9s\n",
            "183:\tlearn: 9595208272.5495262\ttest: 13506512992.1413574\tbest: 13506512992.1413574 (183)\ttotal: 27.9s\tremaining: 47.9s\n",
            "184:\tlearn: 9585793079.8701916\ttest: 13507397409.5621033\tbest: 13506512992.1413574 (183)\ttotal: 28.1s\tremaining: 47.9s\n",
            "185:\tlearn: 9579836375.1758537\ttest: 13505199342.6909046\tbest: 13505199342.6909046 (185)\ttotal: 28.4s\tremaining: 47.9s\n",
            "186:\tlearn: 9570600014.8545742\ttest: 13502432793.6098461\tbest: 13502432793.6098461 (186)\ttotal: 28.6s\tremaining: 47.9s\n",
            "187:\tlearn: 9562068596.1861858\ttest: 13494954853.5394878\tbest: 13494954853.5394878 (187)\ttotal: 28.8s\tremaining: 47.7s\n",
            "188:\tlearn: 9560707160.4340935\ttest: 13494308615.2112961\tbest: 13494308615.2112961 (188)\ttotal: 28.8s\tremaining: 47.4s\n",
            "189:\tlearn: 9545672400.5430946\ttest: 13489823534.0195751\tbest: 13489823534.0195751 (189)\ttotal: 28.9s\tremaining: 47.1s\n",
            "190:\tlearn: 9542037533.5950737\ttest: 13490371810.5772190\tbest: 13489823534.0195751 (189)\ttotal: 29.1s\tremaining: 47s\n",
            "191:\tlearn: 9521030962.7484341\ttest: 13479484858.9159908\tbest: 13479484858.9159908 (191)\ttotal: 29.3s\tremaining: 47s\n",
            "192:\tlearn: 9519419661.1262760\ttest: 13479828920.0619488\tbest: 13479484858.9159908 (191)\ttotal: 29.4s\tremaining: 46.8s\n",
            "193:\tlearn: 9510686720.8288040\ttest: 13479444522.5495625\tbest: 13479444522.5495625 (193)\ttotal: 29.7s\tremaining: 46.8s\n",
            "194:\tlearn: 9490382476.8447075\ttest: 13471364941.8319225\tbest: 13471364941.8319225 (194)\ttotal: 29.9s\tremaining: 46.7s\n",
            "195:\tlearn: 9477080607.0561066\ttest: 13471658248.3875313\tbest: 13471364941.8319225 (194)\ttotal: 30s\tremaining: 46.6s\n",
            "196:\tlearn: 9470668527.4692860\ttest: 13471113988.6372681\tbest: 13471113988.6372681 (196)\ttotal: 30.2s\tremaining: 46.5s\n",
            "197:\tlearn: 9462918044.2955780\ttest: 13468826537.3932171\tbest: 13468826537.3932171 (197)\ttotal: 30.4s\tremaining: 46.4s\n",
            "198:\tlearn: 9448442845.2899265\ttest: 13467499014.3766804\tbest: 13467499014.3766804 (198)\ttotal: 30.6s\tremaining: 46.3s\n",
            "199:\tlearn: 9397671624.4396629\ttest: 13452648361.4634495\tbest: 13452648361.4634495 (199)\ttotal: 30.9s\tremaining: 46.4s\n",
            "200:\tlearn: 9380049959.3965530\ttest: 13450811390.5460052\tbest: 13450811390.5460052 (200)\ttotal: 31.1s\tremaining: 46.3s\n",
            "201:\tlearn: 9367575535.6848660\ttest: 13445614979.4487514\tbest: 13445614979.4487514 (201)\ttotal: 31.3s\tremaining: 46.2s\n",
            "202:\tlearn: 9352451716.1713676\ttest: 13441839536.1575031\tbest: 13441839536.1575031 (202)\ttotal: 31.7s\tremaining: 46.3s\n",
            "203:\tlearn: 9346768935.8725586\ttest: 13438654983.2230625\tbest: 13438654983.2230625 (203)\ttotal: 31.9s\tremaining: 46.3s\n",
            "204:\tlearn: 9336825019.6299725\ttest: 13442549464.5827980\tbest: 13438654983.2230625 (203)\ttotal: 32.1s\tremaining: 46.2s\n",
            "205:\tlearn: 9332898674.1693439\ttest: 13441577939.0303040\tbest: 13438654983.2230625 (203)\ttotal: 32.3s\tremaining: 46.1s\n",
            "206:\tlearn: 9319675609.9901485\ttest: 13438037143.4148903\tbest: 13438037143.4148903 (206)\ttotal: 32.5s\tremaining: 46.1s\n",
            "207:\tlearn: 9305649284.6678028\ttest: 13440611669.4543915\tbest: 13438037143.4148903 (206)\ttotal: 32.7s\tremaining: 45.9s\n",
            "208:\tlearn: 9294560669.3329144\ttest: 13435429187.1443233\tbest: 13435429187.1443233 (208)\ttotal: 32.9s\tremaining: 45.8s\n",
            "209:\tlearn: 9282001478.9779263\ttest: 13436234737.4195442\tbest: 13435429187.1443233 (208)\ttotal: 33s\tremaining: 45.6s\n",
            "210:\tlearn: 9276271104.6320763\ttest: 13439465611.1273861\tbest: 13435429187.1443233 (208)\ttotal: 33.2s\tremaining: 45.5s\n",
            "211:\tlearn: 9266381790.5948353\ttest: 13435218075.9545746\tbest: 13435218075.9545746 (211)\ttotal: 33.4s\tremaining: 45.3s\n",
            "212:\tlearn: 9213050496.0513401\ttest: 13427444290.0887203\tbest: 13427444290.0887203 (212)\ttotal: 33.6s\tremaining: 45.3s\n",
            "213:\tlearn: 9199458643.7429371\ttest: 13424229994.1245422\tbest: 13424229994.1245422 (213)\ttotal: 33.7s\tremaining: 45.1s\n",
            "214:\tlearn: 9192644488.1874809\ttest: 13421691362.1682606\tbest: 13421691362.1682606 (214)\ttotal: 33.9s\tremaining: 45s\n",
            "215:\tlearn: 9186568038.4413395\ttest: 13420562553.3332310\tbest: 13420562553.3332310 (215)\ttotal: 34.1s\tremaining: 44.9s\n",
            "216:\tlearn: 9182056531.0234737\ttest: 13417988274.4371223\tbest: 13417988274.4371223 (216)\ttotal: 34.3s\tremaining: 44.7s\n",
            "217:\tlearn: 9175458756.1188221\ttest: 13420746321.4664593\tbest: 13417988274.4371223 (216)\ttotal: 34.4s\tremaining: 44.5s\n",
            "218:\tlearn: 9162762379.1906548\ttest: 13420504098.4982471\tbest: 13417988274.4371223 (216)\ttotal: 34.5s\tremaining: 44.3s\n",
            "219:\tlearn: 9144363195.9271126\ttest: 13420078016.1601696\tbest: 13417988274.4371223 (216)\ttotal: 34.6s\tremaining: 44.1s\n",
            "220:\tlearn: 9132072532.2952499\ttest: 13412237020.1426392\tbest: 13412237020.1426392 (220)\ttotal: 34.7s\tremaining: 43.8s\n",
            "221:\tlearn: 9117060422.0187950\ttest: 13409503118.2621536\tbest: 13409503118.2621536 (221)\ttotal: 34.8s\tremaining: 43.6s\n",
            "222:\tlearn: 9100309994.5014172\ttest: 13410737887.4289265\tbest: 13409503118.2621536 (221)\ttotal: 34.9s\tremaining: 43.4s\n",
            "223:\tlearn: 9085464884.5043774\ttest: 13407685707.3560982\tbest: 13407685707.3560982 (223)\ttotal: 35s\tremaining: 43.1s\n",
            "224:\tlearn: 9067863943.2264996\ttest: 13382489704.5053654\tbest: 13382489704.5053654 (224)\ttotal: 35.1s\tremaining: 42.9s\n",
            "225:\tlearn: 9053903450.3243694\ttest: 13378695697.8668880\tbest: 13378695697.8668880 (225)\ttotal: 35.2s\tremaining: 42.6s\n",
            "226:\tlearn: 9046478021.6115799\ttest: 13381171013.1757641\tbest: 13378695697.8668880 (225)\ttotal: 35.3s\tremaining: 42.4s\n",
            "227:\tlearn: 9028461808.0511513\ttest: 13382415406.7021866\tbest: 13378695697.8668880 (225)\ttotal: 35.4s\tremaining: 42.2s\n",
            "228:\tlearn: 9013423485.4502010\ttest: 13383830645.5894127\tbest: 13378695697.8668880 (225)\ttotal: 35.5s\tremaining: 42s\n",
            "229:\tlearn: 9009366927.2311840\ttest: 13381750216.3194561\tbest: 13378695697.8668880 (225)\ttotal: 35.6s\tremaining: 41.8s\n",
            "230:\tlearn: 8989931135.3128815\ttest: 13387106636.0070820\tbest: 13378695697.8668880 (225)\ttotal: 35.7s\tremaining: 41.5s\n",
            "231:\tlearn: 8975687725.8767548\ttest: 13386619873.4667892\tbest: 13378695697.8668880 (225)\ttotal: 35.8s\tremaining: 41.3s\n",
            "232:\tlearn: 8965686823.0603008\ttest: 13383266887.8329048\tbest: 13378695697.8668880 (225)\ttotal: 35.9s\tremaining: 41.1s\n",
            "233:\tlearn: 8959035813.0224800\ttest: 13383482516.1993465\tbest: 13378695697.8668880 (225)\ttotal: 36s\tremaining: 40.9s\n",
            "234:\tlearn: 8942948872.7300892\ttest: 13380482160.2456360\tbest: 13378695697.8668880 (225)\ttotal: 36s\tremaining: 40.6s\n",
            "235:\tlearn: 8932667744.5047741\ttest: 13373258688.1408615\tbest: 13373258688.1408615 (235)\ttotal: 36.1s\tremaining: 40.4s\n",
            "236:\tlearn: 8924051219.9533844\ttest: 13367687725.3789558\tbest: 13367687725.3789558 (236)\ttotal: 36.2s\tremaining: 40.2s\n",
            "237:\tlearn: 8915913374.2218513\ttest: 13369391616.8700294\tbest: 13367687725.3789558 (236)\ttotal: 36.3s\tremaining: 40s\n",
            "238:\tlearn: 8903685386.7701359\ttest: 13360021651.5216084\tbest: 13360021651.5216084 (238)\ttotal: 36.4s\tremaining: 39.8s\n",
            "239:\tlearn: 8899636583.5049019\ttest: 13362424205.9930592\tbest: 13360021651.5216084 (238)\ttotal: 36.5s\tremaining: 39.6s\n",
            "240:\tlearn: 8890842790.0549221\ttest: 13363391447.0419331\tbest: 13360021651.5216084 (238)\ttotal: 36.6s\tremaining: 39.4s\n",
            "241:\tlearn: 8872481827.6026535\ttest: 13364352820.1809864\tbest: 13360021651.5216084 (238)\ttotal: 36.7s\tremaining: 39.2s\n",
            "242:\tlearn: 8862294417.6412678\ttest: 13365228028.7708187\tbest: 13360021651.5216084 (238)\ttotal: 36.8s\tremaining: 39s\n",
            "243:\tlearn: 8816375327.9271374\ttest: 13365810272.6030235\tbest: 13360021651.5216084 (238)\ttotal: 36.9s\tremaining: 38.8s\n",
            "244:\tlearn: 8807447020.9595051\ttest: 13363486084.1987057\tbest: 13360021651.5216084 (238)\ttotal: 37s\tremaining: 38.5s\n",
            "245:\tlearn: 8795870483.4616737\ttest: 13363383177.3887177\tbest: 13360021651.5216084 (238)\ttotal: 37.1s\tremaining: 38.3s\n",
            "246:\tlearn: 8778439544.6084557\ttest: 13363128275.3842869\tbest: 13360021651.5216084 (238)\ttotal: 37.2s\tremaining: 38.1s\n",
            "247:\tlearn: 8771364240.7383881\ttest: 13361502569.7122669\tbest: 13360021651.5216084 (238)\ttotal: 37.3s\tremaining: 37.9s\n",
            "248:\tlearn: 8761097602.3780231\ttest: 13354609707.6213856\tbest: 13354609707.6213856 (248)\ttotal: 37.4s\tremaining: 37.7s\n",
            "249:\tlearn: 8751695668.6138191\ttest: 13358082716.1955528\tbest: 13354609707.6213856 (248)\ttotal: 37.5s\tremaining: 37.5s\n",
            "250:\tlearn: 8741778038.3829784\ttest: 13353333758.6549683\tbest: 13353333758.6549683 (250)\ttotal: 37.6s\tremaining: 37.3s\n",
            "251:\tlearn: 8732603030.3188057\ttest: 13352988369.2358150\tbest: 13352988369.2358150 (251)\ttotal: 37.7s\tremaining: 37.1s\n",
            "252:\tlearn: 8718793532.9855461\ttest: 13351193204.1007977\tbest: 13351193204.1007977 (252)\ttotal: 37.8s\tremaining: 36.9s\n",
            "253:\tlearn: 8716240262.7750187\ttest: 13351596992.4154701\tbest: 13351193204.1007977 (252)\ttotal: 37.9s\tremaining: 36.7s\n",
            "254:\tlearn: 8701653584.3794250\ttest: 13352760930.4973202\tbest: 13351193204.1007977 (252)\ttotal: 38s\tremaining: 36.5s\n",
            "255:\tlearn: 8684575249.7412930\ttest: 13337206858.6915512\tbest: 13337206858.6915512 (255)\ttotal: 38.1s\tremaining: 36.3s\n",
            "256:\tlearn: 8678003534.3394470\ttest: 13335227037.7330914\tbest: 13335227037.7330914 (256)\ttotal: 38.2s\tremaining: 36.1s\n",
            "257:\tlearn: 8667467320.8535843\ttest: 13332303440.2442513\tbest: 13332303440.2442513 (257)\ttotal: 38.3s\tremaining: 35.9s\n",
            "258:\tlearn: 8661081116.0974541\ttest: 13331995751.4275627\tbest: 13331995751.4275627 (258)\ttotal: 38.4s\tremaining: 35.8s\n",
            "259:\tlearn: 8652980540.1805992\ttest: 13331844700.9551201\tbest: 13331844700.9551201 (259)\ttotal: 38.5s\tremaining: 35.6s\n",
            "260:\tlearn: 8638078957.5320778\ttest: 13323816169.4657516\tbest: 13323816169.4657516 (260)\ttotal: 38.6s\tremaining: 35.4s\n",
            "261:\tlearn: 8627807977.9779491\ttest: 13326630067.0084724\tbest: 13323816169.4657516 (260)\ttotal: 38.7s\tremaining: 35.2s\n",
            "262:\tlearn: 8615377436.5467949\ttest: 13328472602.3517361\tbest: 13323816169.4657516 (260)\ttotal: 38.8s\tremaining: 35s\n",
            "263:\tlearn: 8599790710.1366425\ttest: 13330399582.7514668\tbest: 13323816169.4657516 (260)\ttotal: 38.9s\tremaining: 34.8s\n",
            "264:\tlearn: 8585728560.0188494\ttest: 13331275526.9797707\tbest: 13323816169.4657516 (260)\ttotal: 39s\tremaining: 34.6s\n",
            "265:\tlearn: 8571888441.3989096\ttest: 13330968501.5276108\tbest: 13323816169.4657516 (260)\ttotal: 39.1s\tremaining: 34.4s\n",
            "266:\tlearn: 8558887344.2033710\ttest: 13334094120.3176937\tbest: 13323816169.4657516 (260)\ttotal: 39.2s\tremaining: 34.2s\n",
            "267:\tlearn: 8546346455.5937052\ttest: 13335071980.3608379\tbest: 13323816169.4657516 (260)\ttotal: 39.3s\tremaining: 34s\n",
            "268:\tlearn: 8539429303.6888170\ttest: 13334701148.5757656\tbest: 13323816169.4657516 (260)\ttotal: 39.4s\tremaining: 33.8s\n",
            "269:\tlearn: 8520182837.1814432\ttest: 13334990925.2673378\tbest: 13323816169.4657516 (260)\ttotal: 39.5s\tremaining: 33.6s\n",
            "270:\tlearn: 8508382371.8779669\ttest: 13336283988.9071236\tbest: 13323816169.4657516 (260)\ttotal: 39.6s\tremaining: 33.5s\n",
            "271:\tlearn: 8496902523.5754986\ttest: 13337128784.5129852\tbest: 13323816169.4657516 (260)\ttotal: 39.7s\tremaining: 33.3s\n",
            "272:\tlearn: 8489507267.2954693\ttest: 13334999014.6666183\tbest: 13323816169.4657516 (260)\ttotal: 39.8s\tremaining: 33.1s\n",
            "273:\tlearn: 8481123114.5639477\ttest: 13334861486.8276482\tbest: 13323816169.4657516 (260)\ttotal: 39.9s\tremaining: 32.9s\n",
            "274:\tlearn: 8469194647.3428669\ttest: 13335979794.1516609\tbest: 13323816169.4657516 (260)\ttotal: 40s\tremaining: 32.7s\n",
            "275:\tlearn: 8461864844.1512241\ttest: 13334798292.0683079\tbest: 13323816169.4657516 (260)\ttotal: 40.1s\tremaining: 32.5s\n",
            "276:\tlearn: 8453447999.2030344\ttest: 13332244720.8105068\tbest: 13323816169.4657516 (260)\ttotal: 40.2s\tremaining: 32.3s\n",
            "277:\tlearn: 8446439432.0763130\ttest: 13331271487.0437603\tbest: 13323816169.4657516 (260)\ttotal: 40.3s\tremaining: 32.1s\n",
            "278:\tlearn: 8434491554.9775085\ttest: 13330338669.2718544\tbest: 13323816169.4657516 (260)\ttotal: 40.3s\tremaining: 32s\n",
            "279:\tlearn: 8425335791.9268684\ttest: 13331716755.4339371\tbest: 13323816169.4657516 (260)\ttotal: 40.4s\tremaining: 31.8s\n",
            "280:\tlearn: 8420987488.3856468\ttest: 13332998515.9833717\tbest: 13323816169.4657516 (260)\ttotal: 40.5s\tremaining: 31.6s\n",
            "281:\tlearn: 8406091831.2810307\ttest: 13319681652.9069176\tbest: 13319681652.9069176 (281)\ttotal: 40.7s\tremaining: 31.4s\n",
            "282:\tlearn: 8395208733.4721031\ttest: 13320948652.9658775\tbest: 13319681652.9069176 (281)\ttotal: 40.8s\tremaining: 31.3s\n",
            "283:\tlearn: 8389888305.0485716\ttest: 13320843959.8368282\tbest: 13319681652.9069176 (281)\ttotal: 40.9s\tremaining: 31.1s\n",
            "284:\tlearn: 8383051099.4690628\ttest: 13317582581.4782505\tbest: 13317582581.4782505 (284)\ttotal: 41s\tremaining: 30.9s\n",
            "285:\tlearn: 8378516602.1292906\ttest: 13318622891.9424973\tbest: 13317582581.4782505 (284)\ttotal: 41.1s\tremaining: 30.7s\n",
            "286:\tlearn: 8369267285.5939569\ttest: 13319742556.4994888\tbest: 13317582581.4782505 (284)\ttotal: 41.2s\tremaining: 30.6s\n",
            "287:\tlearn: 8352025345.7314291\ttest: 13313422567.2614689\tbest: 13313422567.2614689 (287)\ttotal: 41.3s\tremaining: 30.4s\n",
            "288:\tlearn: 8348928668.9078436\ttest: 13314207989.0058117\tbest: 13313422567.2614689 (287)\ttotal: 41.4s\tremaining: 30.2s\n",
            "289:\tlearn: 8340213538.1357269\ttest: 13302708879.5784569\tbest: 13302708879.5784569 (289)\ttotal: 41.5s\tremaining: 30s\n",
            "290:\tlearn: 8336926305.2511864\ttest: 13303906057.9403820\tbest: 13302708879.5784569 (289)\ttotal: 41.6s\tremaining: 29.8s\n",
            "291:\tlearn: 8334294455.4986944\ttest: 13303433586.1965790\tbest: 13302708879.5784569 (289)\ttotal: 41.7s\tremaining: 29.7s\n",
            "292:\tlearn: 8321390667.1632061\ttest: 13303682426.2210541\tbest: 13302708879.5784569 (289)\ttotal: 41.8s\tremaining: 29.5s\n",
            "293:\tlearn: 8311983941.2246180\ttest: 13303741434.8743572\tbest: 13302708879.5784569 (289)\ttotal: 41.9s\tremaining: 29.3s\n",
            "294:\tlearn: 8294348605.0906038\ttest: 13286901155.4084549\tbest: 13286901155.4084549 (294)\ttotal: 42s\tremaining: 29.2s\n",
            "295:\tlearn: 8282920127.7963133\ttest: 13288287530.8820972\tbest: 13286901155.4084549 (294)\ttotal: 42.1s\tremaining: 29s\n",
            "296:\tlearn: 8280678044.0391788\ttest: 13287120796.4487247\tbest: 13286901155.4084549 (294)\ttotal: 42.2s\tremaining: 28.8s\n",
            "297:\tlearn: 8268326952.6294565\ttest: 13284672362.1315861\tbest: 13284672362.1315861 (297)\ttotal: 42.3s\tremaining: 28.6s\n",
            "298:\tlearn: 8262610997.1767387\ttest: 13283334080.1414909\tbest: 13283334080.1414909 (298)\ttotal: 42.4s\tremaining: 28.5s\n",
            "299:\tlearn: 8231620949.0894861\ttest: 13280592440.1786518\tbest: 13280592440.1786518 (299)\ttotal: 42.5s\tremaining: 28.3s\n",
            "300:\tlearn: 8219740291.1145344\ttest: 13277758456.4005871\tbest: 13277758456.4005871 (300)\ttotal: 42.6s\tremaining: 28.1s\n",
            "301:\tlearn: 8214324623.8460798\ttest: 13276454948.6185093\tbest: 13276454948.6185093 (301)\ttotal: 42.7s\tremaining: 28s\n",
            "302:\tlearn: 8211832377.6686478\ttest: 13275786526.9191570\tbest: 13275786526.9191570 (302)\ttotal: 42.8s\tremaining: 27.8s\n",
            "303:\tlearn: 8164428709.8283110\ttest: 13271757324.5039692\tbest: 13271757324.5039692 (303)\ttotal: 42.9s\tremaining: 27.7s\n",
            "304:\tlearn: 8151253707.9256268\ttest: 13262218464.7211800\tbest: 13262218464.7211800 (304)\ttotal: 43s\tremaining: 27.5s\n",
            "305:\tlearn: 8137471015.2171497\ttest: 13260316713.1345921\tbest: 13260316713.1345921 (305)\ttotal: 43.1s\tremaining: 27.3s\n",
            "306:\tlearn: 8132237717.3103962\ttest: 13260922061.0228615\tbest: 13260316713.1345921 (305)\ttotal: 43.2s\tremaining: 27.1s\n",
            "307:\tlearn: 8121528063.3364439\ttest: 13263836286.2884407\tbest: 13260316713.1345921 (305)\ttotal: 43.3s\tremaining: 27s\n",
            "308:\tlearn: 8093560326.9482574\ttest: 13261504101.1602097\tbest: 13260316713.1345921 (305)\ttotal: 43.4s\tremaining: 26.8s\n",
            "309:\tlearn: 8088533598.2639017\ttest: 13260321313.8207607\tbest: 13260316713.1345921 (305)\ttotal: 43.5s\tremaining: 26.6s\n",
            "310:\tlearn: 8079150487.4351501\ttest: 13259417982.3479633\tbest: 13259417982.3479633 (310)\ttotal: 43.6s\tremaining: 26.5s\n",
            "311:\tlearn: 8074372265.3367100\ttest: 13258310077.6857357\tbest: 13258310077.6857357 (311)\ttotal: 43.7s\tremaining: 26.3s\n",
            "312:\tlearn: 8065157725.4562092\ttest: 13256468127.1670628\tbest: 13256468127.1670628 (312)\ttotal: 43.8s\tremaining: 26.2s\n",
            "313:\tlearn: 8024986991.0263004\ttest: 13249749864.3276081\tbest: 13249749864.3276081 (313)\ttotal: 43.9s\tremaining: 26s\n",
            "314:\tlearn: 8003414538.7797985\ttest: 13248031003.6264248\tbest: 13248031003.6264248 (314)\ttotal: 44s\tremaining: 25.8s\n",
            "315:\tlearn: 8000632523.3638105\ttest: 13248678919.9552727\tbest: 13248031003.6264248 (314)\ttotal: 44.1s\tremaining: 25.7s\n",
            "316:\tlearn: 7965472487.1429205\ttest: 13243790568.5052471\tbest: 13243790568.5052471 (316)\ttotal: 44.2s\tremaining: 25.5s\n",
            "317:\tlearn: 7959395965.2610321\ttest: 13244098434.7734737\tbest: 13243790568.5052471 (316)\ttotal: 44.4s\tremaining: 25.4s\n",
            "318:\tlearn: 7935116770.8790674\ttest: 13241988777.6876068\tbest: 13241988777.6876068 (318)\ttotal: 44.6s\tremaining: 25.3s\n",
            "319:\tlearn: 7926551936.8689346\ttest: 13243016527.3482285\tbest: 13241988777.6876068 (318)\ttotal: 44.8s\tremaining: 25.2s\n",
            "320:\tlearn: 7903388811.9422178\ttest: 13241023841.5510139\tbest: 13241023841.5510139 (320)\ttotal: 45s\tremaining: 25.1s\n",
            "321:\tlearn: 7887023353.8481388\ttest: 13237007801.5429344\tbest: 13237007801.5429344 (321)\ttotal: 45.1s\tremaining: 24.9s\n",
            "322:\tlearn: 7878885079.5695105\ttest: 13234212446.5451336\tbest: 13234212446.5451336 (322)\ttotal: 45.3s\tremaining: 24.8s\n",
            "323:\tlearn: 7867846954.6990519\ttest: 13235609968.5327892\tbest: 13234212446.5451336 (322)\ttotal: 45.5s\tremaining: 24.7s\n",
            "324:\tlearn: 7857529011.3241348\ttest: 13234863311.3407650\tbest: 13234212446.5451336 (322)\ttotal: 45.6s\tremaining: 24.6s\n",
            "325:\tlearn: 7851819123.7937136\ttest: 13235237194.1463604\tbest: 13234212446.5451336 (322)\ttotal: 45.8s\tremaining: 24.5s\n",
            "326:\tlearn: 7843450606.3645792\ttest: 13228139515.4957886\tbest: 13228139515.4957886 (326)\ttotal: 46s\tremaining: 24.3s\n",
            "327:\tlearn: 7838067562.8110666\ttest: 13228497554.2424603\tbest: 13228139515.4957886 (326)\ttotal: 46.1s\tremaining: 24.2s\n",
            "328:\tlearn: 7825109555.8994131\ttest: 13222908627.8062649\tbest: 13222908627.8062649 (328)\ttotal: 46.3s\tremaining: 24.1s\n",
            "329:\tlearn: 7819979473.9300547\ttest: 13223324374.6497803\tbest: 13222908627.8062649 (328)\ttotal: 46.5s\tremaining: 23.9s\n",
            "330:\tlearn: 7813574205.0947142\ttest: 13221527272.1616306\tbest: 13221527272.1616306 (330)\ttotal: 46.6s\tremaining: 23.8s\n",
            "331:\tlearn: 7802894820.7660856\ttest: 13213664754.6058712\tbest: 13213664754.6058712 (331)\ttotal: 46.8s\tremaining: 23.7s\n",
            "332:\tlearn: 7795297810.1979742\ttest: 13213082456.0683193\tbest: 13213082456.0683193 (332)\ttotal: 47s\tremaining: 23.6s\n",
            "333:\tlearn: 7786985227.9448109\ttest: 13210148937.3535709\tbest: 13210148937.3535709 (333)\ttotal: 47.2s\tremaining: 23.4s\n",
            "334:\tlearn: 7777305194.8996191\ttest: 13210149410.9611740\tbest: 13210148937.3535709 (333)\ttotal: 47.4s\tremaining: 23.3s\n",
            "335:\tlearn: 7768194199.3547192\ttest: 13210329834.1941986\tbest: 13210148937.3535709 (333)\ttotal: 47.5s\tremaining: 23.2s\n",
            "336:\tlearn: 7746209589.1196890\ttest: 13208495670.9322052\tbest: 13208495670.9322052 (336)\ttotal: 47.7s\tremaining: 23.1s\n",
            "337:\tlearn: 7737634594.8399544\ttest: 13208835263.4141579\tbest: 13208495670.9322052 (336)\ttotal: 47.8s\tremaining: 22.9s\n",
            "338:\tlearn: 7726683365.0724154\ttest: 13209762781.1635132\tbest: 13208495670.9322052 (336)\ttotal: 47.9s\tremaining: 22.8s\n",
            "339:\tlearn: 7711903953.3323565\ttest: 13206835464.3879528\tbest: 13206835464.3879528 (339)\ttotal: 48s\tremaining: 22.6s\n",
            "340:\tlearn: 7697488609.8114796\ttest: 13204915481.5096951\tbest: 13204915481.5096951 (340)\ttotal: 48.1s\tremaining: 22.4s\n",
            "341:\tlearn: 7689737818.1143856\ttest: 13206000181.9479275\tbest: 13204915481.5096951 (340)\ttotal: 48.2s\tremaining: 22.3s\n",
            "342:\tlearn: 7680049722.1334496\ttest: 13198733971.7864399\tbest: 13198733971.7864399 (342)\ttotal: 48.3s\tremaining: 22.1s\n",
            "343:\tlearn: 7672121128.9178009\ttest: 13200164881.3331413\tbest: 13198733971.7864399 (342)\ttotal: 48.4s\tremaining: 21.9s\n",
            "344:\tlearn: 7664688130.2947330\ttest: 13201267994.0568676\tbest: 13198733971.7864399 (342)\ttotal: 48.5s\tremaining: 21.8s\n",
            "345:\tlearn: 7657554743.8483791\ttest: 13202369394.9575596\tbest: 13198733971.7864399 (342)\ttotal: 48.5s\tremaining: 21.6s\n",
            "346:\tlearn: 7644011341.7523823\ttest: 13192936138.3458385\tbest: 13192936138.3458385 (346)\ttotal: 48.6s\tremaining: 21.4s\n",
            "347:\tlearn: 7635086700.3588438\ttest: 13194524070.8407402\tbest: 13192936138.3458385 (346)\ttotal: 48.7s\tremaining: 21.3s\n",
            "348:\tlearn: 7628252665.1806536\ttest: 13195619174.6566849\tbest: 13192936138.3458385 (346)\ttotal: 48.8s\tremaining: 21.1s\n",
            "349:\tlearn: 7620794059.5819874\ttest: 13197529067.6500988\tbest: 13192936138.3458385 (346)\ttotal: 48.9s\tremaining: 21s\n",
            "350:\tlearn: 7618787374.8027430\ttest: 13198245493.3593140\tbest: 13192936138.3458385 (346)\ttotal: 49.1s\tremaining: 20.8s\n",
            "351:\tlearn: 7614288979.2664776\ttest: 13195545992.6993465\tbest: 13192936138.3458385 (346)\ttotal: 49.2s\tremaining: 20.7s\n",
            "352:\tlearn: 7607483285.3511162\ttest: 13197773908.8218899\tbest: 13192936138.3458385 (346)\ttotal: 49.2s\tremaining: 20.5s\n",
            "353:\tlearn: 7598859094.5381165\ttest: 13191068774.0769348\tbest: 13191068774.0769348 (353)\ttotal: 49.3s\tremaining: 20.3s\n",
            "354:\tlearn: 7584880098.4843960\ttest: 13191433447.6379414\tbest: 13191068774.0769348 (353)\ttotal: 49.4s\tremaining: 20.2s\n",
            "355:\tlearn: 7582007373.4138346\ttest: 13191394849.0849915\tbest: 13191068774.0769348 (353)\ttotal: 49.5s\tremaining: 20s\n",
            "356:\tlearn: 7570610716.6784611\ttest: 13182658989.6617088\tbest: 13182658989.6617088 (356)\ttotal: 49.6s\tremaining: 19.9s\n",
            "357:\tlearn: 7564724838.0169306\ttest: 13180069000.6334229\tbest: 13180069000.6334229 (357)\ttotal: 49.7s\tremaining: 19.7s\n",
            "358:\tlearn: 7558067799.5390606\ttest: 13183614374.7729664\tbest: 13180069000.6334229 (357)\ttotal: 49.8s\tremaining: 19.6s\n",
            "359:\tlearn: 7550063852.2724419\ttest: 13185341321.5626488\tbest: 13180069000.6334229 (357)\ttotal: 49.9s\tremaining: 19.4s\n",
            "360:\tlearn: 7537671853.6698895\ttest: 13177015497.1259823\tbest: 13177015497.1259823 (360)\ttotal: 50s\tremaining: 19.3s\n",
            "361:\tlearn: 7529590725.6590919\ttest: 13178633636.7151852\tbest: 13177015497.1259823 (360)\ttotal: 50.1s\tremaining: 19.1s\n",
            "362:\tlearn: 7523219567.5071611\ttest: 13179736851.5474758\tbest: 13177015497.1259823 (360)\ttotal: 50.2s\tremaining: 19s\n",
            "363:\tlearn: 7517056186.0953140\ttest: 13183151328.4905567\tbest: 13177015497.1259823 (360)\ttotal: 50.3s\tremaining: 18.8s\n",
            "364:\tlearn: 7505974994.1457710\ttest: 13177534584.6051140\tbest: 13177015497.1259823 (360)\ttotal: 50.4s\tremaining: 18.6s\n",
            "365:\tlearn: 7500753872.7142286\ttest: 13175943754.3627739\tbest: 13175943754.3627739 (365)\ttotal: 50.5s\tremaining: 18.5s\n",
            "366:\tlearn: 7491845843.8846550\ttest: 13176133966.6635647\tbest: 13175943754.3627739 (365)\ttotal: 50.6s\tremaining: 18.3s\n",
            "367:\tlearn: 7477158451.2265482\ttest: 13176588764.6871548\tbest: 13175943754.3627739 (365)\ttotal: 50.7s\tremaining: 18.2s\n",
            "368:\tlearn: 7471145751.0016117\ttest: 13177633654.5588017\tbest: 13175943754.3627739 (365)\ttotal: 50.7s\tremaining: 18s\n",
            "369:\tlearn: 7462692841.2383823\ttest: 13171107859.3289585\tbest: 13171107859.3289585 (369)\ttotal: 50.8s\tremaining: 17.9s\n",
            "370:\tlearn: 7450131752.0427513\ttest: 13171543973.1148167\tbest: 13171107859.3289585 (369)\ttotal: 50.9s\tremaining: 17.7s\n",
            "371:\tlearn: 7437032843.4893255\ttest: 13166798600.8557434\tbest: 13166798600.8557434 (371)\ttotal: 51s\tremaining: 17.6s\n",
            "372:\tlearn: 7430991287.2626963\ttest: 13169067064.6533031\tbest: 13166798600.8557434 (371)\ttotal: 51.1s\tremaining: 17.4s\n",
            "373:\tlearn: 7418781437.4839382\ttest: 13164477905.6064014\tbest: 13164477905.6064014 (373)\ttotal: 51.2s\tremaining: 17.3s\n",
            "374:\tlearn: 7413066354.1610050\ttest: 13165343221.2338085\tbest: 13164477905.6064014 (373)\ttotal: 51.3s\tremaining: 17.1s\n",
            "375:\tlearn: 7403305748.9745712\ttest: 13169446036.7124233\tbest: 13164477905.6064014 (373)\ttotal: 51.4s\tremaining: 17s\n",
            "376:\tlearn: 7395586119.1521826\ttest: 13166311390.8605671\tbest: 13164477905.6064014 (373)\ttotal: 51.5s\tremaining: 16.8s\n",
            "377:\tlearn: 7383572640.8868313\ttest: 13163571783.5229969\tbest: 13163571783.5229969 (377)\ttotal: 51.6s\tremaining: 16.7s\n",
            "378:\tlearn: 7373432448.4669323\ttest: 13158284838.1488495\tbest: 13158284838.1488495 (378)\ttotal: 51.7s\tremaining: 16.5s\n",
            "379:\tlearn: 7368999948.7734814\ttest: 13158547805.9405212\tbest: 13158284838.1488495 (378)\ttotal: 51.8s\tremaining: 16.4s\n",
            "380:\tlearn: 7363428757.4942970\ttest: 13160780170.6428337\tbest: 13158284838.1488495 (378)\ttotal: 51.9s\tremaining: 16.2s\n",
            "381:\tlearn: 7358074854.2824125\ttest: 13163820841.8810863\tbest: 13158284838.1488495 (378)\ttotal: 52.1s\tremaining: 16.1s\n",
            "382:\tlearn: 7352897616.8909254\ttest: 13161467726.4151688\tbest: 13158284838.1488495 (378)\ttotal: 52.2s\tremaining: 15.9s\n",
            "383:\tlearn: 7345002648.8810749\ttest: 13163542303.3857250\tbest: 13158284838.1488495 (378)\ttotal: 52.3s\tremaining: 15.8s\n",
            "384:\tlearn: 7341276329.9754715\ttest: 13163529742.9982872\tbest: 13158284838.1488495 (378)\ttotal: 52.4s\tremaining: 15.6s\n",
            "385:\tlearn: 7334367826.4853487\ttest: 13160631260.1119289\tbest: 13158284838.1488495 (378)\ttotal: 52.4s\tremaining: 15.5s\n",
            "386:\tlearn: 7327774214.8747435\ttest: 13157884375.0355740\tbest: 13157884375.0355740 (386)\ttotal: 52.5s\tremaining: 15.3s\n",
            "387:\tlearn: 7322858600.9828119\ttest: 13160139625.0148926\tbest: 13157884375.0355740 (386)\ttotal: 52.6s\tremaining: 15.2s\n",
            "388:\tlearn: 7315954970.4526892\ttest: 13154206639.6244831\tbest: 13154206639.6244831 (388)\ttotal: 52.7s\tremaining: 15s\n",
            "389:\tlearn: 7310799138.9146814\ttest: 13152793815.5467014\tbest: 13152793815.5467014 (389)\ttotal: 52.9s\tremaining: 14.9s\n",
            "390:\tlearn: 7300293657.8616409\ttest: 13153395767.2065945\tbest: 13152793815.5467014 (389)\ttotal: 53s\tremaining: 14.8s\n",
            "391:\tlearn: 7295847746.8760033\ttest: 13153618600.0892735\tbest: 13152793815.5467014 (389)\ttotal: 53.1s\tremaining: 14.6s\n",
            "392:\tlearn: 7292439948.6225176\ttest: 13153669015.9437561\tbest: 13152793815.5467014 (389)\ttotal: 53.2s\tremaining: 14.5s\n",
            "393:\tlearn: 7291326823.7340269\ttest: 13152887124.9083004\tbest: 13152793815.5467014 (389)\ttotal: 53.3s\tremaining: 14.3s\n",
            "394:\tlearn: 7281125471.9403553\ttest: 13150196696.8899403\tbest: 13150196696.8899403 (394)\ttotal: 53.4s\tremaining: 14.2s\n",
            "395:\tlearn: 7269536124.4734879\ttest: 13150611701.7704391\tbest: 13150196696.8899403 (394)\ttotal: 53.4s\tremaining: 14s\n",
            "396:\tlearn: 7261281170.5922604\ttest: 13141579402.5489597\tbest: 13141579402.5489597 (396)\ttotal: 53.5s\tremaining: 13.9s\n",
            "397:\tlearn: 7250035467.5110006\ttest: 13138802187.9434662\tbest: 13138802187.9434662 (397)\ttotal: 53.6s\tremaining: 13.7s\n",
            "398:\tlearn: 7240659221.9356108\ttest: 13138941114.2136402\tbest: 13138802187.9434662 (397)\ttotal: 53.7s\tremaining: 13.6s\n",
            "399:\tlearn: 7235675529.2538843\ttest: 13138625541.6604710\tbest: 13138625541.6604710 (399)\ttotal: 53.8s\tremaining: 13.5s\n",
            "400:\tlearn: 7232557426.6513128\ttest: 13138661175.5643635\tbest: 13138625541.6604710 (399)\ttotal: 53.9s\tremaining: 13.3s\n",
            "401:\tlearn: 7225199577.9351311\ttest: 13136352589.0696354\tbest: 13136352589.0696354 (401)\ttotal: 54s\tremaining: 13.2s\n",
            "402:\tlearn: 7216346332.3991165\ttest: 13135618085.2520218\tbest: 13135618085.2520218 (402)\ttotal: 54.1s\tremaining: 13s\n",
            "403:\tlearn: 7210387841.2779865\ttest: 13133550414.5500736\tbest: 13133550414.5500736 (403)\ttotal: 54.3s\tremaining: 12.9s\n",
            "404:\tlearn: 7200379504.3665638\ttest: 13135484657.5565357\tbest: 13133550414.5500736 (403)\ttotal: 54.3s\tremaining: 12.7s\n",
            "405:\tlearn: 7183755243.6645727\ttest: 13124493334.3839035\tbest: 13124493334.3839035 (405)\ttotal: 54.4s\tremaining: 12.6s\n",
            "406:\tlearn: 7174265386.7615833\ttest: 13126465566.3751564\tbest: 13124493334.3839035 (405)\ttotal: 54.5s\tremaining: 12.5s\n",
            "407:\tlearn: 7173323961.0301619\ttest: 13125860078.0887012\tbest: 13124493334.3839035 (405)\ttotal: 54.6s\tremaining: 12.3s\n",
            "408:\tlearn: 7168675701.5006752\ttest: 13122886346.7482624\tbest: 13122886346.7482624 (408)\ttotal: 54.7s\tremaining: 12.2s\n",
            "409:\tlearn: 7154944834.6535864\ttest: 13115403094.3303738\tbest: 13115403094.3303738 (409)\ttotal: 54.8s\tremaining: 12s\n",
            "410:\tlearn: 7150274964.4335308\ttest: 13115134873.2133694\tbest: 13115134873.2133694 (410)\ttotal: 54.9s\tremaining: 11.9s\n",
            "411:\tlearn: 7141335027.5372019\ttest: 13112871281.9811821\tbest: 13112871281.9811821 (411)\ttotal: 55s\tremaining: 11.8s\n",
            "412:\tlearn: 7136858133.5041628\ttest: 13112636489.6300583\tbest: 13112636489.6300583 (412)\ttotal: 55.1s\tremaining: 11.6s\n",
            "413:\tlearn: 7131499264.8013067\ttest: 13110879335.1493092\tbest: 13110879335.1493092 (413)\ttotal: 55.2s\tremaining: 11.5s\n",
            "414:\tlearn: 7126459656.6370659\ttest: 13109244883.8802814\tbest: 13109244883.8802814 (414)\ttotal: 55.3s\tremaining: 11.3s\n",
            "415:\tlearn: 7118384850.9298019\ttest: 13111886500.2579861\tbest: 13109244883.8802814 (414)\ttotal: 55.4s\tremaining: 11.2s\n",
            "416:\tlearn: 7110142991.9750071\ttest: 13105047108.1646118\tbest: 13105047108.1646118 (416)\ttotal: 55.5s\tremaining: 11s\n",
            "417:\tlearn: 7103694916.2905893\ttest: 13106500064.6475334\tbest: 13105047108.1646118 (416)\ttotal: 55.6s\tremaining: 10.9s\n",
            "418:\tlearn: 7095307851.4509830\ttest: 13105739781.6508350\tbest: 13105047108.1646118 (416)\ttotal: 55.7s\tremaining: 10.8s\n",
            "419:\tlearn: 7085224139.0361471\ttest: 13106031980.8066025\tbest: 13105047108.1646118 (416)\ttotal: 55.8s\tremaining: 10.6s\n",
            "420:\tlearn: 7077058392.9682236\ttest: 13105438125.6879768\tbest: 13105047108.1646118 (416)\ttotal: 55.9s\tremaining: 10.5s\n",
            "421:\tlearn: 7071329398.2294750\ttest: 13105299221.9287796\tbest: 13105047108.1646118 (416)\ttotal: 56s\tremaining: 10.4s\n",
            "422:\tlearn: 7065356647.8057165\ttest: 13106731725.0561008\tbest: 13105047108.1646118 (416)\ttotal: 56.1s\tremaining: 10.2s\n",
            "423:\tlearn: 7058775757.8811531\ttest: 13104332516.3076725\tbest: 13104332516.3076725 (423)\ttotal: 56.2s\tremaining: 10.1s\n",
            "424:\tlearn: 7053383354.9566212\ttest: 13105652184.2007504\tbest: 13104332516.3076725 (423)\ttotal: 56.3s\tremaining: 9.94s\n",
            "425:\tlearn: 7047148605.3504238\ttest: 13103340617.7649174\tbest: 13103340617.7649174 (425)\ttotal: 56.4s\tremaining: 9.8s\n",
            "426:\tlearn: 7042182914.8011189\ttest: 13103449817.7019329\tbest: 13103340617.7649174 (425)\ttotal: 56.5s\tremaining: 9.66s\n",
            "427:\tlearn: 7038695125.3116016\ttest: 13103767175.8103428\tbest: 13103340617.7649174 (425)\ttotal: 56.6s\tremaining: 9.52s\n",
            "428:\tlearn: 7032629055.6682272\ttest: 13100719346.0925770\tbest: 13100719346.0925770 (428)\ttotal: 56.7s\tremaining: 9.38s\n",
            "429:\tlearn: 6990701060.3122873\ttest: 13101196361.4035492\tbest: 13100719346.0925770 (428)\ttotal: 56.8s\tremaining: 9.25s\n",
            "430:\tlearn: 6983517532.7778788\ttest: 13101232847.6606827\tbest: 13100719346.0925770 (428)\ttotal: 56.9s\tremaining: 9.12s\n",
            "431:\tlearn: 6979424132.2593555\ttest: 13101062971.9682522\tbest: 13100719346.0925770 (428)\ttotal: 57s\tremaining: 8.98s\n",
            "432:\tlearn: 6972765620.3459702\ttest: 13098996818.8758278\tbest: 13098996818.8758278 (432)\ttotal: 57.1s\tremaining: 8.84s\n",
            "433:\tlearn: 6969451523.7782078\ttest: 13099324454.8718300\tbest: 13098996818.8758278 (432)\ttotal: 57.2s\tremaining: 8.71s\n",
            "434:\tlearn: 6932354932.0883265\ttest: 13099295417.3169346\tbest: 13098996818.8758278 (432)\ttotal: 57.4s\tremaining: 8.57s\n",
            "435:\tlearn: 6926877399.4416351\ttest: 13100723292.9790936\tbest: 13098996818.8758278 (432)\ttotal: 57.5s\tremaining: 8.43s\n",
            "436:\tlearn: 6920254937.9271383\ttest: 13098562034.2910786\tbest: 13098562034.2910786 (436)\ttotal: 57.6s\tremaining: 8.3s\n",
            "437:\tlearn: 6916741612.5277119\ttest: 13099171719.7236862\tbest: 13098562034.2910786 (436)\ttotal: 57.7s\tremaining: 8.16s\n",
            "438:\tlearn: 6914018401.6836367\ttest: 13100101633.0182972\tbest: 13098562034.2910786 (436)\ttotal: 57.8s\tremaining: 8.03s\n",
            "439:\tlearn: 6907737694.7247219\ttest: 13098268552.4372330\tbest: 13098268552.4372330 (439)\ttotal: 58s\tremaining: 7.91s\n",
            "440:\tlearn: 6905775496.0282211\ttest: 13097032400.0532684\tbest: 13097032400.0532684 (440)\ttotal: 58.2s\tremaining: 7.78s\n",
            "441:\tlearn: 6901108575.0213976\ttest: 13093600528.6499386\tbest: 13093600528.6499386 (441)\ttotal: 58.3s\tremaining: 7.66s\n",
            "442:\tlearn: 6894256119.0276260\ttest: 13093652928.4642143\tbest: 13093600528.6499386 (441)\ttotal: 58.5s\tremaining: 7.53s\n",
            "443:\tlearn: 6881085304.3055868\ttest: 13093032196.2351093\tbest: 13093032196.2351093 (443)\ttotal: 58.7s\tremaining: 7.4s\n",
            "444:\tlearn: 6876613910.9371023\ttest: 13094219974.7190132\tbest: 13093032196.2351093 (443)\ttotal: 58.9s\tremaining: 7.28s\n",
            "445:\tlearn: 6873656953.5116405\ttest: 13094222349.7840233\tbest: 13093032196.2351093 (443)\ttotal: 59.1s\tremaining: 7.15s\n",
            "446:\tlearn: 6870827454.4829035\ttest: 13094229461.9791412\tbest: 13093032196.2351093 (443)\ttotal: 59.2s\tremaining: 7.02s\n",
            "447:\tlearn: 6865250833.2879276\ttest: 13092378406.5532188\tbest: 13092378406.5532188 (447)\ttotal: 59.4s\tremaining: 6.89s\n",
            "448:\tlearn: 6859967399.5704708\ttest: 13090645754.3041039\tbest: 13090645754.3041039 (448)\ttotal: 59.6s\tremaining: 6.77s\n",
            "449:\tlearn: 6854327210.7267609\ttest: 13089058135.2406578\tbest: 13089058135.2406578 (449)\ttotal: 59.8s\tremaining: 6.64s\n",
            "450:\tlearn: 6846850531.8589802\ttest: 13087139934.0175648\tbest: 13087139934.0175648 (450)\ttotal: 59.9s\tremaining: 6.51s\n",
            "451:\tlearn: 6840363463.2364216\ttest: 13088867299.7358646\tbest: 13087139934.0175648 (450)\ttotal: 1m\tremaining: 6.38s\n",
            "452:\tlearn: 6835567413.6427794\ttest: 13090931692.3299274\tbest: 13087139934.0175648 (450)\ttotal: 1m\tremaining: 6.26s\n",
            "453:\tlearn: 6825917647.6100903\ttest: 13089214677.9001789\tbest: 13087139934.0175648 (450)\ttotal: 1m\tremaining: 6.13s\n",
            "454:\tlearn: 6822108889.8891096\ttest: 13090133584.6293831\tbest: 13087139934.0175648 (450)\ttotal: 1m\tremaining: 6s\n",
            "455:\tlearn: 6817640825.1600771\ttest: 13092210568.9027882\tbest: 13087139934.0175648 (450)\ttotal: 1m\tremaining: 5.87s\n",
            "456:\tlearn: 6812022221.6710854\ttest: 13090343769.6614838\tbest: 13087139934.0175648 (450)\ttotal: 1m 1s\tremaining: 5.74s\n",
            "457:\tlearn: 6811472376.6832857\ttest: 13090170148.7743149\tbest: 13087139934.0175648 (450)\ttotal: 1m 1s\tremaining: 5.62s\n",
            "458:\tlearn: 6807607423.3926039\ttest: 13090785787.2514057\tbest: 13087139934.0175648 (450)\ttotal: 1m 1s\tremaining: 5.48s\n",
            "459:\tlearn: 6778540127.1036053\ttest: 13091413134.9488506\tbest: 13087139934.0175648 (450)\ttotal: 1m 1s\tremaining: 5.35s\n",
            "460:\tlearn: 6775339688.7370796\ttest: 13091677236.5880527\tbest: 13087139934.0175648 (450)\ttotal: 1m 1s\tremaining: 5.21s\n",
            "461:\tlearn: 6750646051.7839231\ttest: 13089740679.4675922\tbest: 13087139934.0175648 (450)\ttotal: 1m 1s\tremaining: 5.08s\n",
            "462:\tlearn: 6745093495.7216845\ttest: 13090241472.7700806\tbest: 13087139934.0175648 (450)\ttotal: 1m 1s\tremaining: 4.94s\n",
            "463:\tlearn: 6740233608.8382950\ttest: 13088614060.3713589\tbest: 13087139934.0175648 (450)\ttotal: 1m 1s\tremaining: 4.8s\n",
            "464:\tlearn: 6738985612.2347670\ttest: 13088030418.0778065\tbest: 13087139934.0175648 (450)\ttotal: 1m 1s\tremaining: 4.67s\n",
            "465:\tlearn: 6730674467.5369043\ttest: 13085745146.2963753\tbest: 13085745146.2963753 (465)\ttotal: 1m 2s\tremaining: 4.53s\n",
            "466:\tlearn: 6722033269.0546045\ttest: 13083992946.4078007\tbest: 13083992946.4078007 (466)\ttotal: 1m 2s\tremaining: 4.4s\n",
            "467:\tlearn: 6720823523.0521049\ttest: 13083447897.5036068\tbest: 13083447897.5036068 (467)\ttotal: 1m 2s\tremaining: 4.26s\n",
            "468:\tlearn: 6717840775.3874693\ttest: 13083731862.0118103\tbest: 13083447897.5036068 (467)\ttotal: 1m 2s\tremaining: 4.13s\n",
            "469:\tlearn: 6713734604.4629745\ttest: 13080882192.2126999\tbest: 13080882192.2126999 (469)\ttotal: 1m 2s\tremaining: 3.99s\n",
            "470:\tlearn: 6701095092.7817268\ttest: 13081606306.8218746\tbest: 13080882192.2126999 (469)\ttotal: 1m 2s\tremaining: 3.86s\n",
            "471:\tlearn: 6696919395.9020815\ttest: 13082533907.5645943\tbest: 13080882192.2126999 (469)\ttotal: 1m 2s\tremaining: 3.72s\n",
            "472:\tlearn: 6691677904.4876776\ttest: 13082008774.7109566\tbest: 13080882192.2126999 (469)\ttotal: 1m 2s\tremaining: 3.58s\n",
            "473:\tlearn: 6689796664.0175810\ttest: 13082154808.8527603\tbest: 13080882192.2126999 (469)\ttotal: 1m 2s\tremaining: 3.45s\n",
            "474:\tlearn: 6682927835.5374479\ttest: 13080019269.3067513\tbest: 13080019269.3067513 (474)\ttotal: 1m 3s\tremaining: 3.31s\n",
            "475:\tlearn: 6679088598.6556082\ttest: 13077349987.5764904\tbest: 13077349987.5764904 (475)\ttotal: 1m 3s\tremaining: 3.18s\n",
            "476:\tlearn: 6677296683.0622263\ttest: 13077515369.0471840\tbest: 13077349987.5764904 (475)\ttotal: 1m 3s\tremaining: 3.05s\n",
            "477:\tlearn: 6673672965.5353422\ttest: 13074998929.3367138\tbest: 13074998929.3367138 (477)\ttotal: 1m 3s\tremaining: 2.91s\n",
            "478:\tlearn: 6667293677.4876318\ttest: 13074787604.6638603\tbest: 13074787604.6638603 (478)\ttotal: 1m 3s\tremaining: 2.78s\n",
            "479:\tlearn: 6660501420.7573481\ttest: 13070659275.2026253\tbest: 13070659275.2026253 (479)\ttotal: 1m 3s\tremaining: 2.65s\n",
            "480:\tlearn: 6657079530.0729170\ttest: 13068284074.9793720\tbest: 13068284074.9793720 (480)\ttotal: 1m 3s\tremaining: 2.51s\n",
            "481:\tlearn: 6650140393.8429451\ttest: 13067552216.4197063\tbest: 13067552216.4197063 (481)\ttotal: 1m 3s\tremaining: 2.38s\n",
            "482:\tlearn: 6622670355.6402502\ttest: 13067464094.2887745\tbest: 13067464094.2887745 (482)\ttotal: 1m 3s\tremaining: 2.24s\n",
            "483:\tlearn: 6616073655.6337357\ttest: 13067551469.3705788\tbest: 13067464094.2887745 (482)\ttotal: 1m 3s\tremaining: 2.11s\n",
            "484:\tlearn: 6614358877.2536125\ttest: 13067720925.2887783\tbest: 13067464094.2887745 (482)\ttotal: 1m 3s\tremaining: 1.98s\n",
            "485:\tlearn: 6611882898.7464762\ttest: 13070541879.1466446\tbest: 13067464094.2887745 (482)\ttotal: 1m 4s\tremaining: 1.84s\n",
            "486:\tlearn: 6603853869.8809671\ttest: 13069049787.7796650\tbest: 13067464094.2887745 (482)\ttotal: 1m 4s\tremaining: 1.71s\n",
            "487:\tlearn: 6602221053.5736570\ttest: 13069227795.2105598\tbest: 13067464094.2887745 (482)\ttotal: 1m 4s\tremaining: 1.59s\n",
            "488:\tlearn: 6596221608.7548761\ttest: 13068849934.4621201\tbest: 13067464094.2887745 (482)\ttotal: 1m 4s\tremaining: 1.46s\n",
            "489:\tlearn: 6591718211.6775227\ttest: 13067201016.1652145\tbest: 13067201016.1652145 (489)\ttotal: 1m 4s\tremaining: 1.32s\n",
            "490:\tlearn: 6585294976.0821905\ttest: 13065234578.6367130\tbest: 13065234578.6367130 (490)\ttotal: 1m 4s\tremaining: 1.19s\n",
            "491:\tlearn: 6578667254.6937370\ttest: 13063652847.5272312\tbest: 13063652847.5272312 (491)\ttotal: 1m 4s\tremaining: 1.05s\n",
            "492:\tlearn: 6577107742.5731049\ttest: 13063827731.7894020\tbest: 13063652847.5272312 (491)\ttotal: 1m 5s\tremaining: 923ms\n",
            "493:\tlearn: 6572159366.3481836\ttest: 13063369949.9898834\tbest: 13063369949.9898834 (493)\ttotal: 1m 5s\tremaining: 791ms\n",
            "494:\tlearn: 6568951114.0829382\ttest: 13061123048.8564606\tbest: 13061123048.8564606 (494)\ttotal: 1m 5s\tremaining: 659ms\n",
            "495:\tlearn: 6567458279.8718605\ttest: 13061305912.8595047\tbest: 13061123048.8564606 (494)\ttotal: 1m 5s\tremaining: 527ms\n",
            "496:\tlearn: 6562673267.5739613\ttest: 13060903096.6219387\tbest: 13060903096.6219387 (496)\ttotal: 1m 5s\tremaining: 395ms\n",
            "497:\tlearn: 6536570892.4669123\ttest: 13060790920.3065891\tbest: 13060790920.3065891 (497)\ttotal: 1m 5s\tremaining: 263ms\n",
            "498:\tlearn: 6535624148.8783493\ttest: 13059652816.5328999\tbest: 13059652816.5328999 (498)\ttotal: 1m 5s\tremaining: 132ms\n",
            "499:\tlearn: 6532601181.8957739\ttest: 13057531144.8067207\tbest: 13057531144.8067207 (499)\ttotal: 1m 5s\tremaining: 0us\n",
            "\n",
            "bestTest = 1.305753114e+10\n",
            "bestIteration = 499\n",
            "\n",
            "Mean Squared Error: 1.70499117248008e+20\n",
            "                             Feature Id  Importances\n",
            "0                    Employees (Global)    31.071372\n",
            "1   Sales (Domestic Ultimate Total USD)    22.998455\n",
            "2               Global Ultimate Country    18.423801\n",
            "3                        Parent Country     5.916218\n",
            "4                   Company Description     3.788369\n",
            "5                            Year Found     3.439224\n",
            "6                             LONGITUDE     3.241423\n",
            "7                           Entity Type     3.112852\n",
            "8                              SIC Code     2.441528\n",
            "9                  Import/Export Status     2.383562\n",
            "10                             LATITUDE     1.958737\n",
            "11                       Ownership Type     0.781952\n",
            "12                 Is Domestic Ultimate     0.430504\n",
            "13                   Is Global Ultimate     0.012001\n",
            "14     Company Status (Active/Inactive)     0.000000\n"
          ]
        }
      ]
    },
    {
      "cell_type": "code",
      "source": [
        "import matplotlib.pyplot as plt\n",
        "\n",
        "\n",
        "feature_importance = feature_importance.sort_values(by='Importances', ascending=False)\n",
        "# Plot the feature importances\n",
        "plt.figure(figsize=(10, 6))\n",
        "plt.barh(feature_importance['Feature Id'], feature_importance['Importances'], color='skyblue')\n",
        "plt.xlabel('Importance')\n",
        "plt.title('Feature Importances')\n",
        "plt.show()"
      ],
      "metadata": {
        "colab": {
          "base_uri": "https://localhost:8080/",
          "height": 584
        },
        "id": "QEeWMhOIIHmM",
        "outputId": "e8143da3-a76c-4d4b-c017-6a150a4291f2"
      },
      "execution_count": 184,
      "outputs": [
        {
          "output_type": "display_data",
          "data": {
            "text/plain": [
              "<Figure size 1000x600 with 1 Axes>"
            ],
            "image/png": "[encoded data removed]"
          },
          "metadata": {}
        }
      ]
    },
    {
      "cell_type": "markdown",
      "source": [
        "# New section"
      ],
      "metadata": {
        "id": "I_Xs2-mXyFyG"
      }
    },
    {
      "cell_type": "markdown",
      "source": [
        "# Featuring Selection using ML\n"
      ],
      "metadata": {
        "id": "B5FUEwdpYnBg"
      }
    },
    {
      "cell_type": "code",
      "source": [
        "!pip3 install catboost"
      ],
      "metadata": {
        "colab": {
          "base_uri": "https://localhost:8080/"
        },
        "id": "t4R4oE3FZEkZ",
        "outputId": "bc91ca0b-8661-405e-ddab-f40fd874a589"
      },
      "execution_count": 16,
      "outputs": [
        {
          "output_type": "stream",
          "name": "stdout",
          "text": [
            "Requirement already satisfied: catboost in /usr/local/lib/python3.10/dist-packages (1.2.2)\n",
            "Requirement already satisfied: graphviz in /usr/local/lib/python3.10/dist-packages (from catboost) (0.20.1)\n",
            "Requirement already satisfied: matplotlib in /usr/local/lib/python3.10/dist-packages (from catboost) (3.7.1)\n",
            "Requirement already satisfied: numpy>=1.16.0 in /usr/local/lib/python3.10/dist-packages (from catboost) (1.23.5)\n",
            "Requirement already satisfied: pandas>=0.24 in /usr/local/lib/python3.10/dist-packages (from catboost) (1.5.3)\n",
            "Requirement already satisfied: scipy in /usr/local/lib/python3.10/dist-packages (from catboost) (1.11.4)\n",
            "Requirement already satisfied: plotly in /usr/local/lib/python3.10/dist-packages (from catboost) (5.15.0)\n",
            "Requirement already satisfied: six in /usr/local/lib/python3.10/dist-packages (from catboost) (1.16.0)\n",
            "Requirement already satisfied: python-dateutil>=2.8.1 in /usr/local/lib/python3.10/dist-packages (from pandas>=0.24->catboost) (2.8.2)\n",
            "Requirement already satisfied: pytz>=2020.1 in /usr/local/lib/python3.10/dist-packages (from pandas>=0.24->catboost) (2023.3.post1)\n",
            "Requirement already satisfied: contourpy>=1.0.1 in /usr/local/lib/python3.10/dist-packages (from matplotlib->catboost) (1.2.0)\n",
            "Requirement already satisfied: cycler>=0.10 in /usr/local/lib/python3.10/dist-packages (from matplotlib->catboost) (0.12.1)\n",
            "Requirement already satisfied: fonttools>=4.22.0 in /usr/local/lib/python3.10/dist-packages (from matplotlib->catboost) (4.47.2)\n",
            "Requirement already satisfied: kiwisolver>=1.0.1 in /usr/local/lib/python3.10/dist-packages (from matplotlib->catboost) (1.4.5)\n",
            "Requirement already satisfied: packaging>=20.0 in /usr/local/lib/python3.10/dist-packages (from matplotlib->catboost) (23.2)\n",
            "Requirement already satisfied: pillow>=6.2.0 in /usr/local/lib/python3.10/dist-packages (from matplotlib->catboost) (9.4.0)\n",
            "Requirement already satisfied: pyparsing>=2.3.1 in /usr/local/lib/python3.10/dist-packages (from matplotlib->catboost) (3.1.1)\n",
            "Requirement already satisfied: tenacity>=6.2.0 in /usr/local/lib/python3.10/dist-packages (from plotly->catboost) (8.2.3)\n"
          ]
        }
      ]
    },
    {
      "cell_type": "code",
      "source": [],
      "metadata": {
        "id": "nTrqiS60cC6o"
      },
      "execution_count": null,
      "outputs": []
    },
    {
      "cell_type": "code",
      "source": [
        "from catboost import CatBoostRegressor, Pool\n",
        "target_column = \"Sales (Global Ultimate Total USD)\"  # Change this to your target column\n",
        "\n",
        "# Separate features and target\n",
        "X = dataset.drop(columns=[target_column])\n",
        "y = dataset[target_column]\n",
        "\n"
      ],
      "metadata": {
        "id": "AeHFEWkpVH3n"
      },
      "execution_count": null,
      "outputs": []
    },
    {
      "cell_type": "markdown",
      "metadata": {
        "id": "m0HFWHCiq-Dv"
      },
      "source": [
        "# Webscraping + Sentiment Analysis"
      ]
    },
    {
      "cell_type": "code",
      "execution_count": null,
      "metadata": {
        "id": "xa_qBhApq7f-"
      },
      "outputs": [],
      "source": [
        "#Web scraping to generate sentiment analysis\n",
        "#export scraped data here and do LLM functions"
      ]
    },
    {
      "cell_type": "code",
      "execution_count": null,
      "metadata": {
        "id": "mFOVcDikqTU6"
      },
      "outputs": [],
      "source": []
    },
    {
      "cell_type": "code",
      "execution_count": null,
      "metadata": {
        "id": "yhpGdE8Ao33f"
      },
      "outputs": [],
      "source": []
    },
    {
      "cell_type": "markdown",
      "metadata": {
        "id": "nQET8LWiYLZ9"
      },
      "source": [
        "# Geospatial Analysis"
      ]
    },
    {
      "cell_type": "code",
      "execution_count": null,
      "metadata": {
        "colab": {
          "base_uri": "https://localhost:8080/"
        },
        "id": "UslJ1hKMYNfi",
        "outputId": "63f4c1ac-e774-4646-a679-00ffbf5bcd53"
      },
      "outputs": [
        {
          "name": "stdout",
          "output_type": "stream",
          "text": [
            "Requirement already satisfied: geopy in /usr/local/lib/python3.10/dist-packages (2.3.0)\n",
            "Requirement already satisfied: geographiclib<3,>=1.52 in /usr/local/lib/python3.10/dist-packages (from geopy) (2.0)\n"
          ]
        }
      ],
      "source": [
        "!pip3 install geopy"
      ]
    },
    {
      "cell_type": "code",
      "execution_count": null,
      "metadata": {
        "id": "pDauGhQMYVI3"
      },
      "outputs": [],
      "source": [
        "from geopy.geocoders import Nominatim\n",
        "\n",
        "#make a function get a country from latitude and longtitude\n",
        "\n",
        "geolocator = Nominatim(user_agent=\"my_geocoder\")\n",
        "\n",
        "def get_country(lat, lon):\n",
        "    if pd.notna(lat) and pd.notna(lon):\n",
        "        try:\n",
        "            location = geolocator.reverse((lat, lon), language='en', exactly_one=True)\n",
        "            if location and 'address' in location.raw and 'country' in location.raw['address']:\n",
        "                return location.raw['address']['country']\n",
        "        except Exception as e:\n",
        "            print(f\"Error while reverse geocoding: {e}\")\n",
        "    return None\n"
      ]
    },
    {
      "cell_type": "code",
      "execution_count": null,
      "metadata": {
        "colab": {
          "base_uri": "https://localhost:8080/"
        },
        "id": "YC2SVPZVhudY",
        "outputId": "7dcf64be-fbe9-465a-93b9-5b764a1e7b21"
      },
      "outputs": [
        {
          "name": "stdout",
          "output_type": "stream",
          "text": [
            "120\n",
            "120\n"
          ]
        }
      ],
      "source": [
        "print(dataset['LATITUDE'].isnull().sum())\n",
        "print(dataset['LONGITUDE'].isnull().sum())\n",
        "#drop empty data rows and save into a seperate dataset for geospatial analysis\n",
        "geo_dataset = dataset.dropna(subset=['LATITUDE', 'LONGITUDE'])\n"
      ]
    },
    {
      "cell_type": "code",
      "execution_count": null,
      "metadata": {
        "id": "BQxS6VCLv5PT"
      },
      "outputs": [],
      "source": []
    },
    {
      "cell_type": "code",
      "execution_count": null,
      "metadata": {
        "colab": {
          "background_save": true,
          "base_uri": "https://localhost:8080/"
        },
        "id": "AyLnrngubc0o",
        "outputId": "442e6c76-bea6-4b7f-c59a-ebd029081db9"
      },
      "outputs": [
        {
          "name": "stderr",
          "output_type": "stream",
          "text": [
            "WARNING:urllib3.connectionpool:Retrying (Retry(total=1, connect=None, read=None, redirect=None, status=None)) after connection broken by 'ReadTimeoutError(\"HTTPSConnectionPool(host='nominatim.openstreetmap.org', port=443): Read timed out. (read timeout=1)\")': /reverse?lat=1.29543569778908&lon=103.858374825349&format=json&accept-language=en&addressdetails=1\n",
            "WARNING:urllib3.connectionpool:Retrying (Retry(total=1, connect=None, read=None, redirect=None, status=None)) after connection broken by 'ReadTimeoutError(\"HTTPSConnectionPool(host='nominatim.openstreetmap.org', port=443): Read timed out. (read timeout=1)\")': /reverse?lat=1.45303321140803&lon=103.817650679888&format=json&accept-language=en&addressdetails=1\n",
            "WARNING:urllib3.connectionpool:Retrying (Retry(total=1, connect=None, read=None, redirect=None, status=None)) after connection broken by 'ReadTimeoutError(\"HTTPSConnectionPool(host='nominatim.openstreetmap.org', port=443): Read timed out. (read timeout=1)\")': /reverse?lat=1.36440485139692&lon=103.869558632113&format=json&accept-language=en&addressdetails=1\n",
            "WARNING:urllib3.connectionpool:Retrying (Retry(total=1, connect=None, read=None, redirect=None, status=None)) after connection broken by 'ReadTimeoutError(\"HTTPSConnectionPool(host='nominatim.openstreetmap.org', port=443): Read timed out. (read timeout=1)\")': /reverse?lat=1.31522915512983&lon=103.88083853873&format=json&accept-language=en&addressdetails=1\n",
            "WARNING:urllib3.connectionpool:Retrying (Retry(total=1, connect=None, read=None, redirect=None, status=None)) after connection broken by 'ReadTimeoutError(\"HTTPSConnectionPool(host='nominatim.openstreetmap.org', port=443): Read timed out. (read timeout=1)\")': /reverse?lat=1.37178558575829&lon=103.847837565378&format=json&accept-language=en&addressdetails=1\n",
            "WARNING:urllib3.connectionpool:Retrying (Retry(total=1, connect=None, read=None, redirect=None, status=None)) after connection broken by 'ReadTimeoutError(\"HTTPSConnectionPool(host='nominatim.openstreetmap.org', port=443): Read timed out. (read timeout=1)\")': /reverse?lat=1.45086533562089&lon=103.808197871686&format=json&accept-language=en&addressdetails=1\n",
            "WARNING:urllib3.connectionpool:Retrying (Retry(total=1, connect=None, read=None, redirect=None, status=None)) after connection broken by 'ReadTimeoutError(\"HTTPSConnectionPool(host='nominatim.openstreetmap.org', port=443): Read timed out. (read timeout=1)\")': /reverse?lat=1.31132589184193&lon=103.804239112675&format=json&accept-language=en&addressdetails=1\n",
            "WARNING:urllib3.connectionpool:Retrying (Retry(total=1, connect=None, read=None, redirect=None, status=None)) after connection broken by 'ReadTimeoutError(\"HTTPSConnectionPool(host='nominatim.openstreetmap.org', port=443): Read timed out. (read timeout=1)\")': /reverse?lat=1.27573568143134&lon=103.845703218601&format=json&accept-language=en&addressdetails=1\n",
            "WARNING:urllib3.connectionpool:Retrying (Retry(total=1, connect=None, read=None, redirect=None, status=None)) after connection broken by 'ReadTimeoutError(\"HTTPSConnectionPool(host='nominatim.openstreetmap.org', port=443): Read timed out. (read timeout=1)\")': /reverse?lat=1.29408304748297&lon=103.853339531257&format=json&accept-language=en&addressdetails=1\n",
            "WARNING:urllib3.connectionpool:Retrying (Retry(total=1, connect=None, read=None, redirect=None, status=None)) after connection broken by 'ReadTimeoutError(\"HTTPSConnectionPool(host='nominatim.openstreetmap.org', port=443): Read timed out. (read timeout=1)\")': /reverse?lat=1.32222533352038&lon=103.823597825035&format=json&accept-language=en&addressdetails=1\n",
            "WARNING:urllib3.connectionpool:Retrying (Retry(total=1, connect=None, read=None, redirect=None, status=None)) after connection broken by 'ReadTimeoutError(\"HTTPSConnectionPool(host='nominatim.openstreetmap.org', port=443): Read timed out. (read timeout=1)\")': /reverse?lat=1.28497457584876&lon=103.850025190454&format=json&accept-language=en&addressdetails=1\n",
            "WARNING:urllib3.connectionpool:Retrying (Retry(total=1, connect=None, read=None, redirect=None, status=None)) after connection broken by 'ReadTimeoutError(\"HTTPSConnectionPool(host='nominatim.openstreetmap.org', port=443): Read timed out. (read timeout=1)\")': /reverse?lat=1.39278798548512&lon=103.896388318333&format=json&accept-language=en&addressdetails=1\n",
            "WARNING:urllib3.connectionpool:Retrying (Retry(total=1, connect=None, read=None, redirect=None, status=None)) after connection broken by 'ReadTimeoutError(\"HTTPSConnectionPool(host='nominatim.openstreetmap.org', port=443): Read timed out. (read timeout=1)\")': /reverse?lat=1.34240196967061&lon=103.84522651153&format=json&accept-language=en&addressdetails=1\n",
            "WARNING:urllib3.connectionpool:Retrying (Retry(total=1, connect=None, read=None, redirect=None, status=None)) after connection broken by 'ReadTimeoutError(\"HTTPSConnectionPool(host='nominatim.openstreetmap.org', port=443): Read timed out. (read timeout=1)\")': /reverse?lat=1.30277120559217&lon=103.865172135039&format=json&accept-language=en&addressdetails=1\n",
            "WARNING:urllib3.connectionpool:Retrying (Retry(total=1, connect=None, read=None, redirect=None, status=None)) after connection broken by 'ReadTimeoutError(\"HTTPSConnectionPool(host='nominatim.openstreetmap.org', port=443): Read timed out. (read timeout=1)\")': /reverse?lat=1.29878752559509&lon=103.851967011645&format=json&accept-language=en&addressdetails=1\n",
            "WARNING:urllib3.connectionpool:Retrying (Retry(total=1, connect=None, read=None, redirect=None, status=None)) after connection broken by 'ReadTimeoutError(\"HTTPSConnectionPool(host='nominatim.openstreetmap.org', port=443): Read timed out. (read timeout=1)\")': /reverse?lat=1.27763073260823&lon=103.847572724879&format=json&accept-language=en&addressdetails=1\n",
            "WARNING:urllib3.connectionpool:Retrying (Retry(total=1, connect=None, read=None, redirect=None, status=None)) after connection broken by 'ReadTimeoutError(\"HTTPSConnectionPool(host='nominatim.openstreetmap.org', port=443): Read timed out. (read timeout=1)\")': /reverse?lat=1.38093220261348&lon=103.889121423349&format=json&accept-language=en&addressdetails=1\n",
            "WARNING:urllib3.connectionpool:Retrying (Retry(total=1, connect=None, read=None, redirect=None, status=None)) after connection broken by 'ReadTimeoutError(\"HTTPSConnectionPool(host='nominatim.openstreetmap.org', port=443): Read timed out. (read timeout=1)\")': /reverse?lat=1.28424248541962&lon=103.852502853417&format=json&accept-language=en&addressdetails=1\n",
            "WARNING:urllib3.connectionpool:Retrying (Retry(total=1, connect=None, read=None, redirect=None, status=None)) after connection broken by 'ReadTimeoutError(\"HTTPSConnectionPool(host='nominatim.openstreetmap.org', port=443): Read timed out. (read timeout=1)\")': /reverse?lat=1.28361982304995&lon=103.852058865041&format=json&accept-language=en&addressdetails=1\n",
            "WARNING:urllib3.connectionpool:Retrying (Retry(total=1, connect=None, read=None, redirect=None, status=None)) after connection broken by 'ReadTimeoutError(\"HTTPSConnectionPool(host='nominatim.openstreetmap.org', port=443): Read timed out. (read timeout=1)\")': /reverse?lat=1.31377438724798&lon=103.762535189721&format=json&accept-language=en&addressdetails=1\n",
            "WARNING:urllib3.connectionpool:Retrying (Retry(total=1, connect=None, read=None, redirect=None, status=None)) after connection broken by 'ReadTimeoutError(\"HTTPSConnectionPool(host='nominatim.openstreetmap.org', port=443): Read timed out. (read timeout=1)\")': /reverse?lat=1.32223138528127&lon=103.863435537579&format=json&accept-language=en&addressdetails=1\n",
            "WARNING:urllib3.connectionpool:Retrying (Retry(total=1, connect=None, read=None, redirect=None, status=None)) after connection broken by 'ReadTimeoutError(\"HTTPSConnectionPool(host='nominatim.openstreetmap.org', port=443): Read timed out. (read timeout=1)\")': /reverse?lat=1.30208598515708&lon=103.849366883599&format=json&accept-language=en&addressdetails=1\n",
            "WARNING:urllib3.connectionpool:Retrying (Retry(total=1, connect=None, read=None, redirect=None, status=None)) after connection broken by 'ReadTimeoutError(\"HTTPSConnectionPool(host='nominatim.openstreetmap.org', port=443): Read timed out. (read timeout=1)\")': /reverse?lat=1.31881486980278&lon=103.892580778242&format=json&accept-language=en&addressdetails=1\n",
            "WARNING:urllib3.connectionpool:Retrying (Retry(total=1, connect=None, read=None, redirect=None, status=None)) after connection broken by 'ReadTimeoutError(\"HTTPSConnectionPool(host='nominatim.openstreetmap.org', port=443): Read timed out. (read timeout=1)\")': /reverse?lat=1.30397881313463&lon=103.861554245252&format=json&accept-language=en&addressdetails=1\n",
            "WARNING:urllib3.connectionpool:Retrying (Retry(total=1, connect=None, read=None, redirect=None, status=None)) after connection broken by 'ReadTimeoutError(\"HTTPSConnectionPool(host='nominatim.openstreetmap.org', port=443): Read timed out. (read timeout=1)\")': /reverse?lat=1.29372385056883&lon=103.825778045885&format=json&accept-language=en&addressdetails=1\n",
            "WARNING:urllib3.connectionpool:Retrying (Retry(total=1, connect=None, read=None, redirect=None, status=None)) after connection broken by 'ReadTimeoutError(\"HTTPSConnectionPool(host='nominatim.openstreetmap.org', port=443): Read timed out. (read timeout=1)\")': /reverse?lat=1.32113457085899&lon=103.897905493785&format=json&accept-language=en&addressdetails=1\n",
            "WARNING:urllib3.connectionpool:Retrying (Retry(total=1, connect=None, read=None, redirect=None, status=None)) after connection broken by 'ReadTimeoutError(\"HTTPSConnectionPool(host='nominatim.openstreetmap.org', port=443): Read timed out. (read timeout=1)\")': /reverse?lat=1.36275223644893&lon=103.888298738447&format=json&accept-language=en&addressdetails=1\n",
            "WARNING:urllib3.connectionpool:Retrying (Retry(total=1, connect=None, read=None, redirect=None, status=None)) after connection broken by 'ReadTimeoutError(\"HTTPSConnectionPool(host='nominatim.openstreetmap.org', port=443): Read timed out. (read timeout=1)\")': /reverse?lat=1.32468844258341&lon=103.825744160137&format=json&accept-language=en&addressdetails=1\n",
            "WARNING:urllib3.connectionpool:Retrying (Retry(total=1, connect=None, read=None, redirect=None, status=None)) after connection broken by 'ReadTimeoutError(\"HTTPSConnectionPool(host='nominatim.openstreetmap.org', port=443): Read timed out. (read timeout=1)\")': /reverse?lat=1.37503135118645&lon=103.746186610645&format=json&accept-language=en&addressdetails=1\n",
            "WARNING:urllib3.connectionpool:Retrying (Retry(total=1, connect=None, read=None, redirect=None, status=None)) after connection broken by 'ReadTimeoutError(\"HTTPSConnectionPool(host='nominatim.openstreetmap.org', port=443): Read timed out. (read timeout=1)\")': /reverse?lat=1.27980322314972&lon=103.78590960328&format=json&accept-language=en&addressdetails=1\n",
            "WARNING:urllib3.connectionpool:Retrying (Retry(total=1, connect=None, read=None, redirect=None, status=None)) after connection broken by 'ReadTimeoutError(\"HTTPSConnectionPool(host='nominatim.openstreetmap.org', port=443): Read timed out. (read timeout=1)\")': /reverse?lat=1.28468928277083&lon=103.852692297865&format=json&accept-language=en&addressdetails=1\n",
            "WARNING:urllib3.connectionpool:Retrying (Retry(total=1, connect=None, read=None, redirect=None, status=None)) after connection broken by 'ReadTimeoutError(\"HTTPSConnectionPool(host='nominatim.openstreetmap.org', port=443): Read timed out. (read timeout=1)\")': /reverse?lat=1.30977029731977&lon=103.88126773466&format=json&accept-language=en&addressdetails=1\n"
          ]
        }
      ],
      "source": [
        "geo_dataset['country'] = dataset.apply(lambda row: get_country(row['LATITUDE'], row['LONGITUDE']), axis=1)"
      ]
    },
    {
      "cell_type": "code",
      "execution_count": null,
      "metadata": {
        "id": "sET8EsHmhvKZ"
      },
      "outputs": [],
      "source": []
    },
    {
      "cell_type": "code",
      "execution_count": null,
      "metadata": {
        "id": "ngMvcnophmEa"
      },
      "outputs": [],
      "source": []
    },
    {
      "cell_type": "markdown",
      "metadata": {
        "id": "aUoxTVmso33g"
      },
      "source": [
        "### **ALL** Code for machine learning and dataset analysis should be entered below.\n",
        "##### Ensure that your code is clear and readable.\n",
        "##### Comments and Markdown notes are advised to direct attention to pieces of code you deem useful."
      ]
    },
    {
      "cell_type": "code",
      "execution_count": null,
      "metadata": {
        "id": "Nkd95oUBo33g"
      },
      "outputs": [],
      "source": [
        "###...code...###"
      ]
    },
    {
      "cell_type": "markdown",
      "metadata": {
        "id": "u6QC-jtCo33g"
      },
      "source": [
        "## The cell below is **NOT** to be removed\n",
        "##### The function is to be amended so that it accepts the given input (dataframe) and returns the required output (list).\n",
        "##### It is recommended to test the function out prior to submission\n",
        "-------------------------------------------------------------------------------------------------------------------------------\n",
        "##### The hidden_data parsed into the function below will have the same layout columns wise as the dataset *SENT* to you\n",
        "##### Thus, ensure that steps taken to modify the initial dataset to fit into the model are also carried out in the function below"
      ]
    },
    {
      "cell_type": "code",
      "execution_count": null,
      "metadata": {
        "id": "_F-hkFC5o33h"
      },
      "outputs": [],
      "source": [
        "def testing_hidden_data(hidden_data: pd.DataFrame) -> list:\n",
        "    '''DO NOT REMOVE THIS FUNCTION.\n",
        "\n",
        "The function accepts a dataframe as input and return an iterable (list)\n",
        "of binary classes as output.\n",
        "\n",
        "The function should be coded to test on hidden data\n",
        "and should include any preprocessing functions needed for your model to perform.\n",
        "\n",
        "All relevant code MUST be included in this function.'''\n",
        "    result = []\n",
        "    return result"
      ]
    },
    {
      "cell_type": "markdown",
      "metadata": {
        "id": "uwWs9dROo33h"
      },
      "source": [
        "##### Cell to check testing_hidden_data function"
      ]
    },
    {
      "cell_type": "code",
      "execution_count": null,
      "metadata": {
        "id": "9MuvoQePo33h"
      },
      "outputs": [],
      "source": [
        "# This cell should output a list of predictions.\n",
        "test_df = pd.read_parquet(filepath)\n",
        "test_df = test_df.drop(columns=['Sales (Domestic Ultimate Total USD)'])\n",
        "print(testing_hidden_data(test_df))"
      ]
    },
    {
      "cell_type": "markdown",
      "metadata": {
        "id": "LUdfB60-o33i"
      },
      "source": [
        "### Please have the filename renamed and ensure that it can be run with the requirements above being met. All the best!"
      ]
    }
  ],
  "metadata": {
    "colab": {
      "provenance": [],
      "include_colab_link": true
    },
    "kernelspec": {
      "display_name": "Python 3",
      "language": "python",
      "name": "python3"
    },
    "language_info": {
      "codemirror_mode": {
        "name": "ipython",
        "version": 3
      },
      "file_extension": ".py",
      "mimetype": "text/x-python",
      "name": "python",
      "nbconvert_exporter": "python",
      "pygments_lexer": "ipython3",
      "version": "3.11.4"
    },
    "widgets": {
      "application/vnd.jupyter.widget-state+json": {
        "61d79405935547ccb02f11d3d55113a6": {
          "model_module": "catboost-widget",
          "model_name": "CatboostWidgetModel",
          "model_module_version": "^1.0.0",
          "state": {
            "_dom_classes": [],
            "_model_module": "catboost-widget",
            "_model_module_version": "^1.0.0",
            "_model_name": "CatboostWidgetModel",
            "_view_count": null,
            "_view_module": "catboost-widget",
            "_view_module_version": "^1.0.0",
            "_view_name": "CatboostWidgetView",
            "data": {
              "catboost_info": {
                "path": "catboost_info",
                "name": "catboost_info",
                "content": {
                  "passed_iterations": 499,
                  "total_iterations": 500,
                  "data": {
                    "iterations": [
                      {
                        "learn": [
                          21465267110
                        ],
                        "iteration": 0,
                        "passed_time": 0.04391882154,
                        "remaining_time": 21.91549195,
                        "test": [
                          21147150320
                        ]
                      },
                      {
                        "learn": [
                          21037573260
                        ],
                        "iteration": 1,
                        "passed_time": 0.1076937378,
                        "remaining_time": 26.81574071,
                        "test": [
                          20682881680
                        ]
                      },
                      {
                        "learn": [
                          20665010630
                        ],
                        "iteration": 2,
                        "passed_time": 0.2040397643,
                        "remaining_time": 33.80258762,
                        "test": [
                          20381854230
                        ]
                      },
                      {
                        "learn": [
                          20309374390
                        ],
                        "iteration": 3,
                        "passed_time": 0.28732411,
                        "remaining_time": 35.62818964,
                        "test": [
                          20016704430
                        ]
                      },
                      {
                        "learn": [
                          19901442590
                        ],
                        "iteration": 4,
                        "passed_time": 0.3932194294,
                        "remaining_time": 38.92872351,
                        "test": [
                          19623787140
                        ]
                      },
                      {
                        "learn": [
                          19510081150
                        ],
                        "iteration": 5,
                        "passed_time": 0.4775126087,
                        "remaining_time": 39.31520479,
                        "test": [
                          19217901700
                        ]
                      },
                      {
                        "learn": [
                          19210348500
                        ],
                        "iteration": 6,
                        "passed_time": 0.5663966526,
                        "remaining_time": 39.8905071,
                        "test": [
                          18966790500
                        ]
                      },
                      {
                        "learn": [
                          18867018640
                        ],
                        "iteration": 7,
                        "passed_time": 0.6472059477,
                        "remaining_time": 39.80316579,
                        "test": [
                          18650903090
                        ]
                      },
                      {
                        "learn": [
                          18526735230
                        ],
                        "iteration": 8,
                        "passed_time": 0.7410629446,
                        "remaining_time": 40.42910064,
                        "test": [
                          18357987830
                        ]
                      },
                      {
                        "learn": [
                          18212706940
                        ],
                        "iteration": 9,
                        "passed_time": 0.8242204122,
                        "remaining_time": 40.3868002,
                        "test": [
                          18078976600
                        ]
                      },
                      {
                        "learn": [
                          17909274280
                        ],
                        "iteration": 10,
                        "passed_time": 0.9112714525,
                        "remaining_time": 40.51015821,
                        "test": [
                          17768298210
                        ]
                      },
                      {
                        "learn": [
                          17666932820
                        ],
                        "iteration": 11,
                        "passed_time": 0.9885072138,
                        "remaining_time": 40.19929336,
                        "test": [
                          17621859000
                        ]
                      },
                      {
                        "learn": [
                          17400814950
                        ],
                        "iteration": 12,
                        "passed_time": 1.079732474,
                        "remaining_time": 40.44843961,
                        "test": [
                          17358940900
                        ]
                      },
                      {
                        "learn": [
                          17166598530
                        ],
                        "iteration": 13,
                        "passed_time": 1.164682087,
                        "remaining_time": 40.43110672,
                        "test": [
                          17144105040
                        ]
                      },
                      {
                        "learn": [
                          16957504390
                        ],
                        "iteration": 14,
                        "passed_time": 1.254405325,
                        "remaining_time": 40.5591055,
                        "test": [
                          16978834040
                        ]
                      },
                      {
                        "learn": [
                          16733835840
                        ],
                        "iteration": 15,
                        "passed_time": 1.344855203,
                        "remaining_time": 40.68186988,
                        "test": [
                          16808506140
                        ]
                      },
                      {
                        "learn": [
                          16539081860
                        ],
                        "iteration": 16,
                        "passed_time": 1.444458021,
                        "remaining_time": 41.03960141,
                        "test": [
                          16645527460
                        ]
                      },
                      {
                        "learn": [
                          16372655940
                        ],
                        "iteration": 17,
                        "passed_time": 1.530891938,
                        "remaining_time": 40.99388412,
                        "test": [
                          16494655590
                        ]
                      },
                      {
                        "learn": [
                          16171202670
                        ],
                        "iteration": 18,
                        "passed_time": 1.623427757,
                        "remaining_time": 41.09835532,
                        "test": [
                          16313382710
                        ]
                      },
                      {
                        "learn": [
                          15981191280
                        ],
                        "iteration": 19,
                        "passed_time": 1.710210581,
                        "remaining_time": 41.04505394,
                        "test": [
                          16143728320
                        ]
                      },
                      {
                        "learn": [
                          15830687810
                        ],
                        "iteration": 20,
                        "passed_time": 1.797036603,
                        "remaining_time": 40.98954919,
                        "test": [
                          16009106680
                        ]
                      },
                      {
                        "learn": [
                          15697773780
                        ],
                        "iteration": 21,
                        "passed_time": 1.885537843,
                        "remaining_time": 40.96759496,
                        "test": [
                          15907581800
                        ]
                      },
                      {
                        "learn": [
                          15531663810
                        ],
                        "iteration": 22,
                        "passed_time": 1.97012134,
                        "remaining_time": 40.85860345,
                        "test": [
                          15780698980
                        ]
                      },
                      {
                        "learn": [
                          15387820190
                        ],
                        "iteration": 23,
                        "passed_time": 2.064526691,
                        "remaining_time": 40.94644603,
                        "test": [
                          15701628450
                        ]
                      },
                      {
                        "learn": [
                          15241519950
                        ],
                        "iteration": 24,
                        "passed_time": 2.155345344,
                        "remaining_time": 40.95156154,
                        "test": [
                          15584421580
                        ]
                      },
                      {
                        "learn": [
                          15098055280
                        ],
                        "iteration": 25,
                        "passed_time": 2.248868043,
                        "remaining_time": 40.99859432,
                        "test": [
                          15493066200
                        ]
                      },
                      {
                        "learn": [
                          14930011990
                        ],
                        "iteration": 26,
                        "passed_time": 2.341506408,
                        "remaining_time": 41.01972337,
                        "test": [
                          15370826550
                        ]
                      },
                      {
                        "learn": [
                          14786518290
                        ],
                        "iteration": 27,
                        "passed_time": 2.453073452,
                        "remaining_time": 41.35180962,
                        "test": [
                          15239270360
                        ]
                      },
                      {
                        "learn": [
                          14676991080
                        ],
                        "iteration": 28,
                        "passed_time": 2.539534644,
                        "remaining_time": 41.24554543,
                        "test": [
                          15183128800
                        ]
                      },
                      {
                        "learn": [
                          14570172400
                        ],
                        "iteration": 29,
                        "passed_time": 2.627598675,
                        "remaining_time": 41.16571257,
                        "test": [
                          15101599010
                        ]
                      },
                      {
                        "learn": [
                          14471148160
                        ],
                        "iteration": 30,
                        "passed_time": 2.713446256,
                        "remaining_time": 41.05181594,
                        "test": [
                          15021079530
                        ]
                      },
                      {
                        "learn": [
                          14393573040
                        ],
                        "iteration": 31,
                        "passed_time": 2.801261103,
                        "remaining_time": 40.96844363,
                        "test": [
                          14971191770
                        ]
                      },
                      {
                        "learn": [
                          14314979940
                        ],
                        "iteration": 32,
                        "passed_time": 2.883362054,
                        "remaining_time": 40.8039418,
                        "test": [
                          14935899270
                        ]
                      },
                      {
                        "learn": [
                          14205250690
                        ],
                        "iteration": 33,
                        "passed_time": 2.983012078,
                        "remaining_time": 40.88481259,
                        "test": [
                          14880712940
                        ]
                      },
                      {
                        "learn": [
                          14108904000
                        ],
                        "iteration": 34,
                        "passed_time": 3.073481124,
                        "remaining_time": 40.83339208,
                        "test": [
                          14843920840
                        ]
                      },
                      {
                        "learn": [
                          14027235200
                        ],
                        "iteration": 35,
                        "passed_time": 3.161550891,
                        "remaining_time": 40.74887815,
                        "test": [
                          14821929110
                        ]
                      },
                      {
                        "learn": [
                          13959637720
                        ],
                        "iteration": 36,
                        "passed_time": 3.276023492,
                        "remaining_time": 40.99456423,
                        "test": [
                          14796237320
                        ]
                      },
                      {
                        "learn": [
                          13882126740
                        ],
                        "iteration": 37,
                        "passed_time": 3.4438957,
                        "remaining_time": 41.8705214,
                        "test": [
                          14763700550
                        ]
                      },
                      {
                        "learn": [
                          13789508430
                        ],
                        "iteration": 38,
                        "passed_time": 3.619023378,
                        "remaining_time": 42.77871223,
                        "test": [
                          14700568270
                        ]
                      },
                      {
                        "learn": [
                          13703709390
                        ],
                        "iteration": 39,
                        "passed_time": 3.79109151,
                        "remaining_time": 43.59755236,
                        "test": [
                          14688051120
                        ]
                      },
                      {
                        "learn": [
                          13641105310
                        ],
                        "iteration": 40,
                        "passed_time": 3.962596845,
                        "remaining_time": 44.36175492,
                        "test": [
                          14667469520
                        ]
                      },
                      {
                        "learn": [
                          13587166140
                        ],
                        "iteration": 41,
                        "passed_time": 4.113466657,
                        "remaining_time": 44.8563745,
                        "test": [
                          14635990340
                        ]
                      },
                      {
                        "learn": [
                          13516972750
                        ],
                        "iteration": 42,
                        "passed_time": 4.286067654,
                        "remaining_time": 45.55192832,
                        "test": [
                          14600794800
                        ]
                      },
                      {
                        "learn": [
                          13470737360
                        ],
                        "iteration": 43,
                        "passed_time": 4.522059633,
                        "remaining_time": 46.86498165,
                        "test": [
                          14580553900
                        ]
                      },
                      {
                        "learn": [
                          13413871640
                        ],
                        "iteration": 44,
                        "passed_time": 4.807627475,
                        "remaining_time": 48.61045558,
                        "test": [
                          14535607510
                        ]
                      },
                      {
                        "learn": [
                          13363509050
                        ],
                        "iteration": 45,
                        "passed_time": 5.250617001,
                        "remaining_time": 51.82130692,
                        "test": [
                          14520087770
                        ]
                      },
                      {
                        "learn": [
                          13296817550
                        ],
                        "iteration": 46,
                        "passed_time": 5.618375361,
                        "remaining_time": 54.15157529,
                        "test": [
                          14493082190
                        ]
                      },
                      {
                        "learn": [
                          13249581370
                        ],
                        "iteration": 47,
                        "passed_time": 6.055811177,
                        "remaining_time": 57.02555525,
                        "test": [
                          14468802680
                        ]
                      },
                      {
                        "learn": [
                          13191864730
                        ],
                        "iteration": 48,
                        "passed_time": 6.416858211,
                        "remaining_time": 59.0612868,
                        "test": [
                          14463075850
                        ]
                      },
                      {
                        "learn": [
                          13145177530
                        ],
                        "iteration": 49,
                        "passed_time": 6.7139942,
                        "remaining_time": 60.4259478,
                        "test": [
                          14461130900
                        ]
                      },
                      {
                        "learn": [
                          13094016130
                        ],
                        "iteration": 50,
                        "passed_time": 7.005042768,
                        "remaining_time": 61.67184711,
                        "test": [
                          14447342610
                        ]
                      },
                      {
                        "learn": [
                          13027451210
                        ],
                        "iteration": 51,
                        "passed_time": 7.203465143,
                        "remaining_time": 62.06062277,
                        "test": [
                          14402451570
                        ]
                      },
                      {
                        "learn": [
                          12978880770
                        ],
                        "iteration": 52,
                        "passed_time": 7.41031576,
                        "remaining_time": 62.49832349,
                        "test": [
                          14394664590
                        ]
                      },
                      {
                        "learn": [
                          12931274160
                        ],
                        "iteration": 53,
                        "passed_time": 7.631574315,
                        "remaining_time": 63.03115083,
                        "test": [
                          14381402340
                        ]
                      },
                      {
                        "learn": [
                          12899068520
                        ],
                        "iteration": 54,
                        "passed_time": 7.845572345,
                        "remaining_time": 63.47781261,
                        "test": [
                          14378024480
                        ]
                      },
                      {
                        "learn": [
                          12862023280
                        ],
                        "iteration": 55,
                        "passed_time": 8.03515298,
                        "remaining_time": 63.70728434,
                        "test": [
                          14377552320
                        ]
                      },
                      {
                        "learn": [
                          12801997190
                        ],
                        "iteration": 56,
                        "passed_time": 8.239339493,
                        "remaining_time": 64.03556834,
                        "test": [
                          14345639220
                        ]
                      },
                      {
                        "learn": [
                          12767065070
                        ],
                        "iteration": 57,
                        "passed_time": 8.401461154,
                        "remaining_time": 64.0249281,
                        "test": [
                          14343873580
                        ]
                      },
                      {
                        "learn": [
                          12722524800
                        ],
                        "iteration": 58,
                        "passed_time": 8.581644642,
                        "remaining_time": 64.14415741,
                        "test": [
                          14337009890
                        ]
                      },
                      {
                        "learn": [
                          12629578290
                        ],
                        "iteration": 59,
                        "passed_time": 8.776085241,
                        "remaining_time": 64.35795843,
                        "test": [
                          14316711670
                        ]
                      },
                      {
                        "learn": [
                          12568163400
                        ],
                        "iteration": 60,
                        "passed_time": 8.881539885,
                        "remaining_time": 63.91796737,
                        "test": [
                          14284938130
                        ]
                      },
                      {
                        "learn": [
                          12509415240
                        ],
                        "iteration": 61,
                        "passed_time": 8.975507282,
                        "remaining_time": 63.40761596,
                        "test": [
                          14281688620
                        ]
                      },
                      {
                        "learn": [
                          12416058420
                        ],
                        "iteration": 62,
                        "passed_time": 9.087331182,
                        "remaining_time": 63.03434487,
                        "test": [
                          14265834610
                        ]
                      },
                      {
                        "learn": [
                          12331370910
                        ],
                        "iteration": 63,
                        "passed_time": 9.173682845,
                        "remaining_time": 62.49571438,
                        "test": [
                          14233612820
                        ]
                      },
                      {
                        "learn": [
                          12277501270
                        ],
                        "iteration": 64,
                        "passed_time": 9.272977068,
                        "remaining_time": 62.05761576,
                        "test": [
                          14212049790
                        ]
                      },
                      {
                        "learn": [
                          12237213870
                        ],
                        "iteration": 65,
                        "passed_time": 9.374592075,
                        "remaining_time": 61.64504486,
                        "test": [
                          14214047720
                        ]
                      },
                      {
                        "learn": [
                          12206578800
                        ],
                        "iteration": 66,
                        "passed_time": 9.475146096,
                        "remaining_time": 61.2348994,
                        "test": [
                          14209800710
                        ]
                      },
                      {
                        "learn": [
                          12164159490
                        ],
                        "iteration": 67,
                        "passed_time": 9.564578975,
                        "remaining_time": 60.76320761,
                        "test": [
                          14186406390
                        ]
                      },
                      {
                        "learn": [
                          12140095190
                        ],
                        "iteration": 68,
                        "passed_time": 9.651547793,
                        "remaining_time": 60.28720433,
                        "test": [
                          14181461680
                        ]
                      },
                      {
                        "learn": [
                          12103929970
                        ],
                        "iteration": 69,
                        "passed_time": 9.745290028,
                        "remaining_time": 59.86392445,
                        "test": [
                          14172875820
                        ]
                      },
                      {
                        "learn": [
                          12078557970
                        ],
                        "iteration": 70,
                        "passed_time": 9.834664441,
                        "remaining_time": 59.42353585,
                        "test": [
                          14172690220
                        ]
                      },
                      {
                        "learn": [
                          12043682700
                        ],
                        "iteration": 71,
                        "passed_time": 9.913466145,
                        "remaining_time": 58.93004875,
                        "test": [
                          14168856380
                        ]
                      },
                      {
                        "learn": [
                          12023106520
                        ],
                        "iteration": 72,
                        "passed_time": 10.02138778,
                        "remaining_time": 58.61825453,
                        "test": [
                          14167332560
                        ]
                      },
                      {
                        "learn": [
                          12001593430
                        ],
                        "iteration": 73,
                        "passed_time": 10.12338862,
                        "remaining_time": 58.27788585,
                        "test": [
                          14168873710
                        ]
                      },
                      {
                        "learn": [
                          11982584400
                        ],
                        "iteration": 74,
                        "passed_time": 10.20992834,
                        "remaining_time": 57.85626061,
                        "test": [
                          14172896600
                        ]
                      },
                      {
                        "learn": [
                          11938010900
                        ],
                        "iteration": 75,
                        "passed_time": 10.30340718,
                        "remaining_time": 57.48216635,
                        "test": [
                          14161689360
                        ]
                      },
                      {
                        "learn": [
                          11898082100
                        ],
                        "iteration": 76,
                        "passed_time": 10.38768376,
                        "remaining_time": 57.06480821,
                        "test": [
                          14131685980
                        ]
                      },
                      {
                        "learn": [
                          11833470500
                        ],
                        "iteration": 77,
                        "passed_time": 10.47081371,
                        "remaining_time": 56.64978699,
                        "test": [
                          14122347920
                        ]
                      },
                      {
                        "learn": [
                          11816468720
                        ],
                        "iteration": 78,
                        "passed_time": 10.56166002,
                        "remaining_time": 56.28428946,
                        "test": [
                          14122340520
                        ]
                      },
                      {
                        "learn": [
                          11792706200
                        ],
                        "iteration": 79,
                        "passed_time": 10.65797022,
                        "remaining_time": 55.95434368,
                        "test": [
                          14108809830
                        ]
                      },
                      {
                        "learn": [
                          11696193160
                        ],
                        "iteration": 80,
                        "passed_time": 10.76091748,
                        "remaining_time": 55.66449907,
                        "test": [
                          14086074530
                        ]
                      },
                      {
                        "learn": [
                          11663381700
                        ],
                        "iteration": 81,
                        "passed_time": 10.86592235,
                        "remaining_time": 55.38970171,
                        "test": [
                          14079592480
                        ]
                      },
                      {
                        "learn": [
                          11620568790
                        ],
                        "iteration": 82,
                        "passed_time": 11.02181906,
                        "remaining_time": 55.37468131,
                        "test": [
                          14057497050
                        ]
                      },
                      {
                        "learn": [
                          11598791640
                        ],
                        "iteration": 83,
                        "passed_time": 11.20015851,
                        "remaining_time": 55.46745168,
                        "test": [
                          14047954370
                        ]
                      },
                      {
                        "learn": [
                          11558390650
                        ],
                        "iteration": 84,
                        "passed_time": 11.35945134,
                        "remaining_time": 55.46085067,
                        "test": [
                          14017140500
                        ]
                      },
                      {
                        "learn": [
                          11510329550
                        ],
                        "iteration": 85,
                        "passed_time": 11.56468622,
                        "remaining_time": 55.67186156,
                        "test": [
                          14012088600
                        ]
                      },
                      {
                        "learn": [
                          11489771790
                        ],
                        "iteration": 86,
                        "passed_time": 11.79911602,
                        "remaining_time": 56.01189559,
                        "test": [
                          14010939030
                        ]
                      },
                      {
                        "learn": [
                          11465912120
                        ],
                        "iteration": 87,
                        "passed_time": 12.03034865,
                        "remaining_time": 56.32390505,
                        "test": [
                          14005754960
                        ]
                      },
                      {
                        "learn": [
                          11444883860
                        ],
                        "iteration": 88,
                        "passed_time": 12.26181762,
                        "remaining_time": 56.62479824,
                        "test": [
                          14004332940
                        ]
                      },
                      {
                        "learn": [
                          11422454610
                        ],
                        "iteration": 89,
                        "passed_time": 12.38387743,
                        "remaining_time": 56.41544163,
                        "test": [
                          13993560000
                        ]
                      },
                      {
                        "learn": [
                          11385127180
                        ],
                        "iteration": 90,
                        "passed_time": 12.5558944,
                        "remaining_time": 56.43253638,
                        "test": [
                          13978976380
                        ]
                      },
                      {
                        "learn": [
                          11361744850
                        ],
                        "iteration": 91,
                        "passed_time": 12.73539747,
                        "remaining_time": 56.47871923,
                        "test": [
                          13975868830
                        ]
                      },
                      {
                        "learn": [
                          11348052000
                        ],
                        "iteration": 92,
                        "passed_time": 12.92544898,
                        "remaining_time": 56.56621222,
                        "test": [
                          13977080820
                        ]
                      },
                      {
                        "learn": [
                          11328741330
                        ],
                        "iteration": 93,
                        "passed_time": 13.13451919,
                        "remaining_time": 56.7299446,
                        "test": [
                          13971740990
                        ]
                      },
                      {
                        "learn": [
                          11322863080
                        ],
                        "iteration": 94,
                        "passed_time": 13.21478945,
                        "remaining_time": 56.33673398,
                        "test": [
                          13970244160
                        ]
                      },
                      {
                        "learn": [
                          11302829370
                        ],
                        "iteration": 95,
                        "passed_time": 13.3294607,
                        "remaining_time": 56.09481376,
                        "test": [
                          13961069100
                        ]
                      },
                      {
                        "learn": [
                          11298348590
                        ],
                        "iteration": 96,
                        "passed_time": 13.4276228,
                        "remaining_time": 55.78692771,
                        "test": [
                          13959441420
                        ]
                      },
                      {
                        "learn": [
                          11263437650
                        ],
                        "iteration": 97,
                        "passed_time": 13.51062568,
                        "remaining_time": 55.42113798,
                        "test": [
                          13932807180
                        ]
                      },
                      {
                        "learn": [
                          11240169540
                        ],
                        "iteration": 98,
                        "passed_time": 13.60196711,
                        "remaining_time": 55.09483647,
                        "test": [
                          13926714020
                        ]
                      },
                      {
                        "learn": [
                          11155764110
                        ],
                        "iteration": 99,
                        "passed_time": 13.70851414,
                        "remaining_time": 54.83405657,
                        "test": [
                          13888475600
                        ]
                      },
                      {
                        "learn": [
                          11151743970
                        ],
                        "iteration": 100,
                        "passed_time": 13.74927258,
                        "remaining_time": 54.31643327,
                        "test": [
                          13886201570
                        ]
                      },
                      {
                        "learn": [
                          11132104280
                        ],
                        "iteration": 101,
                        "passed_time": 13.85347273,
                        "remaining_time": 54.05570733,
                        "test": [
                          13882974110
                        ]
                      },
                      {
                        "learn": [
                          11098304460
                        ],
                        "iteration": 102,
                        "passed_time": 13.95458252,
                        "remaining_time": 53.78610931,
                        "test": [
                          13879074090
                        ]
                      },
                      {
                        "learn": [
                          11064657560
                        ],
                        "iteration": 103,
                        "passed_time": 14.06525985,
                        "remaining_time": 53.55618173,
                        "test": [
                          13867193730
                        ]
                      },
                      {
                        "learn": [
                          11039244830
                        ],
                        "iteration": 104,
                        "passed_time": 14.14950288,
                        "remaining_time": 53.22908225,
                        "test": [
                          13869176600
                        ]
                      },
                      {
                        "learn": [
                          11028077420
                        ],
                        "iteration": 105,
                        "passed_time": 14.24306938,
                        "remaining_time": 52.94122014,
                        "test": [
                          13866728570
                        ]
                      },
                      {
                        "learn": [
                          11009211460
                        ],
                        "iteration": 106,
                        "passed_time": 14.33304681,
                        "remaining_time": 52.64380744,
                        "test": [
                          13873620370
                        ]
                      },
                      {
                        "learn": [
                          10991318320
                        ],
                        "iteration": 107,
                        "passed_time": 14.42778457,
                        "remaining_time": 52.36751438,
                        "test": [
                          13860326560
                        ]
                      },
                      {
                        "learn": [
                          10965869990
                        ],
                        "iteration": 108,
                        "passed_time": 14.51380244,
                        "remaining_time": 52.06327298,
                        "test": [
                          13838844760
                        ]
                      },
                      {
                        "learn": [
                          10953221780
                        ],
                        "iteration": 109,
                        "passed_time": 14.61805801,
                        "remaining_time": 51.82766022,
                        "test": [
                          13833472400
                        ]
                      },
                      {
                        "learn": [
                          10932001380
                        ],
                        "iteration": 110,
                        "passed_time": 14.71895734,
                        "remaining_time": 51.58265231,
                        "test": [
                          13825270820
                        ]
                      },
                      {
                        "learn": [
                          10915021380
                        ],
                        "iteration": 111,
                        "passed_time": 14.82909687,
                        "remaining_time": 51.37222843,
                        "test": [
                          13821072150
                        ]
                      },
                      {
                        "learn": [
                          10859711740
                        ],
                        "iteration": 112,
                        "passed_time": 14.92284779,
                        "remaining_time": 51.10745218,
                        "test": [
                          13815611810
                        ]
                      },
                      {
                        "learn": [
                          10846436800
                        ],
                        "iteration": 113,
                        "passed_time": 15.02321055,
                        "remaining_time": 50.86806379,
                        "test": [
                          13816502130
                        ]
                      },
                      {
                        "learn": [
                          10828603820
                        ],
                        "iteration": 114,
                        "passed_time": 15.13979835,
                        "remaining_time": 50.68541186,
                        "test": [
                          13804168580
                        ]
                      },
                      {
                        "learn": [
                          10819902830
                        ],
                        "iteration": 115,
                        "passed_time": 15.23170849,
                        "remaining_time": 50.4222074,
                        "test": [
                          13801039360
                        ]
                      },
                      {
                        "learn": [
                          10756029950
                        ],
                        "iteration": 116,
                        "passed_time": 15.32495418,
                        "remaining_time": 50.16630301,
                        "test": [
                          13756742190
                        ]
                      },
                      {
                        "learn": [
                          10750145290
                        ],
                        "iteration": 117,
                        "passed_time": 15.35624665,
                        "remaining_time": 49.71259508,
                        "test": [
                          13756369570
                        ]
                      },
                      {
                        "learn": [
                          10744105290
                        ],
                        "iteration": 118,
                        "passed_time": 15.4485374,
                        "remaining_time": 49.46128361,
                        "test": [
                          13750291670
                        ]
                      },
                      {
                        "learn": [
                          10735880040
                        ],
                        "iteration": 119,
                        "passed_time": 15.55797424,
                        "remaining_time": 49.26691843,
                        "test": [
                          13749266880
                        ]
                      },
                      {
                        "learn": [
                          10721458310
                        ],
                        "iteration": 120,
                        "passed_time": 15.65120108,
                        "remaining_time": 49.02318356,
                        "test": [
                          13746013820
                        ]
                      },
                      {
                        "learn": [
                          10706912860
                        ],
                        "iteration": 121,
                        "passed_time": 15.73040947,
                        "remaining_time": 48.73848179,
                        "test": [
                          13740572710
                        ]
                      },
                      {
                        "learn": [
                          10687547150
                        ],
                        "iteration": 122,
                        "passed_time": 15.84393913,
                        "remaining_time": 48.56231749,
                        "test": [
                          13739253510
                        ]
                      },
                      {
                        "learn": [
                          10658829880
                        ],
                        "iteration": 123,
                        "passed_time": 15.93100006,
                        "remaining_time": 48.30690341,
                        "test": [
                          13747137360
                        ]
                      },
                      {
                        "learn": [
                          10643301280
                        ],
                        "iteration": 124,
                        "passed_time": 16.02443748,
                        "remaining_time": 48.07331243,
                        "test": [
                          13741654810
                        ]
                      },
                      {
                        "learn": [
                          10633329470
                        ],
                        "iteration": 125,
                        "passed_time": 16.12831682,
                        "remaining_time": 47.87294039,
                        "test": [
                          13741934460
                        ]
                      },
                      {
                        "learn": [
                          10596967440
                        ],
                        "iteration": 126,
                        "passed_time": 16.21262257,
                        "remaining_time": 47.61660015,
                        "test": [
                          13742632760
                        ]
                      },
                      {
                        "learn": [
                          10585705680
                        ],
                        "iteration": 127,
                        "passed_time": 16.31830181,
                        "remaining_time": 47.42506464,
                        "test": [
                          13744639270
                        ]
                      },
                      {
                        "learn": [
                          10572114480
                        ],
                        "iteration": 128,
                        "passed_time": 16.40308837,
                        "remaining_time": 47.17477353,
                        "test": [
                          13742829860
                        ]
                      },
                      {
                        "learn": [
                          10545482400
                        ],
                        "iteration": 129,
                        "passed_time": 16.49656979,
                        "remaining_time": 46.95177557,
                        "test": [
                          13723281610
                        ]
                      },
                      {
                        "learn": [
                          10525639030
                        ],
                        "iteration": 130,
                        "passed_time": 16.59968336,
                        "remaining_time": 46.75788672,
                        "test": [
                          13715246860
                        ]
                      },
                      {
                        "learn": [
                          10513895450
                        ],
                        "iteration": 131,
                        "passed_time": 16.68857748,
                        "remaining_time": 46.52573115,
                        "test": [
                          13712777950
                        ]
                      },
                      {
                        "learn": [
                          10491615110
                        ],
                        "iteration": 132,
                        "passed_time": 16.77693134,
                        "remaining_time": 46.29423912,
                        "test": [
                          13692385450
                        ]
                      },
                      {
                        "learn": [
                          10476336680
                        ],
                        "iteration": 133,
                        "passed_time": 16.88086755,
                        "remaining_time": 46.10744421,
                        "test": [
                          13686650350
                        ]
                      },
                      {
                        "learn": [
                          10415153450
                        ],
                        "iteration": 134,
                        "passed_time": 16.98431918,
                        "remaining_time": 45.92056668,
                        "test": [
                          13679985720
                        ]
                      },
                      {
                        "learn": [
                          10397780590
                        ],
                        "iteration": 135,
                        "passed_time": 17.13681741,
                        "remaining_time": 45.86618779,
                        "test": [
                          13673966650
                        ]
                      },
                      {
                        "learn": [
                          10381664510
                        ],
                        "iteration": 136,
                        "passed_time": 17.32832615,
                        "remaining_time": 45.9137401,
                        "test": [
                          13667777810
                        ]
                      },
                      {
                        "learn": [
                          10366617540
                        ],
                        "iteration": 137,
                        "passed_time": 17.50188313,
                        "remaining_time": 45.9107369,
                        "test": [
                          13666744370
                        ]
                      },
                      {
                        "learn": [
                          10340634960
                        ],
                        "iteration": 138,
                        "passed_time": 17.70130047,
                        "remaining_time": 45.97244222,
                        "test": [
                          13648429120
                        ]
                      },
                      {
                        "learn": [
                          10328512920
                        ],
                        "iteration": 139,
                        "passed_time": 17.88640136,
                        "remaining_time": 45.9936035,
                        "test": [
                          13648130020
                        ]
                      },
                      {
                        "learn": [
                          10316226110
                        ],
                        "iteration": 140,
                        "passed_time": 18.08518185,
                        "remaining_time": 46.04666869,
                        "test": [
                          13646781910
                        ]
                      },
                      {
                        "learn": [
                          10309739820
                        ],
                        "iteration": 141,
                        "passed_time": 18.27724289,
                        "remaining_time": 46.07924617,
                        "test": [
                          13645879250
                        ]
                      },
                      {
                        "learn": [
                          10295415710
                        ],
                        "iteration": 142,
                        "passed_time": 18.46407785,
                        "remaining_time": 46.0956349,
                        "test": [
                          13641484330
                        ]
                      },
                      {
                        "learn": [
                          10277899980
                        ],
                        "iteration": 143,
                        "passed_time": 18.65661209,
                        "remaining_time": 46.12329099,
                        "test": [
                          13628880940
                        ]
                      },
                      {
                        "learn": [
                          10259169640
                        ],
                        "iteration": 144,
                        "passed_time": 18.8261704,
                        "remaining_time": 46.09165857,
                        "test": [
                          13619498520
                        ]
                      },
                      {
                        "learn": [
                          10250664240
                        ],
                        "iteration": 145,
                        "passed_time": 19.01984921,
                        "remaining_time": 46.11662069,
                        "test": [
                          13620289430
                        ]
                      },
                      {
                        "learn": [
                          10242713690
                        ],
                        "iteration": 146,
                        "passed_time": 19.2406749,
                        "remaining_time": 46.20379756,
                        "test": [
                          13621754410
                        ]
                      },
                      {
                        "learn": [
                          10215053410
                        ],
                        "iteration": 147,
                        "passed_time": 19.4199981,
                        "remaining_time": 46.18810359,
                        "test": [
                          13616267740
                        ]
                      },
                      {
                        "learn": [
                          10205167520
                        ],
                        "iteration": 148,
                        "passed_time": 19.60453454,
                        "remaining_time": 46.18249412,
                        "test": [
                          13614238660
                        ]
                      },
                      {
                        "learn": [
                          10195570890
                        ],
                        "iteration": 149,
                        "passed_time": 19.90379823,
                        "remaining_time": 46.44219586,
                        "test": [
                          13608903250
                        ]
                      },
                      {
                        "learn": [
                          10129783750
                        ],
                        "iteration": 150,
                        "passed_time": 20.17315939,
                        "remaining_time": 46.62538163,
                        "test": [
                          13602744200
                        ]
                      },
                      {
                        "learn": [
                          10120788680
                        ],
                        "iteration": 151,
                        "passed_time": 20.45736856,
                        "remaining_time": 46.83660696,
                        "test": [
                          13601235400
                        ]
                      },
                      {
                        "learn": [
                          10054043290
                        ],
                        "iteration": 152,
                        "passed_time": 20.72114351,
                        "remaining_time": 46.99501175,
                        "test": [
                          13594255420
                        ]
                      },
                      {
                        "learn": [
                          10051331080
                        ],
                        "iteration": 153,
                        "passed_time": 20.78640298,
                        "remaining_time": 46.70191838,
                        "test": [
                          13594800860
                        ]
                      },
                      {
                        "learn": [
                          10030866900
                        ],
                        "iteration": 154,
                        "passed_time": 20.9735455,
                        "remaining_time": 46.68305288,
                        "test": [
                          13586619070
                        ]
                      },
                      {
                        "learn": [
                          10023412240
                        ],
                        "iteration": 155,
                        "passed_time": 21.27622749,
                        "remaining_time": 46.91680933,
                        "test": [
                          13583353000
                        ]
                      },
                      {
                        "learn": [
                          10016404560
                        ],
                        "iteration": 156,
                        "passed_time": 21.55963221,
                        "remaining_time": 47.10161686,
                        "test": [
                          13581799430
                        ]
                      },
                      {
                        "learn": [
                          10005785820
                        ],
                        "iteration": 157,
                        "passed_time": 21.80517948,
                        "remaining_time": 47.19855305,
                        "test": [
                          13584237070
                        ]
                      },
                      {
                        "learn": [
                          9981454893
                        ],
                        "iteration": 158,
                        "passed_time": 22.08301761,
                        "remaining_time": 47.360434,
                        "test": [
                          13561065270
                        ]
                      },
                      {
                        "learn": [
                          9975014129
                        ],
                        "iteration": 159,
                        "passed_time": 22.34344665,
                        "remaining_time": 47.47982413,
                        "test": [
                          13562233110
                        ]
                      },
                      {
                        "learn": [
                          9952842833
                        ],
                        "iteration": 160,
                        "passed_time": 22.53645112,
                        "remaining_time": 47.45252752,
                        "test": [
                          13562454790
                        ]
                      },
                      {
                        "learn": [
                          9942531989
                        ],
                        "iteration": 161,
                        "passed_time": 22.73220408,
                        "remaining_time": 47.42891962,
                        "test": [
                          13564546070
                        ]
                      },
                      {
                        "learn": [
                          9938229868
                        ],
                        "iteration": 162,
                        "passed_time": 22.83060406,
                        "remaining_time": 47.20192372,
                        "test": [
                          13564392880
                        ]
                      },
                      {
                        "learn": [
                          9922020241
                        ],
                        "iteration": 163,
                        "passed_time": 23.01558561,
                        "remaining_time": 47.15388271,
                        "test": [
                          13567479690
                        ]
                      },
                      {
                        "learn": [
                          9914935445
                        ],
                        "iteration": 164,
                        "passed_time": 23.2652383,
                        "remaining_time": 47.23548382,
                        "test": [
                          13569073940
                        ]
                      },
                      {
                        "learn": [
                          9902324079
                        ],
                        "iteration": 165,
                        "passed_time": 23.52783661,
                        "remaining_time": 47.33914114,
                        "test": [
                          13568082390
                        ]
                      },
                      {
                        "learn": [
                          9848971147
                        ],
                        "iteration": 166,
                        "passed_time": 23.71574368,
                        "remaining_time": 47.28947691,
                        "test": [
                          13566334010
                        ]
                      },
                      {
                        "learn": [
                          9839107924
                        ],
                        "iteration": 167,
                        "passed_time": 23.92839814,
                        "remaining_time": 47.28707251,
                        "test": [
                          13567170440
                        ]
                      },
                      {
                        "learn": [
                          9809423383
                        ],
                        "iteration": 168,
                        "passed_time": 24.19330528,
                        "remaining_time": 47.384521,
                        "test": [
                          13556576750
                        ]
                      },
                      {
                        "learn": [
                          9789823435
                        ],
                        "iteration": 169,
                        "passed_time": 24.53252213,
                        "remaining_time": 47.62195473,
                        "test": [
                          13548504160
                        ]
                      },
                      {
                        "learn": [
                          9779271537
                        ],
                        "iteration": 170,
                        "passed_time": 24.89008027,
                        "remaining_time": 47.88793222,
                        "test": [
                          13548203140
                        ]
                      },
                      {
                        "learn": [
                          9757812845
                        ],
                        "iteration": 171,
                        "passed_time": 25.20699334,
                        "remaining_time": 48.06915009,
                        "test": [
                          13539438240
                        ]
                      },
                      {
                        "learn": [
                          9750010441
                        ],
                        "iteration": 172,
                        "passed_time": 25.43402102,
                        "remaining_time": 48.07471026,
                        "test": [
                          13536027840
                        ]
                      },
                      {
                        "learn": [
                          9741306766
                        ],
                        "iteration": 173,
                        "passed_time": 25.66184899,
                        "remaining_time": 48.07909639,
                        "test": [
                          13536148130
                        ]
                      },
                      {
                        "learn": [
                          9721211659
                        ],
                        "iteration": 174,
                        "passed_time": 25.90087982,
                        "remaining_time": 48.10163395,
                        "test": [
                          13539732340
                        ]
                      },
                      {
                        "learn": [
                          9709950713
                        ],
                        "iteration": 175,
                        "passed_time": 26.10814196,
                        "remaining_time": 48.06271588,
                        "test": [
                          13533964800
                        ]
                      },
                      {
                        "learn": [
                          9693817981
                        ],
                        "iteration": 176,
                        "passed_time": 26.32970394,
                        "remaining_time": 48.04799081,
                        "test": [
                          13528652870
                        ]
                      },
                      {
                        "learn": [
                          9687791762
                        ],
                        "iteration": 177,
                        "passed_time": 26.58547268,
                        "remaining_time": 48.09282137,
                        "test": [
                          13529425340
                        ]
                      },
                      {
                        "learn": [
                          9671696971
                        ],
                        "iteration": 178,
                        "passed_time": 26.79003095,
                        "remaining_time": 48.04245773,
                        "test": [
                          13526690480
                        ]
                      },
                      {
                        "learn": [
                          9655693391
                        ],
                        "iteration": 179,
                        "passed_time": 26.99533843,
                        "remaining_time": 47.99171277,
                        "test": [
                          13525900420
                        ]
                      },
                      {
                        "learn": [
                          9644458262
                        ],
                        "iteration": 180,
                        "passed_time": 27.20426009,
                        "remaining_time": 47.94562966,
                        "test": [
                          13520282730
                        ]
                      },
                      {
                        "learn": [
                          9622107277
                        ],
                        "iteration": 181,
                        "passed_time": 27.42291273,
                        "remaining_time": 47.9147596,
                        "test": [
                          13508877300
                        ]
                      },
                      {
                        "learn": [
                          9615780034
                        ],
                        "iteration": 182,
                        "passed_time": 27.65114953,
                        "remaining_time": 47.89843935,
                        "test": [
                          13507549850
                        ]
                      },
                      {
                        "learn": [
                          9595208273
                        ],
                        "iteration": 183,
                        "passed_time": 27.87786607,
                        "remaining_time": 47.87720476,
                        "test": [
                          13506512990
                        ]
                      },
                      {
                        "learn": [
                          9585793080
                        ],
                        "iteration": 184,
                        "passed_time": 28.11309924,
                        "remaining_time": 47.86825006,
                        "test": [
                          13507397410
                        ]
                      },
                      {
                        "learn": [
                          9579836375
                        ],
                        "iteration": 185,
                        "passed_time": 28.36470492,
                        "remaining_time": 47.88450185,
                        "test": [
                          13505199340
                        ]
                      },
                      {
                        "learn": [
                          9570600015
                        ],
                        "iteration": 186,
                        "passed_time": 28.63003253,
                        "remaining_time": 47.92085658,
                        "test": [
                          13502432790
                        ]
                      },
                      {
                        "learn": [
                          9562068596
                        ],
                        "iteration": 187,
                        "passed_time": 28.75468323,
                        "remaining_time": 47.72053813,
                        "test": [
                          13494954850
                        ]
                      },
                      {
                        "learn": [
                          9560707160
                        ],
                        "iteration": 188,
                        "passed_time": 28.77614167,
                        "remaining_time": 47.35121724,
                        "test": [
                          13494308620
                        ]
                      },
                      {
                        "learn": [
                          9545672401
                        ],
                        "iteration": 189,
                        "passed_time": 28.87854011,
                        "remaining_time": 47.11761808,
                        "test": [
                          13489823530
                        ]
                      },
                      {
                        "learn": [
                          9542037534
                        ],
                        "iteration": 190,
                        "passed_time": 29.06596629,
                        "remaining_time": 47.02295069,
                        "test": [
                          13490371810
                        ]
                      },
                      {
                        "learn": [
                          9521030963
                        ],
                        "iteration": 191,
                        "passed_time": 29.27797387,
                        "remaining_time": 46.96674976,
                        "test": [
                          13479484860
                        ]
                      },
                      {
                        "learn": [
                          9519419661
                        ],
                        "iteration": 192,
                        "passed_time": 29.44817608,
                        "remaining_time": 46.84243552,
                        "test": [
                          13479828920
                        ]
                      },
                      {
                        "learn": [
                          9510686721
                        ],
                        "iteration": 193,
                        "passed_time": 29.69639121,
                        "remaining_time": 46.84069953,
                        "test": [
                          13479444520
                        ]
                      },
                      {
                        "learn": [
                          9490382477
                        ],
                        "iteration": 194,
                        "passed_time": 29.86708292,
                        "remaining_time": 46.71518097,
                        "test": [
                          13471364940
                        ]
                      },
                      {
                        "learn": [
                          9477080607
                        ],
                        "iteration": 195,
                        "passed_time": 30.04959282,
                        "remaining_time": 46.60753172,
                        "test": [
                          13471658250
                        ]
                      },
                      {
                        "learn": [
                          9470668527
                        ],
                        "iteration": 196,
                        "passed_time": 30.22837922,
                        "remaining_time": 46.49339546,
                        "test": [
                          13471113990
                        ]
                      },
                      {
                        "learn": [
                          9462918044
                        ],
                        "iteration": 197,
                        "passed_time": 30.44368822,
                        "remaining_time": 46.43431234,
                        "test": [
                          13468826540
                        ]
                      },
                      {
                        "learn": [
                          9448442845
                        ],
                        "iteration": 198,
                        "passed_time": 30.61971084,
                        "remaining_time": 46.314236,
                        "test": [
                          13467499010
                        ]
                      },
                      {
                        "learn": [
                          9397671624
                        ],
                        "iteration": 199,
                        "passed_time": 30.91099591,
                        "remaining_time": 46.36649387,
                        "test": [
                          13452648360
                        ]
                      },
                      {
                        "learn": [
                          9380049959
                        ],
                        "iteration": 200,
                        "passed_time": 31.13798565,
                        "remaining_time": 46.31969009,
                        "test": [
                          13450811390
                        ]
                      },
                      {
                        "learn": [
                          9367575536
                        ],
                        "iteration": 201,
                        "passed_time": 31.347402,
                        "remaining_time": 46.24517722,
                        "test": [
                          13445614980
                        ]
                      },
                      {
                        "learn": [
                          9352451716
                        ],
                        "iteration": 202,
                        "passed_time": 31.65323819,
                        "remaining_time": 46.31040268,
                        "test": [
                          13441839540
                        ]
                      },
                      {
                        "learn": [
                          9346768936
                        ],
                        "iteration": 203,
                        "passed_time": 31.93746205,
                        "remaining_time": 46.34063121,
                        "test": [
                          13438654980
                        ]
                      },
                      {
                        "learn": [
                          9336825020
                        ],
                        "iteration": 204,
                        "passed_time": 32.12018044,
                        "remaining_time": 46.22172307,
                        "test": [
                          13442549460
                        ]
                      },
                      {
                        "learn": [
                          9332898674
                        ],
                        "iteration": 205,
                        "passed_time": 32.31848412,
                        "remaining_time": 46.1244385,
                        "test": [
                          13441577940
                        ]
                      },
                      {
                        "learn": [
                          9319675610
                        ],
                        "iteration": 206,
                        "passed_time": 32.53705854,
                        "remaining_time": 46.0548703,
                        "test": [
                          13438037140
                        ]
                      },
                      {
                        "learn": [
                          9305649285
                        ],
                        "iteration": 207,
                        "passed_time": 32.67620793,
                        "remaining_time": 45.87236883,
                        "test": [
                          13440611670
                        ]
                      },
                      {
                        "learn": [
                          9294560669
                        ],
                        "iteration": 208,
                        "passed_time": 32.86171051,
                        "remaining_time": 45.75482181,
                        "test": [
                          13435429190
                        ]
                      },
                      {
                        "learn": [
                          9282001479
                        ],
                        "iteration": 209,
                        "passed_time": 33.02256741,
                        "remaining_time": 45.60259309,
                        "test": [
                          13436234740
                        ]
                      },
                      {
                        "learn": [
                          9276271105
                        ],
                        "iteration": 210,
                        "passed_time": 33.21514514,
                        "remaining_time": 45.4937296,
                        "test": [
                          13439465610
                        ]
                      },
                      {
                        "learn": [
                          9266381791
                        ],
                        "iteration": 211,
                        "passed_time": 33.37019381,
                        "remaining_time": 45.33309348,
                        "test": [
                          13435218080
                        ]
                      },
                      {
                        "learn": [
                          9213050496
                        ],
                        "iteration": 212,
                        "passed_time": 33.59428256,
                        "remaining_time": 45.26553565,
                        "test": [
                          13427444290
                        ]
                      },
                      {
                        "learn": [
                          9199458644
                        ],
                        "iteration": 213,
                        "passed_time": 33.74723457,
                        "remaining_time": 45.10144433,
                        "test": [
                          13424229990
                        ]
                      },
                      {
                        "learn": [
                          9192644488
                        ],
                        "iteration": 214,
                        "passed_time": 33.94415489,
                        "remaining_time": 44.9957402,
                        "test": [
                          13421691360
                        ]
                      },
                      {
                        "learn": [
                          9186568038
                        ],
                        "iteration": 215,
                        "passed_time": 34.14005756,
                        "remaining_time": 44.88785346,
                        "test": [
                          13420562550
                        ]
                      },
                      {
                        "learn": [
                          9182056531
                        ],
                        "iteration": 216,
                        "passed_time": 34.30685389,
                        "remaining_time": 44.74119654,
                        "test": [
                          13417988270
                        ]
                      },
                      {
                        "learn": [
                          9175458756
                        ],
                        "iteration": 217,
                        "passed_time": 34.40521654,
                        "remaining_time": 44.50583057,
                        "test": [
                          13420746320
                        ]
                      },
                      {
                        "learn": [
                          9162762379
                        ],
                        "iteration": 218,
                        "passed_time": 34.50969828,
                        "remaining_time": 44.2795672,
                        "test": [
                          13420504100
                        ]
                      },
                      {
                        "learn": [
                          9144363196
                        ],
                        "iteration": 219,
                        "passed_time": 34.63242675,
                        "remaining_time": 44.07763404,
                        "test": [
                          13420078020
                        ]
                      },
                      {
                        "learn": [
                          9132072532
                        ],
                        "iteration": 220,
                        "passed_time": 34.72471315,
                        "remaining_time": 43.83798628,
                        "test": [
                          13412237020
                        ]
                      },
                      {
                        "learn": [
                          9117060422
                        ],
                        "iteration": 221,
                        "passed_time": 34.82289541,
                        "remaining_time": 43.60704921,
                        "test": [
                          13409503120
                        ]
                      },
                      {
                        "learn": [
                          9100309995
                        ],
                        "iteration": 222,
                        "passed_time": 34.91470265,
                        "remaining_time": 43.36938401,
                        "test": [
                          13410737890
                        ]
                      },
                      {
                        "learn": [
                          9085464885
                        ],
                        "iteration": 223,
                        "passed_time": 35.00400601,
                        "remaining_time": 43.12993598,
                        "test": [
                          13407685710
                        ]
                      },
                      {
                        "learn": [
                          9067863943
                        ],
                        "iteration": 224,
                        "passed_time": 35.08077091,
                        "remaining_time": 42.87649778,
                        "test": [
                          13382489700
                        ]
                      },
                      {
                        "learn": [
                          9053903450
                        ],
                        "iteration": 225,
                        "passed_time": 35.171222,
                        "remaining_time": 42.64121606,
                        "test": [
                          13378695700
                        ]
                      },
                      {
                        "learn": [
                          9046478022
                        ],
                        "iteration": 226,
                        "passed_time": 35.27979043,
                        "remaining_time": 42.42899907,
                        "test": [
                          13381171010
                        ]
                      },
                      {
                        "learn": [
                          9028461808
                        ],
                        "iteration": 227,
                        "passed_time": 35.37025042,
                        "remaining_time": 42.19608822,
                        "test": [
                          13382415410
                        ]
                      },
                      {
                        "learn": [
                          9013423485
                        ],
                        "iteration": 228,
                        "passed_time": 35.45530584,
                        "remaining_time": 41.95802569,
                        "test": [
                          13383830650
                        ]
                      },
                      {
                        "learn": [
                          9009366927
                        ],
                        "iteration": 229,
                        "passed_time": 35.57726781,
                        "remaining_time": 41.76461873,
                        "test": [
                          13381750220
                        ]
                      },
                      {
                        "learn": [
                          8989931135
                        ],
                        "iteration": 230,
                        "passed_time": 35.67406606,
                        "remaining_time": 41.54252714,
                        "test": [
                          13387106640
                        ]
                      },
                      {
                        "learn": [
                          8975687726
                        ],
                        "iteration": 231,
                        "passed_time": 35.77142184,
                        "remaining_time": 41.32215971,
                        "test": [
                          13386619870
                        ]
                      },
                      {
                        "learn": [
                          8965686823
                        ],
                        "iteration": 232,
                        "passed_time": 35.85921299,
                        "remaining_time": 41.09188784,
                        "test": [
                          13383266890
                        ]
                      },
                      {
                        "learn": [
                          8959035813
                        ],
                        "iteration": 233,
                        "passed_time": 35.95531688,
                        "remaining_time": 40.87228329,
                        "test": [
                          13383482520
                        ]
                      },
                      {
                        "learn": [
                          8942948873
                        ],
                        "iteration": 234,
                        "passed_time": 36.03962307,
                        "remaining_time": 40.64042602,
                        "test": [
                          13380482160
                        ]
                      },
                      {
                        "learn": [
                          8932667745
                        ],
                        "iteration": 235,
                        "passed_time": 36.12656447,
                        "remaining_time": 40.41276703,
                        "test": [
                          13373258690
                        ]
                      },
                      {
                        "learn": [
                          8924051220
                        ],
                        "iteration": 236,
                        "passed_time": 36.22898114,
                        "remaining_time": 40.20346852,
                        "test": [
                          13367687730
                        ]
                      },
                      {
                        "learn": [
                          8915913374
                        ],
                        "iteration": 237,
                        "passed_time": 36.32821194,
                        "remaining_time": 39.99156104,
                        "test": [
                          13369391620
                        ]
                      },
                      {
                        "learn": [
                          8903685387
                        ],
                        "iteration": 238,
                        "passed_time": 36.42054503,
                        "remaining_time": 39.77306381,
                        "test": [
                          13360021650
                        ]
                      },
                      {
                        "learn": [
                          8899636584
                        ],
                        "iteration": 239,
                        "passed_time": 36.52075736,
                        "remaining_time": 39.56415381,
                        "test": [
                          13362424210
                        ]
                      },
                      {
                        "learn": [
                          8890842790
                        ],
                        "iteration": 240,
                        "passed_time": 36.6473328,
                        "remaining_time": 39.38447798,
                        "test": [
                          13363391450
                        ]
                      },
                      {
                        "learn": [
                          8872481828
                        ],
                        "iteration": 241,
                        "passed_time": 36.74387209,
                        "remaining_time": 39.17321901,
                        "test": [
                          13364352820
                        ]
                      },
                      {
                        "learn": [
                          8862294418
                        ],
                        "iteration": 242,
                        "passed_time": 36.83562701,
                        "remaining_time": 38.9578442,
                        "test": [
                          13365228030
                        ]
                      },
                      {
                        "learn": [
                          8816375328
                        ],
                        "iteration": 243,
                        "passed_time": 36.94342315,
                        "remaining_time": 38.76031281,
                        "test": [
                          13365810270
                        ]
                      },
                      {
                        "learn": [
                          8807447021
                        ],
                        "iteration": 244,
                        "passed_time": 37.0311331,
                        "remaining_time": 38.54260792,
                        "test": [
                          13363486080
                        ]
                      },
                      {
                        "learn": [
                          8795870483
                        ],
                        "iteration": 245,
                        "passed_time": 37.13061302,
                        "remaining_time": 38.33811263,
                        "test": [
                          13363383180
                        ]
                      },
                      {
                        "learn": [
                          8778439545
                        ],
                        "iteration": 246,
                        "passed_time": 37.23223356,
                        "remaining_time": 38.13666029,
                        "test": [
                          13363128280
                        ]
                      },
                      {
                        "learn": [
                          8771364241
                        ],
                        "iteration": 247,
                        "passed_time": 37.34059997,
                        "remaining_time": 37.94286771,
                        "test": [
                          13361502570
                        ]
                      },
                      {
                        "learn": [
                          8761097602
                        ],
                        "iteration": 248,
                        "passed_time": 37.44000258,
                        "remaining_time": 37.7407255,
                        "test": [
                          13354609710
                        ]
                      },
                      {
                        "learn": [
                          8751695669
                        ],
                        "iteration": 249,
                        "passed_time": 37.5309467,
                        "remaining_time": 37.5309467,
                        "test": [
                          13358082720
                        ]
                      },
                      {
                        "learn": [
                          8741778038
                        ],
                        "iteration": 250,
                        "passed_time": 37.63749456,
                        "remaining_time": 37.33759421,
                        "test": [
                          13353333760
                        ]
                      },
                      {
                        "learn": [
                          8732603030
                        ],
                        "iteration": 251,
                        "passed_time": 37.74004433,
                        "remaining_time": 37.140996,
                        "test": [
                          13352988370
                        ]
                      },
                      {
                        "learn": [
                          8718793533
                        ],
                        "iteration": 252,
                        "passed_time": 37.82681605,
                        "remaining_time": 36.92973741,
                        "test": [
                          13351193200
                        ]
                      },
                      {
                        "learn": [
                          8716240263
                        ],
                        "iteration": 253,
                        "passed_time": 37.92196882,
                        "remaining_time": 36.7275761,
                        "test": [
                          13351596990
                        ]
                      },
                      {
                        "learn": [
                          8701653584
                        ],
                        "iteration": 254,
                        "passed_time": 38.02512004,
                        "remaining_time": 36.53393887,
                        "test": [
                          13352760930
                        ]
                      },
                      {
                        "learn": [
                          8684575250
                        ],
                        "iteration": 255,
                        "passed_time": 38.12151064,
                        "remaining_time": 36.33456483,
                        "test": [
                          13337206860
                        ]
                      },
                      {
                        "learn": [
                          8678003534
                        ],
                        "iteration": 256,
                        "passed_time": 38.22192618,
                        "remaining_time": 36.1397979,
                        "test": [
                          13335227040
                        ]
                      },
                      {
                        "learn": [
                          8667467321
                        ],
                        "iteration": 257,
                        "passed_time": 38.32386813,
                        "remaining_time": 35.94719413,
                        "test": [
                          13332303440
                        ]
                      },
                      {
                        "learn": [
                          8661081116
                        ],
                        "iteration": 258,
                        "passed_time": 38.42554853,
                        "remaining_time": 35.75504708,
                        "test": [
                          13331995750
                        ]
                      },
                      {
                        "learn": [
                          8652980540
                        ],
                        "iteration": 259,
                        "passed_time": 38.51944306,
                        "remaining_time": 35.55640898,
                        "test": [
                          13331844700
                        ]
                      },
                      {
                        "learn": [
                          8638078958
                        ],
                        "iteration": 260,
                        "passed_time": 38.63882528,
                        "remaining_time": 35.3819128,
                        "test": [
                          13323816170
                        ]
                      },
                      {
                        "learn": [
                          8627807978
                        ],
                        "iteration": 261,
                        "passed_time": 38.74866279,
                        "remaining_time": 35.19916696,
                        "test": [
                          13326630070
                        ]
                      },
                      {
                        "learn": [
                          8615377437
                        ],
                        "iteration": 262,
                        "passed_time": 38.84684775,
                        "remaining_time": 35.00647497,
                        "test": [
                          13328472600
                        ]
                      },
                      {
                        "learn": [
                          8599790710
                        ],
                        "iteration": 263,
                        "passed_time": 38.93522183,
                        "remaining_time": 34.80572861,
                        "test": [
                          13330399580
                        ]
                      },
                      {
                        "learn": [
                          8585728560
                        ],
                        "iteration": 264,
                        "passed_time": 39.03333993,
                        "remaining_time": 34.61447126,
                        "test": [
                          13331275530
                        ]
                      },
                      {
                        "learn": [
                          8571888441
                        ],
                        "iteration": 265,
                        "passed_time": 39.11725308,
                        "remaining_time": 34.41141812,
                        "test": [
                          13330968500
                        ]
                      },
                      {
                        "learn": [
                          8558887344
                        ],
                        "iteration": 266,
                        "passed_time": 39.21840932,
                        "remaining_time": 34.22430476,
                        "test": [
                          13334094120
                        ]
                      },
                      {
                        "learn": [
                          8546346456
                        ],
                        "iteration": 267,
                        "passed_time": 39.31353918,
                        "remaining_time": 34.032616,
                        "test": [
                          13335071980
                        ]
                      },
                      {
                        "learn": [
                          8539429304
                        ],
                        "iteration": 268,
                        "passed_time": 39.4055752,
                        "remaining_time": 33.83898837,
                        "test": [
                          13334701150
                        ]
                      },
                      {
                        "learn": [
                          8520182837
                        ],
                        "iteration": 269,
                        "passed_time": 39.48752867,
                        "remaining_time": 33.63752442,
                        "test": [
                          13334990930
                        ]
                      },
                      {
                        "learn": [
                          8508382372
                        ],
                        "iteration": 270,
                        "passed_time": 39.58593348,
                        "remaining_time": 33.45084416,
                        "test": [
                          13336283990
                        ]
                      },
                      {
                        "learn": [
                          8496902524
                        ],
                        "iteration": 271,
                        "passed_time": 39.67591839,
                        "remaining_time": 33.25775512,
                        "test": [
                          13337128780
                        ]
                      },
                      {
                        "learn": [
                          8489507267
                        ],
                        "iteration": 272,
                        "passed_time": 39.77918941,
                        "remaining_time": 33.07646885,
                        "test": [
                          13334999010
                        ]
                      },
                      {
                        "learn": [
                          8481123115
                        ],
                        "iteration": 273,
                        "passed_time": 39.87739922,
                        "remaining_time": 32.89157746,
                        "test": [
                          13334861490
                        ]
                      },
                      {
                        "learn": [
                          8469194647
                        ],
                        "iteration": 274,
                        "passed_time": 39.97562825,
                        "remaining_time": 32.7073322,
                        "test": [
                          13335979790
                        ]
                      },
                      {
                        "learn": [
                          8461864844
                        ],
                        "iteration": 275,
                        "passed_time": 40.06383379,
                        "remaining_time": 32.51557525,
                        "test": [
                          13334798290
                        ]
                      },
                      {
                        "learn": [
                          8453447999
                        ],
                        "iteration": 276,
                        "passed_time": 40.16472138,
                        "remaining_time": 32.33477569,
                        "test": [
                          13332244720
                        ]
                      },
                      {
                        "learn": [
                          8446439432
                        ],
                        "iteration": 277,
                        "passed_time": 40.25567649,
                        "remaining_time": 32.14661936,
                        "test": [
                          13331271490
                        ]
                      },
                      {
                        "learn": [
                          8434491555
                        ],
                        "iteration": 278,
                        "passed_time": 40.33690042,
                        "remaining_time": 31.95145158,
                        "test": [
                          13330338670
                        ]
                      },
                      {
                        "learn": [
                          8425335792
                        ],
                        "iteration": 279,
                        "passed_time": 40.4339029,
                        "remaining_time": 31.76949514,
                        "test": [
                          13331716760
                        ]
                      },
                      {
                        "learn": [
                          8420987488
                        ],
                        "iteration": 280,
                        "passed_time": 40.53683572,
                        "remaining_time": 31.59276521,
                        "test": [
                          13332998520
                        ]
                      },
                      {
                        "learn": [
                          8406091831
                        ],
                        "iteration": 281,
                        "passed_time": 40.65611133,
                        "remaining_time": 31.42919244,
                        "test": [
                          13319681650
                        ]
                      },
                      {
                        "learn": [
                          8395208733
                        ],
                        "iteration": 282,
                        "passed_time": 40.7680936,
                        "remaining_time": 31.26034032,
                        "test": [
                          13320948650
                        ]
                      },
                      {
                        "learn": [
                          8389888305
                        ],
                        "iteration": 283,
                        "passed_time": 40.86758535,
                        "remaining_time": 31.08238886,
                        "test": [
                          13320843960
                        ]
                      },
                      {
                        "learn": [
                          8383051099
                        ],
                        "iteration": 284,
                        "passed_time": 40.97402393,
                        "remaining_time": 30.91022858,
                        "test": [
                          13317582580
                        ]
                      },
                      {
                        "learn": [
                          8378516602
                        ],
                        "iteration": 285,
                        "passed_time": 41.07636475,
                        "remaining_time": 30.73546173,
                        "test": [
                          13318622890
                        ]
                      },
                      {
                        "learn": [
                          8369267286
                        ],
                        "iteration": 286,
                        "passed_time": 41.17790032,
                        "remaining_time": 30.56060198,
                        "test": [
                          13319742560
                        ]
                      },
                      {
                        "learn": [
                          8352025346
                        ],
                        "iteration": 287,
                        "passed_time": 41.26939945,
                        "remaining_time": 30.37886348,
                        "test": [
                          13313422570
                        ]
                      },
                      {
                        "learn": [
                          8348928669
                        ],
                        "iteration": 288,
                        "passed_time": 41.36672147,
                        "remaining_time": 30.2020008,
                        "test": [
                          13314207990
                        ]
                      },
                      {
                        "learn": [
                          8340213538
                        ],
                        "iteration": 289,
                        "passed_time": 41.46410301,
                        "remaining_time": 30.02572977,
                        "test": [
                          13302708880
                        ]
                      },
                      {
                        "learn": [
                          8336926305
                        ],
                        "iteration": 290,
                        "passed_time": 41.55436483,
                        "remaining_time": 29.84488746,
                        "test": [
                          13303906060
                        ]
                      },
                      {
                        "learn": [
                          8334294455
                        ],
                        "iteration": 291,
                        "passed_time": 41.67582292,
                        "remaining_time": 29.68688756,
                        "test": [
                          13303433590
                        ]
                      },
                      {
                        "learn": [
                          8321390667
                        ],
                        "iteration": 292,
                        "passed_time": 41.77457294,
                        "remaining_time": 29.51309419,
                        "test": [
                          13303682430
                        ]
                      },
                      {
                        "learn": [
                          8311983941
                        ],
                        "iteration": 293,
                        "passed_time": 41.87004111,
                        "remaining_time": 29.3375118,
                        "test": [
                          13303741430
                        ]
                      },
                      {
                        "learn": [
                          8294348605
                        ],
                        "iteration": 294,
                        "passed_time": 41.9588843,
                        "remaining_time": 29.15786875,
                        "test": [
                          13286901160
                        ]
                      },
                      {
                        "learn": [
                          8282920128
                        ],
                        "iteration": 295,
                        "passed_time": 42.05177756,
                        "remaining_time": 28.98163048,
                        "test": [
                          13288287530
                        ]
                      },
                      {
                        "learn": [
                          8280678044
                        ],
                        "iteration": 296,
                        "passed_time": 42.15367097,
                        "remaining_time": 28.81210508,
                        "test": [
                          13287120800
                        ]
                      },
                      {
                        "learn": [
                          8268326953
                        ],
                        "iteration": 297,
                        "passed_time": 42.25405297,
                        "remaining_time": 28.64200906,
                        "test": [
                          13284672360
                        ]
                      },
                      {
                        "learn": [
                          8262610997
                        ],
                        "iteration": 298,
                        "passed_time": 42.35545195,
                        "remaining_time": 28.47306302,
                        "test": [
                          13283334080
                        ]
                      },
                      {
                        "learn": [
                          8231620949
                        ],
                        "iteration": 299,
                        "passed_time": 42.45243554,
                        "remaining_time": 28.30162369,
                        "test": [
                          13280592440
                        ]
                      },
                      {
                        "learn": [
                          8219740291
                        ],
                        "iteration": 300,
                        "passed_time": 42.55433083,
                        "remaining_time": 28.13392637,
                        "test": [
                          13277758460
                        ]
                      },
                      {
                        "learn": [
                          8214324624
                        ],
                        "iteration": 301,
                        "passed_time": 42.67204456,
                        "remaining_time": 27.97703584,
                        "test": [
                          13276454950
                        ]
                      },
                      {
                        "learn": [
                          8211832378
                        ],
                        "iteration": 302,
                        "passed_time": 42.78008218,
                        "remaining_time": 27.81411284,
                        "test": [
                          13275786530
                        ]
                      },
                      {
                        "learn": [
                          8164428710
                        ],
                        "iteration": 303,
                        "passed_time": 42.89135147,
                        "remaining_time": 27.6536345,
                        "test": [
                          13271757320
                        ]
                      },
                      {
                        "learn": [
                          8151253708
                        ],
                        "iteration": 304,
                        "passed_time": 42.99168586,
                        "remaining_time": 27.48648768,
                        "test": [
                          13262218460
                        ]
                      },
                      {
                        "learn": [
                          8137471015
                        ],
                        "iteration": 305,
                        "passed_time": 43.07996304,
                        "remaining_time": 27.31213343,
                        "test": [
                          13260316710
                        ]
                      },
                      {
                        "learn": [
                          8132237717
                        ],
                        "iteration": 306,
                        "passed_time": 43.17783497,
                        "remaining_time": 27.14437182,
                        "test": [
                          13260922060
                        ]
                      },
                      {
                        "learn": [
                          8121528063
                        ],
                        "iteration": 307,
                        "passed_time": 43.28310222,
                        "remaining_time": 26.98167411,
                        "test": [
                          13263836290
                        ]
                      },
                      {
                        "learn": [
                          8093560327
                        ],
                        "iteration": 308,
                        "passed_time": 43.37285209,
                        "remaining_time": 26.80975647,
                        "test": [
                          13261504100
                        ]
                      },
                      {
                        "learn": [
                          8088533598
                        ],
                        "iteration": 309,
                        "passed_time": 43.47775169,
                        "remaining_time": 26.64765426,
                        "test": [
                          13260321310
                        ]
                      },
                      {
                        "learn": [
                          8079150487
                        ],
                        "iteration": 310,
                        "passed_time": 43.56702635,
                        "remaining_time": 26.47642437,
                        "test": [
                          13259417980
                        ]
                      },
                      {
                        "learn": [
                          8074372265
                        ],
                        "iteration": 311,
                        "passed_time": 43.6896844,
                        "remaining_time": 26.32583547,
                        "test": [
                          13258310080
                        ]
                      },
                      {
                        "learn": [
                          8065157725
                        ],
                        "iteration": 312,
                        "passed_time": 43.79511989,
                        "remaining_time": 26.16513553,
                        "test": [
                          13256468130
                        ]
                      },
                      {
                        "learn": [
                          8024986991
                        ],
                        "iteration": 313,
                        "passed_time": 43.91232671,
                        "remaining_time": 26.01176041,
                        "test": [
                          13249749860
                        ]
                      },
                      {
                        "learn": [
                          8003414539
                        ],
                        "iteration": 314,
                        "passed_time": 44.01204599,
                        "remaining_time": 25.84834447,
                        "test": [
                          13248031000
                        ]
                      },
                      {
                        "learn": [
                          8000632523
                        ],
                        "iteration": 315,
                        "passed_time": 44.11595396,
                        "remaining_time": 25.68777066,
                        "test": [
                          13248678920
                        ]
                      },
                      {
                        "learn": [
                          7965472487
                        ],
                        "iteration": 316,
                        "passed_time": 44.22307614,
                        "remaining_time": 25.52940989,
                        "test": [
                          13243790570
                        ]
                      },
                      {
                        "learn": [
                          7959395965
                        ],
                        "iteration": 317,
                        "passed_time": 44.38920554,
                        "remaining_time": 25.40514279,
                        "test": [
                          13244098430
                        ]
                      },
                      {
                        "learn": [
                          7935116771
                        ],
                        "iteration": 318,
                        "passed_time": 44.5739276,
                        "remaining_time": 25.29116268,
                        "test": [
                          13241988780
                        ]
                      },
                      {
                        "learn": [
                          7926551937
                        ],
                        "iteration": 319,
                        "passed_time": 44.78831137,
                        "remaining_time": 25.19342515,
                        "test": [
                          13243016530
                        ]
                      },
                      {
                        "learn": [
                          7903388812
                        ],
                        "iteration": 320,
                        "passed_time": 44.97361754,
                        "remaining_time": 25.07874623,
                        "test": [
                          13241023840
                        ]
                      },
                      {
                        "learn": [
                          7887023354
                        ],
                        "iteration": 321,
                        "passed_time": 45.13439341,
                        "remaining_time": 24.9500684,
                        "test": [
                          13237007800
                        ]
                      },
                      {
                        "learn": [
                          7878885080
                        ],
                        "iteration": 322,
                        "passed_time": 45.31443962,
                        "remaining_time": 24.83175174,
                        "test": [
                          13234212450
                        ]
                      },
                      {
                        "learn": [
                          7867846955
                        ],
                        "iteration": 323,
                        "passed_time": 45.47253918,
                        "remaining_time": 24.70113239,
                        "test": [
                          13235609970
                        ]
                      },
                      {
                        "learn": [
                          7857529011
                        ],
                        "iteration": 324,
                        "passed_time": 45.64609545,
                        "remaining_time": 24.57866678,
                        "test": [
                          13234863310
                        ]
                      },
                      {
                        "learn": [
                          7851819124
                        ],
                        "iteration": 325,
                        "passed_time": 45.81527079,
                        "remaining_time": 24.45354944,
                        "test": [
                          13235237190
                        ]
                      },
                      {
                        "learn": [
                          7843450606
                        ],
                        "iteration": 326,
                        "passed_time": 45.97914383,
                        "remaining_time": 24.32535744,
                        "test": [
                          13228139520
                        ]
                      },
                      {
                        "learn": [
                          7838067563
                        ],
                        "iteration": 327,
                        "passed_time": 46.11027787,
                        "remaining_time": 24.17977986,
                        "test": [
                          13228497550
                        ]
                      },
                      {
                        "learn": [
                          7825109556
                        ],
                        "iteration": 328,
                        "passed_time": 46.31790171,
                        "remaining_time": 24.07404618,
                        "test": [
                          13222908630
                        ]
                      },
                      {
                        "learn": [
                          7819979474
                        ],
                        "iteration": 329,
                        "passed_time": 46.45612721,
                        "remaining_time": 23.93194432,
                        "test": [
                          13223324370
                        ]
                      },
                      {
                        "learn": [
                          7813574205
                        ],
                        "iteration": 330,
                        "passed_time": 46.60958782,
                        "remaining_time": 23.79764454,
                        "test": [
                          13221527270
                        ]
                      },
                      {
                        "learn": [
                          7802894821
                        ],
                        "iteration": 331,
                        "passed_time": 46.80789174,
                        "remaining_time": 23.68592112,
                        "test": [
                          13213664750
                        ]
                      },
                      {
                        "learn": [
                          7795297810
                        ],
                        "iteration": 332,
                        "passed_time": 47.00767881,
                        "remaining_time": 23.5744215,
                        "test": [
                          13213082460
                        ]
                      },
                      {
                        "learn": [
                          7786985228
                        ],
                        "iteration": 333,
                        "passed_time": 47.17743536,
                        "remaining_time": 23.44746788,
                        "test": [
                          13210148940
                        ]
                      },
                      {
                        "learn": [
                          7777305195
                        ],
                        "iteration": 334,
                        "passed_time": 47.35226529,
                        "remaining_time": 23.32275753,
                        "test": [
                          13210149410
                        ]
                      },
                      {
                        "learn": [
                          7768194199
                        ],
                        "iteration": 335,
                        "passed_time": 47.49456213,
                        "remaining_time": 23.18186961,
                        "test": [
                          13210329830
                        ]
                      },
                      {
                        "learn": [
                          7746209589
                        ],
                        "iteration": 336,
                        "passed_time": 47.66634922,
                        "remaining_time": 23.05523716,
                        "test": [
                          13208495670
                        ]
                      },
                      {
                        "learn": [
                          7737634595
                        ],
                        "iteration": 337,
                        "passed_time": 47.80648808,
                        "remaining_time": 22.91316884,
                        "test": [
                          13208835260
                        ]
                      },
                      {
                        "learn": [
                          7726683365
                        ],
                        "iteration": 338,
                        "passed_time": 47.91262232,
                        "remaining_time": 22.75496222,
                        "test": [
                          13209762780
                        ]
                      },
                      {
                        "learn": [
                          7711903953
                        ],
                        "iteration": 339,
                        "passed_time": 48.0059325,
                        "remaining_time": 22.59102706,
                        "test": [
                          13206835460
                        ]
                      },
                      {
                        "learn": [
                          7697488610
                        ],
                        "iteration": 340,
                        "passed_time": 48.09596042,
                        "remaining_time": 22.42597568,
                        "test": [
                          13204915480
                        ]
                      },
                      {
                        "learn": [
                          7689737818
                        ],
                        "iteration": 341,
                        "passed_time": 48.19854765,
                        "remaining_time": 22.26716529,
                        "test": [
                          13206000180
                        ]
                      },
                      {
                        "learn": [
                          7680049722
                        ],
                        "iteration": 342,
                        "passed_time": 48.29131271,
                        "remaining_time": 22.10418687,
                        "test": [
                          13198733970
                        ]
                      },
                      {
                        "learn": [
                          7672121129
                        ],
                        "iteration": 343,
                        "passed_time": 48.39362903,
                        "remaining_time": 21.94594805,
                        "test": [
                          13200164880
                        ]
                      },
                      {
                        "learn": [
                          7664688130
                        ],
                        "iteration": 344,
                        "passed_time": 48.46939673,
                        "remaining_time": 21.77610578,
                        "test": [
                          13201267990
                        ]
                      },
                      {
                        "learn": [
                          7657554744
                        ],
                        "iteration": 345,
                        "passed_time": 48.54048769,
                        "remaining_time": 21.60472573,
                        "test": [
                          13202369390
                        ]
                      },
                      {
                        "learn": [
                          7644011342
                        ],
                        "iteration": 346,
                        "passed_time": 48.62641931,
                        "remaining_time": 21.44046731,
                        "test": [
                          13192936140
                        ]
                      },
                      {
                        "learn": [
                          7635086700
                        ],
                        "iteration": 347,
                        "passed_time": 48.72830262,
                        "remaining_time": 21.28362643,
                        "test": [
                          13194524070
                        ]
                      },
                      {
                        "learn": [
                          7628252665
                        ],
                        "iteration": 348,
                        "passed_time": 48.84370133,
                        "remaining_time": 21.13294814,
                        "test": [
                          13195619170
                        ]
                      },
                      {
                        "learn": [
                          7620794060
                        ],
                        "iteration": 349,
                        "passed_time": 48.94847472,
                        "remaining_time": 20.97791774,
                        "test": [
                          13197529070
                        ]
                      },
                      {
                        "learn": [
                          7618787375
                        ],
                        "iteration": 350,
                        "passed_time": 49.05589286,
                        "remaining_time": 20.8242964,
                        "test": [
                          13198245490
                        ]
                      },
                      {
                        "learn": [
                          7614288979
                        ],
                        "iteration": 351,
                        "passed_time": 49.15139185,
                        "remaining_time": 20.66592612,
                        "test": [
                          13195545990
                        ]
                      },
                      {
                        "learn": [
                          7607483285
                        ],
                        "iteration": 352,
                        "passed_time": 49.24019117,
                        "remaining_time": 20.5051221,
                        "test": [
                          13197773910
                        ]
                      },
                      {
                        "learn": [
                          7598859095
                        ],
                        "iteration": 353,
                        "passed_time": 49.32783134,
                        "remaining_time": 20.34424682,
                        "test": [
                          13191068770
                        ]
                      },
                      {
                        "learn": [
                          7584880098
                        ],
                        "iteration": 354,
                        "passed_time": 49.41961383,
                        "remaining_time": 20.18547607,
                        "test": [
                          13191433450
                        ]
                      },
                      {
                        "learn": [
                          7582007373
                        ],
                        "iteration": 355,
                        "passed_time": 49.52163956,
                        "remaining_time": 20.03122499,
                        "test": [
                          13191394850
                        ]
                      },
                      {
                        "learn": [
                          7570610717
                        ],
                        "iteration": 356,
                        "passed_time": 49.6147149,
                        "remaining_time": 19.87368132,
                        "test": [
                          13182658990
                        ]
                      },
                      {
                        "learn": [
                          7564724838
                        ],
                        "iteration": 357,
                        "passed_time": 49.71167357,
                        "remaining_time": 19.71803812,
                        "test": [
                          13180069000
                        ]
                      },
                      {
                        "learn": [
                          7558067800
                        ],
                        "iteration": 358,
                        "passed_time": 49.8343735,
                        "remaining_time": 19.57283193,
                        "test": [
                          13183614370
                        ]
                      },
                      {
                        "learn": [
                          7550063852
                        ],
                        "iteration": 359,
                        "passed_time": 49.92737069,
                        "remaining_time": 19.41619971,
                        "test": [
                          13185341320
                        ]
                      },
                      {
                        "learn": [
                          7537671854
                        ],
                        "iteration": 360,
                        "passed_time": 49.9960967,
                        "remaining_time": 19.25057463,
                        "test": [
                          13177015500
                        ]
                      },
                      {
                        "learn": [
                          7529590726
                        ],
                        "iteration": 361,
                        "passed_time": 50.11209193,
                        "remaining_time": 19.10350466,
                        "test": [
                          13178633640
                        ]
                      },
                      {
                        "learn": [
                          7523219568
                        ],
                        "iteration": 362,
                        "passed_time": 50.21388658,
                        "remaining_time": 18.95124645,
                        "test": [
                          13179736850
                        ]
                      },
                      {
                        "learn": [
                          7517056186
                        ],
                        "iteration": 363,
                        "passed_time": 50.29375652,
                        "remaining_time": 18.79107386,
                        "test": [
                          13183151330
                        ]
                      },
                      {
                        "learn": [
                          7505974994
                        ],
                        "iteration": 364,
                        "passed_time": 50.37827968,
                        "remaining_time": 18.63306235,
                        "test": [
                          13177534580
                        ]
                      },
                      {
                        "learn": [
                          7500753873
                        ],
                        "iteration": 365,
                        "passed_time": 50.47168198,
                        "remaining_time": 18.47870324,
                        "test": [
                          13175943750
                        ]
                      },
                      {
                        "learn": [
                          7491845844
                        ],
                        "iteration": 366,
                        "passed_time": 50.5619829,
                        "remaining_time": 18.32355239,
                        "test": [
                          13176133970
                        ]
                      },
                      {
                        "learn": [
                          7477158451
                        ],
                        "iteration": 367,
                        "passed_time": 50.65278866,
                        "remaining_time": 18.16893506,
                        "test": [
                          13176588760
                        ]
                      },
                      {
                        "learn": [
                          7471145751
                        ],
                        "iteration": 368,
                        "passed_time": 50.73018622,
                        "remaining_time": 18.00990351,
                        "test": [
                          13177633650
                        ]
                      },
                      {
                        "learn": [
                          7462692841
                        ],
                        "iteration": 369,
                        "passed_time": 50.84949926,
                        "remaining_time": 17.86604028,
                        "test": [
                          13171107860
                        ]
                      },
                      {
                        "learn": [
                          7450131752
                        ],
                        "iteration": 370,
                        "passed_time": 50.93875485,
                        "remaining_time": 17.71185816,
                        "test": [
                          13171543970
                        ]
                      },
                      {
                        "learn": [
                          7437032843
                        ],
                        "iteration": 371,
                        "passed_time": 51.02890008,
                        "remaining_time": 17.55833121,
                        "test": [
                          13166798600
                        ]
                      },
                      {
                        "learn": [
                          7430991287
                        ],
                        "iteration": 372,
                        "passed_time": 51.13717591,
                        "remaining_time": 17.41131727,
                        "test": [
                          13169067060
                        ]
                      },
                      {
                        "learn": [
                          7418781437
                        ],
                        "iteration": 373,
                        "passed_time": 51.23726431,
                        "remaining_time": 17.26175215,
                        "test": [
                          13164477910
                        ]
                      },
                      {
                        "learn": [
                          7413066354
                        ],
                        "iteration": 374,
                        "passed_time": 51.33303833,
                        "remaining_time": 17.11101278,
                        "test": [
                          13165343220
                        ]
                      },
                      {
                        "learn": [
                          7403305749
                        ],
                        "iteration": 375,
                        "passed_time": 51.43120028,
                        "remaining_time": 16.96135329,
                        "test": [
                          13169446040
                        ]
                      },
                      {
                        "learn": [
                          7395586119
                        ],
                        "iteration": 376,
                        "passed_time": 51.53410906,
                        "remaining_time": 16.81351569,
                        "test": [
                          13166311390
                        ]
                      },
                      {
                        "learn": [
                          7383572641
                        ],
                        "iteration": 377,
                        "passed_time": 51.62328549,
                        "remaining_time": 16.66148368,
                        "test": [
                          13163571780
                        ]
                      },
                      {
                        "learn": [
                          7373432448
                        ],
                        "iteration": 378,
                        "passed_time": 51.71444339,
                        "remaining_time": 16.51041596,
                        "test": [
                          13158284840
                        ]
                      },
                      {
                        "learn": [
                          7368999949
                        ],
                        "iteration": 379,
                        "passed_time": 51.8426641,
                        "remaining_time": 16.37136761,
                        "test": [
                          13158547810
                        ]
                      },
                      {
                        "learn": [
                          7363428757
                        ],
                        "iteration": 380,
                        "passed_time": 51.94936055,
                        "remaining_time": 16.22565329,
                        "test": [
                          13160780170
                        ]
                      },
                      {
                        "learn": [
                          7358074854
                        ],
                        "iteration": 381,
                        "passed_time": 52.05168789,
                        "remaining_time": 16.07879364,
                        "test": [
                          13163820840
                        ]
                      },
                      {
                        "learn": [
                          7352897617
                        ],
                        "iteration": 382,
                        "passed_time": 52.16247169,
                        "remaining_time": 15.93474984,
                        "test": [
                          13161467730
                        ]
                      },
                      {
                        "learn": [
                          7345002649
                        ],
                        "iteration": 383,
                        "passed_time": 52.25409494,
                        "remaining_time": 15.78509118,
                        "test": [
                          13163542300
                        ]
                      },
                      {
                        "learn": [
                          7341276330
                        ],
                        "iteration": 384,
                        "passed_time": 52.3516935,
                        "remaining_time": 15.63751884,
                        "test": [
                          13163529740
                        ]
                      },
                      {
                        "learn": [
                          7334367826
                        ],
                        "iteration": 385,
                        "passed_time": 52.44932814,
                        "remaining_time": 15.49021608,
                        "test": [
                          13160631260
                        ]
                      },
                      {
                        "learn": [
                          7327774215
                        ],
                        "iteration": 386,
                        "passed_time": 52.5473812,
                        "remaining_time": 15.34329219,
                        "test": [
                          13157884380
                        ]
                      },
                      {
                        "learn": [
                          7322858601
                        ],
                        "iteration": 387,
                        "passed_time": 52.63922997,
                        "remaining_time": 15.19482927,
                        "test": [
                          13160139630
                        ]
                      },
                      {
                        "learn": [
                          7315954970
                        ],
                        "iteration": 388,
                        "passed_time": 52.74038316,
                        "remaining_time": 15.04931242,
                        "test": [
                          13154206640
                        ]
                      },
                      {
                        "learn": [
                          7310799139
                        ],
                        "iteration": 389,
                        "passed_time": 52.85736857,
                        "remaining_time": 14.90848857,
                        "test": [
                          13152793820
                        ]
                      },
                      {
                        "learn": [
                          7300293658
                        ],
                        "iteration": 390,
                        "passed_time": 52.95715797,
                        "remaining_time": 14.76299289,
                        "test": [
                          13153395770
                        ]
                      },
                      {
                        "learn": [
                          7295847747
                        ],
                        "iteration": 391,
                        "passed_time": 53.06846301,
                        "remaining_time": 14.62090307,
                        "test": [
                          13153618600
                        ]
                      },
                      {
                        "learn": [
                          7292439949
                        ],
                        "iteration": 392,
                        "passed_time": 53.16987607,
                        "remaining_time": 14.47627669,
                        "test": [
                          13153669020
                        ]
                      },
                      {
                        "learn": [
                          7291326824
                        ],
                        "iteration": 393,
                        "passed_time": 53.26018653,
                        "remaining_time": 14.32888267,
                        "test": [
                          13152887120
                        ]
                      },
                      {
                        "learn": [
                          7281125472
                        ],
                        "iteration": 394,
                        "passed_time": 53.35059423,
                        "remaining_time": 14.18180353,
                        "test": [
                          13150196700
                        ]
                      },
                      {
                        "learn": [
                          7269536124
                        ],
                        "iteration": 395,
                        "passed_time": 53.43289553,
                        "remaining_time": 14.03288165,
                        "test": [
                          13150611700
                        ]
                      },
                      {
                        "learn": [
                          7261281171
                        ],
                        "iteration": 396,
                        "passed_time": 53.52538644,
                        "remaining_time": 13.88693905,
                        "test": [
                          13141579400
                        ]
                      },
                      {
                        "learn": [
                          7250035468
                        ],
                        "iteration": 397,
                        "passed_time": 53.62471801,
                        "remaining_time": 13.74301818,
                        "test": [
                          13138802190
                        ]
                      },
                      {
                        "learn": [
                          7240659222
                        ],
                        "iteration": 398,
                        "passed_time": 53.71912156,
                        "remaining_time": 13.59807338,
                        "test": [
                          13138941110
                        ]
                      },
                      {
                        "learn": [
                          7235675529
                        ],
                        "iteration": 399,
                        "passed_time": 53.818295,
                        "remaining_time": 13.45457375,
                        "test": [
                          13138625540
                        ]
                      },
                      {
                        "learn": [
                          7232557427
                        ],
                        "iteration": 400,
                        "passed_time": 53.94132258,
                        "remaining_time": 13.31718438,
                        "test": [
                          13138661180
                        ]
                      },
                      {
                        "learn": [
                          7225199578
                        ],
                        "iteration": 401,
                        "passed_time": 54.03986605,
                        "remaining_time": 13.17389769,
                        "test": [
                          13136352590
                        ]
                      },
                      {
                        "learn": [
                          7216346332
                        ],
                        "iteration": 402,
                        "passed_time": 54.14847331,
                        "remaining_time": 13.03325536,
                        "test": [
                          13135618090
                        ]
                      },
                      {
                        "learn": [
                          7210387841
                        ],
                        "iteration": 403,
                        "passed_time": 54.2574334,
                        "remaining_time": 12.89285546,
                        "test": [
                          13133550410
                        ]
                      },
                      {
                        "learn": [
                          7200379504
                        ],
                        "iteration": 404,
                        "passed_time": 54.34565184,
                        "remaining_time": 12.74774549,
                        "test": [
                          13135484660
                        ]
                      },
                      {
                        "learn": [
                          7183755244
                        ],
                        "iteration": 405,
                        "passed_time": 54.43789724,
                        "remaining_time": 12.60384813,
                        "test": [
                          13124493330
                        ]
                      },
                      {
                        "learn": [
                          7174265387
                        ],
                        "iteration": 406,
                        "passed_time": 54.52023963,
                        "remaining_time": 12.45794173,
                        "test": [
                          13126465570
                        ]
                      },
                      {
                        "learn": [
                          7173323961
                        ],
                        "iteration": 407,
                        "passed_time": 54.61413812,
                        "remaining_time": 12.31495271,
                        "test": [
                          13125860080
                        ]
                      },
                      {
                        "learn": [
                          7168675702
                        ],
                        "iteration": 408,
                        "passed_time": 54.69478283,
                        "remaining_time": 12.16925486,
                        "test": [
                          13122886350
                        ]
                      },
                      {
                        "learn": [
                          7154944835
                        ],
                        "iteration": 409,
                        "passed_time": 54.79080803,
                        "remaining_time": 12.02725054,
                        "test": [
                          13115403090
                        ]
                      },
                      {
                        "learn": [
                          7150274964
                        ],
                        "iteration": 410,
                        "passed_time": 54.91732928,
                        "remaining_time": 11.89207374,
                        "test": [
                          13115134870
                        ]
                      },
                      {
                        "learn": [
                          7141335028
                        ],
                        "iteration": 411,
                        "passed_time": 55.01486301,
                        "remaining_time": 11.75074744,
                        "test": [
                          13112871280
                        ]
                      },
                      {
                        "learn": [
                          7136858134
                        ],
                        "iteration": 412,
                        "passed_time": 55.10694194,
                        "remaining_time": 11.60848414,
                        "test": [
                          13112636490
                        ]
                      },
                      {
                        "learn": [
                          7131499265
                        ],
                        "iteration": 413,
                        "passed_time": 55.22004794,
                        "remaining_time": 11.47083121,
                        "test": [
                          13110879340
                        ]
                      },
                      {
                        "learn": [
                          7126459657
                        ],
                        "iteration": 414,
                        "passed_time": 55.30958726,
                        "remaining_time": 11.32846968,
                        "test": [
                          13109244880
                        ]
                      },
                      {
                        "learn": [
                          7118384851
                        ],
                        "iteration": 415,
                        "passed_time": 55.40432675,
                        "remaining_time": 11.18741213,
                        "test": [
                          13111886500
                        ]
                      },
                      {
                        "learn": [
                          7110142992
                        ],
                        "iteration": 416,
                        "passed_time": 55.49603724,
                        "remaining_time": 11.04597384,
                        "test": [
                          13105047110
                        ]
                      },
                      {
                        "learn": [
                          7103694916
                        ],
                        "iteration": 417,
                        "passed_time": 55.59934352,
                        "remaining_time": 10.90704825,
                        "test": [
                          13106500060
                        ]
                      },
                      {
                        "learn": [
                          7095307851
                        ],
                        "iteration": 418,
                        "passed_time": 55.6895809,
                        "remaining_time": 10.76576624,
                        "test": [
                          13105739780
                        ]
                      },
                      {
                        "learn": [
                          7085224139
                        ],
                        "iteration": 419,
                        "passed_time": 55.78951741,
                        "remaining_time": 10.62657474,
                        "test": [
                          13106031980
                        ]
                      },
                      {
                        "learn": [
                          7077058393
                        ],
                        "iteration": 420,
                        "passed_time": 55.91800097,
                        "remaining_time": 10.49292655,
                        "test": [
                          13105438130
                        ]
                      },
                      {
                        "learn": [
                          7071329398
                        ],
                        "iteration": 421,
                        "passed_time": 56.0110152,
                        "remaining_time": 10.35274688,
                        "test": [
                          13105299220
                        ]
                      },
                      {
                        "learn": [
                          7065356648
                        ],
                        "iteration": 422,
                        "passed_time": 56.11712018,
                        "remaining_time": 10.21517318,
                        "test": [
                          13106731730
                        ]
                      },
                      {
                        "learn": [
                          7058775758
                        ],
                        "iteration": 423,
                        "passed_time": 56.22321566,
                        "remaining_time": 10.0777462,
                        "test": [
                          13104332520
                        ]
                      },
                      {
                        "learn": [
                          7053383355
                        ],
                        "iteration": 424,
                        "passed_time": 56.33310703,
                        "remaining_time": 9.941136534,
                        "test": [
                          13105652180
                        ]
                      },
                      {
                        "learn": [
                          7047148605
                        ],
                        "iteration": 425,
                        "passed_time": 56.43727231,
                        "remaining_time": 9.803657631,
                        "test": [
                          13103340620
                        ]
                      },
                      {
                        "learn": [
                          7042182915
                        ],
                        "iteration": 426,
                        "passed_time": 56.52521122,
                        "remaining_time": 9.663560701,
                        "test": [
                          13103449820
                        ]
                      },
                      {
                        "learn": [
                          7038695125
                        ],
                        "iteration": 427,
                        "passed_time": 56.62051261,
                        "remaining_time": 9.524946046,
                        "test": [
                          13103767180
                        ]
                      },
                      {
                        "learn": [
                          7032629056
                        ],
                        "iteration": 428,
                        "passed_time": 56.7109259,
                        "remaining_time": 9.385724332,
                        "test": [
                          13100719350
                        ]
                      },
                      {
                        "learn": [
                          6990701060
                        ],
                        "iteration": 429,
                        "passed_time": 56.80971357,
                        "remaining_time": 9.248092907,
                        "test": [
                          13101196360
                        ]
                      },
                      {
                        "learn": [
                          6983517533
                        ],
                        "iteration": 430,
                        "passed_time": 56.93866945,
                        "remaining_time": 9.115471443,
                        "test": [
                          13101232850
                        ]
                      },
                      {
                        "learn": [
                          6979424132
                        ],
                        "iteration": 431,
                        "passed_time": 57.04456992,
                        "remaining_time": 8.979237858,
                        "test": [
                          13101062970
                        ]
                      },
                      {
                        "learn": [
                          6972765620
                        ],
                        "iteration": 432,
                        "passed_time": 57.13218072,
                        "remaining_time": 8.840314337,
                        "test": [
                          13098996820
                        ]
                      },
                      {
                        "learn": [
                          6969451524
                        ],
                        "iteration": 433,
                        "passed_time": 57.24829543,
                        "remaining_time": 8.705961978,
                        "test": [
                          13099324450
                        ]
                      },
                      {
                        "learn": [
                          6932354932
                        ],
                        "iteration": 434,
                        "passed_time": 57.35919147,
                        "remaining_time": 8.570913669,
                        "test": [
                          13099295420
                        ]
                      },
                      {
                        "learn": [
                          6926877399
                        ],
                        "iteration": 435,
                        "passed_time": 57.45905064,
                        "remaining_time": 8.434356057,
                        "test": [
                          13100723290
                        ]
                      },
                      {
                        "learn": [
                          6920254938
                        ],
                        "iteration": 436,
                        "passed_time": 57.55290691,
                        "remaining_time": 8.297100997,
                        "test": [
                          13098562030
                        ]
                      },
                      {
                        "learn": [
                          6916741613
                        ],
                        "iteration": 437,
                        "passed_time": 57.65211665,
                        "remaining_time": 8.160801901,
                        "test": [
                          13099171720
                        ]
                      },
                      {
                        "learn": [
                          6914018402
                        ],
                        "iteration": 438,
                        "passed_time": 57.77170644,
                        "remaining_time": 8.027503629,
                        "test": [
                          13100101630
                        ]
                      },
                      {
                        "learn": [
                          6907737695
                        ],
                        "iteration": 439,
                        "passed_time": 57.97452882,
                        "remaining_time": 7.905617566,
                        "test": [
                          13098268550
                        ]
                      },
                      {
                        "learn": [
                          6905775496
                        ],
                        "iteration": 440,
                        "passed_time": 58.15221963,
                        "remaining_time": 7.780002173,
                        "test": [
                          13097032400
                        ]
                      },
                      {
                        "learn": [
                          6901108575
                        ],
                        "iteration": 441,
                        "passed_time": 58.33835934,
                        "remaining_time": 7.655259823,
                        "test": [
                          13093600530
                        ]
                      },
                      {
                        "learn": [
                          6894256119
                        ],
                        "iteration": 442,
                        "passed_time": 58.53659954,
                        "remaining_time": 7.531797232,
                        "test": [
                          13093652930
                        ]
                      },
                      {
                        "learn": [
                          6881085304
                        ],
                        "iteration": 443,
                        "passed_time": 58.70210011,
                        "remaining_time": 7.403868483,
                        "test": [
                          13093032200
                        ]
                      },
                      {
                        "learn": [
                          6876613911
                        ],
                        "iteration": 444,
                        "passed_time": 58.88609257,
                        "remaining_time": 7.278056385,
                        "test": [
                          13094219970
                        ]
                      },
                      {
                        "learn": [
                          6873656954
                        ],
                        "iteration": 445,
                        "passed_time": 59.09089552,
                        "remaining_time": 7.154503046,
                        "test": [
                          13094222350
                        ]
                      },
                      {
                        "learn": [
                          6870827454
                        ],
                        "iteration": 446,
                        "passed_time": 59.21002911,
                        "remaining_time": 7.020428508,
                        "test": [
                          13094229460
                        ]
                      },
                      {
                        "learn": [
                          6865250833
                        ],
                        "iteration": 447,
                        "passed_time": 59.40445975,
                        "remaining_time": 6.895160507,
                        "test": [
                          13092378410
                        ]
                      },
                      {
                        "learn": [
                          6859967400
                        ],
                        "iteration": 448,
                        "passed_time": 59.57825895,
                        "remaining_time": 6.767240995,
                        "test": [
                          13090645750
                        ]
                      },
                      {
                        "learn": [
                          6854327211
                        ],
                        "iteration": 449,
                        "passed_time": 59.75717064,
                        "remaining_time": 6.639685626,
                        "test": [
                          13089058140
                        ]
                      },
                      {
                        "learn": [
                          6846850532
                        ],
                        "iteration": 450,
                        "passed_time": 59.93973791,
                        "remaining_time": 6.512299685,
                        "test": [
                          13087139930
                        ]
                      },
                      {
                        "learn": [
                          6840363463
                        ],
                        "iteration": 451,
                        "passed_time": 60.13475534,
                        "remaining_time": 6.385991717,
                        "test": [
                          13088867300
                        ]
                      },
                      {
                        "learn": [
                          6835567414
                        ],
                        "iteration": 452,
                        "passed_time": 60.3063095,
                        "remaining_time": 6.256946019,
                        "test": [
                          13090931690
                        ]
                      },
                      {
                        "learn": [
                          6825917648
                        ],
                        "iteration": 453,
                        "passed_time": 60.49496922,
                        "remaining_time": 6.129446221,
                        "test": [
                          13089214680
                        ]
                      },
                      {
                        "learn": [
                          6822108890
                        ],
                        "iteration": 454,
                        "passed_time": 60.67008157,
                        "remaining_time": 6.000337738,
                        "test": [
                          13090133580
                        ]
                      },
                      {
                        "learn": [
                          6817640825
                        ],
                        "iteration": 455,
                        "passed_time": 60.85018672,
                        "remaining_time": 5.871509245,
                        "test": [
                          13092210570
                        ]
                      },
                      {
                        "learn": [
                          6812022222
                        ],
                        "iteration": 456,
                        "passed_time": 61.04569115,
                        "remaining_time": 5.743905294,
                        "test": [
                          13090343770
                        ]
                      },
                      {
                        "learn": [
                          6811472377
                        ],
                        "iteration": 457,
                        "passed_time": 61.2597958,
                        "remaining_time": 5.617710532,
                        "test": [
                          13090170150
                        ]
                      },
                      {
                        "learn": [
                          6807607423
                        ],
                        "iteration": 458,
                        "passed_time": 61.37117731,
                        "remaining_time": 5.481957014,
                        "test": [
                          13090785790
                        ]
                      },
                      {
                        "learn": [
                          6778540127
                        ],
                        "iteration": 459,
                        "passed_time": 61.48612532,
                        "remaining_time": 5.346619593,
                        "test": [
                          13091413130
                        ]
                      },
                      {
                        "learn": [
                          6775339689
                        ],
                        "iteration": 460,
                        "passed_time": 61.59241245,
                        "remaining_time": 5.210637929,
                        "test": [
                          13091677240
                        ]
                      },
                      {
                        "learn": [
                          6750646052
                        ],
                        "iteration": 461,
                        "passed_time": 61.70181618,
                        "remaining_time": 5.075041157,
                        "test": [
                          13089740680
                        ]
                      },
                      {
                        "learn": [
                          6745093496
                        ],
                        "iteration": 462,
                        "passed_time": 61.78829915,
                        "remaining_time": 4.93772585,
                        "test": [
                          13090241470
                        ]
                      },
                      {
                        "learn": [
                          6740233609
                        ],
                        "iteration": 463,
                        "passed_time": 61.88758204,
                        "remaining_time": 4.801622745,
                        "test": [
                          13088614060
                        ]
                      },
                      {
                        "learn": [
                          6738985612
                        ],
                        "iteration": 464,
                        "passed_time": 61.99656653,
                        "remaining_time": 4.666408233,
                        "test": [
                          13088030420
                        ]
                      },
                      {
                        "learn": [
                          6730674468
                        ],
                        "iteration": 465,
                        "passed_time": 62.09154741,
                        "remaining_time": 4.530284575,
                        "test": [
                          13085745150
                        ]
                      },
                      {
                        "learn": [
                          6722033269
                        ],
                        "iteration": 466,
                        "passed_time": 62.21844357,
                        "remaining_time": 4.396592372,
                        "test": [
                          13083992950
                        ]
                      },
                      {
                        "learn": [
                          6720823523
                        ],
                        "iteration": 467,
                        "passed_time": 62.3158956,
                        "remaining_time": 4.260915938,
                        "test": [
                          13083447900
                        ]
                      },
                      {
                        "learn": [
                          6717840775
                        ],
                        "iteration": 468,
                        "passed_time": 62.42992574,
                        "remaining_time": 4.12649829,
                        "test": [
                          13083731860
                        ]
                      },
                      {
                        "learn": [
                          6713734604
                        ],
                        "iteration": 469,
                        "passed_time": 62.53102715,
                        "remaining_time": 3.991342158,
                        "test": [
                          13080882190
                        ]
                      },
                      {
                        "learn": [
                          6701095093
                        ],
                        "iteration": 470,
                        "passed_time": 62.62980275,
                        "remaining_time": 3.85618743,
                        "test": [
                          13081606310
                        ]
                      },
                      {
                        "learn": [
                          6696919396
                        ],
                        "iteration": 471,
                        "passed_time": 62.72959204,
                        "remaining_time": 3.721246985,
                        "test": [
                          13082533910
                        ]
                      },
                      {
                        "learn": [
                          6691677904
                        ],
                        "iteration": 472,
                        "passed_time": 62.81884511,
                        "remaining_time": 3.585853738,
                        "test": [
                          13082008770
                        ]
                      },
                      {
                        "learn": [
                          6689796664
                        ],
                        "iteration": 473,
                        "passed_time": 62.91092146,
                        "remaining_time": 3.450810038,
                        "test": [
                          13082154810
                        ]
                      },
                      {
                        "learn": [
                          6682927836
                        ],
                        "iteration": 474,
                        "passed_time": 63.00200957,
                        "remaining_time": 3.315895241,
                        "test": [
                          13080019270
                        ]
                      },
                      {
                        "learn": [
                          6679088599
                        ],
                        "iteration": 475,
                        "passed_time": 63.09673701,
                        "remaining_time": 3.181348085,
                        "test": [
                          13077349990
                        ]
                      },
                      {
                        "learn": [
                          6677296683
                        ],
                        "iteration": 476,
                        "passed_time": 63.22461807,
                        "remaining_time": 3.04856649,
                        "test": [
                          13077515370
                        ]
                      },
                      {
                        "learn": [
                          6673672966
                        ],
                        "iteration": 477,
                        "passed_time": 63.28157001,
                        "remaining_time": 2.912540879,
                        "test": [
                          13074998930
                        ]
                      },
                      {
                        "learn": [
                          6667293677
                        ],
                        "iteration": 478,
                        "passed_time": 63.38163916,
                        "remaining_time": 2.778735746,
                        "test": [
                          13074787600
                        ]
                      },
                      {
                        "learn": [
                          6660501421
                        ],
                        "iteration": 479,
                        "passed_time": 63.48704224,
                        "remaining_time": 2.645293427,
                        "test": [
                          13070659280
                        ]
                      },
                      {
                        "learn": [
                          6657079530
                        ],
                        "iteration": 480,
                        "passed_time": 63.60341892,
                        "remaining_time": 2.512401163,
                        "test": [
                          13068284070
                        ]
                      },
                      {
                        "learn": [
                          6650140394
                        ],
                        "iteration": 481,
                        "passed_time": 63.68671462,
                        "remaining_time": 2.37834204,
                        "test": [
                          13067552220
                        ]
                      },
                      {
                        "learn": [
                          6622670356
                        ],
                        "iteration": 482,
                        "passed_time": 63.78277792,
                        "remaining_time": 2.244942494,
                        "test": [
                          13067464090
                        ]
                      },
                      {
                        "learn": [
                          6616073656
                        ],
                        "iteration": 483,
                        "passed_time": 63.87979005,
                        "remaining_time": 2.111728597,
                        "test": [
                          13067551470
                        ]
                      },
                      {
                        "learn": [
                          6614358877
                        ],
                        "iteration": 484,
                        "passed_time": 63.97841682,
                        "remaining_time": 1.978713922,
                        "test": [
                          13067720930
                        ]
                      },
                      {
                        "learn": [
                          6611882899
                        ],
                        "iteration": 485,
                        "passed_time": 64.06973995,
                        "remaining_time": 1.845630369,
                        "test": [
                          13070541880
                        ]
                      },
                      {
                        "learn": [
                          6603853870
                        ],
                        "iteration": 486,
                        "passed_time": 64.15994322,
                        "remaining_time": 1.712688423,
                        "test": [
                          13069049790
                        ]
                      },
                      {
                        "learn": [
                          6602221054
                        ],
                        "iteration": 487,
                        "passed_time": 64.59287643,
                        "remaining_time": 1.58834942,
                        "test": [
                          13069227800
                        ]
                      },
                      {
                        "learn": [
                          6596221609
                        ],
                        "iteration": 488,
                        "passed_time": 64.68436823,
                        "remaining_time": 1.455067588,
                        "test": [
                          13068849930
                        ]
                      },
                      {
                        "learn": [
                          6591718212
                        ],
                        "iteration": 489,
                        "passed_time": 64.76083761,
                        "remaining_time": 1.321649747,
                        "test": [
                          13067201020
                        ]
                      },
                      {
                        "learn": [
                          6585294976
                        ],
                        "iteration": 490,
                        "passed_time": 64.84735937,
                        "remaining_time": 1.188648135,
                        "test": [
                          13065234580
                        ]
                      },
                      {
                        "learn": [
                          6578667255
                        ],
                        "iteration": 491,
                        "passed_time": 64.94374276,
                        "remaining_time": 1.055995817,
                        "test": [
                          13063652850
                        ]
                      },
                      {
                        "learn": [
                          6577107743
                        ],
                        "iteration": 492,
                        "passed_time": 65.03792328,
                        "remaining_time": 0.9234593569,
                        "test": [
                          13063827730
                        ]
                      },
                      {
                        "learn": [
                          6572159366
                        ],
                        "iteration": 493,
                        "passed_time": 65.13444149,
                        "remaining_time": 0.7911065769,
                        "test": [
                          13063369950
                        ]
                      },
                      {
                        "learn": [
                          6568951114
                        ],
                        "iteration": 494,
                        "passed_time": 65.22405509,
                        "remaining_time": 0.6588288393,
                        "test": [
                          13061123050
                        ]
                      },
                      {
                        "learn": [
                          6567458280
                        ],
                        "iteration": 495,
                        "passed_time": 65.32514035,
                        "remaining_time": 0.526815648,
                        "test": [
                          13061305910
                        ]
                      },
                      {
                        "learn": [
                          6562673268
                        ],
                        "iteration": 496,
                        "passed_time": 65.42219114,
                        "remaining_time": 0.3949025622,
                        "test": [
                          13060903100
                        ]
                      },
                      {
                        "learn": [
                          6536570892
                        ],
                        "iteration": 497,
                        "passed_time": 65.54104474,
                        "remaining_time": 0.2632170471,
                        "test": [
                          13060790920
                        ]
                      },
                      {
                        "learn": [
                          6535624149
                        ],
                        "iteration": 498,
                        "passed_time": 65.65396876,
                        "remaining_time": 0.1315710797,
                        "test": [
                          13059652820
                        ]
                      },
                      {
                        "learn": [
                          6532601182
                        ],
                        "iteration": 499,
                        "passed_time": 65.74073236,
                        "remaining_time": 0,
                        "test": [
                          13057531140
                        ]
                      }
                    ],
                    "meta": {
                      "test_sets": [
                        "test"
                      ],
                      "test_metrics": [
                        {
                          "best_value": "Min",
                          "name": "RMSE"
                        }
                      ],
                      "learn_metrics": [
                        {
                          "best_value": "Min",
                          "name": "RMSE"
                        }
                      ],
                      "launch_mode": "Train",
                      "parameters": "",
                      "iteration_count": 500,
                      "learn_sets": [
                        "learn"
                      ],
                      "name": "experiment"
                    }
                  }
                }
              }
            },
            "layout": "IPY_MODEL_4ad1bc95a1a4424084c439110a5cf98d"
          }
        }
      }
    }
  },
  "nbformat": 4,
  "nbformat_minor": 0
}